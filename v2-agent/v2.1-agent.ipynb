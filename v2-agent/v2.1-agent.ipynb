{
 "cells": [
  {
   "cell_type": "markdown",
   "id": "0dd644ff",
   "metadata": {},
   "source": [
    "## Doctor appointment booking System\n",
    "\n",
    "This chat agent can interact with users and perform the following tasks:\n",
    "\n",
    "    1. Select a doctor and choose a time slot for booking\n",
    "\n",
    "    2. Cancel a booked appointment\n",
    "\n",
    "    3. Reschedule a booked appointment based on availability\n",
    "\n",
    "    4. Search for doctor details filtered by name, availability, specialty, and location"
   ]
  },
  {
   "cell_type": "markdown",
   "id": "609d1a78",
   "metadata": {},
   "source": [
    "### 1. Connect with Gemini API\n",
    "\n",
    "connect to the llm using google api key."
   ]
  },
  {
   "cell_type": "code",
   "execution_count": 1,
   "id": "df5698ae",
   "metadata": {},
   "outputs": [],
   "source": [
    "# connect with gemini api\n",
    "import getpass\n",
    "import os\n",
    "\n",
    "if \"GOOGLE_API_KEY\" not in os.environ:\n",
    "    os.environ[\"GOOGLE_API_KEY\"] = getpass.getpass(\"Enter your Google AI API key: \")"
   ]
  },
  {
   "cell_type": "code",
   "execution_count": 2,
   "id": "ca85ca11",
   "metadata": {},
   "outputs": [],
   "source": [
    "# initialize llm chat model\n",
    "from langchain_google_genai import ChatGoogleGenerativeAI\n",
    "from google.genai.types import GenerateContentConfig\n",
    "\n",
    "\n",
    "system_instruction = \"\"\"\n",
    "                        You are a phone-agent assistant.  \n",
    "                        \n",
    "                        Keep all messages very short—just a single question or one answer.  \n",
    "                        \n",
    "                        Act as if you’re on a live call: no long explanations or chit-chat.  \n",
    "                        \n",
    "                        Always reference prior chat context and stay aligned with the conversation.  \n",
    "                        \n",
    "                    \"\"\"\n",
    "\n",
    "llm = ChatGoogleGenerativeAI(\n",
    "    model=\"gemini-2.0-flash-001\",\n",
    "    temperature=0,\n",
    "    max_tokens=None,\n",
    "    timeout=None,\n",
    "    max_retries=2,\n",
    "    config=GenerateContentConfig(\n",
    "        system_instruction=system_instruction,\n",
    "    ),\n",
    "    # other params...\n",
    ")"
   ]
  },
  {
   "cell_type": "markdown",
   "id": "da302890",
   "metadata": {},
   "source": [
    "### 2. State and Assistant class\n",
    "\n",
    "This class is used to define specialized assistants based on each tasks"
   ]
  },
  {
   "cell_type": "code",
   "execution_count": 30,
   "id": "ba5a6748",
   "metadata": {},
   "outputs": [],
   "source": [
    "from typing import Annotated\n",
    "from typing import Annotated, Literal, Optional\n",
    "\n",
    "from langchain_community.tools.tavily_search import TavilySearchResults\n",
    "from langchain_core.prompts import ChatPromptTemplate\n",
    "from langchain_core.runnables import Runnable, RunnableConfig\n",
    "from typing_extensions import TypedDict\n",
    "\n",
    "from langgraph.graph.message import AnyMessage, add_messages\n",
    "\n",
    "# this method is used to update the current state of the graph\n",
    "# this state is updated when the entry of the sub agent and when leave the skill state is updated\n",
    "def update_dialog_stack(left: list[str], right: Optional[str]) -> list[str]:\n",
    "    \"\"\"Push or pop the state.\"\"\"\n",
    "    if right is None:\n",
    "        return left\n",
    "    if right == \"pop\":\n",
    "        return left[:-1]\n",
    "    return left + [right]\n",
    "\n",
    "# state of the graph\n",
    "class State(TypedDict):\n",
    "    messages: Annotated[list[AnyMessage], add_messages]\n",
    "    dialog_state: Annotated[\n",
    "        list[\n",
    "            Literal[\n",
    "                \"primary_assistant\",\n",
    "                \"reschedule\",\n",
    "                \"cancel\",\n",
    "                \"new\",\n",
    "            ]\n",
    "        ],\n",
    "        update_dialog_stack,\n",
    "    ]\n",
    "    user_name: str # name of the current user\n",
    "    user_id: str # id of the current user\n",
    "\n",
    "\n",
    "class Assistant:\n",
    "    # this initialize a runnable that can be prompt template | llm with tools\n",
    "    # by doing that we can make any assistant with same code\n",
    "    def __init__(self, runnable: Runnable):\n",
    "        self.runnable = runnable\n",
    "\n",
    "    def __call__(self, state: State, config: RunnableConfig):\n",
    "        # if the llm not produce a result\n",
    "        # it safely update the state with in a node using state = {**state, \"messages\": messages}\n",
    "        # normally state is updated after the node is executed \n",
    "        # in this case \n",
    "        while True:\n",
    "            result = self.runnable.invoke(state)\n",
    "            # If the LLM happens to return an empty response, we will re-prompt it\n",
    "            # for an actual response.\n",
    "            if not result.tool_calls and (\n",
    "                not result.content\n",
    "                or isinstance(result.content, list)\n",
    "                and not result.content[0].get(\"text\")\n",
    "            ):\n",
    "                messages = state[\"messages\"] + [(\"user\", \"Respond with a real output.\")]\n",
    "                state = {**state, \"messages\": messages}\n",
    "            else:\n",
    "                break\n",
    "        return {\"messages\": result}"
   ]
  },
  {
   "cell_type": "markdown",
   "id": "d5974f52",
   "metadata": {},
   "source": [
    "### 3. Completion of task and hand over to other assistant\n",
    "\n",
    "This tool is called when the task is completed or the user intend to go another task"
   ]
  },
  {
   "cell_type": "code",
   "execution_count": 31,
   "id": "aa1bc6e1",
   "metadata": {},
   "outputs": [],
   "source": [
    "from pydantic import BaseModel, Field\n",
    "\n",
    "class CompleteOrEscalate(BaseModel):\n",
    "    \"\"\"A tool to mark the current task as completed and/or to escalate control of the dialog to the main assistant,\n",
    "    who can re-route the dialog based on the user's needs.\"\"\"\n",
    "\n",
    "    cancel: bool = True\n",
    "    reason: str\n",
    "\n",
    "    class Config:\n",
    "        json_schema_extra = {\n",
    "            \"example\": {\n",
    "                \"cancel\": True,\n",
    "                \"reason\": \"User changed their mind about the current task.\",\n",
    "            },\n",
    "            \"example 2\": {\n",
    "                \"cancel\": True,\n",
    "                \"reason\": \"I have fully completed the task.\",\n",
    "            },\n",
    "            \"example 3\": {\n",
    "                \"cancel\": False,\n",
    "                \"reason\": \"I need to search the user's emails or calendar for more information.\",\n",
    "            },\n",
    "        }\n",
    "\n",
    "# error comes because of gemini models\n",
    "# reported issue in github\n",
    "# from langchain_core.utils.function_calling import convert_to_openai_function\n",
    "# CompleteOrEscalate = convert_to_openai_function(CompleteOrEscalate)\n"
   ]
  },
  {
   "cell_type": "markdown",
   "id": "7e190eba",
   "metadata": {},
   "source": [
    "### 4. Create DataBase and insert sample data to that\n",
    "\n",
    "This make a database and add some sample data "
   ]
  },
  {
   "cell_type": "code",
   "execution_count": 32,
   "id": "a2cfa6e9",
   "metadata": {},
   "outputs": [],
   "source": [
    "DB_PATH = \"hospital3.db\""
   ]
  },
  {
   "cell_type": "code",
   "execution_count": 6,
   "id": "52c4f2ec",
   "metadata": {},
   "outputs": [
    {
     "name": "stdout",
     "output_type": "stream",
     "text": [
      "(1, '10:00', '2025-06-06', 1, 1)\n",
      "(2, '11:30', '2025-06-06', 2, 2)\n",
      "(3, '14:00', '2025-06-07', 3, 3)\n"
     ]
    }
   ],
   "source": [
    "import sqlite3\n",
    "from datetime import datetime\n",
    "\n",
    "# Step 1: Connect\n",
    "DB_PATH = \"hospital3.db\"\n",
    "conn = sqlite3.connect(DB_PATH) \n",
    "cursor = conn.cursor()\n",
    "\n",
    "# Step 2: Create tables\n",
    "cursor.execute(\"\"\"\n",
    "CREATE TABLE Doctor (\n",
    "    Doctor_ID INTEGER PRIMARY KEY AUTOINCREMENT,\n",
    "    Doctor_Name TEXT,\n",
    "    Specialization TEXT,\n",
    "    Location TEXT,\n",
    "    Rating REAL\n",
    ")\n",
    "\"\"\")\n",
    "\n",
    "cursor.execute(\"\"\"\n",
    "CREATE TABLE Patient (\n",
    "    Patient_ID INTEGER PRIMARY KEY AUTOINCREMENT,\n",
    "    Patient_Name TEXT,\n",
    "    Age INTEGER\n",
    ")\n",
    "\"\"\")\n",
    "\n",
    "cursor.execute(\"\"\"\n",
    "CREATE TABLE Appointment (\n",
    "    Appointment_ID INTEGER PRIMARY KEY AUTOINCREMENT,\n",
    "    Appointment_Time TEXT,\n",
    "    Appointment_Date TEXT,\n",
    "    Doctor_ID INTEGER,\n",
    "    Patient_ID INTEGER,\n",
    "    FOREIGN KEY (Doctor_ID) REFERENCES Doctor(Doctor_ID),\n",
    "    FOREIGN KEY (Patient_ID) REFERENCES Patient(Patient_ID)\n",
    ")\n",
    "\"\"\")\n",
    "\n",
    "# Insert data into Doctor and Patient tables\n",
    "doctors = [\n",
    "    (\"Dr. Alice Smith\", \"Cardiology\", \"New York\", 4.7),\n",
    "    (\"Dr. Bob Johnson\", \"Neurology\", \"Los Angeles\", 4.5),\n",
    "    (\"Dr. Clara Lee\", \"Pediatrics\", \"Chicago\", 4.8)\n",
    "]\n",
    "\n",
    "patients = [\n",
    "    (\"John Doe\", 30),\n",
    "    (\"Emily Davis\", 25),\n",
    "    (\"Michael Brown\", 45)\n",
    "]\n",
    "\n",
    "cursor.executemany(\"INSERT INTO Doctor (Doctor_Name, Specialization, Location, Rating) VALUES (?, ?, ?, ?)\", doctors)\n",
    "cursor.executemany(\"INSERT INTO Patient (Patient_Name, Age) VALUES (?, ?)\", patients)\n",
    "\n",
    "# Retrieve IDs\n",
    "cursor.execute(\"SELECT Doctor_ID FROM Doctor ORDER BY Doctor_ID\")\n",
    "doctor_ids = [row[0] for row in cursor.fetchall()]\n",
    "\n",
    "cursor.execute(\"SELECT Patient_ID FROM Patient ORDER BY Patient_ID\")\n",
    "patient_ids = [row[0] for row in cursor.fetchall()]\n",
    "\n",
    "# Insert into Appointment table\n",
    "appointments = [\n",
    "    (\"10:00\", \"2025-06-06\", doctor_ids[0], patient_ids[0]),\n",
    "    (\"11:30\", \"2025-06-06\", doctor_ids[1], patient_ids[1]),\n",
    "    (\"14:00\", \"2025-06-07\", doctor_ids[2], patient_ids[2])\n",
    "]\n",
    "\n",
    "cursor.executemany(\"\"\"\n",
    "    INSERT INTO Appointment (Appointment_Time, Appointment_Date, Doctor_ID, Patient_ID)\n",
    "    VALUES (?, ?, ?, ?)\n",
    "\"\"\", appointments)\n",
    "\n",
    "# Step 4: Commit and verify\n",
    "conn.commit()\n",
    "\n",
    "# Print the data\n",
    "for row in cursor.execute(\"SELECT * FROM Appointment\"):\n",
    "    print(row)\n",
    "\n",
    "# Close connection\n",
    "conn.close()"
   ]
  },
  {
   "cell_type": "markdown",
   "id": "3ddf691c",
   "metadata": {},
   "source": [
    "### 5. Tools for searching a Doctor and book an Appointment"
   ]
  },
  {
   "cell_type": "code",
   "execution_count": 33,
   "id": "67e34c3f",
   "metadata": {},
   "outputs": [],
   "source": [
    "from langchain_core.tools import tool\n",
    "from typing import Optional, Dict, List\n",
    "import sqlite3\n",
    "\n",
    "# Tool to search for a doctor by name\n",
    "@tool\n",
    "def search_for_doctor(name: Optional[str] = None) -> List[Dict]:\n",
    "    \"\"\"\n",
    "    Search for doctors by name (or return all if name is None).\n",
    "\n",
    "    Args:\n",
    "        name (Optional[str]): The partial or full name of the doctor.\n",
    "\n",
    "    Returns:\n",
    "        List[Dict]: Doctors matching the search criteria.\n",
    "    \"\"\"\n",
    "    conn = sqlite3.connect(DB_PATH)\n",
    "    conn.row_factory = sqlite3.Row\n",
    "    cursor = conn.cursor()\n",
    "\n",
    "    if name:\n",
    "        cursor.execute(\"\"\"\n",
    "            SELECT * FROM Doctor WHERE Doctor_Name LIKE ?\n",
    "        \"\"\", (f\"%{name}%\",))\n",
    "    else:\n",
    "        cursor.execute(\"SELECT * FROM Doctor\")\n",
    "\n",
    "    results = [dict(row) for row in cursor.fetchall()]\n",
    "    conn.close()\n",
    "    return results\n",
    "\n",
    "# Tool to check a doctor's availability at a given date and time\n",
    "@tool\n",
    "def check_doctor_availability(doctor_id: int, date: str, time: str) -> Dict:\n",
    "    \"\"\"\n",
    "    Check if a doctor is available at a given date and time.\n",
    "\n",
    "    Args:\n",
    "        doctor_id (int): The ID of the doctor.\n",
    "        date (str): Date of the appointment in 'YYYY-MM-DD' format.\n",
    "        time (str): Time of the appointment (e.g., '10:00').\n",
    "\n",
    "    Returns:\n",
    "        Dict: {\"available\": True/False}\n",
    "    \"\"\"\n",
    "    conn = sqlite3.connect(DB_PATH)\n",
    "    cursor = conn.cursor()\n",
    "\n",
    "    cursor.execute(\"\"\"\n",
    "        SELECT 1 FROM Appointment\n",
    "        WHERE Doctor_ID = ? AND Appointment_Date = ? AND Appointment_Time = ?\n",
    "    \"\"\", (doctor_id, date, time))\n",
    "\n",
    "    result = cursor.fetchone()\n",
    "    conn.close()\n",
    "\n",
    "    return {\"available\": result is None}\n",
    "\n",
    "# Tool for book an appoinment and add to the database\n",
    "@tool\n",
    "def book_appointment(user_id: int, doctor_id: int, date: str, time: str) -> Dict:\n",
    "    \"\"\"\n",
    "    Book an appointment with a doctor if available at the given date and time.\n",
    "\n",
    "    Args:\n",
    "        user_id (int): The ID of the patient.\n",
    "        doctor_id (int): The ID of the doctor.\n",
    "        date (str): Appointment date in 'YYYY-MM-DD' format.\n",
    "        time (str): Appointment time in 'HH:MM' format.\n",
    "\n",
    "    Returns:\n",
    "        Dict: {\"success\": True/False, \"message\": str}\n",
    "    \"\"\"\n",
    "    conn = sqlite3.connect(DB_PATH)\n",
    "    cursor = conn.cursor()\n",
    "\n",
    "    # Check if doctor is available\n",
    "    cursor.execute(\"\"\"\n",
    "        SELECT 1 FROM Appointment\n",
    "        WHERE Doctor_ID = ? AND Appointment_Date = ? AND Appointment_Time = ?\n",
    "    \"\"\", (doctor_id, date, time))\n",
    "    result = cursor.fetchone()\n",
    "\n",
    "    if result:\n",
    "        conn.close()\n",
    "        return {\"success\": False, \"message\": \"Doctor is not available at this date and time.\"}\n",
    "\n",
    "    # Book appointment\n",
    "    cursor.execute(\"\"\"\n",
    "        INSERT INTO Appointment (Appointment_Time, Appointment_Date, Doctor_ID, Patient_ID)\n",
    "        VALUES (?, ?, ?, ?)\n",
    "    \"\"\", (time, date, doctor_id, user_id))\n",
    "    conn.commit()\n",
    "    conn.close()\n",
    "\n",
    "    return {\"success\": True, \"message\": \"Appointment booked successfully.\"}\n"
   ]
  },
  {
   "cell_type": "code",
   "execution_count": 34,
   "id": "0152deb0",
   "metadata": {},
   "outputs": [],
   "source": [
    "from langchain_core.prompts import ChatPromptTemplate\n",
    "from datetime import datetime\n",
    "\n",
    "book_doctor_prompt = ChatPromptTemplate.from_messages(\n",
    "    [\n",
    "        (\n",
    "            \"system\",\n",
    "            \"You are a specialized assistant for handling doctor appointment bookings. \"\n",
    "            \"The primary assistant delegates work to you whenever the user needs help finding a doctor or scheduling an appointment. \"\n",
    "            \"Search for doctors based on the user's preferences (name, specialization, location), and check their availability for a given date and time. \"\n",
    "            \"Confirm the details with the user before attempting to book the appointment. \"\n",
    "            \"If the doctor is unavailable, offer alternate time slots or suggest a similar doctor. \"\n",
    "            \"Always confirm availability before booking. \"\n",
    "            \"Do not proceed with a booking unless the relevant tool has successfully returned availability.\"\n",
    "            \"\\nCurrent time: {time}.\"\n",
    "            '\\n\\nIf the user needs help outside of your scope, then \"CompleteOrEscalate\" the dialog to the main assistant. '\n",
    "            \"Do not make up tools or waste the user's time.\"\n",
    "            \"\\n\\nSome examples where you should CompleteOrEscalate:\\n\"\n",
    "            \" - 'I'm looking for medical insurance info'\\n\"\n",
    "            \" - 'I want to book a hospital room'\\n\"\n",
    "            \" - 'Actually, I’ll call the clinic myself'\\n\"\n",
    "            \" - 'I want to book a flight to the hospital location first'\\n\"\n",
    "            \" - 'Doctor appointment already confirmed'\\n\",\n",
    "        ),\n",
    "        (\"placeholder\", \"{messages}\"),\n",
    "    ]\n",
    ").partial(time=datetime.now())\n",
    "\n",
    "book_appointment_tools = [check_doctor_availability, search_for_doctor, book_appointment]\n",
    "book_appointment_runnable = book_doctor_prompt | llm.bind_tools(\n",
    "    book_appointment_tools + [CompleteOrEscalate]\n",
    ")"
   ]
  },
  {
   "cell_type": "markdown",
   "id": "e7adc251",
   "metadata": {},
   "source": [
    "### 6. Make the book appointment sub graph\n",
    "\n",
    "This sub graph is resposible for select a doctor and book an appointment "
   ]
  },
  {
   "cell_type": "code",
   "execution_count": 35,
   "id": "9a09a980",
   "metadata": {},
   "outputs": [
    {
     "data": {
      "image/png": "[encoded data removed]",
      "text/plain": [
       "<IPython.core.display.Image object>"
      ]
     },
     "metadata": {},
     "output_type": "display_data"
    }
   ],
   "source": [
    "from langgraph.checkpoint.memory import MemorySaver\n",
    "from langgraph.graph import StateGraph\n",
    "from langgraph.prebuilt import tools_condition,ToolNode\n",
    "\n",
    "# make a sample graph to check working\n",
    "graph_builder = StateGraph(State)\n",
    "\n",
    "graph_builder.add_node(\"tools\", ToolNode(book_appointment_tools))\n",
    "graph_builder.add_node(\"assistant\", Assistant(book_appointment_runnable))\n",
    "graph_builder.add_edge(\"tools\", \"assistant\")\n",
    "graph_builder.add_conditional_edges(\"assistant\", tools_condition)\n",
    "graph_builder.set_entry_point(\"assistant\")\n",
    "\n",
    "memory = MemorySaver()\n",
    "graph = graph_builder.compile(checkpointer=memory)\n",
    "\n",
    "from IPython.display import Image, display\n",
    "\n",
    "try:\n",
    "    display(Image(graph.get_graph().draw_mermaid_png()))\n",
    "except Exception:\n",
    "    # This requires some extra dependencies and is optional\n",
    "    pass"
   ]
  },
  {
   "cell_type": "code",
   "execution_count": 62,
   "id": "83741e48",
   "metadata": {},
   "outputs": [
    {
     "name": "stderr",
     "output_type": "stream",
     "text": [
      "Key 'example' is not supported in schema, ignoring\n",
      "Key 'example 2' is not supported in schema, ignoring\n",
      "Key 'example 3' is not supported in schema, ignoring\n",
      "Key 'example' is not supported in schema, ignoring\n",
      "Key 'example 2' is not supported in schema, ignoring\n",
      "Key 'example 3' is not supported in schema, ignoring\n"
     ]
    },
    {
     "name": "stdout",
     "output_type": "stream",
     "text": [
      "{'assistant': {'messages': AIMessage(content='', additional_kwargs={'function_call': {'name': 'search_for_doctor', 'arguments': '{\"name\": \"Janith\"}'}}, response_metadata={'prompt_feedback': {'block_reason': 0, 'safety_ratings': []}, 'finish_reason': 'STOP', 'model_name': 'gemini-2.0-flash-001', 'safety_ratings': []}, id='run--c83eb9bb-5ccb-4556-b6cd-002c08770876-0', tool_calls=[{'name': 'search_for_doctor', 'args': {'name': 'Janith'}, 'id': '9ff60342-14b0-442e-a778-7c78731015d1', 'type': 'tool_call'}], usage_metadata={'input_tokens': 597, 'output_tokens': 8, 'total_tokens': 605, 'input_token_details': {'cache_read': 0}})}}\n",
      "{'tools': {'messages': [ToolMessage(content=[], name='search_for_doctor', id='9174a27a-2665-44f0-8659-419c9f732e63', tool_call_id='9ff60342-14b0-442e-a778-7c78731015d1')]}}\n",
      "{'assistant': {'messages': AIMessage(content='I am sorry, I could not find a doctor by that name. Would you like me to search for a different doctor?', additional_kwargs={}, response_metadata={'prompt_feedback': {'block_reason': 0, 'safety_ratings': []}, 'finish_reason': 'STOP', 'model_name': 'gemini-2.0-flash-001', 'safety_ratings': []}, id='run--00c7d8ff-e8bc-47ca-bdd9-e6c13147b587-0', usage_metadata={'input_tokens': 611, 'output_tokens': 26, 'total_tokens': 637, 'input_token_details': {'cache_read': 0}})}}\n"
     ]
    }
   ],
   "source": [
    "thread = {\"configurable\": {\"thread_id\": \"1\"}}\n",
    "inputs = {\"messages\": [{\"role\": \"user\", \"content\": \"I want to book appoinment to Dr. Janith\"}]}\n",
    "for chunk in graph.stream(inputs, thread, stream_mode=\"updates\"):\n",
    "    print(chunk)"
   ]
  },
  {
   "cell_type": "code",
   "execution_count": 21,
   "id": "575113db",
   "metadata": {},
   "outputs": [
    {
     "name": "stderr",
     "output_type": "stream",
     "text": [
      "Key 'example' is not supported in schema, ignoring\n",
      "Key 'example 2' is not supported in schema, ignoring\n",
      "Key 'example 3' is not supported in schema, ignoring\n"
     ]
    },
    {
     "name": "stderr",
     "output_type": "stream",
     "text": [
      "Key 'example' is not supported in schema, ignoring\n",
      "Key 'example 2' is not supported in schema, ignoring\n",
      "Key 'example 3' is not supported in schema, ignoring\n"
     ]
    },
    {
     "name": "stdout",
     "output_type": "stream",
     "text": [
      "{'assistant': {'messages': AIMessage(content='', additional_kwargs={'function_call': {'name': 'search_for_doctor', 'arguments': '{\"name\": \"Alice\"}'}}, response_metadata={'prompt_feedback': {'block_reason': 0, 'safety_ratings': []}, 'finish_reason': 'STOP', 'model_name': 'gemini-2.0-flash-001', 'safety_ratings': []}, id='run--9d49bb99-63bb-4a1e-bf09-73cf88a10405-0', tool_calls=[{'name': 'search_for_doctor', 'args': {'name': 'Alice'}, 'id': '2cc883d9-da11-4548-8983-e4d14082b423', 'type': 'tool_call'}], usage_metadata={'input_tokens': 658, 'output_tokens': 7, 'total_tokens': 665, 'input_token_details': {'cache_read': 0}})}}\n",
      "{'tools': {'messages': [ToolMessage(content='[{\"Doctor_ID\": 1, \"Doctor_Name\": \"Dr. Alice Smith\", \"Specialization\": \"Cardiology\", \"Location\": \"New York\", \"Rating\": 4.7}]', name='search_for_doctor', id='ddc8d7c2-050f-4fbf-a300-c38f6cb87608', tool_call_id='2cc883d9-da11-4548-8983-e4d14082b423')]}}\n",
      "{'assistant': {'messages': AIMessage(content='OK. I found Dr. Alice Smith, a cardiologist in New York. Would you like to book an appointment with her?', additional_kwargs={}, response_metadata={'prompt_feedback': {'block_reason': 0, 'safety_ratings': []}, 'finish_reason': 'STOP', 'model_name': 'gemini-2.0-flash-001', 'safety_ratings': []}, id='run--0b73aa61-a521-47bb-8f5f-1684fef6f48e-0', usage_metadata={'input_tokens': 691, 'output_tokens': 26, 'total_tokens': 717, 'input_token_details': {'cache_read': 0}})}}\n"
     ]
    }
   ],
   "source": [
    "inputs = {\"messages\": [{\"role\": \"user\", \"content\": \"okey can I find Dr. Alice\"}]}\n",
    "for chunk in graph.stream(inputs, thread, stream_mode=\"updates\"):\n",
    "    print(chunk)"
   ]
  },
  {
   "cell_type": "code",
   "execution_count": 22,
   "id": "3ee93110",
   "metadata": {},
   "outputs": [
    {
     "name": "stderr",
     "output_type": "stream",
     "text": [
      "Key 'example' is not supported in schema, ignoring\n",
      "Key 'example 2' is not supported in schema, ignoring\n",
      "Key 'example 3' is not supported in schema, ignoring\n",
      "Key 'example' is not supported in schema, ignoring\n",
      "Key 'example 2' is not supported in schema, ignoring\n",
      "Key 'example 3' is not supported in schema, ignoring\n"
     ]
    },
    {
     "name": "stdout",
     "output_type": "stream",
     "text": [
      "{'assistant': {'messages': AIMessage(content='', additional_kwargs={'function_call': {'name': 'check_doctor_availability', 'arguments': '{\"doctor_id\": 1.0, \"date\": \"2025-06-06\", \"time\": \"10:00\"}'}}, response_metadata={'prompt_feedback': {'block_reason': 0, 'safety_ratings': []}, 'finish_reason': 'STOP', 'model_name': 'gemini-2.0-flash-001', 'safety_ratings': []}, id='run--8c14feef-c28b-48bc-bdd0-0b14890b5f02-0', tool_calls=[{'name': 'check_doctor_availability', 'args': {'doctor_id': 1.0, 'date': '2025-06-06', 'time': '10:00'}, 'id': 'bd272357-e2a4-4421-adcf-11e51454ebae', 'type': 'tool_call'}], usage_metadata={'input_tokens': 740, 'output_tokens': 26, 'total_tokens': 766, 'input_token_details': {'cache_read': 0}})}}\n",
      "{'tools': {'messages': [ToolMessage(content='{\"available\": false}', name='check_doctor_availability', id='310e030a-3477-4e33-b73a-ba79a9f31254', tool_call_id='bd272357-e2a4-4421-adcf-11e51454ebae')]}}\n",
      "{'assistant': {'messages': AIMessage(content=\"I'm sorry, Dr. Alice Smith is not available at 10:00 on June 6, 2025. Would you like me to check for other times that day, or perhaps another day?\", additional_kwargs={}, response_metadata={'prompt_feedback': {'block_reason': 0, 'safety_ratings': []}, 'finish_reason': 'STOP', 'model_name': 'gemini-2.0-flash-001', 'safety_ratings': []}, id='run--20833d33-5a22-4d9b-85a4-2c27ad76071f-0', usage_metadata={'input_tokens': 773, 'output_tokens': 48, 'total_tokens': 821, 'input_token_details': {'cache_read': 0}})}}\n"
     ]
    }
   ],
   "source": [
    "inputs = {\"messages\": [{\"role\": \"user\", \"content\": \"yea ,I want to book appoinment at 6 June 2025 at 10 am\"}]}\n",
    "for chunk in graph.stream(inputs, thread, stream_mode=\"updates\"):\n",
    "    print(chunk)"
   ]
  },
  {
   "cell_type": "code",
   "execution_count": 84,
   "id": "2d34f2ec",
   "metadata": {},
   "outputs": [
    {
     "name": "stderr",
     "output_type": "stream",
     "text": [
      "Key 'example' is not supported in schema, ignoring\n",
      "Key 'example' is not supported in schema, ignoring\n"
     ]
    },
    {
     "name": "stdout",
     "output_type": "stream",
     "text": [
      "{'assistant': {'messages': AIMessage(content='', additional_kwargs={'function_call': {'name': 'check_doctor_availability', 'arguments': '{\"doctor_id\": 1.0, \"date\": \"2025-06-06\", \"time\": \"11:00\"}'}}, response_metadata={'prompt_feedback': {'block_reason': 0, 'safety_ratings': []}, 'finish_reason': 'STOP', 'model_name': 'gemini-2.0-flash-001', 'safety_ratings': []}, id='run--84d6ec44-7fdc-4fce-828c-6fae2dcf8ad0-0', tool_calls=[{'name': 'check_doctor_availability', 'args': {'doctor_id': 1.0, 'date': '2025-06-06', 'time': '11:00'}, 'id': '045f5c30-7d70-44fb-beee-ad298e55e955', 'type': 'tool_call'}], usage_metadata={'input_tokens': 856, 'output_tokens': 26, 'total_tokens': 882, 'input_token_details': {'cache_read': 0}})}}\n",
      "{'tools': {'messages': [ToolMessage(content='{\"available\": false}', name='check_doctor_availability', id='274ab4bd-601e-48c6-b862-b9307ef4e6eb', tool_call_id='045f5c30-7d70-44fb-beee-ad298e55e955')]}}\n",
      "{'assistant': {'messages': AIMessage(content='I am sorry, Dr. Alice Smith is not available on June 6, 2025, at 11:00 AM. Would you like me to check for other available times on that day, or would you like to select a different date?', additional_kwargs={}, response_metadata={'prompt_feedback': {'block_reason': 0, 'safety_ratings': []}, 'finish_reason': 'STOP', 'model_name': 'gemini-2.0-flash-001', 'safety_ratings': []}, id='run--93e3d102-942f-4906-995e-85e812a94e75-0', usage_metadata={'input_tokens': 889, 'output_tokens': 55, 'total_tokens': 944, 'input_token_details': {'cache_read': 0}})}}\n"
     ]
    }
   ],
   "source": [
    "inputs = {\"messages\": [{\"role\": \"user\", \"content\": \"okey, can I book appoinment at 6 June 2025 at 11 am\"}]}\n",
    "for chunk in graph.stream(inputs, thread, stream_mode=\"updates\"):\n",
    "    print(chunk)"
   ]
  },
  {
   "cell_type": "code",
   "execution_count": 85,
   "id": "fb297915",
   "metadata": {},
   "outputs": [
    {
     "name": "stderr",
     "output_type": "stream",
     "text": [
      "Key 'example' is not supported in schema, ignoring\n"
     ]
    },
    {
     "name": "stdout",
     "output_type": "stream",
     "text": [
      "{'assistant': {'messages': AIMessage(content='My apologies, but Dr. Alice Smith is not available at 11:00 AM on June 6, 2025. I checked her availability again to be sure. Would you like me to check other times or a different date?', additional_kwargs={}, response_metadata={'prompt_feedback': {'block_reason': 0, 'safety_ratings': []}, 'finish_reason': 'STOP', 'model_name': 'gemini-2.0-flash-001', 'safety_ratings': []}, id='run--d7099760-76d9-4188-98c1-ca8cad79d092-0', usage_metadata={'input_tokens': 965, 'output_tokens': 53, 'total_tokens': 1018, 'input_token_details': {'cache_read': 0}})}}\n"
     ]
    }
   ],
   "source": [
    "inputs = {\"messages\": [{\"role\": \"user\", \"content\": \"okey, book appoinment at 6 June 2025 at 11 am\"}]}\n",
    "for chunk in graph.stream(inputs, thread, stream_mode=\"updates\"):\n",
    "    print(chunk)"
   ]
  },
  {
   "cell_type": "code",
   "execution_count": 49,
   "id": "576dc1ef",
   "metadata": {},
   "outputs": [
    {
     "name": "stderr",
     "output_type": "stream",
     "text": [
      "Key 'example' is not supported in schema, ignoring\n",
      "Key 'example' is not supported in schema, ignoring\n"
     ]
    },
    {
     "name": "stdout",
     "output_type": "stream",
     "text": [
      "{'assistant': {'messages': AIMessage(content='', additional_kwargs={'function_call': {'name': 'book_appointment', 'arguments': '{\"doctor_id\": 1.0, \"user_id\": 1.0, \"date\": \"2025-06-06\", \"time\": \"11:00\"}'}}, response_metadata={'prompt_feedback': {'block_reason': 0, 'safety_ratings': []}, 'finish_reason': 'STOP', 'model_name': 'gemini-2.0-flash-001', 'safety_ratings': []}, id='run--da30aa25-2bc5-4154-816f-57a9cad3e04d-0', tool_calls=[{'name': 'book_appointment', 'args': {'doctor_id': 1.0, 'user_id': 1.0, 'date': '2025-06-06', 'time': '11:00'}, 'id': 'a20a5a0a-626a-4fb3-88dc-f148eb68e2d8', 'type': 'tool_call'}], usage_metadata={'input_tokens': 888, 'output_tokens': 28, 'total_tokens': 916, 'input_token_details': {'cache_read': 0}})}}\n",
      "{'tools': {'messages': [ToolMessage(content='{\"success\": true, \"message\": \"Appointment booked successfully.\"}', name='book_appointment', id='6b4ee0c3-56d3-446c-83b3-7db9695f763a', tool_call_id='a20a5a0a-626a-4fb3-88dc-f148eb68e2d8')]}}\n",
      "{'assistant': {'messages': AIMessage(content='Great! Your appointment with Dr. Alice Smith for June 6, 2025, at 11:00 is confirmed. Is there anything else I can help you with?', additional_kwargs={}, response_metadata={'prompt_feedback': {'block_reason': 0, 'safety_ratings': []}, 'finish_reason': 'STOP', 'model_name': 'gemini-2.0-flash-001', 'safety_ratings': []}, id='run--74062710-caba-4784-adde-cc11e7719282-0', usage_metadata={'input_tokens': 926, 'output_tokens': 41, 'total_tokens': 967, 'input_token_details': {'cache_read': 0}})}}\n"
     ]
    }
   ],
   "source": [
    "inputs = {\"messages\": [{\"role\": \"user\", \"content\": \"my Id is 1\"}]}\n",
    "for chunk in graph.stream(inputs, thread, stream_mode=\"updates\"):\n",
    "    print(chunk)"
   ]
  },
  {
   "cell_type": "code",
   "execution_count": 86,
   "id": "79733f87",
   "metadata": {},
   "outputs": [
    {
     "name": "stdout",
     "output_type": "stream",
     "text": [
      "(1, '10:00', '2025-06-06', 1, 1)\n",
      "(3, '14:00', '2025-06-07', 3, 3)\n",
      "(4, '11:00', '2025-06-06', 1, 1)\n"
     ]
    }
   ],
   "source": [
    "# check whether the database is updated\n",
    "\n",
    "conn = sqlite3.connect(DB_PATH) \n",
    "cursor = conn.cursor()\n",
    "\n",
    "for row in cursor.execute(\"SELECT * FROM Appointment\"):\n",
    "    print(row)"
   ]
  },
  {
   "cell_type": "markdown",
   "id": "86bb9b21",
   "metadata": {},
   "source": [
    "### 7. Tools for Search the appointment and delete that appoinment\n",
    "\n",
    "This tools are responsible for search the booked appointment and delete if user confirm "
   ]
  },
  {
   "cell_type": "code",
   "execution_count": 36,
   "id": "0ef98b6d",
   "metadata": {},
   "outputs": [],
   "source": [
    "@tool\n",
    "def search_for_appointment(appointment_id: int) -> Dict:\n",
    "    \"\"\"\n",
    "    Search for an appointment by its ID.\n",
    "\n",
    "    Args:\n",
    "        appointment_id (int): The ID of the appointment.\n",
    "\n",
    "    Returns:\n",
    "        Dict: Appointment details if found, otherwise a failure message.\n",
    "    \"\"\"\n",
    "    conn = sqlite3.connect(DB_PATH)\n",
    "    cursor = conn.cursor()\n",
    "\n",
    "    cursor.execute(\"\"\"\n",
    "        SELECT Appointment_ID, Appointment_Date, Appointment_Time, Doctor_ID, Patient_ID\n",
    "        FROM Appointment\n",
    "        WHERE Appointment_ID = ?\n",
    "    \"\"\", (appointment_id,))\n",
    "    \n",
    "    result = cursor.fetchone()\n",
    "    conn.close()\n",
    "\n",
    "    if result:\n",
    "        return {\n",
    "            \"success\": True,\n",
    "            \"appointment\": {\n",
    "                \"appointment_id\": result[0],\n",
    "                \"date\": result[1],\n",
    "                \"time\": result[2],\n",
    "                \"doctor_id\": result[3],\n",
    "                \"patient_id\": result[4]\n",
    "            }\n",
    "        }\n",
    "    else:\n",
    "        return {\"success\": False, \"message\": \"Appointment not found.\"}\n",
    "\n",
    "\n",
    "@tool\n",
    "def cancel_appointment(appointment_id: int) -> Dict:\n",
    "    \"\"\"\n",
    "    Cancel an existing appointment by its ID.\n",
    "\n",
    "    Args:\n",
    "        appointment_id (int): The ID of the appointment to cancel.\n",
    "\n",
    "    Returns:\n",
    "        Dict: {\"success\": True/False, \"message\": str}\n",
    "    \"\"\"\n",
    "    conn = sqlite3.connect(DB_PATH)\n",
    "    cursor = conn.cursor()\n",
    "\n",
    "    cursor.execute(\"SELECT 1 FROM Appointment WHERE Appointment_ID = ?\", (appointment_id,))\n",
    "    result = cursor.fetchone()\n",
    "\n",
    "    if not result:\n",
    "        conn.close()\n",
    "        return {\"success\": False, \"message\": \"Appointment not found.\"}\n",
    "\n",
    "    cursor.execute(\"DELETE FROM Appointment WHERE Appointment_ID = ?\", (appointment_id,))\n",
    "    conn.commit()\n",
    "    conn.close()\n",
    "\n",
    "    return {\"success\": True, \"message\": \"Appointment cancelled successfully.\"}"
   ]
  },
  {
   "cell_type": "code",
   "execution_count": 37,
   "id": "3568ea53",
   "metadata": {},
   "outputs": [],
   "source": [
    "from langchain_core.prompts import ChatPromptTemplate\n",
    "from datetime import datetime\n",
    "\n",
    "cancel_appointment_prompt = ChatPromptTemplate.from_messages(\n",
    "    [\n",
    "        (\n",
    "            \"system\",\n",
    "            \"You are a specialized assistant for handling doctor appointment cancellations. \"\n",
    "            \"The primary assistant delegates work to you whenever the user wants to cancel an appointment. \"\n",
    "            \"First, verify the appointment ID with the user. Then confirm the cancellation intent clearly before proceeding. \"\n",
    "            \"Use the appropriate tool to cancel the appointment and inform the user of the result. \"\n",
    "            \"Be clear and efficient in your responses. Do not cancel unless explicitly requested by the user.\"\n",
    "            \"\\nCurrent time: {time}.\"\n",
    "            '\\n\\nIf the user needs help outside of your scope, then \"CompleteOrEscalate\" the dialog to the main assistant. '\n",
    "            \"Do not make up tools or waste the user's time.\"\n",
    "            \"\\n\\nSome examples where you should CompleteOrEscalate:\\n\"\n",
    "            \" - 'I want to rebook instead of canceling'\\n\"\n",
    "            \" - 'What are the symptoms of flu?'\\n\"\n",
    "            \" - 'Actually, my friend needs to cancel, not me'\\n\"\n",
    "            \" - 'Appointment already canceled elsewhere'\\n\",\n",
    "        ),\n",
    "        (\"placeholder\", \"{messages}\"),\n",
    "    ]\n",
    ").partial(time=datetime.now())\n",
    "\n",
    "cancel_appointment_tools = [search_for_appointment, cancel_appointment]\n",
    "\n",
    "cancel_appointment_runnable = cancel_appointment_prompt | llm.bind_tools(\n",
    "    cancel_appointment_tools + [CompleteOrEscalate]\n",
    ")"
   ]
  },
  {
   "cell_type": "code",
   "execution_count": 38,
   "id": "31488df1",
   "metadata": {},
   "outputs": [
    {
     "data": {
      "image/png": "[encoded data removed]",
      "text/plain": [
       "<IPython.core.display.Image object>"
      ]
     },
     "metadata": {},
     "output_type": "display_data"
    }
   ],
   "source": [
    "# make the graph responsible for cancel the appointment\n",
    "graph_builder_cancel = StateGraph(State)\n",
    "\n",
    "graph_builder_cancel.add_node(\"tools\", ToolNode(cancel_appointment_tools))\n",
    "graph_builder_cancel.add_node(\"assistant\", Assistant(cancel_appointment_runnable))\n",
    "graph_builder_cancel.add_edge(\"tools\", \"assistant\")\n",
    "graph_builder_cancel.add_conditional_edges(\"assistant\", tools_condition)\n",
    "graph_builder_cancel.set_entry_point(\"assistant\")\n",
    "\n",
    "memory_cancel = MemorySaver()\n",
    "graph_cancel = graph_builder_cancel.compile(checkpointer=memory_cancel)\n",
    "\n",
    "from IPython.display import Image, display\n",
    "\n",
    "try:\n",
    "    display(Image(graph_cancel.get_graph().draw_mermaid_png()))\n",
    "except Exception:\n",
    "    pass"
   ]
  },
  {
   "cell_type": "code",
   "execution_count": 69,
   "id": "3ba5d0fa",
   "metadata": {},
   "outputs": [
    {
     "name": "stderr",
     "output_type": "stream",
     "text": [
      "Key 'example' is not supported in schema, ignoring\n"
     ]
    },
    {
     "name": "stdout",
     "output_type": "stream",
     "text": [
      "{'assistant': {'messages': AIMessage(content='Ok, I can help with that. First, can you please provide the appointment ID you wish to cancel?', additional_kwargs={}, response_metadata={'prompt_feedback': {'block_reason': 0, 'safety_ratings': []}, 'finish_reason': 'STOP', 'model_name': 'gemini-2.0-flash-001', 'safety_ratings': []}, id='run--c9cb01e5-0632-436e-814a-9c8a1640dec6-0', usage_metadata={'input_tokens': 379, 'output_tokens': 23, 'total_tokens': 402, 'input_token_details': {'cache_read': 0}})}}\n"
     ]
    }
   ],
   "source": [
    "thread = {\"configurable\": {\"thread_id\": \"2\"}}\n",
    "inputs = {\"messages\": [{\"role\": \"user\", \"content\": \"I want to cancel my appoinment with Dr.Smith\"}]}\n",
    "for chunk in graph_cancel.stream(inputs, thread, stream_mode=\"updates\"):\n",
    "    print(chunk)"
   ]
  },
  {
   "cell_type": "code",
   "execution_count": 70,
   "id": "f66c8b8a",
   "metadata": {},
   "outputs": [
    {
     "name": "stderr",
     "output_type": "stream",
     "text": [
      "Key 'example' is not supported in schema, ignoring\n"
     ]
    },
    {
     "name": "stdout",
     "output_type": "stream",
     "text": [
      "{'assistant': {'messages': AIMessage(content='Okay, just to confirm, you wish to cancel the appointment with ID 2?', additional_kwargs={}, response_metadata={'prompt_feedback': {'block_reason': 0, 'safety_ratings': []}, 'finish_reason': 'STOP', 'model_name': 'gemini-2.0-flash-001', 'safety_ratings': []}, id='run--89b68149-07f3-46db-90bd-d2a43a3546df-0', usage_metadata={'input_tokens': 406, 'output_tokens': 18, 'total_tokens': 424, 'input_token_details': {'cache_read': 0}})}}\n"
     ]
    }
   ],
   "source": [
    "inputs = {\"messages\": [{\"role\": \"user\", \"content\": \"My id is 2\"}]}\n",
    "for chunk in graph_cancel.stream(inputs, thread, stream_mode=\"updates\"):\n",
    "    print(chunk)"
   ]
  },
  {
   "cell_type": "code",
   "execution_count": 71,
   "id": "4108b939",
   "metadata": {},
   "outputs": [
    {
     "name": "stderr",
     "output_type": "stream",
     "text": [
      "Key 'example' is not supported in schema, ignoring\n",
      "Key 'example' is not supported in schema, ignoring\n"
     ]
    },
    {
     "name": "stdout",
     "output_type": "stream",
     "text": [
      "{'assistant': {'messages': AIMessage(content='', additional_kwargs={'function_call': {'name': 'cancel_appointment', 'arguments': '{\"appointment_id\": 2.0}'}}, response_metadata={'prompt_feedback': {'block_reason': 0, 'safety_ratings': []}, 'finish_reason': 'STOP', 'model_name': 'gemini-2.0-flash-001', 'safety_ratings': []}, id='run--bdff7600-eee4-4c30-ab47-6ee7aef8c12e-0', tool_calls=[{'name': 'cancel_appointment', 'args': {'appointment_id': 2.0}, 'id': 'f323b8cb-0d99-47f5-bfce-e230bed35f97', 'type': 'tool_call'}], usage_metadata={'input_tokens': 424, 'output_tokens': 7, 'total_tokens': 431, 'input_token_details': {'cache_read': 0}})}}\n",
      "{'tools': {'messages': [ToolMessage(content='{\"success\": true, \"message\": \"Appointment cancelled successfully.\"}', name='cancel_appointment', id='c61ebb36-0402-4aba-9bf7-e1f12de4fa85', tool_call_id='f323b8cb-0d99-47f5-bfce-e230bed35f97')]}}\n",
      "{'assistant': {'messages': AIMessage(content='OK. I have cancelled appointment ID 2.', additional_kwargs={}, response_metadata={'prompt_feedback': {'block_reason': 0, 'safety_ratings': []}, 'finish_reason': 'STOP', 'model_name': 'gemini-2.0-flash-001', 'safety_ratings': []}, id='run--49a75038-de32-41b6-aa2d-713f6453019d-0', usage_metadata={'input_tokens': 441, 'output_tokens': 11, 'total_tokens': 452, 'input_token_details': {'cache_read': 0}})}}\n"
     ]
    }
   ],
   "source": [
    "inputs = {\"messages\": [{\"role\": \"user\", \"content\": \"yes\"}]}\n",
    "for chunk in graph_cancel.stream(inputs, thread, stream_mode=\"updates\"):\n",
    "    print(chunk)"
   ]
  },
  {
   "cell_type": "code",
   "execution_count": 24,
   "id": "11db4473",
   "metadata": {},
   "outputs": [
    {
     "name": "stdout",
     "output_type": "stream",
     "text": [
      "(1, '10:00', '2025-06-06', 1, 1)\n",
      "(2, '11:30', '2025-06-06', 2, 2)\n",
      "(3, '14:00', '2025-06-07', 3, 3)\n"
     ]
    }
   ],
   "source": [
    "# check whether the database is updated\n",
    "\n",
    "conn = sqlite3.connect(DB_PATH) \n",
    "cursor = conn.cursor()\n",
    "\n",
    "for row in cursor.execute(\"SELECT * FROM Appointment\"):\n",
    "    print(row)"
   ]
  },
  {
   "cell_type": "markdown",
   "id": "4ebb9f77",
   "metadata": {},
   "source": [
    "### 8. Tools for Search the appointment and update that appoinment\n",
    "\n",
    "This tools are responsible for search the booked appointment and Update if user confirm "
   ]
  },
  {
   "cell_type": "code",
   "execution_count": 39,
   "id": "d35e8798",
   "metadata": {},
   "outputs": [],
   "source": [
    "# 1. tool search the appointment by Id\n",
    "# above tool can be used for that \n",
    "\n",
    "# 2. tool search for doctor\n",
    "# this tool gives the doctor id \n",
    "\n",
    "# 3. tool search for doctor availability\n",
    "# this tool search if the doctor is available at given time \n",
    "\n",
    "@tool\n",
    "def update_appointment(appointment_id: int, date: str, time: str):\n",
    "    \"\"\"\n",
    "    Update an existing appointment to a new date and time if the doctor is available.\n",
    "\n",
    "    Args:\n",
    "        appointment_id (int): ID of the appointment to update.\n",
    "        date (str): New date in 'YYYY-MM-DD' format.\n",
    "        time (str): New time in 'HH:MM' format.\n",
    "\n",
    "    Returns:\n",
    "        Dict: {\"success\": True/False, \"message\": str}\n",
    "    \"\"\"\n",
    "    conn = sqlite3.connect(DB_PATH)\n",
    "    cursor = conn.cursor()\n",
    "\n",
    "    # Get doctor ID from appointment\n",
    "    cursor.execute(\"SELECT Doctor_ID FROM Appointment WHERE Appointment_ID = ?\", (appointment_id,))\n",
    "    result = cursor.fetchone()\n",
    "    if not result:\n",
    "        conn.close()\n",
    "        return {\"success\": False, \"message\": \"Appointment not found.\"}\n",
    "    \n",
    "    doctor_id = result[0]\n",
    "\n",
    "    # Check if doctor is available at new date and time\n",
    "    cursor.execute(\"\"\"\n",
    "        SELECT 1 FROM Appointment\n",
    "        WHERE Doctor_ID = ? AND Appointment_Date = ? AND Appointment_Time = ? AND Appointment_ID != ?\n",
    "    \"\"\", (doctor_id, date, time, appointment_id))\n",
    "    \n",
    "    if cursor.fetchone():\n",
    "        conn.close()\n",
    "        return {\"success\": False, \"message\": \"Doctor is not available at the requested time.\"}\n",
    "\n",
    "    # Update the appointment\n",
    "    cursor.execute(\"\"\"\n",
    "        UPDATE Appointment\n",
    "        SET Appointment_Date = ?, Appointment_Time = ?\n",
    "        WHERE Appointment_ID = ?\n",
    "    \"\"\", (date, time, appointment_id))\n",
    "    \n",
    "    conn.commit()\n",
    "    conn.close()\n",
    "\n",
    "    return {\"success\": True, \"message\": \"Appointment updated successfully.\"}"
   ]
  },
  {
   "cell_type": "code",
   "execution_count": 40,
   "id": "8c25e7f4",
   "metadata": {},
   "outputs": [],
   "source": [
    "from langchain_core.prompts import ChatPromptTemplate\n",
    "from datetime import datetime\n",
    "from langgraph.checkpoint.memory import MemorySaver\n",
    "from langgraph.graph import END, StateGraph, START\n",
    "from langgraph.prebuilt import tools_condition\n",
    "\n",
    "update_appointment_prompt = ChatPromptTemplate.from_messages(\n",
    "    [\n",
    "        (\n",
    "            \"system\",\n",
    "            \"You are a specialized assistant for handling doctor appointment updates. \"\n",
    "            \"The primary assistant delegates work to you whenever the user wants to change the date or time of a scheduled appointment. \"\n",
    "            \"Start by verifying the appointment ID using the appropriate tool. \"\n",
    "            \"Then check the doctor's availability at the new requested date and time. \"\n",
    "            \"Only proceed with the update if the doctor is available and the appointment exists. \"\n",
    "            \"If the doctor is unavailable, offer alternative time slots or ask the user for a different time. \"\n",
    "            \"Always confirm the user's intent and ensure all tools complete successfully before confirming the update.\"\n",
    "            \"\\nCurrent time: {time}.\"\n",
    "            \"\\n\\nIf the user needs help outside your scope, then use 'CompleteOrEscalate' to pass control to the main assistant. \"\n",
    "            \"Do not fabricate tools or waste the user's time.\"\n",
    "            \"\\n\\nSome examples where you should CompleteOrEscalate:\\n\"\n",
    "            \" - 'I want to cancel my appointment instead'\\n\"\n",
    "            \" - 'Do you know the doctor's specialties?'\\n\"\n",
    "            \" - 'Actually I’ll call the hospital directly'\\n\"\n",
    "            \" - 'Appointment already updated elsewhere'\\n\",\n",
    "        ),\n",
    "        (\"placeholder\", \"{messages}\"),\n",
    "    ]\n",
    ").partial(time=datetime.now())\n",
    "\n",
    "# tools for update the appoinment\n",
    "update_appointment_tools = [check_doctor_availability, search_for_doctor, update_appointment, search_for_appointment]\n",
    "update_appointment_runnable = update_appointment_prompt | llm.bind_tools(\n",
    "    update_appointment_tools + [CompleteOrEscalate]\n",
    ")\n",
    "\n",
    "# this is conditional edge to route update appoinment agent tools\n",
    "def route_reschedule_assistant(state: State):\n",
    "    route = tools_condition(state)\n",
    "    # if the llm answered and go to the end\n",
    "    if route == END:\n",
    "        return END\n",
    "    tool_calls = state[\"messages\"][-1].tool_calls\n",
    "\n",
    "    # if it call tool name complete navigate to leave_skill\n",
    "    did_cancel = any(tc[\"name\"] == CompleteOrEscalate.__name__ for tc in tool_calls)\n",
    "    if did_cancel:\n",
    "        return \"leave_skill\"\n",
    "    \n",
    "    # if it call other tool route to reschedule_tools node\n",
    "    return \"reschedule_tools\""
   ]
  },
  {
   "cell_type": "markdown",
   "id": "c340bec0",
   "metadata": {},
   "source": [
    "### 9. Make sub graph for update an appointment when user need\n",
    "\n",
    "This is sample graph for cancel an appointment  "
   ]
  },
  {
   "cell_type": "code",
   "execution_count": 91,
   "id": "c2a84872",
   "metadata": {},
   "outputs": [
    {
     "data": {
      "image/png": "[encoded data removed]",
      "text/plain": [
       "<IPython.core.display.Image object>"
      ]
     },
     "metadata": {},
     "output_type": "display_data"
    }
   ],
   "source": [
    "# make the graph responsible for update the appointment\n",
    "graph_builder_update = StateGraph(State)\n",
    "\n",
    "graph_builder_update.add_node(\"tools\", ToolNode(update_appointment_tools))\n",
    "graph_builder_update.add_node(\"assistant\", Assistant(update_appointment_runnable))\n",
    "graph_builder_update.add_edge(\"tools\", \"assistant\")\n",
    "graph_builder_update.add_conditional_edges(\"assistant\", tools_condition)\n",
    "graph_builder_update.set_entry_point(\"assistant\")\n",
    "\n",
    "memory_update = MemorySaver()\n",
    "graph_update = graph_builder_update.compile(checkpointer=memory_update)\n",
    "\n",
    "from IPython.display import Image, display\n",
    "\n",
    "try:\n",
    "    display(Image(graph_cancel.get_graph().draw_mermaid_png()))\n",
    "except Exception:\n",
    "    pass"
   ]
  },
  {
   "cell_type": "code",
   "execution_count": 92,
   "id": "67d480c5",
   "metadata": {},
   "outputs": [
    {
     "name": "stderr",
     "output_type": "stream",
     "text": [
      "Key 'example' is not supported in schema, ignoring\n"
     ]
    },
    {
     "name": "stdout",
     "output_type": "stream",
     "text": [
      "{'assistant': {'messages': AIMessage(content='I can help with that. First, I need the appointment ID. Can you please provide it?', additional_kwargs={}, response_metadata={'prompt_feedback': {'block_reason': 0, 'safety_ratings': []}, 'finish_reason': 'STOP', 'model_name': 'gemini-2.0-flash-001', 'safety_ratings': []}, id='run--8e4cbcaa-d0c4-4eb3-b1db-f801540743be-0', usage_metadata={'input_tokens': 615, 'output_tokens': 21, 'total_tokens': 636, 'input_token_details': {'cache_read': 0}})}}\n"
     ]
    }
   ],
   "source": [
    "thread = {\"configurable\": {\"thread_id\": \"3\"}}\n",
    "inputs = {\"messages\": [{\"role\": \"user\", \"content\": \"I want to reshedule my appointment\"}]}\n",
    "for chunk in graph_update.stream(inputs, thread, stream_mode=\"updates\"):\n",
    "    print(chunk)"
   ]
  },
  {
   "cell_type": "code",
   "execution_count": 93,
   "id": "fdbfa50d",
   "metadata": {},
   "outputs": [
    {
     "name": "stderr",
     "output_type": "stream",
     "text": [
      "Key 'example' is not supported in schema, ignoring\n",
      "Key 'example' is not supported in schema, ignoring\n"
     ]
    },
    {
     "name": "stdout",
     "output_type": "stream",
     "text": [
      "{'assistant': {'messages': AIMessage(content='', additional_kwargs={'function_call': {'name': 'search_for_appointment', 'arguments': '{\"appointment_id\": 4.0}'}}, response_metadata={'prompt_feedback': {'block_reason': 0, 'safety_ratings': []}, 'finish_reason': 'STOP', 'model_name': 'gemini-2.0-flash-001', 'safety_ratings': []}, id='run--5d6e7867-7531-4982-887e-23db705e6864-0', tool_calls=[{'name': 'search_for_appointment', 'args': {'appointment_id': 4.0}, 'id': '99290668-676d-4e21-af7e-3d892e9503d2', 'type': 'tool_call'}], usage_metadata={'input_tokens': 641, 'output_tokens': 9, 'total_tokens': 650, 'input_token_details': {'cache_read': 0}})}}\n",
      "{'tools': {'messages': [ToolMessage(content='{\"success\": true, \"appointment\": {\"appointment_id\": 4, \"date\": \"2025-06-06\", \"time\": \"11:00\", \"doctor_id\": 1, \"patient_id\": 1}}', name='search_for_appointment', id='6935951f-a33d-4a13-bf1f-7a380d923f64', tool_call_id='99290668-676d-4e21-af7e-3d892e9503d2')]}}\n",
      "{'assistant': {'messages': AIMessage(content='OK. I see your appointment is with doctor ID 1 on 2025-06-06 at 11:00. What is the new date and time you would like to schedule?', additional_kwargs={}, response_metadata={'prompt_feedback': {'block_reason': 0, 'safety_ratings': []}, 'finish_reason': 'STOP', 'model_name': 'gemini-2.0-flash-001', 'safety_ratings': []}, id='run--ede991e3-17a5-4bf3-a96e-7d8672973005-0', usage_metadata={'input_tokens': 687, 'output_tokens': 45, 'total_tokens': 732, 'input_token_details': {'cache_read': 0}})}}\n"
     ]
    }
   ],
   "source": [
    "inputs = {\"messages\": [{\"role\": \"user\", \"content\": \"my appointment id is 4\"}]}\n",
    "for chunk in graph_update.stream(inputs, thread, stream_mode=\"updates\"):\n",
    "    print(chunk)"
   ]
  },
  {
   "cell_type": "code",
   "execution_count": 94,
   "id": "5cd7c603",
   "metadata": {},
   "outputs": [
    {
     "name": "stderr",
     "output_type": "stream",
     "text": [
      "Key 'example' is not supported in schema, ignoring\n",
      "Key 'example' is not supported in schema, ignoring\n"
     ]
    },
    {
     "name": "stdout",
     "output_type": "stream",
     "text": [
      "{'assistant': {'messages': AIMessage(content='', additional_kwargs={'function_call': {'name': 'check_doctor_availability', 'arguments': '{\"doctor_id\": 1.0, \"date\": \"2025-06-06\", \"time\": \"10:00\"}'}}, response_metadata={'prompt_feedback': {'block_reason': 0, 'safety_ratings': []}, 'finish_reason': 'STOP', 'model_name': 'gemini-2.0-flash-001', 'safety_ratings': []}, id='run--f0a5e075-0473-4fc6-b9d6-baffb03ffbc5-0', tool_calls=[{'name': 'check_doctor_availability', 'args': {'doctor_id': 1.0, 'date': '2025-06-06', 'time': '10:00'}, 'id': 'b72732ae-9ae1-4234-9058-9e84fb2cbaf4', 'type': 'tool_call'}], usage_metadata={'input_tokens': 746, 'output_tokens': 26, 'total_tokens': 772, 'input_token_details': {'cache_read': 0}})}}\n",
      "{'tools': {'messages': [ToolMessage(content='{\"available\": false}', name='check_doctor_availability', id='f7011fd9-b8c8-40e1-920a-c42842301065', tool_call_id='b72732ae-9ae1-4234-9058-9e84fb2cbaf4')]}}\n",
      "{'assistant': {'messages': AIMessage(content='The doctor is not available at 10:00 on June 6th. Would you like to try a different time, or a different date?', additional_kwargs={}, response_metadata={'prompt_feedback': {'block_reason': 0, 'safety_ratings': []}, 'finish_reason': 'STOP', 'model_name': 'gemini-2.0-flash-001', 'safety_ratings': []}, id='run--6e3d8df0-dafd-495d-a389-f05ec2f7b64a-0', usage_metadata={'input_tokens': 779, 'output_tokens': 33, 'total_tokens': 812, 'input_token_details': {'cache_read': 0}})}}\n"
     ]
    }
   ],
   "source": [
    "inputs = {\"messages\": [{\"role\": \"user\", \"content\": \"i want to shedule at 10 am 6 th June\"}]}\n",
    "for chunk in graph_update.stream(inputs, thread, stream_mode=\"updates\"):\n",
    "    print(chunk)"
   ]
  },
  {
   "cell_type": "code",
   "execution_count": 96,
   "id": "ffc2d701",
   "metadata": {},
   "outputs": [
    {
     "name": "stderr",
     "output_type": "stream",
     "text": [
      "Key 'example' is not supported in schema, ignoring\n",
      "Key 'example' is not supported in schema, ignoring\n"
     ]
    },
    {
     "name": "stdout",
     "output_type": "stream",
     "text": [
      "{'assistant': {'messages': AIMessage(content='', additional_kwargs={'function_call': {'name': 'check_doctor_availability', 'arguments': '{\"doctor_id\": 1.0, \"date\": \"2025-06-06\", \"time\": \"12:00\"}'}}, response_metadata={'prompt_feedback': {'block_reason': 0, 'safety_ratings': []}, 'finish_reason': 'STOP', 'model_name': 'gemini-2.0-flash-001', 'safety_ratings': []}, id='run--d627b859-eb9c-4f4a-9ee1-f453d8ae6a6f-0', tool_calls=[{'name': 'check_doctor_availability', 'args': {'doctor_id': 1.0, 'date': '2025-06-06', 'time': '12:00'}, 'id': '09ff39cb-4406-4aae-ab10-7fd85d2aa5ec', 'type': 'tool_call'}], usage_metadata={'input_tokens': 859, 'output_tokens': 26, 'total_tokens': 885, 'input_token_details': {'cache_read': 0}})}}\n",
      "{'tools': {'messages': [ToolMessage(content='{\"available\": true}', name='check_doctor_availability', id='6f071366-a135-40b5-83f6-b311df101fb1', tool_call_id='09ff39cb-4406-4aae-ab10-7fd85d2aa5ec')]}}\n",
      "{'assistant': {'messages': AIMessage(content='Okay, the doctor is available at 12:00 PM on June 6th. Do you want me to update your appointment to that time?', additional_kwargs={}, response_metadata={'prompt_feedback': {'block_reason': 0, 'safety_ratings': []}, 'finish_reason': 'STOP', 'model_name': 'gemini-2.0-flash-001', 'safety_ratings': []}, id='run--5caca17d-497f-4cab-90ac-c31b0cb370b0-0', usage_metadata={'input_tokens': 892, 'output_tokens': 32, 'total_tokens': 924, 'input_token_details': {'cache_read': 0}})}}\n"
     ]
    }
   ],
   "source": [
    "inputs = {\"messages\": [{\"role\": \"user\", \"content\": \"i want to shedule at 12 PM noon 6 th June\"}]}\n",
    "for chunk in graph_update.stream(inputs, thread, stream_mode=\"updates\"):\n",
    "    print(chunk)"
   ]
  },
  {
   "cell_type": "code",
   "execution_count": 97,
   "id": "1088221c",
   "metadata": {},
   "outputs": [
    {
     "name": "stderr",
     "output_type": "stream",
     "text": [
      "Key 'example' is not supported in schema, ignoring\n",
      "Key 'example' is not supported in schema, ignoring\n"
     ]
    },
    {
     "name": "stdout",
     "output_type": "stream",
     "text": [
      "{'assistant': {'messages': AIMessage(content='', additional_kwargs={'function_call': {'name': 'update_appointment', 'arguments': '{\"date\": \"2025-06-06\", \"time\": \"12:00\", \"appointment_id\": 4.0}'}}, response_metadata={'prompt_feedback': {'block_reason': 0, 'safety_ratings': []}, 'finish_reason': 'STOP', 'model_name': 'gemini-2.0-flash-001', 'safety_ratings': []}, id='run--7db664e6-4329-42ca-9697-b8599f869a6d-0', tool_calls=[{'name': 'update_appointment', 'args': {'date': '2025-06-06', 'time': '12:00', 'appointment_id': 4.0}, 'id': '808993d5-7efa-4e9b-ac05-07d307cee94f', 'type': 'tool_call'}], usage_metadata={'input_tokens': 927, 'output_tokens': 24, 'total_tokens': 951, 'input_token_details': {'cache_read': 0}})}}\n",
      "{'tools': {'messages': [ToolMessage(content='{\"success\": true, \"message\": \"Appointment updated successfully.\"}', name='update_appointment', id='7e92cb01-3328-4589-8836-3dfb90c57639', tool_call_id='808993d5-7efa-4e9b-ac05-07d307cee94f')]}}\n",
      "{'assistant': {'messages': AIMessage(content='Your appointment has been updated to June 6th at 12:00 PM. Is there anything else I can help you with?', additional_kwargs={}, response_metadata={'prompt_feedback': {'block_reason': 0, 'safety_ratings': []}, 'finish_reason': 'STOP', 'model_name': 'gemini-2.0-flash-001', 'safety_ratings': []}, id='run--c51df290-ef2e-4d65-8a86-07862897e43b-0', usage_metadata={'input_tokens': 961, 'output_tokens': 30, 'total_tokens': 991, 'input_token_details': {'cache_read': 0}})}}\n"
     ]
    }
   ],
   "source": [
    "inputs = {\"messages\": [{\"role\": \"user\", \"content\": \"yes update that\"}]}\n",
    "for chunk in graph_update.stream(inputs, thread, stream_mode=\"updates\"):\n",
    "    print(chunk)"
   ]
  },
  {
   "cell_type": "code",
   "execution_count": 98,
   "id": "008e553a",
   "metadata": {},
   "outputs": [
    {
     "name": "stdout",
     "output_type": "stream",
     "text": [
      "(1, '10:00', '2025-06-06', 1, 1)\n",
      "(3, '14:00', '2025-06-07', 3, 3)\n",
      "(4, '12:00', '2025-06-06', 1, 1)\n"
     ]
    }
   ],
   "source": [
    "# check whether the database is updated\n",
    "\n",
    "conn = sqlite3.connect(DB_PATH) \n",
    "cursor = conn.cursor()\n",
    "\n",
    "for row in cursor.execute(\"SELECT * FROM Appointment\"):\n",
    "    print(row)"
   ]
  },
  {
   "cell_type": "code",
   "execution_count": 29,
   "id": "80a25b6f",
   "metadata": {},
   "outputs": [
    {
     "data": {
      "text/plain": [
       "'2.10.3'"
      ]
     },
     "execution_count": 29,
     "metadata": {},
     "output_type": "execute_result"
    }
   ],
   "source": [
    "from pydantic import __version__\n",
    "__version__"
   ]
  },
  {
   "cell_type": "markdown",
   "id": "0cebb346",
   "metadata": {},
   "source": [
    "### 9. Handling the multi agent systems\n",
    "\n",
    "When pass to the other agent the primary agent (Supervisor) ensure that all the data is gathered to pass to the specialized agent.\n",
    "\n",
    "1. reschedule : reschedule an appointment based on the user booked id and the doctor availability \n",
    "2. cancel : cancel an appointment based on user provide appoinment id\n",
    "3. new : book an new appointment based on user time and the doctor availability \n",
    "\n",
    "these are the 3 main agent state "
   ]
  },
  {
   "cell_type": "code",
   "execution_count": 41,
   "id": "393aa309",
   "metadata": {},
   "outputs": [],
   "source": [
    "from typing import Callable\n",
    "from langchain_core.messages import ToolMessage\n",
    "\n",
    "# create a entry node for each of the specialized agents\n",
    "def create_entry_node(assistant_name: str, new_dialog_state: str) -> Callable:\n",
    "    def entry_node(state: State) -> dict:\n",
    "        tool_call_id = state[\"messages\"][-1].tool_calls[0][\"id\"]\n",
    "        return {\n",
    "            \"messages\": [\n",
    "                ToolMessage(\n",
    "                    content=f\"The assistant is now the {assistant_name}. Reflect on the above conversation between the host assistant and the user.\"\n",
    "                    f\" The user's intent is unsatisfied. Use the provided tools to assist the user. Remember, you are {assistant_name},\"\n",
    "                    \" and the booking, update, other other action is not complete until after you have successfully invoked the appropriate tool.\"\n",
    "                    \" If the user changes their mind or needs help for other tasks, call the CompleteOrEscalate function to let the primary host assistant take control.\"\n",
    "                    \" Do not mention who you are - just act as the proxy for the assistant.\",\n",
    "                    tool_call_id=tool_call_id,\n",
    "                )\n",
    "            ],\n",
    "            \"dialog_state\": new_dialog_state,\n",
    "        }\n",
    "\n",
    "    return entry_node"
   ]
  },
  {
   "cell_type": "markdown",
   "id": "ed31748b",
   "metadata": {},
   "source": [
    "### 10. Make tools for call by the primary agent \n",
    "\n",
    "This tool will deside the paths of the agent"
   ]
  },
  {
   "cell_type": "code",
   "execution_count": 42,
   "id": "3388f07f",
   "metadata": {},
   "outputs": [],
   "source": [
    "from pydantic import BaseModel, Field\n",
    "\n",
    "# this tool is called when the supervisor deside to hand over to the reshedule agent\n",
    "class RescheduleAppointment(BaseModel):\n",
    "    \"\"\"Transfers work to a specialized assistant to reschedule the appointment with a doctor.\"\"\"\n",
    "    request: str = Field(\n",
    "        description=\"Any necessary follow-up questions the reschedule assistant should clarify before proceeding.\"\n",
    "    )\n",
    "\n",
    "class CancelAppointment(BaseModel):\n",
    "    \"\"\"Transfers work to a specialized assistant to cancel an appointment with a doctor.\"\"\"\n",
    "    request: str = Field(\n",
    "        description=\"Any necessary follow-up questions the cancellation assistant should clarify before proceeding.\"\n",
    "    )\n",
    "\n",
    "class NewAppointment(BaseModel):\n",
    "    \"\"\"Transfers work to a specialized assistant to book a new appointment with a doctor.\"\"\"\n",
    "    request: str = Field(\n",
    "        description=\"Any necessary follow-up questions the booking assistant should clarify before proceeding.\"\n",
    "    )"
   ]
  },
  {
   "cell_type": "code",
   "execution_count": 43,
   "id": "8e4a1aaf",
   "metadata": {},
   "outputs": [],
   "source": [
    "from langchain_core.prompts import ChatPromptTemplate\n",
    "from datetime import datetime\n",
    "\n",
    "primary_assistant_prompt = ChatPromptTemplate.from_messages(\n",
    "    [\n",
    "        (\n",
    "            \"system\",\n",
    "            \"You are a helpful customer support assistant for a medical clinic. \"\n",
    "            \"Your primary role is to answer general inquiries and assist with doctor availability and appointment information. \"\n",
    "            \"If a user wants to book a new appointment, cancel an existing one, or reschedule, \"\n",
    "            \"quietly delegate the task to the appropriate specialized assistant using the correct tool. \"\n",
    "            \"You do not handle bookings or cancellations directly—only the specialized assistants have that permission.\"\n",
    "            \"The user is unaware of these assistants, so do not mention them—just make the necessary function call quietly.\"\n",
    "            \"Always verify details and be thorough in providing accurate and helpful information.\"\n",
    "            \"\\nCurrent time: {time}.\",\n",
    "        ),\n",
    "        (\"placeholder\", \"{messages}\"),\n",
    "    ]\n",
    ").partial(time=datetime.now)\n",
    "\n",
    "# tools that are with primary assistant\n",
    "primary_assistant_tools = [NewAppointment,\n",
    "                            CancelAppointment,\n",
    "                            RescheduleAppointment,\n",
    "                            check_doctor_availability, \n",
    "                            search_for_doctor,]\n",
    "# Specialized assistants for appointment management\n",
    "primary_assistant_runnable = primary_assistant_prompt | llm.bind_tools(primary_assistant_tools)"
   ]
  },
  {
   "cell_type": "code",
   "execution_count": 44,
   "id": "8f6fa269",
   "metadata": {},
   "outputs": [],
   "source": [
    "# This node will be shared for exiting all specialized assistants\n",
    "# this node will share when it leave the skill and when it called it set state as \n",
    "def pop_dialog_state(state: State) -> dict:\n",
    "    \"\"\"Pop the dialog stack and return to the main assistant.\n",
    "\n",
    "    This lets the full graph explicitly track the dialog flow and delegate control\n",
    "    to specific sub-graphs.\n",
    "    \"\"\"\n",
    "    messages = []\n",
    "    if state[\"messages\"][-1].tool_calls:\n",
    "        # Note: Doesn't currently handle the edge case where the llm performs parallel tool calls\n",
    "        messages.append(\n",
    "            ToolMessage(\n",
    "                content=\"Resuming dialog with the host assistant. Please reflect on the past conversation and assist the user as needed.\",\n",
    "                tool_call_id=state[\"messages\"][-1].tool_calls[0][\"id\"],\n",
    "            )\n",
    "        )\n",
    "    return {\n",
    "        \"dialog_state\": \"pop\",\n",
    "        \"messages\": messages,\n",
    "    }"
   ]
  },
  {
   "cell_type": "code",
   "execution_count": 45,
   "id": "4f271455",
   "metadata": {},
   "outputs": [],
   "source": [
    "# condition for primary assistant routing\n",
    "def route_primary_assistant(\n",
    "    state: State,\n",
    "):\n",
    "    route = tools_condition(state)\n",
    "    if route == END:\n",
    "        return END\n",
    "    tool_calls = state[\"messages\"][-1].tool_calls\n",
    "    if tool_calls:\n",
    "        if tool_calls[0][\"name\"] == RescheduleAppointment.__name__:\n",
    "            return \"enter_reschedule_appointment\"\n",
    "        elif tool_calls[0][\"name\"] == CancelAppointment.__name__:\n",
    "            return \"enter_cancel_appointment\"\n",
    "        elif tool_calls[0][\"name\"] == NewAppointment.__name__:\n",
    "            return \"enter_new_appointment\"\n",
    "        return \"primary_assistant_tools\"\n",
    "    raise ValueError(\"Invalid route\")"
   ]
  },
  {
   "cell_type": "markdown",
   "id": "7a17e02d",
   "metadata": {},
   "source": [
    "### 11. User info node (condition and the node)\n",
    "\n",
    "This node use to route back to the correct workflow again when user again start the graph"
   ]
  },
  {
   "cell_type": "code",
   "execution_count": 46,
   "id": "04156bc2",
   "metadata": {},
   "outputs": [],
   "source": [
    "from typing import Annotated, Literal, Optional\n",
    "\n",
    "# condition to route again to current work flow from the start\n",
    "# this condition is checked at the user info node and route to correct node\n",
    "def route_to_workflow(\n",
    "    state: State,\n",
    ") -> Literal[\n",
    "    \"primary_assistant\",\n",
    "    \"reschedule\",\n",
    "    \"cancel\",\n",
    "    \"new\",\n",
    "]:\n",
    "    \"\"\"If we are in a delegated state, route directly to the appropriate assistant.\"\"\"\n",
    "    dialog_state = state.get(\"dialog_state\")\n",
    "    if not dialog_state:\n",
    "        return \"primary_assistant\"\n",
    "    return dialog_state[-1]\n",
    "\n",
    "def user_info(state: State):\n",
    "    # this node is responsible to route to the relavant workflow\n",
    "    current_dialog_state = state.get(\"dialog_state\")\n",
    "    # simply get the state and set it back to the state\n",
    "    return {\"dialog_state\":current_dialog_state}"
   ]
  },
  {
   "cell_type": "markdown",
   "id": "ac423353",
   "metadata": {},
   "source": [
    "### 12. Make the connections to all agents\n",
    "\n",
    "This contain the all the connection between Supervisor and the specialized agents"
   ]
  },
  {
   "cell_type": "code",
   "execution_count": 49,
   "id": "90d11daa",
   "metadata": {},
   "outputs": [
    {
     "data": {
      "image/png": "[encoded data removed]",
      "text/plain": [
       "<IPython.core.display.Image object>"
      ]
     },
     "metadata": {},
     "output_type": "display_data"
    }
   ],
   "source": [
    "# make the simple graph to test the functionality\n",
    "all_graph_builder = StateGraph(State)\n",
    "\n",
    "# add nodes\n",
    "all_graph_builder.add_node(\"user_info\", user_info)\n",
    "all_graph_builder.add_node(\"primary_assistant\", Assistant(primary_assistant_runnable))\n",
    "\n",
    "# make a entry node to the new appointment\n",
    "all_graph_builder.add_node(\"enter_new_appointment\", create_entry_node(\"new_appointment\", \"new\"))\n",
    "all_graph_builder.add_node(\"enter_cancel_appointment\", create_entry_node(\"cancel_appointment\", \"cancel\"))\n",
    "all_graph_builder.add_node(\"enter_reschedule_appointment\", create_entry_node(\"reschedule_appointment\", \"reschedule\"))\n",
    "all_graph_builder.add_node(\"primary_assistant_tools\", ToolNode(primary_assistant_tools))\n",
    "\n",
    "# add the entry level connections to primary assistant\n",
    "all_graph_builder.add_edge(START, \"user_info\")\n",
    "all_graph_builder.add_edge(\"user_info\", \"primary_assistant\")\n",
    "all_graph_builder.add_conditional_edges(\"primary_assistant\", route_primary_assistant,\n",
    "                                        [\"primary_assistant_tools\",\n",
    "                                         \"enter_new_appointment\",\n",
    "                                         \"enter_cancel_appointment\",\n",
    "                                         \"enter_reschedule_appointment\",\n",
    "                                         END])\n",
    "\n",
    "all_graph_builder.add_edge(\"primary_assistant_tools\", \"primary_assistant\")\n",
    "all_graph_builder.add_edge(\"enter_new_appointment\", END)\n",
    "all_graph_builder.add_edge(\"enter_cancel_appointment\", END)\n",
    "all_graph_builder.add_edge(\"enter_reschedule_appointment\", END)\n",
    "\n",
    "memory_update = MemorySaver()\n",
    "all_graph = all_graph_builder.compile(checkpointer=memory_update)\n",
    "\n",
    "from IPython.display import Image, display\n",
    "\n",
    "try:\n",
    "    display(Image(all_graph.get_graph().draw_mermaid_png()))\n",
    "except Exception:\n",
    "    pass"
   ]
  },
  {
   "cell_type": "code",
   "execution_count": 50,
   "id": "0e1537aa",
   "metadata": {},
   "outputs": [],
   "source": [
    "def _print_event(event: dict, _printed: set, max_length=1500):\n",
    "    current_state = event.get(\"dialog_state\")\n",
    "    if current_state:\n",
    "        print(\"Currently in: \", current_state[-1])\n",
    "    message = event.get(\"messages\")\n",
    "    if message:\n",
    "        if isinstance(message, list):\n",
    "            message = message[-1]\n",
    "        if message.id not in _printed:\n",
    "            msg_repr = message.pretty_repr(html=True)\n",
    "            if len(msg_repr) > max_length:\n",
    "                msg_repr = msg_repr[:max_length] + \" ... (truncated)\"\n",
    "            print(msg_repr)\n",
    "            _printed.add(message.id)"
   ]
  },
  {
   "cell_type": "code",
   "execution_count": 52,
   "id": "a381f196",
   "metadata": {},
   "outputs": [
    {
     "name": "stdout",
     "output_type": "stream",
     "text": [
      "Currently in:  cancel\n",
      "================================\u001b[1m Human Message \u001b[0m=================================\n",
      "\n",
      "hello, how are you?\n",
      "Currently in:  [[], 'cancel']\n",
      "Currently in:  [[], 'cancel']\n",
      "==================================\u001b[1m Ai Message \u001b[0m==================================\n",
      "\n",
      "I am doing well, thank you for asking. How can I assist you today?\n"
     ]
    }
   ],
   "source": [
    "thread = {\"configurable\": {\"thread_id\": \"2\"}}\n",
    "inputs = {\"messages\": [{\"role\": \"user\", \"content\": \"hello, how are you?\"}]}\n",
    "\n",
    "_printed = set()\n",
    "for event in all_graph.stream(inputs, thread, stream_mode=\"values\"):\n",
    "    _print_event(event, _printed)"
   ]
  },
  {
   "cell_type": "code",
   "execution_count": null,
   "id": "27e5273e",
   "metadata": {},
   "outputs": [],
   "source": []
  }
 ],
 "metadata": {
  "kernelspec": {
   "display_name": "torchenv",
   "language": "python",
   "name": "python3"
  },
  "language_info": {
   "codemirror_mode": {
    "name": "ipython",
    "version": 3
   },
   "file_extension": ".py",
   "mimetype": "text/x-python",
   "name": "python",
   "nbconvert_exporter": "python",
   "pygments_lexer": "ipython3",
   "version": "3.12.3"
  }
 },
 "nbformat": 4,
 "nbformat_minor": 5
}
