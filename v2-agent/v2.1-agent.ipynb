{
 "cells": [
  {
   "cell_type": "markdown",
   "id": "0dd644ff",
   "metadata": {},
   "source": [
    "## Doctor appointment booking System\n",
    "\n",
    "This chat agent can interact with users and perform the following tasks:\n",
    "\n",
    "    1. Select a doctor and choose a time slot for booking\n",
    "\n",
    "    2. Cancel a booked appointment\n",
    "\n",
    "    3. Reschedule a booked appointment based on availability\n",
    "\n",
    "    4. Search for doctor details filtered by name, availability, specialty, and location"
   ]
  },
  {
   "cell_type": "markdown",
   "id": "609d1a78",
   "metadata": {},
   "source": [
    "### 1. Connect with Gemini API\n",
    "\n",
    "connect to the llm using google api key."
   ]
  },
  {
   "cell_type": "code",
   "execution_count": 54,
   "id": "59d6afab",
   "metadata": {},
   "outputs": [],
   "source": [
    "from langchain_groq import ChatGroq\n",
    "from langchain_core.prompts import ChatPromptTemplate\n",
    "# Initialize Groq LLM\n",
    "primary_llm = ChatGroq(\n",
    "    api_key=\"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\",\n",
    "    model_name=\"qwen-qwq-32b\",\n",
    "    temperature=0.0\n",
    "\n",
    ")\n",
    "\n",
    "llm = ChatGroq(\n",
    "    api_key=\"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\",\n",
    "    model_name=\"qwen-qwq-32b\",\n",
    "    temperature=0.0\n",
    "\n",
    ")"
   ]
  },
  {
   "cell_type": "code",
   "execution_count": 1,
   "id": "df5698ae",
   "metadata": {},
   "outputs": [],
   "source": [
    "# connect with gemini api\n",
    "import getpass\n",
    "import os\n",
    "\n",
    "if \"GOOGLE_API_KEY\" not in os.environ:\n",
    "    os.environ[\"GOOGLE_API_KEY\"] = getpass.getpass(\"Enter your Google AI API key: \")"
   ]
  },
  {
   "cell_type": "code",
   "execution_count": 129,
   "id": "ca85ca11",
   "metadata": {},
   "outputs": [],
   "source": [
    "# initialize llm chat model\n",
    "from langchain_google_genai import ChatGoogleGenerativeAI\n",
    "from google.genai.types import GenerateContentConfig\n",
    "\n",
    "\n",
    "system_instruction = \"\"\"\n",
    "                        You are a phone-agent assistant.  \n",
    "                        \n",
    "                        Keep all messages very short—just a single question or one answer.  \n",
    "                        \n",
    "                        Act as if you’re on a live call: no long explanations or chit-chat.  \n",
    "                        \n",
    "                        Always reference prior chat context and stay aligned with the conversation.  \n",
    "                        \n",
    "                    \"\"\"\n",
    "\n",
    "llm = ChatGoogleGenerativeAI(\n",
    "    model=\"gemini-2.5-flash-preview-05-20\",\n",
    "    temperature=0,\n",
    "    max_tokens=None,\n",
    "    timeout=None,\n",
    "    max_retries=2,\n",
    "    config=GenerateContentConfig(\n",
    "        system_instruction=system_instruction,\n",
    "    ),\n",
    "    # other params...\n",
    ")"
   ]
  },
  {
   "cell_type": "code",
   "execution_count": 130,
   "id": "7368d62f",
   "metadata": {},
   "outputs": [],
   "source": [
    "from langchain_core.messages import HumanMessage, SystemMessage,AIMessage,ToolMessage"
   ]
  },
  {
   "cell_type": "code",
   "execution_count": 119,
   "id": "ad830f71",
   "metadata": {},
   "outputs": [],
   "source": [
    "state = {'messages': [HumanMessage(content='I want to book appoinment to Dr. Janith', additional_kwargs={}, response_metadata={}, id='8bf76a63-ef22-40b0-b7ba-4b2d8c62cb53'), \n",
    "             AIMessage(content='', additional_kwargs={'function_call': {'name': 'search_for_doctor', 'arguments': '{\"name\": \"Janith\"}'}}, response_metadata={'prompt_feedback': {'block_reason': 0, 'safety_ratings': []}, 'finish_reason': 'STOP', 'model_name': 'models/gemini-2.5-flash-preview-05-20', 'safety_ratings': []}, id='run--bb97b3b5-62d0-4cfd-96b9-1c427aec32fa-0', tool_calls=[{'name': 'search_for_doctor', 'args': {'name': 'Janith'}, 'id': '33d70430-2f84-41ad-a590-0c93580275cd', 'type': 'tool_call'}], usage_metadata={'input_tokens': 855, 'output_tokens': 18, 'total_tokens': 933, 'input_token_details': {'cache_read': 0}}), \n",
    "             ToolMessage(content='[]', name='search_for_doctor', id='af6bb926-9806-4553-9d69-910894c4f2d0', tool_call_id='33d70430-2f84-41ad-a590-0c93580275cd'), \n",
    "             AIMessage(content=\"I can't find a doctor with that name. Is there another doctor you are looking for?\")] } # type: ignore"
   ]
  },
  {
   "cell_type": "code",
   "execution_count": 120,
   "id": "479931ed",
   "metadata": {},
   "outputs": [
    {
     "name": "stdout",
     "output_type": "stream",
     "text": [
      "[HumanMessage(content='I want to book appoinment to Dr. Janith', additional_kwargs={}, response_metadata={}, id='8bf76a63-ef22-40b0-b7ba-4b2d8c62cb53'), ToolMessage(content='[]', name='search_for_doctor', id='af6bb926-9806-4553-9d69-910894c4f2d0', tool_call_id='33d70430-2f84-41ad-a590-0c93580275cd'), AIMessage(content=\"I can't find a doctor with that name. Is there another doctor you are looking for?\", additional_kwargs={}, response_metadata={})]\n"
     ]
    }
   ],
   "source": [
    "messages = state['messages'][:]\n",
    "# get the filtered messages\n",
    "filtered_messages = []\n",
    "# traverse all the messages and remove the if it content is ''\n",
    "for i, msg in enumerate(messages):\n",
    "    is_last = (i == len(messages) - 1)\n",
    "    if isinstance(msg, AIMessage):\n",
    "        if msg.content != '' or is_last:\n",
    "            filtered_messages.append(msg)\n",
    "    else:\n",
    "        filtered_messages.append(msg)\n",
    "\n",
    "print(filtered_messages)"
   ]
  },
  {
   "cell_type": "markdown",
   "id": "da302890",
   "metadata": {},
   "source": [
    "### 2. State and Assistant class\n",
    "\n",
    "This class is used to define specialized assistants based on each tasks"
   ]
  },
  {
   "cell_type": "code",
   "execution_count": 149,
   "id": "ba5a6748",
   "metadata": {},
   "outputs": [],
   "source": [
    "from typing import Annotated\n",
    "from typing import Annotated, Literal, Optional\n",
    "\n",
    "from langchain_community.tools.tavily_search import TavilySearchResults\n",
    "from langchain_core.prompts import ChatPromptTemplate\n",
    "from langchain_core.runnables import Runnable, RunnableConfig\n",
    "from typing_extensions import TypedDict\n",
    "\n",
    "from langgraph.graph.message import AnyMessage, add_messages\n",
    "\n",
    "# this method is used to update the current state of the graph\n",
    "# this state is updated when the entry of the sub agent and when leave the skill state is updated\n",
    "def update_dialog_stack(left: list[str], right: Optional[str]) -> list[str]:\n",
    "    \"\"\"Push or pop the state.\"\"\"\n",
    "    if right is None:\n",
    "        return left\n",
    "    if right == \"pop\":\n",
    "        return left[:-1]\n",
    "    return left + [right]\n",
    "\n",
    "# state of the graph\n",
    "class State(TypedDict):\n",
    "    messages: Annotated[list[AnyMessage], add_messages]\n",
    "    dialog_state: Annotated[\n",
    "        list[\n",
    "            Literal[\n",
    "                \"primary_assistant\",\n",
    "                \"reschedule\",\n",
    "                \"cancel\",\n",
    "                \"new\",\n",
    "            ]\n",
    "        ],\n",
    "        update_dialog_stack,\n",
    "    ]\n",
    "    user_name: str # name of the current user\n",
    "    user_id: str # id of the current user\n",
    "\n",
    "from langchain_core.messages import HumanMessage, AIMessage\n",
    "\n",
    "class Assistant:\n",
    "    def __init__(self, runnable: Runnable):\n",
    "        self.runnable = runnable\n",
    "\n",
    "    def __call__(self, state: State, config: RunnableConfig):\n",
    "        while True:\n",
    "            # Create a shallow copy of the messages\n",
    "            messages = state['messages'][:]\n",
    "\n",
    "            # Filter and fix empty AI messages\n",
    "            filtered_messages = []\n",
    "            for i, msg in enumerate(messages):\n",
    "                if isinstance(msg, AIMessage):\n",
    "                    if msg.content == '':\n",
    "                        # Replace empty content with a placeholder\n",
    "                        msg.content = 'Tool called'\n",
    "                    filtered_messages.append(msg)\n",
    "                else:\n",
    "                    filtered_messages.append(msg)\n",
    "\n",
    "            # Update state\n",
    "            state = {**state, \"messages\": filtered_messages}\n",
    "\n",
    "            # Invoke the LLM/toolchain\n",
    "            result = self.runnable.invoke(state)\n",
    "\n",
    "            # Check if the result is empty or unhelpful\n",
    "            if not result.tool_calls and (\n",
    "                not result.content\n",
    "                or (isinstance(result.content, list) and (not result.content or not result.content[0].get(\"text\")))\n",
    "            ):\n",
    "                # Prompt the model again with a direct message\n",
    "                filtered_messages.append(HumanMessage(content=\"Respond with a real output.\"))\n",
    "                state = {**state, \"messages\": filtered_messages}\n",
    "            else:\n",
    "                break\n",
    "\n",
    "        return {\"messages\": filtered_messages + [result], \"dialog_state\": None}\n"
   ]
  },
  {
   "cell_type": "markdown",
   "id": "d5974f52",
   "metadata": {},
   "source": [
    "### 3. Completion of task and hand over to other assistant\n",
    "\n",
    "This tool is called when the task is completed or the user intend to go another task"
   ]
  },
  {
   "cell_type": "code",
   "execution_count": 150,
   "id": "aa1bc6e1",
   "metadata": {},
   "outputs": [],
   "source": [
    "from pydantic import BaseModel, Field\n",
    "\n",
    "class CompleteOrEscalate(BaseModel):\n",
    "    \"\"\"A tool to mark the current task as completed and/or to escalate control of the dialog to the main assistant,\n",
    "    who can re-route the dialog based on the user's needs.\"\"\"\n",
    "\n",
    "    cancel: bool = True\n",
    "    reason: str\n",
    "\n",
    "    class Config:\n",
    "        json_schema_extra = {\n",
    "            \"example\": {\n",
    "                \"cancel\": True,\n",
    "                \"reason\": \"User changed their mind about the current task.\",\n",
    "            },\n",
    "            \"example 2\": {\n",
    "                \"cancel\": True,\n",
    "                \"reason\": \"I have fully completed the task.\",\n",
    "            },\n",
    "            \"example 3\": {\n",
    "                \"cancel\": False,\n",
    "                \"reason\": \"I need to search the user's emails or calendar for more information.\",\n",
    "            },\n",
    "        }\n",
    "\n",
    "# error comes because of gemini models\n",
    "# reported issue in github\n",
    "# from langchain_core.utils.function_calling import convert_to_openai_function\n",
    "# CompleteOrEscalate = convert_to_openai_function(CompleteOrEscalate)\n"
   ]
  },
  {
   "cell_type": "markdown",
   "id": "7e190eba",
   "metadata": {},
   "source": [
    "### 4. Create DataBase and insert sample data to that\n",
    "\n",
    "This make a database and add some sample data "
   ]
  },
  {
   "cell_type": "code",
   "execution_count": 151,
   "id": "a2cfa6e9",
   "metadata": {},
   "outputs": [],
   "source": [
    "DB_PATH = \"hospital3.db\""
   ]
  },
  {
   "cell_type": "code",
   "execution_count": null,
   "id": "10a30ace",
   "metadata": {},
   "outputs": [],
   "source": [
    "import sqlite3\n",
    "from datetime import datetime\n",
    "\n",
    "# Step 1: Connect\n",
    "DB_PATH = \"hospital3.db\"\n",
    "conn = sqlite3.connect(DB_PATH) \n",
    "cursor = conn.cursor()\n",
    "\n",
    "# Step 2: Create tables\n",
    "cursor.execute(\"\"\"\n",
    "CREATE TABLE Doctor (\n",
    "    Doctor_ID INTEGER PRIMARY KEY AUTOINCREMENT,\n",
    "    Doctor_Name TEXT,\n",
    "    Specialization TEXT,\n",
    "    Location TEXT,\n",
    "    Rating REAL\n",
    ")\n",
    "\"\"\")\n",
    "\n",
    "cursor.execute(\"\"\"\n",
    "CREATE TABLE Patient (\n",
    "    Patient_ID INTEGER PRIMARY KEY AUTOINCREMENT,\n",
    "    Patient_Name TEXT,\n",
    "    Age INTEGER\n",
    ")\n",
    "\"\"\")\n",
    "\n",
    "cursor.execute(\"\"\"\n",
    "CREATE TABLE Appointment (\n",
    "    Appointment_ID INTEGER PRIMARY KEY AUTOINCREMENT,\n",
    "    Appointment_Time TEXT,\n",
    "    Appointment_Date TEXT,\n",
    "    Doctor_ID INTEGER,\n",
    "    Patient_ID INTEGER,\n",
    "    FOREIGN KEY (Doctor_ID) REFERENCES Doctor(Doctor_ID),\n",
    "    FOREIGN KEY (Patient_ID) REFERENCES Patient(Patient_ID)\n",
    ")\n",
    "\"\"\")\n",
    "\n",
    "# Insert data into Doctor and Patient tables\n",
    "doctors = [\n",
    "    (\"Dr. Alice Smith\", \"Cardiology\", \"New York\", 4.7),\n",
    "    (\"Dr. Bob Johnson\", \"Neurology\", \"Los Angeles\", 4.5),\n",
    "    (\"Dr. Clara Lee\", \"Pediatrics\", \"Chicago\", 4.8)\n",
    "]\n",
    "\n",
    "patients = [\n",
    "    (\"John Doe\", 30),\n",
    "    (\"Emily Davis\", 25),\n",
    "    (\"Michael Brown\", 45)\n",
    "]\n",
    "\n",
    "cursor.executemany(\"INSERT INTO Doctor (Doctor_Name, Specialization, Location, Rating) VALUES (?, ?, ?, ?)\", doctors)\n",
    "cursor.executemany(\"INSERT INTO Patient (Patient_Name, Age) VALUES (?, ?)\", patients)\n",
    "\n",
    "# Retrieve IDs\n",
    "cursor.execute(\"SELECT Doctor_ID FROM Doctor ORDER BY Doctor_ID\")\n",
    "doctor_ids = [row[0] for row in cursor.fetchall()]\n",
    "\n",
    "cursor.execute(\"SELECT Patient_ID FROM Patient ORDER BY Patient_ID\")\n",
    "patient_ids = [row[0] for row in cursor.fetchall()]\n",
    "\n",
    "# Insert into Appointment table\n",
    "appointments = [\n",
    "    (\"10:00\", \"2025-06-06\", doctor_ids[0], patient_ids[0]),\n",
    "    (\"11:30\", \"2025-06-06\", doctor_ids[1], patient_ids[1]),\n",
    "    (\"14:00\", \"2025-06-07\", doctor_ids[2], patient_ids[2])\n",
    "]\n",
    "\n",
    "cursor.executemany(\"\"\"\n",
    "    INSERT INTO Appointment (Appointment_Time, Appointment_Date, Doctor_ID, Patient_ID)\n",
    "    VALUES (?, ?, ?, ?)\n",
    "\"\"\", appointments)\n",
    "\n",
    "# Step 4: Commit and verify\n",
    "conn.commit()\n",
    "\n",
    "# Print the data\n",
    "for row in cursor.execute(\"SELECT * FROM Appointment\"):\n",
    "    print(row)\n",
    "\n",
    "# Close connection\n",
    "conn.close()"
   ]
  },
  {
   "cell_type": "markdown",
   "id": "3ddf691c",
   "metadata": {},
   "source": [
    "### 5. Tools for searching a Doctor and book an Appointment"
   ]
  },
  {
   "cell_type": "code",
   "execution_count": 152,
   "id": "67e34c3f",
   "metadata": {},
   "outputs": [],
   "source": [
    "from langchain_core.tools import tool\n",
    "from typing import Optional, Dict, List\n",
    "import sqlite3\n",
    "import json\n",
    "\n",
    "# Tool to search for a doctor by name\n",
    "@tool\n",
    "def search_for_doctor(name: Optional[str] = None) -> List[Dict]:\n",
    "    \"\"\"\n",
    "    Search for doctors by name (or return all if name is None).\n",
    "\n",
    "    Args:\n",
    "        name (Optional[str]): The partial or full name of the doctor.\n",
    "\n",
    "    Returns:\n",
    "        List[Dict]: Doctors matching the search criteria.\n",
    "    \"\"\"\n",
    "    conn = sqlite3.connect(DB_PATH)\n",
    "    conn.row_factory = sqlite3.Row\n",
    "    cursor = conn.cursor()\n",
    "\n",
    "    if name:\n",
    "        cursor.execute(\"\"\"\n",
    "            SELECT * FROM Doctor WHERE Doctor_Name LIKE ?\n",
    "        \"\"\", (f\"%{name}%\",))\n",
    "    else:\n",
    "        cursor.execute(\"SELECT * FROM Doctor\")\n",
    "\n",
    "    results = [dict(row) for row in cursor.fetchall()]\n",
    "    conn.close()\n",
    "    return json.dumps(results)\n",
    "\n",
    "# Tool to check a doctor's availability at a given date and time\n",
    "@tool\n",
    "def check_doctor_availability(doctor_id: int, date: str, time: str) -> Dict:\n",
    "    \"\"\"\n",
    "    Check if a doctor is available at a given date and time.\n",
    "\n",
    "    Args:\n",
    "        doctor_id (int): The ID of the doctor.\n",
    "        date (str): Date of the appointment in 'YYYY-MM-DD' format.\n",
    "        time (str): Time of the appointment (e.g., '10:00').\n",
    "\n",
    "    Returns:\n",
    "        Dict: {\"available\": True/False}\n",
    "    \"\"\"\n",
    "    conn = sqlite3.connect(DB_PATH)\n",
    "    cursor = conn.cursor()\n",
    "\n",
    "    cursor.execute(\"\"\"\n",
    "        SELECT 1 FROM Appointment\n",
    "        WHERE Doctor_ID = ? AND Appointment_Date = ? AND Appointment_Time = ?\n",
    "    \"\"\", (doctor_id, date, time))\n",
    "\n",
    "    result = cursor.fetchone()\n",
    "    available = result is None\n",
    "    conn.close()\n",
    "\n",
    "    return json.dumps({\"available\": \"doctor is available \"+ str(available)})\n",
    "\n",
    "# Tool for book an appoinment and add to the database\n",
    "@tool\n",
    "def book_appointment(user_id: int, doctor_id: int, date: str, time: str) -> Dict:\n",
    "    \"\"\"\n",
    "    Book an appointment with a doctor if available at the given date and time.\n",
    "\n",
    "    Args:\n",
    "        user_id (int): The ID of the patient.\n",
    "        doctor_id (int): The ID of the doctor.\n",
    "        date (str): Appointment date in 'YYYY-MM-DD' format.\n",
    "        time (str): Appointment time in 'HH:MM' format.\n",
    "\n",
    "    Returns:\n",
    "        Dict: {\"success\": True/False, \"message\": str}\n",
    "    \"\"\"\n",
    "    conn = sqlite3.connect(DB_PATH)\n",
    "    cursor = conn.cursor()\n",
    "\n",
    "    # Check if doctor is available\n",
    "    cursor.execute(\"\"\"\n",
    "        SELECT 1 FROM Appointment\n",
    "        WHERE Doctor_ID = ? AND Appointment_Date = ? AND Appointment_Time = ?\n",
    "    \"\"\", (doctor_id, date, time))\n",
    "    result = cursor.fetchone()\n",
    "\n",
    "    if result:\n",
    "        conn.close()\n",
    "        return {\"success\": False, \"message\": \"Doctor is not available at this date and time.\"}\n",
    "\n",
    "    # Book appointment\n",
    "    cursor.execute(\"\"\"\n",
    "        INSERT INTO Appointment (Appointment_Time, Appointment_Date, Doctor_ID, Patient_ID)\n",
    "        VALUES (?, ?, ?, ?)\n",
    "    \"\"\", (time, date, doctor_id, user_id))\n",
    "    conn.commit()\n",
    "    conn.close()\n",
    "\n",
    "    return json.dumps({\"success\": True, \"message\": \"Appointment booked successfully.\"})\n"
   ]
  },
  {
   "cell_type": "code",
   "execution_count": 153,
   "id": "0152deb0",
   "metadata": {},
   "outputs": [],
   "source": [
    "from langchain_core.prompts import ChatPromptTemplate\n",
    "from datetime import datetime\n",
    "\n",
    "book_doctor_prompt = ChatPromptTemplate.from_messages(\n",
    "    [\n",
    "        (\n",
    "            \"system\",\n",
    "            \"You are a specialized assistant for handling doctor new appointment bookings. \"\n",
    "            \"The assistant delegates work to you whenever the user needs help finding a doctor or scheduling a new appointment. \"\n",
    "            \"Search for doctors based on the user's preferences (name, specialization, location), and check their availability for a given date and time. \"\n",
    "            \"Confirm the details with the user before attempting to book the appointment. \"\n",
    "            \"Always confirm availability before booking. \"\n",
    "            \"Do not proceed with a booking unless the relevant tool has successfully returned availability.\"\n",
    "            \"Do not invoke handoff_to_new_appointment tool.\"\n",
    "            \"\\n\\nAvailable tools:\\n\"\n",
    "            \"- `search_for_doctor`: Use this tool to find doctors based on user preferences (e.g., name, specialization, location).\\n\"\n",
    "            \"- `check_doctor_availability`: Use this tool to verify if a doctor is available at the requested date and time.\\n\"\n",
    "            \"- `book_appointment`: Use this tool to book an appointment only after confirming the user's intent and the doctor’s availability.\\n\"\n",
    "            \"- `CompleteOrEscalate`: Use this if the request is outside the scope (e.g., reschedule, cancel, insurance info, etc.).\"\n",
    "            \"\\n\\nCurrent time: {time}.\"\n",
    "            \"\\n\\nSome examples where you should CompleteOrEscalate:\\n\"\n",
    "            \" - 'I want to reschedule an appointment'\\n\"\n",
    "            \" - 'I want to cancel an appointment'\\n\"\n",
    "            \" - 'I'm looking for medical insurance info'\\n\"\n",
    "            \" - 'I want to book a hospital room'\\n\"\n",
    "            \" - 'Actually, I’ll call the clinic myself'\\n\"\n",
    "            \" - 'I want to book a flight to the hospital location first'\\n\"\n",
    "            \" - 'Doctor appointment already confirmed'\\n\",\n",
    "        ),\n",
    "        (\"placeholder\", \"{messages}\"),\n",
    "    ]\n",
    ").partial(time=datetime.now())\n",
    "\n",
    "book_appointment_tools = [check_doctor_availability, search_for_doctor, book_appointment]\n",
    "\n",
    "llm_with_book_appointment_tools = llm.bind_tools(\n",
    "    book_appointment_tools + [CompleteOrEscalate]\n",
    ")\n",
    "\n",
    "book_appointment_runnable = book_doctor_prompt | llm_with_book_appointment_tools"
   ]
  },
  {
   "cell_type": "markdown",
   "id": "e7adc251",
   "metadata": {},
   "source": [
    "### 6. Make the book appointment sub graph\n",
    "\n",
    "This sub graph is resposible for select a doctor and book an appointment "
   ]
  },
  {
   "cell_type": "code",
   "execution_count": 154,
   "id": "9a09a980",
   "metadata": {},
   "outputs": [
    {
     "data": {
      "image/png": "[encoded data removed]",
      "text/plain": [
       "<IPython.core.display.Image object>"
      ]
     },
     "metadata": {},
     "output_type": "display_data"
    }
   ],
   "source": [
    "from langgraph.checkpoint.memory import MemorySaver\n",
    "from langgraph.graph import StateGraph\n",
    "from langgraph.prebuilt import tools_condition,ToolNode\n",
    "\n",
    "# make a sample graph to check working\n",
    "graph_builder = StateGraph(State)\n",
    "\n",
    "graph_builder.add_node(\"tools\", ToolNode(book_appointment_tools))\n",
    "graph_builder.add_node(\"assistant\", Assistant(book_appointment_runnable))\n",
    "graph_builder.add_edge(\"tools\", \"assistant\")\n",
    "graph_builder.add_conditional_edges(\"assistant\", tools_condition)\n",
    "graph_builder.set_entry_point(\"assistant\")\n",
    "\n",
    "memory = MemorySaver()\n",
    "graph = graph_builder.compile(checkpointer=memory)\n",
    "\n",
    "from IPython.display import Image, display\n",
    "\n",
    "try:\n",
    "    display(Image(graph.get_graph().draw_mermaid_png()))\n",
    "except Exception:\n",
    "    # This requires some extra dependencies and is optional\n",
    "    pass"
   ]
  },
  {
   "cell_type": "code",
   "execution_count": 155,
   "id": "83741e48",
   "metadata": {},
   "outputs": [
    {
     "name": "stderr",
     "output_type": "stream",
     "text": [
      "Key 'example' is not supported in schema, ignoring\n",
      "Key 'example 2' is not supported in schema, ignoring\n",
      "Key 'example 3' is not supported in schema, ignoring\n"
     ]
    },
    {
     "name": "stdout",
     "output_type": "stream",
     "text": [
      "{'messages': [HumanMessage(content='I want to book appoinment to Dr. Janith', additional_kwargs={}, response_metadata={}, id='f663e3b0-d385-4114-9528-69f51c6adeae')], 'dialog_state': []}\n"
     ]
    },
    {
     "name": "stderr",
     "output_type": "stream",
     "text": [
      "Key 'example' is not supported in schema, ignoring\n",
      "Key 'example 2' is not supported in schema, ignoring\n",
      "Key 'example 3' is not supported in schema, ignoring\n"
     ]
    },
    {
     "name": "stdout",
     "output_type": "stream",
     "text": [
      "{'messages': [HumanMessage(content='I want to book appoinment to Dr. Janith', additional_kwargs={}, response_metadata={}, id='f663e3b0-d385-4114-9528-69f51c6adeae'), AIMessage(content='', additional_kwargs={'function_call': {'name': 'search_for_doctor', 'arguments': '{\"name\": \"Janith\"}'}}, response_metadata={'prompt_feedback': {'block_reason': 0, 'safety_ratings': []}, 'finish_reason': 'STOP', 'model_name': 'models/gemini-2.5-flash-preview-05-20', 'safety_ratings': []}, id='run--74b0969d-cce0-4ec8-8df6-f5084895f0b4-0', tool_calls=[{'name': 'search_for_doctor', 'args': {'name': 'Janith'}, 'id': 'ea0bd459-a427-4b04-b334-7512fca0ec6e', 'type': 'tool_call'}], usage_metadata={'input_tokens': 855, 'output_tokens': 18, 'total_tokens': 934, 'input_token_details': {'cache_read': 0}})], 'dialog_state': []}\n",
      "{'messages': [HumanMessage(content='I want to book appoinment to Dr. Janith', additional_kwargs={}, response_metadata={}, id='f663e3b0-d385-4114-9528-69f51c6adeae'), AIMessage(content='', additional_kwargs={'function_call': {'name': 'search_for_doctor', 'arguments': '{\"name\": \"Janith\"}'}}, response_metadata={'prompt_feedback': {'block_reason': 0, 'safety_ratings': []}, 'finish_reason': 'STOP', 'model_name': 'models/gemini-2.5-flash-preview-05-20', 'safety_ratings': []}, id='run--74b0969d-cce0-4ec8-8df6-f5084895f0b4-0', tool_calls=[{'name': 'search_for_doctor', 'args': {'name': 'Janith'}, 'id': 'ea0bd459-a427-4b04-b334-7512fca0ec6e', 'type': 'tool_call'}], usage_metadata={'input_tokens': 855, 'output_tokens': 18, 'total_tokens': 934, 'input_token_details': {'cache_read': 0}}), ToolMessage(content='[]', name='search_for_doctor', id='2d856498-a2d5-44b5-b2c3-59d0580f9514', tool_call_id='ea0bd459-a427-4b04-b334-7512fca0ec6e')], 'dialog_state': []}\n",
      "{'messages': [HumanMessage(content='I want to book appoinment to Dr. Janith', additional_kwargs={}, response_metadata={}, id='f663e3b0-d385-4114-9528-69f51c6adeae'), AIMessage(content='Tool called', additional_kwargs={'function_call': {'name': 'search_for_doctor', 'arguments': '{\"name\": \"Janith\"}'}}, response_metadata={'prompt_feedback': {'block_reason': 0, 'safety_ratings': []}, 'finish_reason': 'STOP', 'model_name': 'models/gemini-2.5-flash-preview-05-20', 'safety_ratings': []}, id='run--74b0969d-cce0-4ec8-8df6-f5084895f0b4-0', tool_calls=[{'name': 'search_for_doctor', 'args': {'name': 'Janith'}, 'id': 'ea0bd459-a427-4b04-b334-7512fca0ec6e', 'type': 'tool_call'}], usage_metadata={'input_tokens': 855, 'output_tokens': 18, 'total_tokens': 934, 'input_token_details': {'cache_read': 0}}), ToolMessage(content='[]', name='search_for_doctor', id='2d856498-a2d5-44b5-b2c3-59d0580f9514', tool_call_id='ea0bd459-a427-4b04-b334-7512fca0ec6e'), AIMessage(content=\"I can't find a doctor with that name. Is there another doctor you're looking for?\", additional_kwargs={}, response_metadata={'prompt_feedback': {'block_reason': 0, 'safety_ratings': []}, 'finish_reason': 'STOP', 'model_name': 'models/gemini-2.5-flash-preview-05-20', 'safety_ratings': []}, id='run--79002124-1f22-49e5-b01d-0bfd927d1e5a-0', usage_metadata={'input_tokens': 889, 'output_tokens': 21, 'total_tokens': 910, 'input_token_details': {'cache_read': 0}})], 'dialog_state': []}\n"
     ]
    }
   ],
   "source": [
    "thread = {\"configurable\": {\"thread_id\": \"1\"}}\n",
    "inputs = {\"messages\": [{\"role\": \"user\", \"content\": \"I want to book appoinment to Dr. Janith\"}]}\n",
    "for chunk in graph.stream(inputs, thread, stream_mode=\"values\"):\n",
    "    print(chunk)"
   ]
  },
  {
   "cell_type": "code",
   "execution_count": 56,
   "id": "3ee93110",
   "metadata": {},
   "outputs": [
    {
     "name": "stderr",
     "output_type": "stream",
     "text": [
      "Key 'example' is not supported in schema, ignoring\n",
      "Key 'example 2' is not supported in schema, ignoring\n",
      "Key 'example 3' is not supported in schema, ignoring\n"
     ]
    },
    {
     "name": "stdout",
     "output_type": "stream",
     "text": [
      "{'messages': [HumanMessage(content='I want to book appoinment to Dr. Janith', additional_kwargs={}, response_metadata={}, id='c7ae8bd9-a2d5-4724-bc4e-0bfe9125c023'), AIMessage(content='', additional_kwargs={'function_call': {'name': 'search_for_doctor', 'arguments': '{\"name\": \"Janith\"}'}}, response_metadata={'prompt_feedback': {'block_reason': 0, 'safety_ratings': []}, 'finish_reason': 'STOP', 'model_name': 'models/gemini-2.5-flash-preview-05-20', 'safety_ratings': []}, id='run--8436b8bd-9d1f-44bc-8bd3-0114d4982755-0', tool_calls=[{'name': 'search_for_doctor', 'args': {'name': 'Janith'}, 'id': '00ff7649-c832-479d-9155-851ed92b27c9', 'type': 'tool_call'}], usage_metadata={'input_tokens': 855, 'output_tokens': 18, 'total_tokens': 932, 'input_token_details': {'cache_read': 0}}), ToolMessage(content='[]', name='search_for_doctor', id='2f8a2fbe-d50b-47a1-aba2-a9579b588642', tool_call_id='00ff7649-c832-479d-9155-851ed92b27c9'), AIMessage(content='', additional_kwargs={'function_call': {'name': 'search_for_doctor', 'arguments': '{\"name\": \"Janith\"}'}}, response_metadata={'prompt_feedback': {'block_reason': 0, 'safety_ratings': []}, 'finish_reason': 'STOP', 'model_name': 'models/gemini-2.5-flash-preview-05-20', 'safety_ratings': []}, id='run--20ebe309-c004-4aa5-b535-1a1b3bc0704e-0', tool_calls=[{'name': 'search_for_doctor', 'args': {'name': 'Janith'}, 'id': '22f68286-f0c9-40ed-895f-beff805dbe3c', 'type': 'tool_call'}], usage_metadata={'input_tokens': 855, 'output_tokens': 18, 'total_tokens': 932, 'input_token_details': {'cache_read': 0}}), ToolMessage(content='[]', name='search_for_doctor', id='36660601-23d4-405d-8db3-11891b57322a', tool_call_id='22f68286-f0c9-40ed-895f-beff805dbe3c'), AIMessage(content=\"I can't find a doctor with the name Dr. Janith. Is there another name I can search for?\", additional_kwargs={}, response_metadata={'prompt_feedback': {'block_reason': 0, 'safety_ratings': []}, 'finish_reason': 'STOP', 'model_name': 'models/gemini-2.5-flash-preview-05-20', 'safety_ratings': []}, id='run--b42d8863-e337-4cf1-a323-f8080d340cab-0', usage_metadata={'input_tokens': 889, 'output_tokens': 24, 'total_tokens': 913, 'input_token_details': {'cache_read': 0}}), HumanMessage(content='I want to book appoinment to Dr. Janith', additional_kwargs={}, response_metadata={}, id='8ec21b84-04b4-491c-a749-a359f3bf24df'), AIMessage(content=\"I can't find a doctor with the name Dr. Janith. Is there another name I can search for?\", additional_kwargs={}, response_metadata={'prompt_feedback': {'block_reason': 0, 'safety_ratings': []}, 'finish_reason': 'STOP', 'model_name': 'models/gemini-2.5-flash-preview-05-20', 'safety_ratings': []}, id='run--735535d6-4fa3-4793-9459-a0ce07c8d2d6-0', usage_metadata={'input_tokens': 961, 'output_tokens': 24, 'total_tokens': 1092, 'input_token_details': {'cache_read': 0}}), HumanMessage(content='I want to book appoinment with Dr. Alice at 12 June 2025 at 10 am', additional_kwargs={}, response_metadata={}, id='cecc4eec-82d8-4bb9-9f80-647ea778aade')], 'dialog_state': []}\n"
     ]
    },
    {
     "name": "stderr",
     "output_type": "stream",
     "text": [
      "Key 'example' is not supported in schema, ignoring\n",
      "Key 'example 2' is not supported in schema, ignoring\n",
      "Key 'example 3' is not supported in schema, ignoring\n"
     ]
    },
    {
     "name": "stdout",
     "output_type": "stream",
     "text": [
      "{'messages': [HumanMessage(content='I want to book appoinment to Dr. Janith', additional_kwargs={}, response_metadata={}, id='c7ae8bd9-a2d5-4724-bc4e-0bfe9125c023'), AIMessage(content='', additional_kwargs={'function_call': {'name': 'search_for_doctor', 'arguments': '{\"name\": \"Janith\"}'}}, response_metadata={'prompt_feedback': {'block_reason': 0, 'safety_ratings': []}, 'finish_reason': 'STOP', 'model_name': 'models/gemini-2.5-flash-preview-05-20', 'safety_ratings': []}, id='run--8436b8bd-9d1f-44bc-8bd3-0114d4982755-0', tool_calls=[{'name': 'search_for_doctor', 'args': {'name': 'Janith'}, 'id': '00ff7649-c832-479d-9155-851ed92b27c9', 'type': 'tool_call'}], usage_metadata={'input_tokens': 855, 'output_tokens': 18, 'total_tokens': 932, 'input_token_details': {'cache_read': 0}}), ToolMessage(content='[]', name='search_for_doctor', id='2f8a2fbe-d50b-47a1-aba2-a9579b588642', tool_call_id='00ff7649-c832-479d-9155-851ed92b27c9'), AIMessage(content='', additional_kwargs={'function_call': {'name': 'search_for_doctor', 'arguments': '{\"name\": \"Janith\"}'}}, response_metadata={'prompt_feedback': {'block_reason': 0, 'safety_ratings': []}, 'finish_reason': 'STOP', 'model_name': 'models/gemini-2.5-flash-preview-05-20', 'safety_ratings': []}, id='run--20ebe309-c004-4aa5-b535-1a1b3bc0704e-0', tool_calls=[{'name': 'search_for_doctor', 'args': {'name': 'Janith'}, 'id': '22f68286-f0c9-40ed-895f-beff805dbe3c', 'type': 'tool_call'}], usage_metadata={'input_tokens': 855, 'output_tokens': 18, 'total_tokens': 932, 'input_token_details': {'cache_read': 0}}), ToolMessage(content='[]', name='search_for_doctor', id='36660601-23d4-405d-8db3-11891b57322a', tool_call_id='22f68286-f0c9-40ed-895f-beff805dbe3c'), AIMessage(content=\"I can't find a doctor with the name Dr. Janith. Is there another name I can search for?\", additional_kwargs={}, response_metadata={'prompt_feedback': {'block_reason': 0, 'safety_ratings': []}, 'finish_reason': 'STOP', 'model_name': 'models/gemini-2.5-flash-preview-05-20', 'safety_ratings': []}, id='run--b42d8863-e337-4cf1-a323-f8080d340cab-0', usage_metadata={'input_tokens': 889, 'output_tokens': 24, 'total_tokens': 913, 'input_token_details': {'cache_read': 0}}), HumanMessage(content='I want to book appoinment to Dr. Janith', additional_kwargs={}, response_metadata={}, id='8ec21b84-04b4-491c-a749-a359f3bf24df'), AIMessage(content=\"I can't find a doctor with the name Dr. Janith. Is there another name I can search for?\", additional_kwargs={}, response_metadata={'prompt_feedback': {'block_reason': 0, 'safety_ratings': []}, 'finish_reason': 'STOP', 'model_name': 'models/gemini-2.5-flash-preview-05-20', 'safety_ratings': []}, id='run--735535d6-4fa3-4793-9459-a0ce07c8d2d6-0', usage_metadata={'input_tokens': 961, 'output_tokens': 24, 'total_tokens': 1092, 'input_token_details': {'cache_read': 0}}), HumanMessage(content='I want to book appoinment with Dr. Alice at 12 June 2025 at 10 am', additional_kwargs={}, response_metadata={}, id='cecc4eec-82d8-4bb9-9f80-647ea778aade'), AIMessage(content='', additional_kwargs={'function_call': {'name': 'search_for_doctor', 'arguments': '{\"name\": \"Alice\"}'}}, response_metadata={'prompt_feedback': {'block_reason': 0, 'safety_ratings': []}, 'finish_reason': 'STOP', 'model_name': 'models/gemini-2.5-flash-preview-05-20', 'safety_ratings': []}, id='run--7ebd7f76-2c21-4f12-8314-cb09378f6144-0', tool_calls=[{'name': 'search_for_doctor', 'args': {'name': 'Alice'}, 'id': '211dd721-9ba7-458a-a5d2-a4b7ef91a303', 'type': 'tool_call'}], usage_metadata={'input_tokens': 1013, 'output_tokens': 17, 'total_tokens': 1127, 'input_token_details': {'cache_read': 0}})], 'dialog_state': []}\n",
      "{'messages': [HumanMessage(content='I want to book appoinment to Dr. Janith', additional_kwargs={}, response_metadata={}, id='c7ae8bd9-a2d5-4724-bc4e-0bfe9125c023'), AIMessage(content='', additional_kwargs={'function_call': {'name': 'search_for_doctor', 'arguments': '{\"name\": \"Janith\"}'}}, response_metadata={'prompt_feedback': {'block_reason': 0, 'safety_ratings': []}, 'finish_reason': 'STOP', 'model_name': 'models/gemini-2.5-flash-preview-05-20', 'safety_ratings': []}, id='run--8436b8bd-9d1f-44bc-8bd3-0114d4982755-0', tool_calls=[{'name': 'search_for_doctor', 'args': {'name': 'Janith'}, 'id': '00ff7649-c832-479d-9155-851ed92b27c9', 'type': 'tool_call'}], usage_metadata={'input_tokens': 855, 'output_tokens': 18, 'total_tokens': 932, 'input_token_details': {'cache_read': 0}}), ToolMessage(content='[]', name='search_for_doctor', id='2f8a2fbe-d50b-47a1-aba2-a9579b588642', tool_call_id='00ff7649-c832-479d-9155-851ed92b27c9'), AIMessage(content='', additional_kwargs={'function_call': {'name': 'search_for_doctor', 'arguments': '{\"name\": \"Janith\"}'}}, response_metadata={'prompt_feedback': {'block_reason': 0, 'safety_ratings': []}, 'finish_reason': 'STOP', 'model_name': 'models/gemini-2.5-flash-preview-05-20', 'safety_ratings': []}, id='run--20ebe309-c004-4aa5-b535-1a1b3bc0704e-0', tool_calls=[{'name': 'search_for_doctor', 'args': {'name': 'Janith'}, 'id': '22f68286-f0c9-40ed-895f-beff805dbe3c', 'type': 'tool_call'}], usage_metadata={'input_tokens': 855, 'output_tokens': 18, 'total_tokens': 932, 'input_token_details': {'cache_read': 0}}), ToolMessage(content='[]', name='search_for_doctor', id='36660601-23d4-405d-8db3-11891b57322a', tool_call_id='22f68286-f0c9-40ed-895f-beff805dbe3c'), AIMessage(content=\"I can't find a doctor with the name Dr. Janith. Is there another name I can search for?\", additional_kwargs={}, response_metadata={'prompt_feedback': {'block_reason': 0, 'safety_ratings': []}, 'finish_reason': 'STOP', 'model_name': 'models/gemini-2.5-flash-preview-05-20', 'safety_ratings': []}, id='run--b42d8863-e337-4cf1-a323-f8080d340cab-0', usage_metadata={'input_tokens': 889, 'output_tokens': 24, 'total_tokens': 913, 'input_token_details': {'cache_read': 0}}), HumanMessage(content='I want to book appoinment to Dr. Janith', additional_kwargs={}, response_metadata={}, id='8ec21b84-04b4-491c-a749-a359f3bf24df'), AIMessage(content=\"I can't find a doctor with the name Dr. Janith. Is there another name I can search for?\", additional_kwargs={}, response_metadata={'prompt_feedback': {'block_reason': 0, 'safety_ratings': []}, 'finish_reason': 'STOP', 'model_name': 'models/gemini-2.5-flash-preview-05-20', 'safety_ratings': []}, id='run--735535d6-4fa3-4793-9459-a0ce07c8d2d6-0', usage_metadata={'input_tokens': 961, 'output_tokens': 24, 'total_tokens': 1092, 'input_token_details': {'cache_read': 0}}), HumanMessage(content='I want to book appoinment with Dr. Alice at 12 June 2025 at 10 am', additional_kwargs={}, response_metadata={}, id='cecc4eec-82d8-4bb9-9f80-647ea778aade'), AIMessage(content='', additional_kwargs={'function_call': {'name': 'search_for_doctor', 'arguments': '{\"name\": \"Alice\"}'}}, response_metadata={'prompt_feedback': {'block_reason': 0, 'safety_ratings': []}, 'finish_reason': 'STOP', 'model_name': 'models/gemini-2.5-flash-preview-05-20', 'safety_ratings': []}, id='run--7ebd7f76-2c21-4f12-8314-cb09378f6144-0', tool_calls=[{'name': 'search_for_doctor', 'args': {'name': 'Alice'}, 'id': '211dd721-9ba7-458a-a5d2-a4b7ef91a303', 'type': 'tool_call'}], usage_metadata={'input_tokens': 1013, 'output_tokens': 17, 'total_tokens': 1127, 'input_token_details': {'cache_read': 0}}), ToolMessage(content='[{\"Doctor_ID\": 1, \"Doctor_Name\": \"Dr. Alice Smith\", \"Specialization\": \"Cardiology\", \"Location\": \"New York\", \"Rating\": 4.7}]', name='search_for_doctor', id='f7359846-5058-43d5-acea-cabf646c3143', tool_call_id='211dd721-9ba7-458a-a5d2-a4b7ef91a303')], 'dialog_state': []}\n"
     ]
    },
    {
     "name": "stderr",
     "output_type": "stream",
     "text": [
      "Key 'example' is not supported in schema, ignoring\n",
      "Key 'example 2' is not supported in schema, ignoring\n",
      "Key 'example 3' is not supported in schema, ignoring\n"
     ]
    },
    {
     "name": "stdout",
     "output_type": "stream",
     "text": [
      "{'messages': [HumanMessage(content='I want to book appoinment to Dr. Janith', additional_kwargs={}, response_metadata={}, id='c7ae8bd9-a2d5-4724-bc4e-0bfe9125c023'), AIMessage(content='', additional_kwargs={'function_call': {'name': 'search_for_doctor', 'arguments': '{\"name\": \"Janith\"}'}}, response_metadata={'prompt_feedback': {'block_reason': 0, 'safety_ratings': []}, 'finish_reason': 'STOP', 'model_name': 'models/gemini-2.5-flash-preview-05-20', 'safety_ratings': []}, id='run--8436b8bd-9d1f-44bc-8bd3-0114d4982755-0', tool_calls=[{'name': 'search_for_doctor', 'args': {'name': 'Janith'}, 'id': '00ff7649-c832-479d-9155-851ed92b27c9', 'type': 'tool_call'}], usage_metadata={'input_tokens': 855, 'output_tokens': 18, 'total_tokens': 932, 'input_token_details': {'cache_read': 0}}), ToolMessage(content='[]', name='search_for_doctor', id='2f8a2fbe-d50b-47a1-aba2-a9579b588642', tool_call_id='00ff7649-c832-479d-9155-851ed92b27c9'), AIMessage(content='', additional_kwargs={'function_call': {'name': 'search_for_doctor', 'arguments': '{\"name\": \"Janith\"}'}}, response_metadata={'prompt_feedback': {'block_reason': 0, 'safety_ratings': []}, 'finish_reason': 'STOP', 'model_name': 'models/gemini-2.5-flash-preview-05-20', 'safety_ratings': []}, id='run--20ebe309-c004-4aa5-b535-1a1b3bc0704e-0', tool_calls=[{'name': 'search_for_doctor', 'args': {'name': 'Janith'}, 'id': '22f68286-f0c9-40ed-895f-beff805dbe3c', 'type': 'tool_call'}], usage_metadata={'input_tokens': 855, 'output_tokens': 18, 'total_tokens': 932, 'input_token_details': {'cache_read': 0}}), ToolMessage(content='[]', name='search_for_doctor', id='36660601-23d4-405d-8db3-11891b57322a', tool_call_id='22f68286-f0c9-40ed-895f-beff805dbe3c'), AIMessage(content=\"I can't find a doctor with the name Dr. Janith. Is there another name I can search for?\", additional_kwargs={}, response_metadata={'prompt_feedback': {'block_reason': 0, 'safety_ratings': []}, 'finish_reason': 'STOP', 'model_name': 'models/gemini-2.5-flash-preview-05-20', 'safety_ratings': []}, id='run--b42d8863-e337-4cf1-a323-f8080d340cab-0', usage_metadata={'input_tokens': 889, 'output_tokens': 24, 'total_tokens': 913, 'input_token_details': {'cache_read': 0}}), HumanMessage(content='I want to book appoinment to Dr. Janith', additional_kwargs={}, response_metadata={}, id='8ec21b84-04b4-491c-a749-a359f3bf24df'), AIMessage(content=\"I can't find a doctor with the name Dr. Janith. Is there another name I can search for?\", additional_kwargs={}, response_metadata={'prompt_feedback': {'block_reason': 0, 'safety_ratings': []}, 'finish_reason': 'STOP', 'model_name': 'models/gemini-2.5-flash-preview-05-20', 'safety_ratings': []}, id='run--735535d6-4fa3-4793-9459-a0ce07c8d2d6-0', usage_metadata={'input_tokens': 961, 'output_tokens': 24, 'total_tokens': 1092, 'input_token_details': {'cache_read': 0}}), HumanMessage(content='I want to book appoinment with Dr. Alice at 12 June 2025 at 10 am', additional_kwargs={}, response_metadata={}, id='cecc4eec-82d8-4bb9-9f80-647ea778aade'), AIMessage(content='', additional_kwargs={'function_call': {'name': 'search_for_doctor', 'arguments': '{\"name\": \"Alice\"}'}}, response_metadata={'prompt_feedback': {'block_reason': 0, 'safety_ratings': []}, 'finish_reason': 'STOP', 'model_name': 'models/gemini-2.5-flash-preview-05-20', 'safety_ratings': []}, id='run--7ebd7f76-2c21-4f12-8314-cb09378f6144-0', tool_calls=[{'name': 'search_for_doctor', 'args': {'name': 'Alice'}, 'id': '211dd721-9ba7-458a-a5d2-a4b7ef91a303', 'type': 'tool_call'}], usage_metadata={'input_tokens': 1013, 'output_tokens': 17, 'total_tokens': 1127, 'input_token_details': {'cache_read': 0}}), ToolMessage(content='[{\"Doctor_ID\": 1, \"Doctor_Name\": \"Dr. Alice Smith\", \"Specialization\": \"Cardiology\", \"Location\": \"New York\", \"Rating\": 4.7}]', name='search_for_doctor', id='f7359846-5058-43d5-acea-cabf646c3143', tool_call_id='211dd721-9ba7-458a-a5d2-a4b7ef91a303'), AIMessage(content='', additional_kwargs={'function_call': {'name': 'search_for_doctor', 'arguments': '{\"name\": \"Alice\"}'}}, response_metadata={'prompt_feedback': {'block_reason': 0, 'safety_ratings': []}, 'finish_reason': 'STOP', 'model_name': 'models/gemini-2.5-flash-preview-05-20', 'safety_ratings': []}, id='run--d9820021-e0d4-40f3-aa72-1ce770cfb188-0', tool_calls=[{'name': 'search_for_doctor', 'args': {'name': 'Alice'}, 'id': 'b3289558-8a4a-4782-808e-e2065667946b', 'type': 'tool_call'}], usage_metadata={'input_tokens': 1013, 'output_tokens': 17, 'total_tokens': 1127, 'input_token_details': {'cache_read': 0}})], 'dialog_state': []}\n",
      "{'messages': [HumanMessage(content='I want to book appoinment to Dr. Janith', additional_kwargs={}, response_metadata={}, id='c7ae8bd9-a2d5-4724-bc4e-0bfe9125c023'), AIMessage(content='', additional_kwargs={'function_call': {'name': 'search_for_doctor', 'arguments': '{\"name\": \"Janith\"}'}}, response_metadata={'prompt_feedback': {'block_reason': 0, 'safety_ratings': []}, 'finish_reason': 'STOP', 'model_name': 'models/gemini-2.5-flash-preview-05-20', 'safety_ratings': []}, id='run--8436b8bd-9d1f-44bc-8bd3-0114d4982755-0', tool_calls=[{'name': 'search_for_doctor', 'args': {'name': 'Janith'}, 'id': '00ff7649-c832-479d-9155-851ed92b27c9', 'type': 'tool_call'}], usage_metadata={'input_tokens': 855, 'output_tokens': 18, 'total_tokens': 932, 'input_token_details': {'cache_read': 0}}), ToolMessage(content='[]', name='search_for_doctor', id='2f8a2fbe-d50b-47a1-aba2-a9579b588642', tool_call_id='00ff7649-c832-479d-9155-851ed92b27c9'), AIMessage(content='', additional_kwargs={'function_call': {'name': 'search_for_doctor', 'arguments': '{\"name\": \"Janith\"}'}}, response_metadata={'prompt_feedback': {'block_reason': 0, 'safety_ratings': []}, 'finish_reason': 'STOP', 'model_name': 'models/gemini-2.5-flash-preview-05-20', 'safety_ratings': []}, id='run--20ebe309-c004-4aa5-b535-1a1b3bc0704e-0', tool_calls=[{'name': 'search_for_doctor', 'args': {'name': 'Janith'}, 'id': '22f68286-f0c9-40ed-895f-beff805dbe3c', 'type': 'tool_call'}], usage_metadata={'input_tokens': 855, 'output_tokens': 18, 'total_tokens': 932, 'input_token_details': {'cache_read': 0}}), ToolMessage(content='[]', name='search_for_doctor', id='36660601-23d4-405d-8db3-11891b57322a', tool_call_id='22f68286-f0c9-40ed-895f-beff805dbe3c'), AIMessage(content=\"I can't find a doctor with the name Dr. Janith. Is there another name I can search for?\", additional_kwargs={}, response_metadata={'prompt_feedback': {'block_reason': 0, 'safety_ratings': []}, 'finish_reason': 'STOP', 'model_name': 'models/gemini-2.5-flash-preview-05-20', 'safety_ratings': []}, id='run--b42d8863-e337-4cf1-a323-f8080d340cab-0', usage_metadata={'input_tokens': 889, 'output_tokens': 24, 'total_tokens': 913, 'input_token_details': {'cache_read': 0}}), HumanMessage(content='I want to book appoinment to Dr. Janith', additional_kwargs={}, response_metadata={}, id='8ec21b84-04b4-491c-a749-a359f3bf24df'), AIMessage(content=\"I can't find a doctor with the name Dr. Janith. Is there another name I can search for?\", additional_kwargs={}, response_metadata={'prompt_feedback': {'block_reason': 0, 'safety_ratings': []}, 'finish_reason': 'STOP', 'model_name': 'models/gemini-2.5-flash-preview-05-20', 'safety_ratings': []}, id='run--735535d6-4fa3-4793-9459-a0ce07c8d2d6-0', usage_metadata={'input_tokens': 961, 'output_tokens': 24, 'total_tokens': 1092, 'input_token_details': {'cache_read': 0}}), HumanMessage(content='I want to book appoinment with Dr. Alice at 12 June 2025 at 10 am', additional_kwargs={}, response_metadata={}, id='cecc4eec-82d8-4bb9-9f80-647ea778aade'), AIMessage(content='', additional_kwargs={'function_call': {'name': 'search_for_doctor', 'arguments': '{\"name\": \"Alice\"}'}}, response_metadata={'prompt_feedback': {'block_reason': 0, 'safety_ratings': []}, 'finish_reason': 'STOP', 'model_name': 'models/gemini-2.5-flash-preview-05-20', 'safety_ratings': []}, id='run--7ebd7f76-2c21-4f12-8314-cb09378f6144-0', tool_calls=[{'name': 'search_for_doctor', 'args': {'name': 'Alice'}, 'id': '211dd721-9ba7-458a-a5d2-a4b7ef91a303', 'type': 'tool_call'}], usage_metadata={'input_tokens': 1013, 'output_tokens': 17, 'total_tokens': 1127, 'input_token_details': {'cache_read': 0}}), ToolMessage(content='[{\"Doctor_ID\": 1, \"Doctor_Name\": \"Dr. Alice Smith\", \"Specialization\": \"Cardiology\", \"Location\": \"New York\", \"Rating\": 4.7}]', name='search_for_doctor', id='f7359846-5058-43d5-acea-cabf646c3143', tool_call_id='211dd721-9ba7-458a-a5d2-a4b7ef91a303'), AIMessage(content='', additional_kwargs={'function_call': {'name': 'search_for_doctor', 'arguments': '{\"name\": \"Alice\"}'}}, response_metadata={'prompt_feedback': {'block_reason': 0, 'safety_ratings': []}, 'finish_reason': 'STOP', 'model_name': 'models/gemini-2.5-flash-preview-05-20', 'safety_ratings': []}, id='run--d9820021-e0d4-40f3-aa72-1ce770cfb188-0', tool_calls=[{'name': 'search_for_doctor', 'args': {'name': 'Alice'}, 'id': 'b3289558-8a4a-4782-808e-e2065667946b', 'type': 'tool_call'}], usage_metadata={'input_tokens': 1013, 'output_tokens': 17, 'total_tokens': 1127, 'input_token_details': {'cache_read': 0}}), ToolMessage(content='[{\"Doctor_ID\": 1, \"Doctor_Name\": \"Dr. Alice Smith\", \"Specialization\": \"Cardiology\", \"Location\": \"New York\", \"Rating\": 4.7}]', name='search_for_doctor', id='cf97de24-7756-4936-92a5-f2b1695967cf', tool_call_id='b3289558-8a4a-4782-808e-e2065667946b')], 'dialog_state': []}\n"
     ]
    },
    {
     "name": "stderr",
     "output_type": "stream",
     "text": [
      "Key 'example' is not supported in schema, ignoring\n",
      "Key 'example 2' is not supported in schema, ignoring\n",
      "Key 'example 3' is not supported in schema, ignoring\n"
     ]
    },
    {
     "name": "stdout",
     "output_type": "stream",
     "text": [
      "{'messages': [HumanMessage(content='I want to book appoinment to Dr. Janith', additional_kwargs={}, response_metadata={}, id='c7ae8bd9-a2d5-4724-bc4e-0bfe9125c023'), AIMessage(content='', additional_kwargs={'function_call': {'name': 'search_for_doctor', 'arguments': '{\"name\": \"Janith\"}'}}, response_metadata={'prompt_feedback': {'block_reason': 0, 'safety_ratings': []}, 'finish_reason': 'STOP', 'model_name': 'models/gemini-2.5-flash-preview-05-20', 'safety_ratings': []}, id='run--8436b8bd-9d1f-44bc-8bd3-0114d4982755-0', tool_calls=[{'name': 'search_for_doctor', 'args': {'name': 'Janith'}, 'id': '00ff7649-c832-479d-9155-851ed92b27c9', 'type': 'tool_call'}], usage_metadata={'input_tokens': 855, 'output_tokens': 18, 'total_tokens': 932, 'input_token_details': {'cache_read': 0}}), ToolMessage(content='[]', name='search_for_doctor', id='2f8a2fbe-d50b-47a1-aba2-a9579b588642', tool_call_id='00ff7649-c832-479d-9155-851ed92b27c9'), AIMessage(content='', additional_kwargs={'function_call': {'name': 'search_for_doctor', 'arguments': '{\"name\": \"Janith\"}'}}, response_metadata={'prompt_feedback': {'block_reason': 0, 'safety_ratings': []}, 'finish_reason': 'STOP', 'model_name': 'models/gemini-2.5-flash-preview-05-20', 'safety_ratings': []}, id='run--20ebe309-c004-4aa5-b535-1a1b3bc0704e-0', tool_calls=[{'name': 'search_for_doctor', 'args': {'name': 'Janith'}, 'id': '22f68286-f0c9-40ed-895f-beff805dbe3c', 'type': 'tool_call'}], usage_metadata={'input_tokens': 855, 'output_tokens': 18, 'total_tokens': 932, 'input_token_details': {'cache_read': 0}}), ToolMessage(content='[]', name='search_for_doctor', id='36660601-23d4-405d-8db3-11891b57322a', tool_call_id='22f68286-f0c9-40ed-895f-beff805dbe3c'), AIMessage(content=\"I can't find a doctor with the name Dr. Janith. Is there another name I can search for?\", additional_kwargs={}, response_metadata={'prompt_feedback': {'block_reason': 0, 'safety_ratings': []}, 'finish_reason': 'STOP', 'model_name': 'models/gemini-2.5-flash-preview-05-20', 'safety_ratings': []}, id='run--b42d8863-e337-4cf1-a323-f8080d340cab-0', usage_metadata={'input_tokens': 889, 'output_tokens': 24, 'total_tokens': 913, 'input_token_details': {'cache_read': 0}}), HumanMessage(content='I want to book appoinment to Dr. Janith', additional_kwargs={}, response_metadata={}, id='8ec21b84-04b4-491c-a749-a359f3bf24df'), AIMessage(content=\"I can't find a doctor with the name Dr. Janith. Is there another name I can search for?\", additional_kwargs={}, response_metadata={'prompt_feedback': {'block_reason': 0, 'safety_ratings': []}, 'finish_reason': 'STOP', 'model_name': 'models/gemini-2.5-flash-preview-05-20', 'safety_ratings': []}, id='run--735535d6-4fa3-4793-9459-a0ce07c8d2d6-0', usage_metadata={'input_tokens': 961, 'output_tokens': 24, 'total_tokens': 1092, 'input_token_details': {'cache_read': 0}}), HumanMessage(content='I want to book appoinment with Dr. Alice at 12 June 2025 at 10 am', additional_kwargs={}, response_metadata={}, id='cecc4eec-82d8-4bb9-9f80-647ea778aade'), AIMessage(content='', additional_kwargs={'function_call': {'name': 'search_for_doctor', 'arguments': '{\"name\": \"Alice\"}'}}, response_metadata={'prompt_feedback': {'block_reason': 0, 'safety_ratings': []}, 'finish_reason': 'STOP', 'model_name': 'models/gemini-2.5-flash-preview-05-20', 'safety_ratings': []}, id='run--7ebd7f76-2c21-4f12-8314-cb09378f6144-0', tool_calls=[{'name': 'search_for_doctor', 'args': {'name': 'Alice'}, 'id': '211dd721-9ba7-458a-a5d2-a4b7ef91a303', 'type': 'tool_call'}], usage_metadata={'input_tokens': 1013, 'output_tokens': 17, 'total_tokens': 1127, 'input_token_details': {'cache_read': 0}}), ToolMessage(content='[{\"Doctor_ID\": 1, \"Doctor_Name\": \"Dr. Alice Smith\", \"Specialization\": \"Cardiology\", \"Location\": \"New York\", \"Rating\": 4.7}]', name='search_for_doctor', id='f7359846-5058-43d5-acea-cabf646c3143', tool_call_id='211dd721-9ba7-458a-a5d2-a4b7ef91a303'), AIMessage(content='', additional_kwargs={'function_call': {'name': 'search_for_doctor', 'arguments': '{\"name\": \"Alice\"}'}}, response_metadata={'prompt_feedback': {'block_reason': 0, 'safety_ratings': []}, 'finish_reason': 'STOP', 'model_name': 'models/gemini-2.5-flash-preview-05-20', 'safety_ratings': []}, id='run--d9820021-e0d4-40f3-aa72-1ce770cfb188-0', tool_calls=[{'name': 'search_for_doctor', 'args': {'name': 'Alice'}, 'id': 'b3289558-8a4a-4782-808e-e2065667946b', 'type': 'tool_call'}], usage_metadata={'input_tokens': 1013, 'output_tokens': 17, 'total_tokens': 1127, 'input_token_details': {'cache_read': 0}}), ToolMessage(content='[{\"Doctor_ID\": 1, \"Doctor_Name\": \"Dr. Alice Smith\", \"Specialization\": \"Cardiology\", \"Location\": \"New York\", \"Rating\": 4.7}]', name='search_for_doctor', id='cf97de24-7756-4936-92a5-f2b1695967cf', tool_call_id='b3289558-8a4a-4782-808e-e2065667946b'), AIMessage(content='', additional_kwargs={'function_call': {'name': 'check_doctor_availability', 'arguments': '{\"doctor_id\": 1.0, \"date\": \"2025-06-12\", \"time\": \"10:00\"}'}}, response_metadata={'prompt_feedback': {'block_reason': 0, 'safety_ratings': []}, 'finish_reason': 'STOP', 'model_name': 'models/gemini-2.5-flash-preview-05-20', 'safety_ratings': []}, id='run--cbec38a8-eb54-413d-8330-e18c0dfa5226-0', tool_calls=[{'name': 'check_doctor_availability', 'args': {'doctor_id': 1.0, 'date': '2025-06-12', 'time': '10:00'}, 'id': '737e3386-8599-45c5-9ba0-6843d40a42c4', 'type': 'tool_call'}], usage_metadata={'input_tokens': 1088, 'output_tokens': 42, 'total_tokens': 1275, 'input_token_details': {'cache_read': 0}})], 'dialog_state': []}\n",
      "{'messages': [HumanMessage(content='I want to book appoinment to Dr. Janith', additional_kwargs={}, response_metadata={}, id='c7ae8bd9-a2d5-4724-bc4e-0bfe9125c023'), AIMessage(content='', additional_kwargs={'function_call': {'name': 'search_for_doctor', 'arguments': '{\"name\": \"Janith\"}'}}, response_metadata={'prompt_feedback': {'block_reason': 0, 'safety_ratings': []}, 'finish_reason': 'STOP', 'model_name': 'models/gemini-2.5-flash-preview-05-20', 'safety_ratings': []}, id='run--8436b8bd-9d1f-44bc-8bd3-0114d4982755-0', tool_calls=[{'name': 'search_for_doctor', 'args': {'name': 'Janith'}, 'id': '00ff7649-c832-479d-9155-851ed92b27c9', 'type': 'tool_call'}], usage_metadata={'input_tokens': 855, 'output_tokens': 18, 'total_tokens': 932, 'input_token_details': {'cache_read': 0}}), ToolMessage(content='[]', name='search_for_doctor', id='2f8a2fbe-d50b-47a1-aba2-a9579b588642', tool_call_id='00ff7649-c832-479d-9155-851ed92b27c9'), AIMessage(content='', additional_kwargs={'function_call': {'name': 'search_for_doctor', 'arguments': '{\"name\": \"Janith\"}'}}, response_metadata={'prompt_feedback': {'block_reason': 0, 'safety_ratings': []}, 'finish_reason': 'STOP', 'model_name': 'models/gemini-2.5-flash-preview-05-20', 'safety_ratings': []}, id='run--20ebe309-c004-4aa5-b535-1a1b3bc0704e-0', tool_calls=[{'name': 'search_for_doctor', 'args': {'name': 'Janith'}, 'id': '22f68286-f0c9-40ed-895f-beff805dbe3c', 'type': 'tool_call'}], usage_metadata={'input_tokens': 855, 'output_tokens': 18, 'total_tokens': 932, 'input_token_details': {'cache_read': 0}}), ToolMessage(content='[]', name='search_for_doctor', id='36660601-23d4-405d-8db3-11891b57322a', tool_call_id='22f68286-f0c9-40ed-895f-beff805dbe3c'), AIMessage(content=\"I can't find a doctor with the name Dr. Janith. Is there another name I can search for?\", additional_kwargs={}, response_metadata={'prompt_feedback': {'block_reason': 0, 'safety_ratings': []}, 'finish_reason': 'STOP', 'model_name': 'models/gemini-2.5-flash-preview-05-20', 'safety_ratings': []}, id='run--b42d8863-e337-4cf1-a323-f8080d340cab-0', usage_metadata={'input_tokens': 889, 'output_tokens': 24, 'total_tokens': 913, 'input_token_details': {'cache_read': 0}}), HumanMessage(content='I want to book appoinment to Dr. Janith', additional_kwargs={}, response_metadata={}, id='8ec21b84-04b4-491c-a749-a359f3bf24df'), AIMessage(content=\"I can't find a doctor with the name Dr. Janith. Is there another name I can search for?\", additional_kwargs={}, response_metadata={'prompt_feedback': {'block_reason': 0, 'safety_ratings': []}, 'finish_reason': 'STOP', 'model_name': 'models/gemini-2.5-flash-preview-05-20', 'safety_ratings': []}, id='run--735535d6-4fa3-4793-9459-a0ce07c8d2d6-0', usage_metadata={'input_tokens': 961, 'output_tokens': 24, 'total_tokens': 1092, 'input_token_details': {'cache_read': 0}}), HumanMessage(content='I want to book appoinment with Dr. Alice at 12 June 2025 at 10 am', additional_kwargs={}, response_metadata={}, id='cecc4eec-82d8-4bb9-9f80-647ea778aade'), AIMessage(content='', additional_kwargs={'function_call': {'name': 'search_for_doctor', 'arguments': '{\"name\": \"Alice\"}'}}, response_metadata={'prompt_feedback': {'block_reason': 0, 'safety_ratings': []}, 'finish_reason': 'STOP', 'model_name': 'models/gemini-2.5-flash-preview-05-20', 'safety_ratings': []}, id='run--7ebd7f76-2c21-4f12-8314-cb09378f6144-0', tool_calls=[{'name': 'search_for_doctor', 'args': {'name': 'Alice'}, 'id': '211dd721-9ba7-458a-a5d2-a4b7ef91a303', 'type': 'tool_call'}], usage_metadata={'input_tokens': 1013, 'output_tokens': 17, 'total_tokens': 1127, 'input_token_details': {'cache_read': 0}}), ToolMessage(content='[{\"Doctor_ID\": 1, \"Doctor_Name\": \"Dr. Alice Smith\", \"Specialization\": \"Cardiology\", \"Location\": \"New York\", \"Rating\": 4.7}]', name='search_for_doctor', id='f7359846-5058-43d5-acea-cabf646c3143', tool_call_id='211dd721-9ba7-458a-a5d2-a4b7ef91a303'), AIMessage(content='', additional_kwargs={'function_call': {'name': 'search_for_doctor', 'arguments': '{\"name\": \"Alice\"}'}}, response_metadata={'prompt_feedback': {'block_reason': 0, 'safety_ratings': []}, 'finish_reason': 'STOP', 'model_name': 'models/gemini-2.5-flash-preview-05-20', 'safety_ratings': []}, id='run--d9820021-e0d4-40f3-aa72-1ce770cfb188-0', tool_calls=[{'name': 'search_for_doctor', 'args': {'name': 'Alice'}, 'id': 'b3289558-8a4a-4782-808e-e2065667946b', 'type': 'tool_call'}], usage_metadata={'input_tokens': 1013, 'output_tokens': 17, 'total_tokens': 1127, 'input_token_details': {'cache_read': 0}}), ToolMessage(content='[{\"Doctor_ID\": 1, \"Doctor_Name\": \"Dr. Alice Smith\", \"Specialization\": \"Cardiology\", \"Location\": \"New York\", \"Rating\": 4.7}]', name='search_for_doctor', id='cf97de24-7756-4936-92a5-f2b1695967cf', tool_call_id='b3289558-8a4a-4782-808e-e2065667946b'), AIMessage(content='', additional_kwargs={'function_call': {'name': 'check_doctor_availability', 'arguments': '{\"doctor_id\": 1.0, \"date\": \"2025-06-12\", \"time\": \"10:00\"}'}}, response_metadata={'prompt_feedback': {'block_reason': 0, 'safety_ratings': []}, 'finish_reason': 'STOP', 'model_name': 'models/gemini-2.5-flash-preview-05-20', 'safety_ratings': []}, id='run--cbec38a8-eb54-413d-8330-e18c0dfa5226-0', tool_calls=[{'name': 'check_doctor_availability', 'args': {'doctor_id': 1.0, 'date': '2025-06-12', 'time': '10:00'}, 'id': '737e3386-8599-45c5-9ba0-6843d40a42c4', 'type': 'tool_call'}], usage_metadata={'input_tokens': 1088, 'output_tokens': 42, 'total_tokens': 1275, 'input_token_details': {'cache_read': 0}}), ToolMessage(content='{\"available\": \"doctor is available False\"}', name='check_doctor_availability', id='7f3267ce-8b8c-4d0e-844e-36df9c27963d', tool_call_id='737e3386-8599-45c5-9ba0-6843d40a42c4')], 'dialog_state': []}\n"
     ]
    },
    {
     "name": "stderr",
     "output_type": "stream",
     "text": [
      "Key 'example' is not supported in schema, ignoring\n",
      "Key 'example 2' is not supported in schema, ignoring\n",
      "Key 'example 3' is not supported in schema, ignoring\n"
     ]
    },
    {
     "name": "stdout",
     "output_type": "stream",
     "text": [
      "{'messages': [HumanMessage(content='I want to book appoinment to Dr. Janith', additional_kwargs={}, response_metadata={}, id='c7ae8bd9-a2d5-4724-bc4e-0bfe9125c023'), AIMessage(content='', additional_kwargs={'function_call': {'name': 'search_for_doctor', 'arguments': '{\"name\": \"Janith\"}'}}, response_metadata={'prompt_feedback': {'block_reason': 0, 'safety_ratings': []}, 'finish_reason': 'STOP', 'model_name': 'models/gemini-2.5-flash-preview-05-20', 'safety_ratings': []}, id='run--8436b8bd-9d1f-44bc-8bd3-0114d4982755-0', tool_calls=[{'name': 'search_for_doctor', 'args': {'name': 'Janith'}, 'id': '00ff7649-c832-479d-9155-851ed92b27c9', 'type': 'tool_call'}], usage_metadata={'input_tokens': 855, 'output_tokens': 18, 'total_tokens': 932, 'input_token_details': {'cache_read': 0}}), ToolMessage(content='[]', name='search_for_doctor', id='2f8a2fbe-d50b-47a1-aba2-a9579b588642', tool_call_id='00ff7649-c832-479d-9155-851ed92b27c9'), AIMessage(content='', additional_kwargs={'function_call': {'name': 'search_for_doctor', 'arguments': '{\"name\": \"Janith\"}'}}, response_metadata={'prompt_feedback': {'block_reason': 0, 'safety_ratings': []}, 'finish_reason': 'STOP', 'model_name': 'models/gemini-2.5-flash-preview-05-20', 'safety_ratings': []}, id='run--20ebe309-c004-4aa5-b535-1a1b3bc0704e-0', tool_calls=[{'name': 'search_for_doctor', 'args': {'name': 'Janith'}, 'id': '22f68286-f0c9-40ed-895f-beff805dbe3c', 'type': 'tool_call'}], usage_metadata={'input_tokens': 855, 'output_tokens': 18, 'total_tokens': 932, 'input_token_details': {'cache_read': 0}}), ToolMessage(content='[]', name='search_for_doctor', id='36660601-23d4-405d-8db3-11891b57322a', tool_call_id='22f68286-f0c9-40ed-895f-beff805dbe3c'), AIMessage(content=\"I can't find a doctor with the name Dr. Janith. Is there another name I can search for?\", additional_kwargs={}, response_metadata={'prompt_feedback': {'block_reason': 0, 'safety_ratings': []}, 'finish_reason': 'STOP', 'model_name': 'models/gemini-2.5-flash-preview-05-20', 'safety_ratings': []}, id='run--b42d8863-e337-4cf1-a323-f8080d340cab-0', usage_metadata={'input_tokens': 889, 'output_tokens': 24, 'total_tokens': 913, 'input_token_details': {'cache_read': 0}}), HumanMessage(content='I want to book appoinment to Dr. Janith', additional_kwargs={}, response_metadata={}, id='8ec21b84-04b4-491c-a749-a359f3bf24df'), AIMessage(content=\"I can't find a doctor with the name Dr. Janith. Is there another name I can search for?\", additional_kwargs={}, response_metadata={'prompt_feedback': {'block_reason': 0, 'safety_ratings': []}, 'finish_reason': 'STOP', 'model_name': 'models/gemini-2.5-flash-preview-05-20', 'safety_ratings': []}, id='run--735535d6-4fa3-4793-9459-a0ce07c8d2d6-0', usage_metadata={'input_tokens': 961, 'output_tokens': 24, 'total_tokens': 1092, 'input_token_details': {'cache_read': 0}}), HumanMessage(content='I want to book appoinment with Dr. Alice at 12 June 2025 at 10 am', additional_kwargs={}, response_metadata={}, id='cecc4eec-82d8-4bb9-9f80-647ea778aade'), AIMessage(content='', additional_kwargs={'function_call': {'name': 'search_for_doctor', 'arguments': '{\"name\": \"Alice\"}'}}, response_metadata={'prompt_feedback': {'block_reason': 0, 'safety_ratings': []}, 'finish_reason': 'STOP', 'model_name': 'models/gemini-2.5-flash-preview-05-20', 'safety_ratings': []}, id='run--7ebd7f76-2c21-4f12-8314-cb09378f6144-0', tool_calls=[{'name': 'search_for_doctor', 'args': {'name': 'Alice'}, 'id': '211dd721-9ba7-458a-a5d2-a4b7ef91a303', 'type': 'tool_call'}], usage_metadata={'input_tokens': 1013, 'output_tokens': 17, 'total_tokens': 1127, 'input_token_details': {'cache_read': 0}}), ToolMessage(content='[{\"Doctor_ID\": 1, \"Doctor_Name\": \"Dr. Alice Smith\", \"Specialization\": \"Cardiology\", \"Location\": \"New York\", \"Rating\": 4.7}]', name='search_for_doctor', id='f7359846-5058-43d5-acea-cabf646c3143', tool_call_id='211dd721-9ba7-458a-a5d2-a4b7ef91a303'), AIMessage(content='', additional_kwargs={'function_call': {'name': 'search_for_doctor', 'arguments': '{\"name\": \"Alice\"}'}}, response_metadata={'prompt_feedback': {'block_reason': 0, 'safety_ratings': []}, 'finish_reason': 'STOP', 'model_name': 'models/gemini-2.5-flash-preview-05-20', 'safety_ratings': []}, id='run--d9820021-e0d4-40f3-aa72-1ce770cfb188-0', tool_calls=[{'name': 'search_for_doctor', 'args': {'name': 'Alice'}, 'id': 'b3289558-8a4a-4782-808e-e2065667946b', 'type': 'tool_call'}], usage_metadata={'input_tokens': 1013, 'output_tokens': 17, 'total_tokens': 1127, 'input_token_details': {'cache_read': 0}}), ToolMessage(content='[{\"Doctor_ID\": 1, \"Doctor_Name\": \"Dr. Alice Smith\", \"Specialization\": \"Cardiology\", \"Location\": \"New York\", \"Rating\": 4.7}]', name='search_for_doctor', id='cf97de24-7756-4936-92a5-f2b1695967cf', tool_call_id='b3289558-8a4a-4782-808e-e2065667946b'), AIMessage(content='', additional_kwargs={'function_call': {'name': 'check_doctor_availability', 'arguments': '{\"doctor_id\": 1.0, \"date\": \"2025-06-12\", \"time\": \"10:00\"}'}}, response_metadata={'prompt_feedback': {'block_reason': 0, 'safety_ratings': []}, 'finish_reason': 'STOP', 'model_name': 'models/gemini-2.5-flash-preview-05-20', 'safety_ratings': []}, id='run--cbec38a8-eb54-413d-8330-e18c0dfa5226-0', tool_calls=[{'name': 'check_doctor_availability', 'args': {'doctor_id': 1.0, 'date': '2025-06-12', 'time': '10:00'}, 'id': '737e3386-8599-45c5-9ba0-6843d40a42c4', 'type': 'tool_call'}], usage_metadata={'input_tokens': 1088, 'output_tokens': 42, 'total_tokens': 1275, 'input_token_details': {'cache_read': 0}}), ToolMessage(content='{\"available\": \"doctor is available False\"}', name='check_doctor_availability', id='7f3267ce-8b8c-4d0e-844e-36df9c27963d', tool_call_id='737e3386-8599-45c5-9ba0-6843d40a42c4'), AIMessage(content='', additional_kwargs={'function_call': {'name': 'check_doctor_availability', 'arguments': '{\"doctor_id\": 1.0, \"date\": \"2025-06-12\", \"time\": \"10:00\"}'}}, response_metadata={'prompt_feedback': {'block_reason': 0, 'safety_ratings': []}, 'finish_reason': 'STOP', 'model_name': 'models/gemini-2.5-flash-preview-05-20', 'safety_ratings': []}, id='run--f8393bdf-37f8-4611-a11c-d3619ddeb168-0', tool_calls=[{'name': 'check_doctor_availability', 'args': {'doctor_id': 1.0, 'date': '2025-06-12', 'time': '10:00'}, 'id': 'e56fc5c1-8471-4ae4-8e07-5a2a70a29e78', 'type': 'tool_call'}], usage_metadata={'input_tokens': 1163, 'output_tokens': 42, 'total_tokens': 1350, 'input_token_details': {'cache_read': 0}})], 'dialog_state': []}\n",
      "{'messages': [HumanMessage(content='I want to book appoinment to Dr. Janith', additional_kwargs={}, response_metadata={}, id='c7ae8bd9-a2d5-4724-bc4e-0bfe9125c023'), AIMessage(content='', additional_kwargs={'function_call': {'name': 'search_for_doctor', 'arguments': '{\"name\": \"Janith\"}'}}, response_metadata={'prompt_feedback': {'block_reason': 0, 'safety_ratings': []}, 'finish_reason': 'STOP', 'model_name': 'models/gemini-2.5-flash-preview-05-20', 'safety_ratings': []}, id='run--8436b8bd-9d1f-44bc-8bd3-0114d4982755-0', tool_calls=[{'name': 'search_for_doctor', 'args': {'name': 'Janith'}, 'id': '00ff7649-c832-479d-9155-851ed92b27c9', 'type': 'tool_call'}], usage_metadata={'input_tokens': 855, 'output_tokens': 18, 'total_tokens': 932, 'input_token_details': {'cache_read': 0}}), ToolMessage(content='[]', name='search_for_doctor', id='2f8a2fbe-d50b-47a1-aba2-a9579b588642', tool_call_id='00ff7649-c832-479d-9155-851ed92b27c9'), AIMessage(content='', additional_kwargs={'function_call': {'name': 'search_for_doctor', 'arguments': '{\"name\": \"Janith\"}'}}, response_metadata={'prompt_feedback': {'block_reason': 0, 'safety_ratings': []}, 'finish_reason': 'STOP', 'model_name': 'models/gemini-2.5-flash-preview-05-20', 'safety_ratings': []}, id='run--20ebe309-c004-4aa5-b535-1a1b3bc0704e-0', tool_calls=[{'name': 'search_for_doctor', 'args': {'name': 'Janith'}, 'id': '22f68286-f0c9-40ed-895f-beff805dbe3c', 'type': 'tool_call'}], usage_metadata={'input_tokens': 855, 'output_tokens': 18, 'total_tokens': 932, 'input_token_details': {'cache_read': 0}}), ToolMessage(content='[]', name='search_for_doctor', id='36660601-23d4-405d-8db3-11891b57322a', tool_call_id='22f68286-f0c9-40ed-895f-beff805dbe3c'), AIMessage(content=\"I can't find a doctor with the name Dr. Janith. Is there another name I can search for?\", additional_kwargs={}, response_metadata={'prompt_feedback': {'block_reason': 0, 'safety_ratings': []}, 'finish_reason': 'STOP', 'model_name': 'models/gemini-2.5-flash-preview-05-20', 'safety_ratings': []}, id='run--b42d8863-e337-4cf1-a323-f8080d340cab-0', usage_metadata={'input_tokens': 889, 'output_tokens': 24, 'total_tokens': 913, 'input_token_details': {'cache_read': 0}}), HumanMessage(content='I want to book appoinment to Dr. Janith', additional_kwargs={}, response_metadata={}, id='8ec21b84-04b4-491c-a749-a359f3bf24df'), AIMessage(content=\"I can't find a doctor with the name Dr. Janith. Is there another name I can search for?\", additional_kwargs={}, response_metadata={'prompt_feedback': {'block_reason': 0, 'safety_ratings': []}, 'finish_reason': 'STOP', 'model_name': 'models/gemini-2.5-flash-preview-05-20', 'safety_ratings': []}, id='run--735535d6-4fa3-4793-9459-a0ce07c8d2d6-0', usage_metadata={'input_tokens': 961, 'output_tokens': 24, 'total_tokens': 1092, 'input_token_details': {'cache_read': 0}}), HumanMessage(content='I want to book appoinment with Dr. Alice at 12 June 2025 at 10 am', additional_kwargs={}, response_metadata={}, id='cecc4eec-82d8-4bb9-9f80-647ea778aade'), AIMessage(content='', additional_kwargs={'function_call': {'name': 'search_for_doctor', 'arguments': '{\"name\": \"Alice\"}'}}, response_metadata={'prompt_feedback': {'block_reason': 0, 'safety_ratings': []}, 'finish_reason': 'STOP', 'model_name': 'models/gemini-2.5-flash-preview-05-20', 'safety_ratings': []}, id='run--7ebd7f76-2c21-4f12-8314-cb09378f6144-0', tool_calls=[{'name': 'search_for_doctor', 'args': {'name': 'Alice'}, 'id': '211dd721-9ba7-458a-a5d2-a4b7ef91a303', 'type': 'tool_call'}], usage_metadata={'input_tokens': 1013, 'output_tokens': 17, 'total_tokens': 1127, 'input_token_details': {'cache_read': 0}}), ToolMessage(content='[{\"Doctor_ID\": 1, \"Doctor_Name\": \"Dr. Alice Smith\", \"Specialization\": \"Cardiology\", \"Location\": \"New York\", \"Rating\": 4.7}]', name='search_for_doctor', id='f7359846-5058-43d5-acea-cabf646c3143', tool_call_id='211dd721-9ba7-458a-a5d2-a4b7ef91a303'), AIMessage(content='', additional_kwargs={'function_call': {'name': 'search_for_doctor', 'arguments': '{\"name\": \"Alice\"}'}}, response_metadata={'prompt_feedback': {'block_reason': 0, 'safety_ratings': []}, 'finish_reason': 'STOP', 'model_name': 'models/gemini-2.5-flash-preview-05-20', 'safety_ratings': []}, id='run--d9820021-e0d4-40f3-aa72-1ce770cfb188-0', tool_calls=[{'name': 'search_for_doctor', 'args': {'name': 'Alice'}, 'id': 'b3289558-8a4a-4782-808e-e2065667946b', 'type': 'tool_call'}], usage_metadata={'input_tokens': 1013, 'output_tokens': 17, 'total_tokens': 1127, 'input_token_details': {'cache_read': 0}}), ToolMessage(content='[{\"Doctor_ID\": 1, \"Doctor_Name\": \"Dr. Alice Smith\", \"Specialization\": \"Cardiology\", \"Location\": \"New York\", \"Rating\": 4.7}]', name='search_for_doctor', id='cf97de24-7756-4936-92a5-f2b1695967cf', tool_call_id='b3289558-8a4a-4782-808e-e2065667946b'), AIMessage(content='', additional_kwargs={'function_call': {'name': 'check_doctor_availability', 'arguments': '{\"doctor_id\": 1.0, \"date\": \"2025-06-12\", \"time\": \"10:00\"}'}}, response_metadata={'prompt_feedback': {'block_reason': 0, 'safety_ratings': []}, 'finish_reason': 'STOP', 'model_name': 'models/gemini-2.5-flash-preview-05-20', 'safety_ratings': []}, id='run--cbec38a8-eb54-413d-8330-e18c0dfa5226-0', tool_calls=[{'name': 'check_doctor_availability', 'args': {'doctor_id': 1.0, 'date': '2025-06-12', 'time': '10:00'}, 'id': '737e3386-8599-45c5-9ba0-6843d40a42c4', 'type': 'tool_call'}], usage_metadata={'input_tokens': 1088, 'output_tokens': 42, 'total_tokens': 1275, 'input_token_details': {'cache_read': 0}}), ToolMessage(content='{\"available\": \"doctor is available False\"}', name='check_doctor_availability', id='7f3267ce-8b8c-4d0e-844e-36df9c27963d', tool_call_id='737e3386-8599-45c5-9ba0-6843d40a42c4'), AIMessage(content='', additional_kwargs={'function_call': {'name': 'check_doctor_availability', 'arguments': '{\"doctor_id\": 1.0, \"date\": \"2025-06-12\", \"time\": \"10:00\"}'}}, response_metadata={'prompt_feedback': {'block_reason': 0, 'safety_ratings': []}, 'finish_reason': 'STOP', 'model_name': 'models/gemini-2.5-flash-preview-05-20', 'safety_ratings': []}, id='run--f8393bdf-37f8-4611-a11c-d3619ddeb168-0', tool_calls=[{'name': 'check_doctor_availability', 'args': {'doctor_id': 1.0, 'date': '2025-06-12', 'time': '10:00'}, 'id': 'e56fc5c1-8471-4ae4-8e07-5a2a70a29e78', 'type': 'tool_call'}], usage_metadata={'input_tokens': 1163, 'output_tokens': 42, 'total_tokens': 1350, 'input_token_details': {'cache_read': 0}}), ToolMessage(content='{\"available\": \"doctor is available False\"}', name='check_doctor_availability', id='2ba7feff-81ec-4510-8bce-60368de751ac', tool_call_id='e56fc5c1-8471-4ae4-8e07-5a2a70a29e78')], 'dialog_state': []}\n",
      "{'messages': [HumanMessage(content='I want to book appoinment to Dr. Janith', additional_kwargs={}, response_metadata={}, id='c7ae8bd9-a2d5-4724-bc4e-0bfe9125c023'), AIMessage(content='', additional_kwargs={'function_call': {'name': 'search_for_doctor', 'arguments': '{\"name\": \"Janith\"}'}}, response_metadata={'prompt_feedback': {'block_reason': 0, 'safety_ratings': []}, 'finish_reason': 'STOP', 'model_name': 'models/gemini-2.5-flash-preview-05-20', 'safety_ratings': []}, id='run--8436b8bd-9d1f-44bc-8bd3-0114d4982755-0', tool_calls=[{'name': 'search_for_doctor', 'args': {'name': 'Janith'}, 'id': '00ff7649-c832-479d-9155-851ed92b27c9', 'type': 'tool_call'}], usage_metadata={'input_tokens': 855, 'output_tokens': 18, 'total_tokens': 932, 'input_token_details': {'cache_read': 0}}), ToolMessage(content='[]', name='search_for_doctor', id='2f8a2fbe-d50b-47a1-aba2-a9579b588642', tool_call_id='00ff7649-c832-479d-9155-851ed92b27c9'), AIMessage(content='', additional_kwargs={'function_call': {'name': 'search_for_doctor', 'arguments': '{\"name\": \"Janith\"}'}}, response_metadata={'prompt_feedback': {'block_reason': 0, 'safety_ratings': []}, 'finish_reason': 'STOP', 'model_name': 'models/gemini-2.5-flash-preview-05-20', 'safety_ratings': []}, id='run--20ebe309-c004-4aa5-b535-1a1b3bc0704e-0', tool_calls=[{'name': 'search_for_doctor', 'args': {'name': 'Janith'}, 'id': '22f68286-f0c9-40ed-895f-beff805dbe3c', 'type': 'tool_call'}], usage_metadata={'input_tokens': 855, 'output_tokens': 18, 'total_tokens': 932, 'input_token_details': {'cache_read': 0}}), ToolMessage(content='[]', name='search_for_doctor', id='36660601-23d4-405d-8db3-11891b57322a', tool_call_id='22f68286-f0c9-40ed-895f-beff805dbe3c'), AIMessage(content=\"I can't find a doctor with the name Dr. Janith. Is there another name I can search for?\", additional_kwargs={}, response_metadata={'prompt_feedback': {'block_reason': 0, 'safety_ratings': []}, 'finish_reason': 'STOP', 'model_name': 'models/gemini-2.5-flash-preview-05-20', 'safety_ratings': []}, id='run--b42d8863-e337-4cf1-a323-f8080d340cab-0', usage_metadata={'input_tokens': 889, 'output_tokens': 24, 'total_tokens': 913, 'input_token_details': {'cache_read': 0}}), HumanMessage(content='I want to book appoinment to Dr. Janith', additional_kwargs={}, response_metadata={}, id='8ec21b84-04b4-491c-a749-a359f3bf24df'), AIMessage(content=\"I can't find a doctor with the name Dr. Janith. Is there another name I can search for?\", additional_kwargs={}, response_metadata={'prompt_feedback': {'block_reason': 0, 'safety_ratings': []}, 'finish_reason': 'STOP', 'model_name': 'models/gemini-2.5-flash-preview-05-20', 'safety_ratings': []}, id='run--735535d6-4fa3-4793-9459-a0ce07c8d2d6-0', usage_metadata={'input_tokens': 961, 'output_tokens': 24, 'total_tokens': 1092, 'input_token_details': {'cache_read': 0}}), HumanMessage(content='I want to book appoinment with Dr. Alice at 12 June 2025 at 10 am', additional_kwargs={}, response_metadata={}, id='cecc4eec-82d8-4bb9-9f80-647ea778aade'), AIMessage(content='', additional_kwargs={'function_call': {'name': 'search_for_doctor', 'arguments': '{\"name\": \"Alice\"}'}}, response_metadata={'prompt_feedback': {'block_reason': 0, 'safety_ratings': []}, 'finish_reason': 'STOP', 'model_name': 'models/gemini-2.5-flash-preview-05-20', 'safety_ratings': []}, id='run--7ebd7f76-2c21-4f12-8314-cb09378f6144-0', tool_calls=[{'name': 'search_for_doctor', 'args': {'name': 'Alice'}, 'id': '211dd721-9ba7-458a-a5d2-a4b7ef91a303', 'type': 'tool_call'}], usage_metadata={'input_tokens': 1013, 'output_tokens': 17, 'total_tokens': 1127, 'input_token_details': {'cache_read': 0}}), ToolMessage(content='[{\"Doctor_ID\": 1, \"Doctor_Name\": \"Dr. Alice Smith\", \"Specialization\": \"Cardiology\", \"Location\": \"New York\", \"Rating\": 4.7}]', name='search_for_doctor', id='f7359846-5058-43d5-acea-cabf646c3143', tool_call_id='211dd721-9ba7-458a-a5d2-a4b7ef91a303'), AIMessage(content='', additional_kwargs={'function_call': {'name': 'search_for_doctor', 'arguments': '{\"name\": \"Alice\"}'}}, response_metadata={'prompt_feedback': {'block_reason': 0, 'safety_ratings': []}, 'finish_reason': 'STOP', 'model_name': 'models/gemini-2.5-flash-preview-05-20', 'safety_ratings': []}, id='run--d9820021-e0d4-40f3-aa72-1ce770cfb188-0', tool_calls=[{'name': 'search_for_doctor', 'args': {'name': 'Alice'}, 'id': 'b3289558-8a4a-4782-808e-e2065667946b', 'type': 'tool_call'}], usage_metadata={'input_tokens': 1013, 'output_tokens': 17, 'total_tokens': 1127, 'input_token_details': {'cache_read': 0}}), ToolMessage(content='[{\"Doctor_ID\": 1, \"Doctor_Name\": \"Dr. Alice Smith\", \"Specialization\": \"Cardiology\", \"Location\": \"New York\", \"Rating\": 4.7}]', name='search_for_doctor', id='cf97de24-7756-4936-92a5-f2b1695967cf', tool_call_id='b3289558-8a4a-4782-808e-e2065667946b'), AIMessage(content='', additional_kwargs={'function_call': {'name': 'check_doctor_availability', 'arguments': '{\"doctor_id\": 1.0, \"date\": \"2025-06-12\", \"time\": \"10:00\"}'}}, response_metadata={'prompt_feedback': {'block_reason': 0, 'safety_ratings': []}, 'finish_reason': 'STOP', 'model_name': 'models/gemini-2.5-flash-preview-05-20', 'safety_ratings': []}, id='run--cbec38a8-eb54-413d-8330-e18c0dfa5226-0', tool_calls=[{'name': 'check_doctor_availability', 'args': {'doctor_id': 1.0, 'date': '2025-06-12', 'time': '10:00'}, 'id': '737e3386-8599-45c5-9ba0-6843d40a42c4', 'type': 'tool_call'}], usage_metadata={'input_tokens': 1088, 'output_tokens': 42, 'total_tokens': 1275, 'input_token_details': {'cache_read': 0}}), ToolMessage(content='{\"available\": \"doctor is available False\"}', name='check_doctor_availability', id='7f3267ce-8b8c-4d0e-844e-36df9c27963d', tool_call_id='737e3386-8599-45c5-9ba0-6843d40a42c4'), AIMessage(content='', additional_kwargs={'function_call': {'name': 'check_doctor_availability', 'arguments': '{\"doctor_id\": 1.0, \"date\": \"2025-06-12\", \"time\": \"10:00\"}'}}, response_metadata={'prompt_feedback': {'block_reason': 0, 'safety_ratings': []}, 'finish_reason': 'STOP', 'model_name': 'models/gemini-2.5-flash-preview-05-20', 'safety_ratings': []}, id='run--f8393bdf-37f8-4611-a11c-d3619ddeb168-0', tool_calls=[{'name': 'check_doctor_availability', 'args': {'doctor_id': 1.0, 'date': '2025-06-12', 'time': '10:00'}, 'id': 'e56fc5c1-8471-4ae4-8e07-5a2a70a29e78', 'type': 'tool_call'}], usage_metadata={'input_tokens': 1163, 'output_tokens': 42, 'total_tokens': 1350, 'input_token_details': {'cache_read': 0}}), ToolMessage(content='{\"available\": \"doctor is available False\"}', name='check_doctor_availability', id='2ba7feff-81ec-4510-8bce-60368de751ac', tool_call_id='e56fc5c1-8471-4ae4-8e07-5a2a70a29e78'), AIMessage(content='Dr. Alice Smith is not available at 10:00 on June 12, 2025. Would you like to try a different time or date?', additional_kwargs={}, response_metadata={'prompt_feedback': {'block_reason': 0, 'safety_ratings': []}, 'finish_reason': 'STOP', 'model_name': 'models/gemini-2.5-flash-preview-05-20', 'safety_ratings': []}, id='run--5bb26928-ce49-40ba-9d26-d44ae7df33bb-0', usage_metadata={'input_tokens': 1225, 'output_tokens': 37, 'total_tokens': 1386, 'input_token_details': {'cache_read': 0}})], 'dialog_state': []}\n"
     ]
    }
   ],
   "source": [
    "inputs = {\"messages\": [{\"role\": \"user\", \"content\": \"I want to book appoinment with Dr. Alice at 12 June 2025 at 10 am\"}]}\n",
    "for chunk in graph.stream(inputs, thread, stream_mode=\"values\"):\n",
    "    print(chunk)"
   ]
  },
  {
   "cell_type": "code",
   "execution_count": 57,
   "id": "2d34f2ec",
   "metadata": {},
   "outputs": [
    {
     "name": "stderr",
     "output_type": "stream",
     "text": [
      "Key 'example' is not supported in schema, ignoring\n",
      "Key 'example 2' is not supported in schema, ignoring\n",
      "Key 'example 3' is not supported in schema, ignoring\n"
     ]
    },
    {
     "name": "stdout",
     "output_type": "stream",
     "text": [
      "{'assistant': {'messages': AIMessage(content='Dr. Alice Smith is not available at 10:00 on June 12, 2025. Would you like to try a different time or date?', additional_kwargs={}, response_metadata={'prompt_feedback': {'block_reason': 0, 'safety_ratings': []}, 'finish_reason': 'STOP', 'model_name': 'models/gemini-2.5-flash-preview-05-20', 'safety_ratings': []}, id='run--ea177c72-45ff-476f-92e5-d2debe61dcf8-0', usage_metadata={'input_tokens': 1350, 'output_tokens': 37, 'total_tokens': 1442, 'input_token_details': {'cache_read': 0}}), 'dialog_state': None}}\n"
     ]
    }
   ],
   "source": [
    "inputs = {\"messages\": [{\"role\": \"user\", \"content\": \"okey, can I book appoinment at 12 June 2025 at 10 am\"}]}\n",
    "for chunk in graph.stream(inputs, thread, stream_mode=\"updates\"):\n",
    "    print(chunk)"
   ]
  },
  {
   "cell_type": "code",
   "execution_count": 58,
   "id": "fb297915",
   "metadata": {},
   "outputs": [
    {
     "name": "stderr",
     "output_type": "stream",
     "text": [
      "Key 'example' is not supported in schema, ignoring\n",
      "Key 'example 2' is not supported in schema, ignoring\n",
      "Key 'example 3' is not supported in schema, ignoring\n"
     ]
    },
    {
     "name": "stdout",
     "output_type": "stream",
     "text": [
      "{'assistant': {'messages': AIMessage(content='Dr. Alice Smith is not available at 10:00 on June 12, 2025. Would you like to try a different time or date?', additional_kwargs={}, response_metadata={'prompt_feedback': {'block_reason': 0, 'safety_ratings': []}, 'finish_reason': 'STOP', 'model_name': 'models/gemini-2.5-flash-preview-05-20', 'safety_ratings': []}, id='run--d9134216-afde-4ef3-9a8e-d23cfae53f43-0', usage_metadata={'input_tokens': 1395, 'output_tokens': 37, 'total_tokens': 1499, 'input_token_details': {'cache_read': 0}}), 'dialog_state': None}}\n"
     ]
    }
   ],
   "source": [
    "inputs = {\"messages\": [{\"role\": \"user\", \"content\": \"my user id is 2\"}]}\n",
    "for chunk in graph.stream(inputs, thread, stream_mode=\"updates\"):\n",
    "    print(chunk)"
   ]
  },
  {
   "cell_type": "code",
   "execution_count": 13,
   "id": "576dc1ef",
   "metadata": {},
   "outputs": [
    {
     "name": "stderr",
     "output_type": "stream",
     "text": [
      "Key 'example' is not supported in schema, ignoring\n",
      "Key 'example 2' is not supported in schema, ignoring\n",
      "Key 'example 3' is not supported in schema, ignoring\n"
     ]
    },
    {
     "name": "stdout",
     "output_type": "stream",
     "text": [
      "{'assistant': {'messages': AIMessage(content=\"I have your user ID as 1. However, I still need to know which doctor you would like to book an appointment with. Please provide the doctor's name or specialization.\", additional_kwargs={}, response_metadata={'prompt_feedback': {'block_reason': 0, 'safety_ratings': []}, 'finish_reason': 'STOP', 'model_name': 'models/gemini-2.5-flash-preview-05-20', 'safety_ratings': []}, id='run--32b3bfba-9c59-4b33-9c12-c68c28ab88cf-0', usage_metadata={'input_tokens': 1066, 'output_tokens': 37, 'total_tokens': 1156, 'input_token_details': {'cache_read': 0}}), 'dialog_state': None}}\n"
     ]
    }
   ],
   "source": [
    "inputs = {\"messages\": [{\"role\": \"user\", \"content\": \"my Id is 1\"}]}\n",
    "for chunk in graph.stream(inputs, thread, stream_mode=\"updates\"):\n",
    "    print(chunk)"
   ]
  },
  {
   "cell_type": "code",
   "execution_count": 13,
   "id": "79733f87",
   "metadata": {},
   "outputs": [
    {
     "name": "stdout",
     "output_type": "stream",
     "text": [
      "(1, '10:00', '2025-06-06', 1, 1)\n",
      "(2, '11:30', '2025-06-06', 2, 2)\n",
      "(3, '14:00', '2025-06-07', 3, 3)\n",
      "(4, '10:00', '2025-06-12', 1, 2)\n"
     ]
    }
   ],
   "source": [
    "# check whether the database is updated\n",
    "\n",
    "conn = sqlite3.connect(DB_PATH) \n",
    "cursor = conn.cursor()\n",
    "\n",
    "for row in cursor.execute(\"SELECT * FROM Appointment\"):\n",
    "    print(row)"
   ]
  },
  {
   "cell_type": "markdown",
   "id": "86bb9b21",
   "metadata": {},
   "source": [
    "### 7. Tools for Search the appointment and delete that appoinment\n",
    "\n",
    "This tools are responsible for search the booked appointment and delete if user confirm "
   ]
  },
  {
   "cell_type": "code",
   "execution_count": 156,
   "id": "0ef98b6d",
   "metadata": {},
   "outputs": [],
   "source": [
    "from langchain_core.tools import tool\n",
    "import sqlite3\n",
    "import json\n",
    "\n",
    "@tool\n",
    "def search_for_appointment(appointment_id: int) -> str:\n",
    "    \"\"\"\n",
    "    Search for an appointment by its ID.\n",
    "\n",
    "    Args:\n",
    "        appointment_id (int): The ID of the appointment.\n",
    "\n",
    "    Returns:\n",
    "        str: JSON string with appointment details or failure message.\n",
    "    \"\"\"\n",
    "    conn = sqlite3.connect(DB_PATH)\n",
    "    cursor = conn.cursor()\n",
    "\n",
    "    cursor.execute(\"\"\"\n",
    "        SELECT Appointment_ID, Appointment_Date, Appointment_Time, Doctor_ID, Patient_ID\n",
    "        FROM Appointment\n",
    "        WHERE Appointment_ID = ?\n",
    "    \"\"\", (appointment_id,))\n",
    "    \n",
    "    result = cursor.fetchone()\n",
    "    conn.close()\n",
    "\n",
    "    if result:\n",
    "        return json.dumps({\n",
    "            \"success\": True,\n",
    "            \"appointment\": {\n",
    "                \"appointment_id\": result[0],\n",
    "                \"date\": result[1],\n",
    "                \"time\": result[2],\n",
    "                \"doctor_id\": result[3],\n",
    "                \"patient_id\": result[4]\n",
    "            }\n",
    "        })\n",
    "    else:\n",
    "        return json.dumps({\"success\": False, \"message\": \"Appointment not found.\"})\n",
    "\n",
    "\n",
    "@tool\n",
    "def cancel_appointment(appointment_id: int) -> str:\n",
    "    \"\"\"\n",
    "    Cancel an existing appointment by its ID.\n",
    "\n",
    "    Args:\n",
    "        appointment_id (int): The ID of the appointment to cancel.\n",
    "\n",
    "    Returns:\n",
    "        str: JSON string with success/failure status and message.\n",
    "    \"\"\"\n",
    "    conn = sqlite3.connect(DB_PATH)\n",
    "    cursor = conn.cursor()\n",
    "\n",
    "    cursor.execute(\"SELECT 1 FROM Appointment WHERE Appointment_ID = ?\", (appointment_id,))\n",
    "    result = cursor.fetchone()\n",
    "\n",
    "    if not result:\n",
    "        conn.close()\n",
    "        return json.dumps({\"success\": False, \"message\": \"Appointment not found.\"})\n",
    "\n",
    "    cursor.execute(\"DELETE FROM Appointment WHERE Appointment_ID = ?\", (appointment_id,))\n",
    "    conn.commit()\n",
    "    conn.close()\n",
    "\n",
    "    return json.dumps({\"success\": True, \"message\": \"Appointment cancelled successfully.\"})"
   ]
  },
  {
   "cell_type": "code",
   "execution_count": 157,
   "id": "3568ea53",
   "metadata": {},
   "outputs": [],
   "source": [
    "from langchain_core.prompts import ChatPromptTemplate\n",
    "from datetime import datetime\n",
    "\n",
    "cancel_appointment_prompt = ChatPromptTemplate.from_messages(\n",
    "    [\n",
    "        (\n",
    "            \"system\",\n",
    "            \"You are a specialized assistant for handling doctor appointment cancellations. \"\n",
    "            \"The primary assistant delegates work to you whenever the user wants to cancel an appointment. \"\n",
    "            \"First, verify the appointment ID with the user. Then confirm the cancellation intent clearly before proceeding. \"\n",
    "            \"Use the appropriate tool to cancel the appointment and inform the user of the result. \"\n",
    "            \"Be clear and efficient in your responses. Do not cancel unless explicitly requested by the user.\"\n",
    "            \"Do not call handoff_to_cancel_appointment tool.\"\n",
    "            \"\\n\\nAvailable tools:\\n\"\n",
    "            \"- `search_for_appointment`: Use this tool to retrieve and verify appointment details using an appointment ID.\\n\"\n",
    "            \"- `cancel_appointment`: Use this tool to cancel an appointment after verifying the appointment ID and user intent.\\n\"\n",
    "            \"- `CompleteOrEscalate`: Use this when the user’s request is out of scope or ambiguous (e.g., not a cancellation, or a third-party request).\"\n",
    "            \"\\n\\nCurrent time: {time}.\"\n",
    "            \"\\n\\nSome examples where you should CompleteOrEscalate:\\n\"\n",
    "            \" - 'I want to rebook instead of canceling'\\n\"\n",
    "            \" - 'What are the symptoms of flu?'\\n\"\n",
    "            \" - 'Actually, my friend needs to cancel, not me'\\n\"\n",
    "            \" - 'Appointment already canceled elsewhere'\\n\",\n",
    "        ),\n",
    "        (\"placeholder\", \"{messages}\"),\n",
    "    ]\n",
    ").partial(time=datetime.now())\n",
    "\n",
    "cancel_appointment_tools = [search_for_appointment, cancel_appointment]\n",
    "\n",
    "llm_with_cancel_appointment_tools = llm.bind_tools(\n",
    "    cancel_appointment_tools + [CompleteOrEscalate]\n",
    ")\n",
    "\n",
    "cancel_appointment_runnable = cancel_appointment_prompt | llm_with_cancel_appointment_tools"
   ]
  },
  {
   "cell_type": "code",
   "execution_count": 158,
   "id": "31488df1",
   "metadata": {},
   "outputs": [
    {
     "data": {
      "image/png": "[encoded data removed]",
      "text/plain": [
       "<IPython.core.display.Image object>"
      ]
     },
     "metadata": {},
     "output_type": "display_data"
    }
   ],
   "source": [
    "# make the graph responsible for cancel the appointment\n",
    "graph_builder_cancel = StateGraph(State)\n",
    "\n",
    "graph_builder_cancel.add_node(\"tools\", ToolNode(cancel_appointment_tools))\n",
    "graph_builder_cancel.add_node(\"assistant\", Assistant(cancel_appointment_runnable))\n",
    "graph_builder_cancel.add_edge(\"tools\", \"assistant\")\n",
    "graph_builder_cancel.add_conditional_edges(\"assistant\", tools_condition)\n",
    "graph_builder_cancel.set_entry_point(\"assistant\")\n",
    "\n",
    "memory_cancel = MemorySaver()\n",
    "graph_cancel = graph_builder_cancel.compile(checkpointer=memory_cancel)\n",
    "\n",
    "from IPython.display import Image, display\n",
    "\n",
    "try:\n",
    "    display(Image(graph_cancel.get_graph().draw_mermaid_png()))\n",
    "except Exception:\n",
    "    pass"
   ]
  },
  {
   "cell_type": "code",
   "execution_count": 140,
   "id": "3ba5d0fa",
   "metadata": {},
   "outputs": [
    {
     "name": "stderr",
     "output_type": "stream",
     "text": [
      "Key 'example' is not supported in schema, ignoring\n",
      "Key 'example 2' is not supported in schema, ignoring\n",
      "Key 'example 3' is not supported in schema, ignoring\n"
     ]
    },
    {
     "name": "stdout",
     "output_type": "stream",
     "text": [
      "{'assistant': {'messages': AIMessage(content='I can help you with that. What is the ID of the appointment you would like to cancel?', additional_kwargs={}, response_metadata={'prompt_feedback': {'block_reason': 0, 'safety_ratings': []}, 'finish_reason': 'STOP', 'model_name': 'models/gemini-2.5-flash-preview-05-20', 'safety_ratings': []}, id='run--f6ce1381-207f-49fd-b64b-019cd687d85f-0', usage_metadata={'input_tokens': 528, 'output_tokens': 20, 'total_tokens': 577, 'input_token_details': {'cache_read': 0}}), 'dialog_state': None}}\n"
     ]
    }
   ],
   "source": [
    "thread = {\"configurable\": {\"thread_id\": \"2\"}}\n",
    "inputs = {\"messages\": [{\"role\": \"user\", \"content\": \"I want to cancel my appoinment with Dr.Smith\"}]}\n",
    "for chunk in graph_cancel.stream(inputs, thread, stream_mode=\"updates\"):\n",
    "    print(chunk)"
   ]
  },
  {
   "cell_type": "code",
   "execution_count": 159,
   "id": "f66c8b8a",
   "metadata": {},
   "outputs": [
    {
     "name": "stderr",
     "output_type": "stream",
     "text": [
      "Key 'example' is not supported in schema, ignoring\n",
      "Key 'example 2' is not supported in schema, ignoring\n",
      "Key 'example 3' is not supported in schema, ignoring\n",
      "Key 'example' is not supported in schema, ignoring\n",
      "Key 'example 2' is not supported in schema, ignoring\n",
      "Key 'example 3' is not supported in schema, ignoring\n"
     ]
    },
    {
     "name": "stdout",
     "output_type": "stream",
     "text": [
      "{'assistant': {'messages': [HumanMessage(content='My appointment id is 3', additional_kwargs={}, response_metadata={}, id='2ab46e04-32a0-4a49-aa34-874a7132e298'), AIMessage(content='', additional_kwargs={'function_call': {'name': 'search_for_appointment', 'arguments': '{\"appointment_id\": 3.0}'}}, response_metadata={'prompt_feedback': {'block_reason': 0, 'safety_ratings': []}, 'finish_reason': 'STOP', 'model_name': 'models/gemini-2.5-flash-preview-05-20', 'safety_ratings': []}, id='run--3aadfbec-3780-44ea-9d56-4a3ac0ba2a89-0', tool_calls=[{'name': 'search_for_appointment', 'args': {'appointment_id': 3.0}, 'id': '21c1136d-fffa-4e08-adb8-a373339a2865', 'type': 'tool_call'}], usage_metadata={'input_tokens': 522, 'output_tokens': 19, 'total_tokens': 638, 'input_token_details': {'cache_read': 0}})], 'dialog_state': None}}\n",
      "{'tools': {'messages': [ToolMessage(content='{\"success\": false, \"message\": \"Appointment not found.\"}', name='search_for_appointment', id='100584d3-90f7-44f9-b58a-101ee622fec9', tool_call_id='21c1136d-fffa-4e08-adb8-a373339a2865')]}}\n",
      "{'assistant': {'messages': [HumanMessage(content='My appointment id is 3', additional_kwargs={}, response_metadata={}, id='2ab46e04-32a0-4a49-aa34-874a7132e298'), AIMessage(content='Tool called', additional_kwargs={'function_call': {'name': 'search_for_appointment', 'arguments': '{\"appointment_id\": 3.0}'}}, response_metadata={'prompt_feedback': {'block_reason': 0, 'safety_ratings': []}, 'finish_reason': 'STOP', 'model_name': 'models/gemini-2.5-flash-preview-05-20', 'safety_ratings': []}, id='run--3aadfbec-3780-44ea-9d56-4a3ac0ba2a89-0', tool_calls=[{'name': 'search_for_appointment', 'args': {'appointment_id': 3.0}, 'id': '21c1136d-fffa-4e08-adb8-a373339a2865', 'type': 'tool_call'}], usage_metadata={'input_tokens': 522, 'output_tokens': 19, 'total_tokens': 638, 'input_token_details': {'cache_read': 0}}), ToolMessage(content='{\"success\": false, \"message\": \"Appointment not found.\"}', name='search_for_appointment', id='100584d3-90f7-44f9-b58a-101ee622fec9', tool_call_id='21c1136d-fffa-4e08-adb8-a373339a2865'), AIMessage(content=\"I couldn't find an appointment with ID 3. Do you have a different appointment ID?\", additional_kwargs={}, response_metadata={'prompt_feedback': {'block_reason': 0, 'safety_ratings': []}, 'finish_reason': 'STOP', 'model_name': 'models/gemini-2.5-flash-preview-05-20', 'safety_ratings': []}, id='run--d69ce6f2-cd66-4d98-9a79-1be9b60a9032-0', usage_metadata={'input_tokens': 565, 'output_tokens': 20, 'total_tokens': 647, 'input_token_details': {'cache_read': 0}})], 'dialog_state': None}}\n"
     ]
    }
   ],
   "source": [
    "inputs = {\"messages\": [{\"role\": \"user\", \"content\": \"My appointment id is 3\"}]}\n",
    "for chunk in graph_cancel.stream(inputs, thread, stream_mode=\"updates\"):\n",
    "    print(chunk)"
   ]
  },
  {
   "cell_type": "code",
   "execution_count": 160,
   "id": "4108b939",
   "metadata": {},
   "outputs": [
    {
     "name": "stderr",
     "output_type": "stream",
     "text": [
      "Key 'example' is not supported in schema, ignoring\n",
      "Key 'example 2' is not supported in schema, ignoring\n",
      "Key 'example 3' is not supported in schema, ignoring\n"
     ]
    },
    {
     "name": "stdout",
     "output_type": "stream",
     "text": [
      "{'assistant': {'messages': [HumanMessage(content='My appointment id is 3', additional_kwargs={}, response_metadata={}, id='2ab46e04-32a0-4a49-aa34-874a7132e298'), AIMessage(content='Tool called', additional_kwargs={'function_call': {'name': 'search_for_appointment', 'arguments': '{\"appointment_id\": 3.0}'}}, response_metadata={'prompt_feedback': {'block_reason': 0, 'safety_ratings': []}, 'finish_reason': 'STOP', 'model_name': 'models/gemini-2.5-flash-preview-05-20', 'safety_ratings': []}, id='run--3aadfbec-3780-44ea-9d56-4a3ac0ba2a89-0', tool_calls=[{'name': 'search_for_appointment', 'args': {'appointment_id': 3.0}, 'id': '21c1136d-fffa-4e08-adb8-a373339a2865', 'type': 'tool_call'}], usage_metadata={'input_tokens': 522, 'output_tokens': 19, 'total_tokens': 638, 'input_token_details': {'cache_read': 0}}), ToolMessage(content='{\"success\": false, \"message\": \"Appointment not found.\"}', name='search_for_appointment', id='100584d3-90f7-44f9-b58a-101ee622fec9', tool_call_id='21c1136d-fffa-4e08-adb8-a373339a2865'), AIMessage(content=\"I couldn't find an appointment with ID 3. Do you have a different appointment ID?\", additional_kwargs={}, response_metadata={'prompt_feedback': {'block_reason': 0, 'safety_ratings': []}, 'finish_reason': 'STOP', 'model_name': 'models/gemini-2.5-flash-preview-05-20', 'safety_ratings': []}, id='run--d69ce6f2-cd66-4d98-9a79-1be9b60a9032-0', usage_metadata={'input_tokens': 565, 'output_tokens': 20, 'total_tokens': 647, 'input_token_details': {'cache_read': 0}}), HumanMessage(content='yes cancel it', additional_kwargs={}, response_metadata={}, id='1b68b9d1-c33d-4465-a23d-8d4303ca68f3'), AIMessage(content='I still need the correct appointment ID to cancel your appointment. Could you please provide it?', additional_kwargs={}, response_metadata={'prompt_feedback': {'block_reason': 0, 'safety_ratings': []}, 'finish_reason': 'STOP', 'model_name': 'models/gemini-2.5-flash-preview-05-20', 'safety_ratings': []}, id='run--78f2e10a-da4b-4849-941d-2391c69552e3-0', usage_metadata={'input_tokens': 590, 'output_tokens': 18, 'total_tokens': 835, 'input_token_details': {'cache_read': 0}})], 'dialog_state': None}}\n"
     ]
    }
   ],
   "source": [
    "inputs = {\"messages\": [{\"role\": \"user\", \"content\": \"yes cancel it\"}]}\n",
    "for chunk in graph_cancel.stream(inputs, thread, stream_mode=\"updates\"):\n",
    "    print(chunk)"
   ]
  },
  {
   "cell_type": "code",
   "execution_count": 21,
   "id": "11db4473",
   "metadata": {},
   "outputs": [
    {
     "name": "stdout",
     "output_type": "stream",
     "text": [
      "(1, '10:00', '2025-06-06', 1, 1)\n",
      "(2, '11:30', '2025-06-06', 2, 2)\n",
      "(4, '10:00', '2025-06-12', 1, 2)\n"
     ]
    }
   ],
   "source": [
    "# check whether the database is updated\n",
    "\n",
    "conn = sqlite3.connect(DB_PATH) \n",
    "cursor = conn.cursor()\n",
    "\n",
    "for row in cursor.execute(\"SELECT * FROM Appointment\"):\n",
    "    print(row)"
   ]
  },
  {
   "cell_type": "markdown",
   "id": "4ebb9f77",
   "metadata": {},
   "source": [
    "### 8. Tools for Search the appointment and update that appoinment\n",
    "\n",
    "This tools are responsible for search the booked appointment and Update if user confirm "
   ]
  },
  {
   "cell_type": "code",
   "execution_count": 161,
   "id": "d35e8798",
   "metadata": {},
   "outputs": [],
   "source": [
    "# 1. tool search the appointment by Id\n",
    "# above tool can be used for that \n",
    "\n",
    "# 2. tool search for doctor\n",
    "# this tool gives the doctor id \n",
    "\n",
    "# 3. tool search for doctor availability\n",
    "# this tool search if the doctor is available at given time \n",
    "\n",
    "@tool\n",
    "def update_appointment(appointment_id: int, date: str, time: str) -> str:\n",
    "    \"\"\"\n",
    "    Update an existing appointment to a new date and time if the doctor is available.\n",
    "\n",
    "    Args:\n",
    "        appointment_id (int): ID of the appointment to update.\n",
    "        date (str): New date in 'YYYY-MM-DD' format.\n",
    "        time (str): New time in 'HH:MM' format.\n",
    "\n",
    "    Returns:\n",
    "        str: JSON string with success/failure status and message.\n",
    "    \"\"\"\n",
    "    conn = sqlite3.connect(DB_PATH)\n",
    "    cursor = conn.cursor()\n",
    "\n",
    "    # Get doctor ID from appointment\n",
    "    cursor.execute(\"SELECT Doctor_ID FROM Appointment WHERE Appointment_ID = ?\", (appointment_id,))\n",
    "    result = cursor.fetchone()\n",
    "    if not result:\n",
    "        conn.close()\n",
    "        return json.dumps({\"success\": False, \"message\": \"Appointment not found.\"})\n",
    "    \n",
    "    doctor_id = result[0]\n",
    "\n",
    "    # Check if doctor is available at new date and time\n",
    "    cursor.execute(\"\"\"\n",
    "        SELECT 1 FROM Appointment\n",
    "        WHERE Doctor_ID = ? AND Appointment_Date = ? AND Appointment_Time = ? AND Appointment_ID != ?\n",
    "    \"\"\", (doctor_id, date, time, appointment_id))\n",
    "    \n",
    "    if cursor.fetchone():\n",
    "        conn.close()\n",
    "        return json.dumps({\"success\": False, \"message\": \"Doctor is not available at the requested time.\"})\n",
    "\n",
    "    # Update the appointment\n",
    "    cursor.execute(\"\"\"\n",
    "        UPDATE Appointment\n",
    "        SET Appointment_Date = ?, Appointment_Time = ?\n",
    "        WHERE Appointment_ID = ?\n",
    "    \"\"\", (date, time, appointment_id))\n",
    "    \n",
    "    conn.commit()\n",
    "    conn.close()\n",
    "\n",
    "    return json.dumps({\"success\": True, \"message\": \"Appointment updated successfully.\"})"
   ]
  },
  {
   "cell_type": "code",
   "execution_count": 162,
   "id": "e773414f",
   "metadata": {},
   "outputs": [
    {
     "name": "stdout",
     "output_type": "stream",
     "text": [
      "{'search_for_appointment', 'cancel_appointment'}\n"
     ]
    }
   ],
   "source": [
    "\n",
    "VALID_CANCEL_TOOLS = {tool.name for tool in cancel_appointment_tools}\n",
    "VALID_BOOK_TOOLS = {tool.__repr_name__ for tool in book_appointment_tools}\n",
    "\n",
    "print(VALID_CANCEL_TOOLS)"
   ]
  },
  {
   "cell_type": "code",
   "execution_count": 163,
   "id": "8c25e7f4",
   "metadata": {},
   "outputs": [],
   "source": [
    "from langchain_core.prompts import ChatPromptTemplate\n",
    "from datetime import datetime\n",
    "from langgraph.checkpoint.memory import MemorySaver\n",
    "from langgraph.graph import END, StateGraph, START\n",
    "from langgraph.prebuilt import tools_condition\n",
    "\n",
    "update_appointment_prompt = ChatPromptTemplate.from_messages(\n",
    "    [\n",
    "        (\n",
    "            \"system\",\n",
    "            \"You are a specialized assistant for handling doctor appointment rescheduling. \"\n",
    "            \"The primary assistant delegates work to you whenever the user wants to change the date or time of a scheduled appointment. \"\n",
    "            \"Start by verifying the appointment ID using the appropriate tool. \"\n",
    "            \"Then check the doctor's availability at the new requested date and time. \"\n",
    "            \"Only proceed with the update if the doctor is available and the appointment exists. \"\n",
    "            \"If the doctor is unavailable, offer alternative time slots or ask the user for a different time. \"\n",
    "            \"Always confirm the user's intent and ensure all tools complete successfully before confirming the update.\"\n",
    "            \"Do not invoke handoff_to_reschedule_appointment tool.\"\n",
    "            \"\\n\\nAvailable tools:\\n\"\n",
    "            \"- `search_for_appointment`: Use to fetch and validate an existing appointment by ID.\\n\"\n",
    "            \"- `check_doctor_availability`: Use to verify if the doctor is free at the new requested date/time.\\n\"\n",
    "            \"- `search_for_doctor`: Use to retrieve doctor info if needed (e.g., ID or specialties).\\n\"\n",
    "            \"- `update_appointment`: Use to reschedule the appointment once all conditions are met.\\n\"\n",
    "            \"- `CompleteOrEscalate`: Use to transfer to the main assistant for unsupported requests.\"\n",
    "            \"\\n\\nCurrent time: {time}.\"\n",
    "            \"\\n\\nSome examples where you should CompleteOrEscalate:\\n\"\n",
    "            \" - 'I want to cancel my appointment instead'\\n\"\n",
    "            \" - 'Do you know the doctor's specialties?'\\n\"\n",
    "            \" - 'Actually I’ll call the hospital directly'\\n\"\n",
    "            \" - 'Appointment already updated elsewhere'\\n\",\n",
    "        ),\n",
    "        (\"placeholder\", \"{messages}\"),\n",
    "    ]\n",
    ").partial(time=datetime.now())\n",
    "\n",
    "# tools for update the appoinment\n",
    "update_appointment_tools = [check_doctor_availability, search_for_doctor, update_appointment, search_for_appointment]\n",
    "llm_with_update_appointment_tools = llm.bind_tools(\n",
    "    update_appointment_tools + [CompleteOrEscalate]\n",
    ")\n",
    "\n",
    "update_appointment_runnable = update_appointment_prompt | llm_with_book_appointment_tools\n",
    "\n",
    "VALID_UPDATE_TOOLS = {tool.name for tool in update_appointment_tools}\n",
    "VALID_CANCEL_TOOLS = {tool.name for tool in cancel_appointment_tools}\n",
    "VALID_BOOK_TOOLS = {tool.name for tool in book_appointment_tools}\n",
    "\n",
    "# this is conditional edge to route update appoinment agent tools\n",
    "def route_reschedule_assistant(state: State):\n",
    "    route = tools_condition(state)\n",
    "    # if the llm answered and go to the end\n",
    "    if route == END:\n",
    "        return END\n",
    "    tool_calls = state[\"messages\"][-1].tool_calls\n",
    "    tool_calls_name_dict = {tool[\"name\"] for tool in tool_calls}\n",
    "\n",
    "    # if it call tool name complete navigate to leave_skill\n",
    "    did_cancel = any(tc[\"name\"] == CompleteOrEscalate.__name__ for tc in tool_calls)\n",
    "    if did_cancel:\n",
    "        return \"leave_skill\"\n",
    "    \n",
    "    # if not valid tool is called go to the end\n",
    "    if not tool_calls_name_dict.issubset(VALID_UPDATE_TOOLS):\n",
    "        return END \n",
    "    \n",
    "    # if it call other tool route to reschedule_tools node\n",
    "    return \"reschedule_tools\"\n",
    "\n",
    "# this is conditional edge to route update appoinment agent tools\n",
    "def route_new_assistant(state: State):\n",
    "    route = tools_condition(state)\n",
    "    # if the llm answered and go to the end\n",
    "    if route == END:\n",
    "        return END\n",
    "    tool_calls = state[\"messages\"][-1].tool_calls\n",
    "    tool_calls_name_dict = {tool[\"name\"] for tool in tool_calls}\n",
    "\n",
    "    # if it call tool name complete navigate to leave_skill\n",
    "    did_cancel = any(tc[\"name\"] == CompleteOrEscalate.__name__ for tc in tool_calls)\n",
    "    if did_cancel:\n",
    "        return \"leave_skill\"\n",
    "    \n",
    "    # if not valid tool is called go to the end\n",
    "    if not tool_calls_name_dict.issubset(VALID_BOOK_TOOLS):\n",
    "        return END \n",
    "    \n",
    "    # if it call other tool route to reschedule_tools node\n",
    "    return \"new_appointment_tools\"\n",
    "\n",
    "# this is conditional edge to route update appoinment agent tools\n",
    "def route_cancel_assistant(state: State):\n",
    "    route = tools_condition(state)\n",
    "    # if the llm answered and go to the end\n",
    "    if route == END:\n",
    "        return END\n",
    "    tool_calls = state[\"messages\"][-1].tool_calls\n",
    "    tool_calls_name_dict = {tool[\"name\"] for tool in tool_calls}\n",
    "    \n",
    "    # if it call tool name complete navigate to leave_skill\n",
    "    did_cancel = any(tc[\"name\"] == CompleteOrEscalate.__name__ for tc in tool_calls)\n",
    "    if did_cancel:\n",
    "        return \"leave_skill\"\n",
    "    \n",
    "    # if not valid tool is called go to the end\n",
    "    if not tool_calls_name_dict.issubset(VALID_CANCEL_TOOLS):\n",
    "        return END \n",
    "    \n",
    "    # if it call other tool route to reschedule_tools node\n",
    "    return \"cancel_appointment_tools\""
   ]
  },
  {
   "cell_type": "markdown",
   "id": "c340bec0",
   "metadata": {},
   "source": [
    "### 9. Make sub graph for update an appointment when user need\n",
    "\n",
    "This is sample graph for cancel an appointment  "
   ]
  },
  {
   "cell_type": "code",
   "execution_count": 164,
   "id": "c2a84872",
   "metadata": {},
   "outputs": [
    {
     "data": {
      "image/png": "[encoded data removed]",
      "text/plain": [
       "<IPython.core.display.Image object>"
      ]
     },
     "metadata": {},
     "output_type": "display_data"
    }
   ],
   "source": [
    "# make the graph responsible for update the appointment\n",
    "graph_builder_update = StateGraph(State)\n",
    "\n",
    "graph_builder_update.add_node(\"tools\", ToolNode(update_appointment_tools))\n",
    "graph_builder_update.add_node(\"assistant\", Assistant(update_appointment_runnable))\n",
    "graph_builder_update.add_edge(\"tools\", \"assistant\")\n",
    "graph_builder_update.add_conditional_edges(\"assistant\", tools_condition)\n",
    "graph_builder_update.set_entry_point(\"assistant\")\n",
    "\n",
    "memory_update = MemorySaver()\n",
    "graph_update = graph_builder_update.compile(checkpointer=memory_update)\n",
    "\n",
    "from IPython.display import Image, display\n",
    "\n",
    "try:\n",
    "    display(Image(graph_cancel.get_graph().draw_mermaid_png()))\n",
    "except Exception:\n",
    "    pass"
   ]
  },
  {
   "cell_type": "code",
   "execution_count": 69,
   "id": "67d480c5",
   "metadata": {},
   "outputs": [
    {
     "name": "stderr",
     "output_type": "stream",
     "text": [
      "Key 'example' is not supported in schema, ignoring\n",
      "Key 'example 2' is not supported in schema, ignoring\n",
      "Key 'example 3' is not supported in schema, ignoring\n",
      "Key 'example' is not supported in schema, ignoring\n",
      "Key 'example 2' is not supported in schema, ignoring\n",
      "Key 'example 3' is not supported in schema, ignoring\n"
     ]
    },
    {
     "name": "stdout",
     "output_type": "stream",
     "text": [
      "{'assistant': {'messages': AIMessage(content='', additional_kwargs={'function_call': {'name': 'CompleteOrEscalate', 'arguments': '{\"reason\": \"I need more information to reschedule your appointment. Please provide the appointment ID, and the desired new date and time.\"}'}}, response_metadata={'prompt_feedback': {'block_reason': 0, 'safety_ratings': []}, 'finish_reason': 'STOP', 'model_name': 'models/gemini-2.5-flash-preview-05-20', 'safety_ratings': []}, id='run--ac5cd140-12c7-4752-baf2-7b653cf45e84-0', tool_calls=[{'name': 'CompleteOrEscalate', 'args': {'reason': 'I need more information to reschedule your appointment. Please provide the appointment ID, and the desired new date and time.'}, 'id': '5e2b2687-cbd0-4259-be69-f76b38595035', 'type': 'tool_call'}], usage_metadata={'input_tokens': 824, 'output_tokens': 37, 'total_tokens': 1010, 'input_token_details': {'cache_read': 0}}), 'dialog_state': None}}\n",
      "{'tools': {'messages': [ToolMessage(content='Error: CompleteOrEscalate is not a valid tool, try one of [check_doctor_availability, search_for_doctor, update_appointment, search_for_appointment].', name='CompleteOrEscalate', id='8e3cc529-ed95-4e3b-ac16-4024facc7c21', tool_call_id='5e2b2687-cbd0-4259-be69-f76b38595035', status='error')]}}\n"
     ]
    },
    {
     "name": "stderr",
     "output_type": "stream",
     "text": [
      "Key 'example' is not supported in schema, ignoring\n",
      "Key 'example 2' is not supported in schema, ignoring\n",
      "Key 'example 3' is not supported in schema, ignoring\n"
     ]
    },
    {
     "name": "stdout",
     "output_type": "stream",
     "text": [
      "{'assistant': {'messages': AIMessage(content='', additional_kwargs={'function_call': {'name': 'CompleteOrEscalate', 'arguments': '{\"reason\": \"I need more information to reschedule your appointment. Please provide the appointment ID, and the desired new date and time.\"}'}}, response_metadata={'prompt_feedback': {'block_reason': 0, 'safety_ratings': []}, 'finish_reason': 'STOP', 'model_name': 'models/gemini-2.5-flash-preview-05-20', 'safety_ratings': []}, id='run--5180800f-4184-483f-b459-ab9a3c6e3c0e-0', tool_calls=[{'name': 'CompleteOrEscalate', 'args': {'reason': 'I need more information to reschedule your appointment. Please provide the appointment ID, and the desired new date and time.'}, 'id': '51ca34ce-0d89-445a-b2ac-a1792ddee41d', 'type': 'tool_call'}], usage_metadata={'input_tokens': 824, 'output_tokens': 37, 'total_tokens': 1010, 'input_token_details': {'cache_read': 0}}), 'dialog_state': None}}\n",
      "{'tools': {'messages': [ToolMessage(content='Error: CompleteOrEscalate is not a valid tool, try one of [check_doctor_availability, search_for_doctor, update_appointment, search_for_appointment].', name='CompleteOrEscalate', id='1546630d-a2a4-40e5-921b-07e677a4670d', tool_call_id='51ca34ce-0d89-445a-b2ac-a1792ddee41d', status='error')]}}\n",
      "{'assistant': {'messages': AIMessage(content=\"I can help you with that. To reschedule your appointment, I need the appointment ID and the new date and time you'd like to move it to. Could you please provide these details?\", additional_kwargs={}, response_metadata={'prompt_feedback': {'block_reason': 0, 'safety_ratings': []}, 'finish_reason': 'STOP', 'model_name': 'models/gemini-2.5-flash-preview-05-20', 'safety_ratings': []}, id='run--83b937d5-69e6-4505-a41a-84a04f54173b-0', usage_metadata={'input_tokens': 914, 'output_tokens': 39, 'total_tokens': 1086, 'input_token_details': {'cache_read': 0}}), 'dialog_state': None}}\n"
     ]
    }
   ],
   "source": [
    "thread = {\"configurable\": {\"thread_id\": \"3\"}}\n",
    "inputs = {\"messages\": [{\"role\": \"user\", \"content\": \"I want to reshedule my appointment\"}]}\n",
    "for chunk in graph_update.stream(inputs, thread, stream_mode=\"updates\"):\n",
    "    print(chunk)"
   ]
  },
  {
   "cell_type": "code",
   "execution_count": 71,
   "id": "fdbfa50d",
   "metadata": {},
   "outputs": [
    {
     "name": "stderr",
     "output_type": "stream",
     "text": [
      "Key 'example' is not supported in schema, ignoring\n",
      "Key 'example 2' is not supported in schema, ignoring\n",
      "Key 'example 3' is not supported in schema, ignoring\n"
     ]
    },
    {
     "name": "stdout",
     "output_type": "stream",
     "text": [
      "{'assistant': {'messages': AIMessage(content='I have found your appointment with ID 4, currently scheduled for June 12, 2025, at 10:00 AM with Doctor ID 1.\\n\\nWhat new date and time would you like to reschedule your appointment to?', additional_kwargs={}, response_metadata={'prompt_feedback': {'block_reason': 0, 'safety_ratings': []}, 'finish_reason': 'STOP', 'model_name': 'models/gemini-2.5-flash-preview-05-20', 'safety_ratings': []}, id='run--3fe5b11e-33a4-4888-b58f-7e272140e824-0', usage_metadata={'input_tokens': 1145, 'output_tokens': 53, 'total_tokens': 1250, 'input_token_details': {'cache_read': 0}}), 'dialog_state': None}}\n"
     ]
    }
   ],
   "source": [
    "inputs = {\"messages\": [{\"role\": \"user\", \"content\": \"my appointment id is 4\"}]}\n",
    "for chunk in graph_update.stream(inputs, thread, stream_mode=\"updates\"):\n",
    "    print(chunk)"
   ]
  },
  {
   "cell_type": "code",
   "execution_count": 255,
   "id": "5cd7c603",
   "metadata": {},
   "outputs": [
    {
     "name": "stderr",
     "output_type": "stream",
     "text": [
      "Key 'example' is not supported in schema, ignoring\n",
      "Key 'example 2' is not supported in schema, ignoring\n",
      "Key 'example 3' is not supported in schema, ignoring\n"
     ]
    },
    {
     "name": "stdout",
     "output_type": "stream",
     "text": [
      "{'assistant': {'messages': AIMessage(content='You want to reschedule your appointment with ID 4 to June 6th at 10 AM. To proceed, I need to know the current date and time of this appointment, and the ID of the doctor you are scheduled with.', additional_kwargs={}, response_metadata={'prompt_feedback': {'block_reason': 0, 'safety_ratings': []}, 'finish_reason': 'STOP', 'model_name': 'models/gemini-2.5-flash-preview-05-20', 'safety_ratings': []}, id='run--324c97c6-c865-4ab2-83e6-5c418ce0e775-0', usage_metadata={'input_tokens': 930, 'output_tokens': 48, 'total_tokens': 3351, 'input_token_details': {'cache_read': 0}}), 'dialog_state': None}}\n"
     ]
    }
   ],
   "source": [
    "inputs = {\"messages\": [{\"role\": \"user\", \"content\": \"i want to shedule at 10 am 6 th June\"}]}\n",
    "for chunk in graph_update.stream(inputs, thread, stream_mode=\"updates\"):\n",
    "    print(chunk)"
   ]
  },
  {
   "cell_type": "code",
   "execution_count": 31,
   "id": "ffc2d701",
   "metadata": {},
   "outputs": [
    {
     "name": "stderr",
     "output_type": "stream",
     "text": [
      "Key 'example' is not supported in schema, ignoring\n",
      "Key 'example 2' is not supported in schema, ignoring\n",
      "Key 'example 3' is not supported in schema, ignoring\n"
     ]
    },
    {
     "name": "stdout",
     "output_type": "stream",
     "text": [
      "{'assistant': {'messages': AIMessage(content=\"I understand you want to reschedule your appointment to June 6th, 2025, at 12 PM. I still need the following information to proceed:\\n\\n1.  The original date and time of your appointment.\\n2.  The ID of the doctor for this appointment.\\n\\nOnce I have these details, I can check the doctor's availability and reschedule your appointment.\", additional_kwargs={}, response_metadata={'prompt_feedback': {'block_reason': 0, 'safety_ratings': []}, 'finish_reason': 'STOP', 'model_name': 'models/gemini-2.5-flash-preview-05-20', 'safety_ratings': []}, id='run--ecee14e2-32ec-4a09-af5b-af1b1bec56f5-0', usage_metadata={'input_tokens': 1073, 'output_tokens': 81, 'total_tokens': 1210, 'input_token_details': {'cache_read': 0}}), 'dialog_state': None}}\n"
     ]
    }
   ],
   "source": [
    "inputs = {\"messages\": [{\"role\": \"user\", \"content\": \"i want to shedule at 12 PM noon 6 th June 2025\"}]}\n",
    "for chunk in graph_update.stream(inputs, thread, stream_mode=\"updates\"):\n",
    "    print(chunk)"
   ]
  },
  {
   "cell_type": "code",
   "execution_count": 256,
   "id": "1088221c",
   "metadata": {},
   "outputs": [
    {
     "name": "stderr",
     "output_type": "stream",
     "text": [
      "Key 'example' is not supported in schema, ignoring\n",
      "Key 'example 2' is not supported in schema, ignoring\n",
      "Key 'example 3' is not supported in schema, ignoring\n",
      "Key 'example' is not supported in schema, ignoring\n",
      "Key 'example 2' is not supported in schema, ignoring\n",
      "Key 'example 3' is not supported in schema, ignoring\n"
     ]
    },
    {
     "name": "stdout",
     "output_type": "stream",
     "text": [
      "{'assistant': {'messages': AIMessage(content='', additional_kwargs={'function_call': {'name': 'check_doctor_availability', 'arguments': '{\"doctor_id\": 2.0, \"date\": \"2025-06-06\", \"time\": \"10:00\"}'}}, response_metadata={'prompt_feedback': {'block_reason': 0, 'safety_ratings': []}, 'finish_reason': 'STOP', 'model_name': 'models/gemini-2.5-flash-preview-05-20', 'safety_ratings': []}, id='run--0ab1ef90-e4f4-4a1a-95ee-b8fd45d82c81-0', tool_calls=[{'name': 'check_doctor_availability', 'args': {'doctor_id': 2.0, 'date': '2025-06-06', 'time': '10:00'}, 'id': '98096f80-6818-4c5b-be17-185877e9b14c', 'type': 'tool_call'}], usage_metadata={'input_tokens': 985, 'output_tokens': 42, 'total_tokens': 1261, 'input_token_details': {'cache_read': 0}}), 'dialog_state': None}}\n",
      "{'tools': {'messages': [ToolMessage(content='{\"available\": true}', name='check_doctor_availability', id='d651e308-2874-4beb-82af-fa48dcbb33c9', tool_call_id='98096f80-6818-4c5b-be17-185877e9b14c')]}}\n",
      "{'assistant': {'messages': AIMessage(content='The doctor is available on June 6th at 10 AM. However, I am unable to directly reschedule the appointment with the tools I have. Would you like me to escalate this to the main assistant to help you with rescheduling?', additional_kwargs={}, response_metadata={'prompt_feedback': {'block_reason': 0, 'safety_ratings': []}, 'finish_reason': 'STOP', 'model_name': 'models/gemini-2.5-flash-preview-05-20', 'safety_ratings': []}, id='run--56702126-7748-4529-a2c9-062d8d0d36b7-0', usage_metadata={'input_tokens': 1043, 'output_tokens': 48, 'total_tokens': 1303, 'input_token_details': {'cache_read': 0}}), 'dialog_state': None}}\n"
     ]
    }
   ],
   "source": [
    "inputs = {\"messages\": [{\"role\": \"user\", \"content\": \"doctor id is 2\"}]}\n",
    "for chunk in graph_update.stream(inputs, thread, stream_mode=\"updates\"):\n",
    "    print(chunk)"
   ]
  },
  {
   "cell_type": "code",
   "execution_count": null,
   "id": "008e553a",
   "metadata": {},
   "outputs": [],
   "source": [
    "# check whether the database is updated\n",
    "\n",
    "conn = sqlite3.connect(DB_PATH) \n",
    "cursor = conn.cursor()\n",
    "\n",
    "for row in cursor.execute(\"SELECT * FROM Appointment\"):\n",
    "    print(row)"
   ]
  },
  {
   "cell_type": "code",
   "execution_count": null,
   "id": "80a25b6f",
   "metadata": {},
   "outputs": [],
   "source": [
    "from pydantic import __version__\n",
    "__version__"
   ]
  },
  {
   "cell_type": "markdown",
   "id": "0cebb346",
   "metadata": {},
   "source": [
    "### 9. Handling the multi agent systems\n",
    "\n",
    "When pass to the other agent the primary agent (Supervisor) ensure that all the data is gathered to pass to the specialized agent.\n",
    "\n",
    "1. reschedule : reschedule an appointment based on the user booked id and the doctor availability \n",
    "2. cancel : cancel an appointment based on user provide appoinment id\n",
    "3. new : book an new appointment based on user time and the doctor availability \n",
    "\n",
    "these are the 3 main agent state "
   ]
  },
  {
   "cell_type": "code",
   "execution_count": 165,
   "id": "393aa309",
   "metadata": {},
   "outputs": [],
   "source": [
    "from typing import Callable\n",
    "from langchain_core.messages import ToolMessage\n",
    "\n",
    "# create a entry node for each of the specialized agents\n",
    "def create_entry_node(assistant_name: str, new_dialog_state: str) -> Callable:\n",
    "    def entry_node(state: State) -> dict:\n",
    "        tool_call_id = state[\"messages\"][-1].tool_calls[0][\"id\"]\n",
    "        return {\n",
    "            \"messages\": [\n",
    "                ToolMessage(\n",
    "                    content=f\"The assistant is now the {assistant_name}. Reflect on the above conversation between the host assistant and the user.\"\n",
    "                    f\" The user's intent is unsatisfied. Use the provided tools to assist the user.\"\n",
    "                    \" booking, update, other action is not complete until after you have successfully invoked the appropriate tool.\"\n",
    "                    \" If the user changes their mind or needs help for other tasks, call the CompleteOrEscalate function to let the primary host assistant take control.\"\n",
    "                    \" Do not mention who you are - just act as the proxy for the assistant.\",\n",
    "                    tool_call_id=tool_call_id,\n",
    "                )\n",
    "            ],\n",
    "            \"dialog_state\": new_dialog_state,\n",
    "        }\n",
    "\n",
    "    return entry_node"
   ]
  },
  {
   "cell_type": "markdown",
   "id": "ed31748b",
   "metadata": {},
   "source": [
    "### 10. Make tools for call by the primary agent \n",
    "\n",
    "This tool will deside the paths of the agent"
   ]
  },
  {
   "cell_type": "code",
   "execution_count": 166,
   "id": "3388f07f",
   "metadata": {},
   "outputs": [],
   "source": [
    "from pydantic import BaseModel, Field\n",
    "\n",
    "# this tool is called when the supervisor deside to hand over to the reshedule agent\n",
    "class handoff_to_reschedule_appointment(BaseModel):\n",
    "    \"\"\"Transfers work to a specialized assistant to reschedule the appointment with a doctor.\"\"\"\n",
    "    request: str = Field(\n",
    "        description=\"Any necessary follow-up questions the reschedule assistant should clarify before proceeding.\"\n",
    "    )\n",
    "\n",
    "class handoff_to_cancel_appointment(BaseModel):\n",
    "    \"\"\"Transfers work to a specialized assistant to cancel an appointment with a doctor.\"\"\"\n",
    "    request: str = Field(\n",
    "        description=\"Any necessary follow-up questions the cancellation assistant should clarify before proceeding.\"\n",
    "    )\n",
    "\n",
    "class handoff_to_new_appointment(BaseModel):\n",
    "    \"\"\"Transfers work to a specialized assistant to book a new appointment with a doctor.\"\"\"\n",
    "    request: str = Field(\n",
    "        description=\"Any necessary follow-up questions the booking assistant should clarify before proceeding.\"\n",
    "    )"
   ]
  },
  {
   "cell_type": "code",
   "execution_count": 167,
   "id": "8e4a1aaf",
   "metadata": {},
   "outputs": [],
   "source": [
    "from langchain_core.prompts import ChatPromptTemplate\n",
    "from datetime import datetime\n",
    "\n",
    "primary_assistant_prompt = ChatPromptTemplate.from_messages(\n",
    "    [\n",
    "        (\n",
    "            \"system\",\n",
    "            \"You are a helpful customer support assistant for a medical clinic. \"\n",
    "            \"Your primary role is to answer general inquiries and assist with doctor availability and appointment information. \"\n",
    "            \"If a user wants to book a new appointment, cancel an existing one, or reschedule, \"\n",
    "            \"quietly delegate the task to the appropriate specialized assistant using the correct tool. \"\n",
    "            \"You do not handle bookings or cancellations directly—only the specialized assistants have that permission.\"\n",
    "            \"The user is unaware of these assistants, so do not mention them—just make the necessary function call quietly.\"\n",
    "            \"Always verify details and be thorough in providing accurate and helpful information.\"\n",
    "            \"\\nCurrent time: {time}.\",\n",
    "        ),\n",
    "        (\"placeholder\", \"{messages}\"),\n",
    "    ]\n",
    ").partial(time=datetime.now)\n",
    "\n",
    "# tools that are with primary assistant\n",
    "primary_assistant_tools = [handoff_to_reschedule_appointment,\n",
    "                            handoff_to_cancel_appointment,\n",
    "                            handoff_to_new_appointment,\n",
    "                            check_doctor_availability, \n",
    "                            search_for_doctor,]\n",
    "\n",
    "llm_with_primary_assistant_tools = llm.bind_tools(primary_assistant_tools)\n",
    "# Specialized assistants for appointment management\n",
    "primary_assistant_runnable = primary_assistant_prompt | llm_with_primary_assistant_tools"
   ]
  },
  {
   "cell_type": "code",
   "execution_count": 168,
   "id": "8f6fa269",
   "metadata": {},
   "outputs": [],
   "source": [
    "# This node will be shared for exiting all specialized assistants\n",
    "# this node will share when it leave the skill and when it called it set state as \n",
    "def pop_dialog_state(state: State) -> dict:\n",
    "    \"\"\"Pop the dialog stack and return to the main assistant.\n",
    "\n",
    "    This lets the full graph explicitly track the dialog flow and delegate control\n",
    "    to specific sub-graphs.\n",
    "    \"\"\"\n",
    "    # when it return to the main assistant only provide the reason to that \n",
    "    messages = [state.get(\"messages\")[-1]]\n",
    "    print(\"debug: \",messages)\n",
    "    if state[\"messages\"][-1].tool_calls:\n",
    "        # Note: Doesn't currently handle the edge case where the llm performs parallel tool calls\n",
    "        messages.append(\n",
    "            ToolMessage(\n",
    "                content=\"Resuming dialog with the host assistant. Please reflect on the past conversation and assist the user as needed.\",\n",
    "                tool_call_id=state[\"messages\"][-1].tool_calls[0][\"id\"],\n",
    "            )\n",
    "        )\n",
    "    return {\n",
    "        \"dialog_state\": \"pop\",\n",
    "        \"messages\": messages,\n",
    "    }"
   ]
  },
  {
   "cell_type": "code",
   "execution_count": 169,
   "id": "4f271455",
   "metadata": {},
   "outputs": [],
   "source": [
    "# condition for primary assistant routing\n",
    "def route_primary_assistant(\n",
    "    state: State,\n",
    "):\n",
    "    route = tools_condition(state)\n",
    "    if route == END:\n",
    "        return END\n",
    "    tool_calls = state[\"messages\"][-1].tool_calls\n",
    "    if tool_calls:\n",
    "        if tool_calls[0][\"name\"] == handoff_to_reschedule_appointment.__name__:\n",
    "            return \"enter_reschedule_appointment\"\n",
    "        elif tool_calls[0][\"name\"] == handoff_to_cancel_appointment.__name__:\n",
    "            return \"enter_cancel_appointment\"\n",
    "        elif tool_calls[0][\"name\"] == handoff_to_new_appointment.__name__:\n",
    "            return \"enter_new_appointment\"\n",
    "        return \"primary_assistant_tools\"\n",
    "    raise ValueError(\"Invalid route\")"
   ]
  },
  {
   "cell_type": "markdown",
   "id": "7a17e02d",
   "metadata": {},
   "source": [
    "### 11. User info node (condition and the node)\n",
    "\n",
    "This node use to route back to the correct workflow again when user again start the graph"
   ]
  },
  {
   "cell_type": "code",
   "execution_count": 170,
   "id": "04156bc2",
   "metadata": {},
   "outputs": [],
   "source": [
    "from typing import Annotated, Literal, Optional\n",
    "from langgraph.types import Command\n",
    "# condition to route again to current work flow from the start\n",
    "# this condition is checked at the user info node and route to correct node\n",
    "def route_to_workflow(\n",
    "    state: State,\n",
    ") -> Command[Literal[\n",
    "    \"primary_assistant\",\n",
    "    \"reschedule\",\n",
    "    \"cancel\",\n",
    "    \"new\",\n",
    "]]:\n",
    "    \"\"\"If we are in a delegated state, route directly to the appropriate assistant.\"\"\"\n",
    "    dialog_state = state.get(\"dialog_state\")\n",
    "    print(\"Current dialog State is : \",dialog_state)\n",
    "    if not dialog_state:\n",
    "        dialog_state = \"primary_assistant\"\n",
    "    print(\"debug: \",dialog_state[-1])\n",
    "    \n",
    "    return Command(\n",
    "        # state update\n",
    "        update={\"dialog_state\":None},\n",
    "        # control flow\n",
    "        goto=dialog_state\n",
    "    )\n",
    "\n",
    "# this is the first workflow routing node\n",
    "def user_info(state: State)-> State:\n",
    "    # simply do nothing to the state in the user info\n",
    "    return {\"dialog_state\":None}"
   ]
  },
  {
   "cell_type": "code",
   "execution_count": 171,
   "id": "0e967288",
   "metadata": {},
   "outputs": [],
   "source": [
    "from langchain_core.runnables import RunnableLambda\n",
    "\n",
    "from langchain_core.runnables import RunnableLambda\n",
    "from typing import List, Callable, Dict, Any\n",
    "import json\n",
    "\n",
    "# Fallback handler\n",
    "def handle_tool_error(err: Exception) -> str:\n",
    "    return json.dumps({\n",
    "        \"success\": False,\n",
    "        \"message\": f\"Tool execution failed: {str(err)}\"\n",
    "    })\n",
    "\n",
    "# Tool node wrapper with filtering and fallback\n",
    "def create_tool_node_with_fallback(tools: List[Callable]) -> Dict:\n",
    "    # Filter only tools that are not None and are callable\n",
    "    available_tools = [tool for tool in tools if callable(tool)]\n",
    "\n",
    "    if not available_tools:\n",
    "        # No tools are available\n",
    "        return RunnableLambda(lambda _: json.dumps({\n",
    "            \"success\": False,\n",
    "            \"message\": \"No available tool found. Please try a different one.\"\n",
    "        }))\n",
    "\n",
    "    # Create ToolNode and attach fallback\n",
    "    return ToolNode(available_tools,handle_tool_errors=(\n",
    "        \"Can't use 42 as a first operand, you must switch operands!\"  \n",
    "    )).with_fallbacks(\n",
    "        [RunnableLambda(handle_tool_error)], exception_key=\"error\"\n",
    "    )"
   ]
  },
  {
   "cell_type": "markdown",
   "id": "ac423353",
   "metadata": {},
   "source": [
    "### 12. Make the connections to all agents\n",
    "\n",
    "This contain the all the connection between Supervisor and the specialized agents"
   ]
  },
  {
   "cell_type": "code",
   "execution_count": 184,
   "id": "90d11daa",
   "metadata": {},
   "outputs": [
    {
     "data": {
      "image/png": "[encoded data removed]",
      "text/plain": [
       "<IPython.core.display.Image object>"
      ]
     },
     "metadata": {},
     "output_type": "display_data"
    }
   ],
   "source": [
    "from langgraph.graph import StateGraph\n",
    "from langgraph.prebuilt import tools_condition,ToolNode\n",
    "\n",
    "# make the simple graph to test the functionality\n",
    "all_graph_builder = StateGraph(State)\n",
    "\n",
    "# add nodes\n",
    "all_graph_builder.add_node(\"user_info\", route_to_workflow)\n",
    "all_graph_builder.add_node(\"primary_assistant\", Assistant(primary_assistant_runnable))\n",
    "all_graph_builder.add_node(\"reschedule\", Assistant(update_appointment_runnable))\n",
    "all_graph_builder.add_node(\"cancel\", Assistant(cancel_appointment_runnable))\n",
    "all_graph_builder.add_node(\"new\", Assistant(book_appointment_runnable))\n",
    "\n",
    "# add leave skill node\n",
    "all_graph_builder.add_node(\"leave_skill\", pop_dialog_state)\n",
    "\n",
    "# make a entry node to the new appointment\n",
    "all_graph_builder.add_node(\"enter_new_appointment\", create_entry_node(\"new_appointment_booking\", \"new\"))\n",
    "all_graph_builder.add_node(\"enter_cancel_appointment\", create_entry_node(\"cancel_appointment\", \"cancel\"))\n",
    "all_graph_builder.add_node(\"enter_reschedule_appointment\", create_entry_node(\"reschedule_appointment\", \"reschedule\"))\n",
    "all_graph_builder.add_node(\"primary_assistant_tools\", create_tool_node_with_fallback(primary_assistant_tools))\n",
    "\n",
    "# add node to connect to the each specialized assistant\n",
    "# \"reschedule_tools\" \n",
    "# \"cancel_appointment_tools\" \"new_appointment_tools\"\n",
    "all_graph_builder.add_node(\"reschedule_tools\", create_tool_node_with_fallback(update_appointment_tools))\n",
    "all_graph_builder.add_node(\"cancel_appointment_tools\", create_tool_node_with_fallback(cancel_appointment_tools))\n",
    "all_graph_builder.add_node(\"new_appointment_tools\", create_tool_node_with_fallback(book_appointment_tools))\n",
    "\n",
    "# again route back to the current node as react agent\n",
    "all_graph_builder.add_edge(\"reschedule_tools\", \"reschedule\")\n",
    "all_graph_builder.add_edge(\"cancel_appointment_tools\", \"cancel\")\n",
    "all_graph_builder.add_edge(\"new_appointment_tools\", \"new\")\n",
    "\n",
    "# add the entry level connections to primary assistant\n",
    "all_graph_builder.add_edge(START, \"user_info\")\n",
    "all_graph_builder.add_edge(\"user_info\", \"primary_assistant\")\n",
    "all_graph_builder.add_conditional_edges(\"primary_assistant\", route_primary_assistant,\n",
    "                                        [\"primary_assistant_tools\",\n",
    "                                         \"enter_new_appointment\",\n",
    "                                         \"enter_cancel_appointment\",\n",
    "                                         \"enter_reschedule_appointment\",\n",
    "                                         END])\n",
    "all_graph_builder.add_edge(\"primary_assistant_tools\", \"primary_assistant\")\n",
    "\n",
    "# make connections to each specialized agents\n",
    "all_graph_builder.add_edge(\"enter_new_appointment\", \"new\")\n",
    "all_graph_builder.add_edge(\"enter_cancel_appointment\", \"cancel\")\n",
    "all_graph_builder.add_edge(\"enter_reschedule_appointment\", \"reschedule\")\n",
    "\n",
    "# connect leave skill to primary assistant\n",
    "all_graph_builder.add_edge(\"leave_skill\", \"primary_assistant\")\n",
    "\n",
    "\n",
    "# add routing to tools and leave skill and end to each assistant\n",
    "all_graph_builder.add_conditional_edges(\"new\", route_new_assistant, [\"leave_skill\",\"new_appointment_tools\",END])\n",
    "all_graph_builder.add_conditional_edges(\"cancel\", route_cancel_assistant, [\"leave_skill\",\"cancel_appointment_tools\",END])\n",
    "all_graph_builder.add_conditional_edges(\"reschedule\", route_reschedule_assistant, [\"leave_skill\",\"reschedule_tools\",END])\n",
    "\n",
    "memory_all = MemorySaver()\n",
    "all_graph = all_graph_builder.compile(checkpointer= memory_all)\n",
    "\n",
    "from IPython.display import Image, display\n",
    "from langchain_core.runnables.graph import CurveStyle, MermaidDrawMethod, NodeStyles\n",
    "\n",
    "display(Image(all_graph.get_graph(xray=True).draw_mermaid_png(curve_style=CurveStyle.LINEAR,\n",
    "            node_colors=NodeStyles(first=\"#ffdfba\", last=\"#baffc9\", default=\"#fad7de\"),\n",
    "            wrap_label_n_words=9,\n",
    "            output_file_path=None,\n",
    "            background_color=\"white\",\n",
    "            padding=10,)))"
   ]
  },
  {
   "cell_type": "code",
   "execution_count": 173,
   "id": "0e1537aa",
   "metadata": {},
   "outputs": [],
   "source": [
    "def _print_event(event: dict, _printed: set, max_length=1500):\n",
    "    current_state = event.get(\"dialog_state\")\n",
    "    if current_state:\n",
    "        print(\"Currently in: \", current_state[-1])\n",
    "    message = event.get(\"messages\")\n",
    "    if message:\n",
    "        if isinstance(message, list):\n",
    "            message = message[-1]\n",
    "        if message.id not in _printed:\n",
    "            msg_repr = message.pretty_repr(html=True)\n",
    "            if len(msg_repr) > max_length:\n",
    "                msg_repr = msg_repr[:max_length] + \" ... (truncated)\"\n",
    "            print(msg_repr)\n",
    "            _printed.add(message.id)"
   ]
  },
  {
   "cell_type": "markdown",
   "id": "8bf99953",
   "metadata": {},
   "source": [
    "### 13. Debug the agent using langfuse"
   ]
  },
  {
   "cell_type": "code",
   "execution_count": 174,
   "id": "6fc2ff08",
   "metadata": {},
   "outputs": [],
   "source": [
    "from langfuse import Langfuse\n",
    "import os\n",
    "\n",
    "langfuse = Langfuse(\n",
    "  secret_key=\"sk-lf-dc4b0843-f2de-4bd8-aea0-f852d023b234\",\n",
    "  public_key=\"pk-lf-95bfeee2-5ed3-4ea7-ae8e-a84c0e1d8277\",\n",
    "  host=\"https://cloud.langfuse.com\"\n",
    ")\n",
    "\n",
    "# get keys for your project from https://cloud.langfuse.com\n",
    "os.environ[\"LANGFUSE_PUBLIC_KEY\"] = \"pk-lf-95bfeee2-5ed3-4ea7-ae8e-a84c0e1d8277\"\n",
    "os.environ[\"LANGFUSE_SECRET_KEY\"] = \"sk-lf-dc4b0843-f2de-4bd8-aea0-f852d023b234\""
   ]
  },
  {
   "cell_type": "code",
   "execution_count": 175,
   "id": "133146ce",
   "metadata": {},
   "outputs": [],
   "source": [
    "from langfuse.callback import CallbackHandler\n",
    "\n",
    "# Initialize Langfuse CallbackHandler for Langchain (tracing)\n",
    "langfuse_handler = CallbackHandler()"
   ]
  },
  {
   "cell_type": "code",
   "execution_count": null,
   "id": "6a377edc",
   "metadata": {},
   "outputs": [
    {
     "name": "stdout",
     "output_type": "stream",
     "text": [
      "Currently in:  primary_assistant\n",
      "================================\u001b[1m Human Message \u001b[0m=================================\n",
      "\n",
      "book with appointment with Alice\n",
      "Current dialog State is :  ['primary_assistant']\n",
      "debug:  primary_assistant\n",
      "Currently in:  primary_assistant\n"
     ]
    },
    {
     "name": "stderr",
     "output_type": "stream",
     "text": [
      "Key 'example' is not supported in schema, ignoring\n",
      "Key 'example 2' is not supported in schema, ignoring\n",
      "Key 'example 3' is not supported in schema, ignoring\n"
     ]
    },
    {
     "name": "stdout",
     "output_type": "stream",
     "text": [
      "Currently in:  primary_assistant\n",
      "==================================\u001b[1m Ai Message \u001b[0m==================================\n",
      "Tool Calls:\n",
      "  handoff_to_new_appointment (e89a1601-b6b6-4f27-98d7-494a48c5300b)\n",
      " Call ID: e89a1601-b6b6-4f27-98d7-494a48c5300b\n",
      "  Args:\n",
      "    request: The user wants to book an appointment with Alice.\n",
      "Currently in:  new\n",
      "=================================\u001b[1m Tool Message \u001b[0m=================================\n",
      "\n",
      "The assistant is now the new_appointment_booking. Reflect on the above conversation between the host assistant and the user. The user's intent is unsatisfied. Use the provided tools to assist the user. booking, update, other action is not complete until after you have successfully invoked the appropriate tool. If the user changes their mind or needs help for other tasks, call the CompleteOrEscalate function to let the primary host assistant take control. Do not mention who you are - just act as the proxy for the assistant.\n"
     ]
    },
    {
     "name": "stderr",
     "output_type": "stream",
     "text": [
      "Key 'example' is not supported in schema, ignoring\n",
      "Key 'example 2' is not supported in schema, ignoring\n",
      "Key 'example 3' is not supported in schema, ignoring\n"
     ]
    },
    {
     "name": "stdout",
     "output_type": "stream",
     "text": [
      "Currently in:  new\n",
      "==================================\u001b[1m Ai Message \u001b[0m==================================\n",
      "Tool Calls:\n",
      "  search_for_doctor (1c4ceb8b-6fe6-4c52-a62b-cb40db6e1482)\n",
      " Call ID: 1c4ceb8b-6fe6-4c52-a62b-cb40db6e1482\n",
      "  Args:\n",
      "    name: Alice\n",
      "Currently in:  new\n",
      "=================================\u001b[1m Tool Message \u001b[0m=================================\n",
      "Name: search_for_doctor\n",
      "\n",
      "[{\"Doctor_ID\": 1, \"Doctor_Name\": \"Dr. Alice Smith\", \"Specialization\": \"Cardiology\", \"Location\": \"New York\", \"Rating\": 4.7}]\n",
      "Currently in:  new\n",
      "==================================\u001b[1m Ai Message \u001b[0m==================================\n",
      "\n",
      "I found Dr. Alice Smith. What date and time would you like to book the appointment?\n"
     ]
    }
   ],
   "source": [
    "thread = {\"configurable\": {\"thread_id\": \"1\"}, \"callbacks\": [langfuse_handler]}\n",
    "inputs = {\"messages\": [{\"role\": \"user\", \"content\": \"book with appointment with Alice\",}], \"dialog_state\":\"primary_assistant\"}\n",
    "\n",
    "_printed = set()\n",
    "for event in all_graph.stream(inputs, thread, stream_mode=\"values\"):\n",
    "    _print_event(event, _printed)"
   ]
  },
  {
   "cell_type": "code",
   "execution_count": 186,
   "id": "9174eb65",
   "metadata": {},
   "outputs": [
    {
     "name": "stderr",
     "output_type": "stream",
     "text": [
      "Key 'example' is not supported in schema, ignoring\n",
      "Key 'example 2' is not supported in schema, ignoring\n",
      "Key 'example 3' is not supported in schema, ignoring\n"
     ]
    },
    {
     "name": "stdout",
     "output_type": "stream",
     "text": [
      "Currently in:  new\n",
      "================================\u001b[1m Human Message \u001b[0m=================================\n",
      "\n",
      "I want to book at 2pm 15 th june 2025\n",
      "Current dialog State is :  ['primary_assistant', 'new', 'new']\n",
      "debug:  new\n",
      "Currently in:  new\n"
     ]
    },
    {
     "name": "stderr",
     "output_type": "stream",
     "text": [
      "Key 'example' is not supported in schema, ignoring\n",
      "Key 'example 2' is not supported in schema, ignoring\n",
      "Key 'example 3' is not supported in schema, ignoring\n"
     ]
    },
    {
     "name": "stdout",
     "output_type": "stream",
     "text": [
      "Currently in:  new\n",
      "==================================\u001b[1m Ai Message \u001b[0m==================================\n",
      "Tool Calls:\n",
      "  check_doctor_availability (4ac0baf8-b96a-42de-8ed6-8714e7d96934)\n",
      " Call ID: 4ac0baf8-b96a-42de-8ed6-8714e7d96934\n",
      "  Args:\n",
      "    doctor_id: 1.0\n",
      "    date: 2025-06-15\n",
      "    time: 14:00\n",
      "Currently in:  new\n",
      "=================================\u001b[1m Tool Message \u001b[0m=================================\n",
      "Name: check_doctor_availability\n",
      "\n",
      "{\"available\": \"doctor is available True\"}\n"
     ]
    },
    {
     "ename": "ChatGoogleGenerativeAIError",
     "evalue": "Invalid argument provided to Gemini: 400 * GenerateContentRequest.contents[8].parts: contents.parts must not be empty.\n",
     "output_type": "error",
     "traceback": [
      "\u001b[1;31m---------------------------------------------------------------------------\u001b[0m",
      "\u001b[1;31mInvalidArgument\u001b[0m                           Traceback (most recent call last)",
      "File \u001b[1;32mc:\\Users\\janit\\anaconda3\\envs\\torchenv\\Lib\\site-packages\\langchain_google_genai\\chat_models.py:188\u001b[0m, in \u001b[0;36m_chat_with_retry.<locals>._chat_with_retry\u001b[1;34m(**kwargs)\u001b[0m\n\u001b[0;32m    187\u001b[0m \u001b[38;5;28;01mtry\u001b[39;00m:\n\u001b[1;32m--> 188\u001b[0m     \u001b[38;5;28;01mreturn\u001b[39;00m \u001b[43mgeneration_method\u001b[49m\u001b[43m(\u001b[49m\u001b[38;5;241;43m*\u001b[39;49m\u001b[38;5;241;43m*\u001b[39;49m\u001b[43mkwargs\u001b[49m\u001b[43m)\u001b[49m\n\u001b[0;32m    189\u001b[0m \u001b[38;5;66;03m# Do not retry for these errors.\u001b[39;00m\n",
      "File \u001b[1;32mc:\\Users\\janit\\anaconda3\\envs\\torchenv\\Lib\\site-packages\\google\\ai\\generativelanguage_v1beta\\services\\generative_service\\client.py:867\u001b[0m, in \u001b[0;36mGenerativeServiceClient.generate_content\u001b[1;34m(self, request, model, contents, retry, timeout, metadata)\u001b[0m\n\u001b[0;32m    866\u001b[0m \u001b[38;5;66;03m# Send the request.\u001b[39;00m\n\u001b[1;32m--> 867\u001b[0m response \u001b[38;5;241m=\u001b[39m \u001b[43mrpc\u001b[49m\u001b[43m(\u001b[49m\n\u001b[0;32m    868\u001b[0m \u001b[43m    \u001b[49m\u001b[43mrequest\u001b[49m\u001b[43m,\u001b[49m\n\u001b[0;32m    869\u001b[0m \u001b[43m    \u001b[49m\u001b[43mretry\u001b[49m\u001b[38;5;241;43m=\u001b[39;49m\u001b[43mretry\u001b[49m\u001b[43m,\u001b[49m\n\u001b[0;32m    870\u001b[0m \u001b[43m    \u001b[49m\u001b[43mtimeout\u001b[49m\u001b[38;5;241;43m=\u001b[39;49m\u001b[43mtimeout\u001b[49m\u001b[43m,\u001b[49m\n\u001b[0;32m    871\u001b[0m \u001b[43m    \u001b[49m\u001b[43mmetadata\u001b[49m\u001b[38;5;241;43m=\u001b[39;49m\u001b[43mmetadata\u001b[49m\u001b[43m,\u001b[49m\n\u001b[0;32m    872\u001b[0m \u001b[43m\u001b[49m\u001b[43m)\u001b[49m\n\u001b[0;32m    874\u001b[0m \u001b[38;5;66;03m# Done; return the response.\u001b[39;00m\n",
      "File \u001b[1;32mc:\\Users\\janit\\anaconda3\\envs\\torchenv\\Lib\\site-packages\\google\\api_core\\gapic_v1\\method.py:131\u001b[0m, in \u001b[0;36m_GapicCallable.__call__\u001b[1;34m(self, timeout, retry, compression, *args, **kwargs)\u001b[0m\n\u001b[0;32m    129\u001b[0m     kwargs[\u001b[38;5;124m\"\u001b[39m\u001b[38;5;124mcompression\u001b[39m\u001b[38;5;124m\"\u001b[39m] \u001b[38;5;241m=\u001b[39m compression\n\u001b[1;32m--> 131\u001b[0m \u001b[38;5;28;01mreturn\u001b[39;00m \u001b[43mwrapped_func\u001b[49m\u001b[43m(\u001b[49m\u001b[38;5;241;43m*\u001b[39;49m\u001b[43margs\u001b[49m\u001b[43m,\u001b[49m\u001b[43m \u001b[49m\u001b[38;5;241;43m*\u001b[39;49m\u001b[38;5;241;43m*\u001b[39;49m\u001b[43mkwargs\u001b[49m\u001b[43m)\u001b[49m\n",
      "File \u001b[1;32mc:\\Users\\janit\\anaconda3\\envs\\torchenv\\Lib\\site-packages\\google\\api_core\\retry\\retry_unary.py:293\u001b[0m, in \u001b[0;36mRetry.__call__.<locals>.retry_wrapped_func\u001b[1;34m(*args, **kwargs)\u001b[0m\n\u001b[0;32m    290\u001b[0m sleep_generator \u001b[38;5;241m=\u001b[39m exponential_sleep_generator(\n\u001b[0;32m    291\u001b[0m     \u001b[38;5;28mself\u001b[39m\u001b[38;5;241m.\u001b[39m_initial, \u001b[38;5;28mself\u001b[39m\u001b[38;5;241m.\u001b[39m_maximum, multiplier\u001b[38;5;241m=\u001b[39m\u001b[38;5;28mself\u001b[39m\u001b[38;5;241m.\u001b[39m_multiplier\n\u001b[0;32m    292\u001b[0m )\n\u001b[1;32m--> 293\u001b[0m \u001b[38;5;28;01mreturn\u001b[39;00m \u001b[43mretry_target\u001b[49m\u001b[43m(\u001b[49m\n\u001b[0;32m    294\u001b[0m \u001b[43m    \u001b[49m\u001b[43mtarget\u001b[49m\u001b[43m,\u001b[49m\n\u001b[0;32m    295\u001b[0m \u001b[43m    \u001b[49m\u001b[38;5;28;43mself\u001b[39;49m\u001b[38;5;241;43m.\u001b[39;49m\u001b[43m_predicate\u001b[49m\u001b[43m,\u001b[49m\n\u001b[0;32m    296\u001b[0m \u001b[43m    \u001b[49m\u001b[43msleep_generator\u001b[49m\u001b[43m,\u001b[49m\n\u001b[0;32m    297\u001b[0m \u001b[43m    \u001b[49m\u001b[43mtimeout\u001b[49m\u001b[38;5;241;43m=\u001b[39;49m\u001b[38;5;28;43mself\u001b[39;49m\u001b[38;5;241;43m.\u001b[39;49m\u001b[43m_timeout\u001b[49m\u001b[43m,\u001b[49m\n\u001b[0;32m    298\u001b[0m \u001b[43m    \u001b[49m\u001b[43mon_error\u001b[49m\u001b[38;5;241;43m=\u001b[39;49m\u001b[43mon_error\u001b[49m\u001b[43m,\u001b[49m\n\u001b[0;32m    299\u001b[0m \u001b[43m\u001b[49m\u001b[43m)\u001b[49m\n",
      "File \u001b[1;32mc:\\Users\\janit\\anaconda3\\envs\\torchenv\\Lib\\site-packages\\google\\api_core\\retry\\retry_unary.py:153\u001b[0m, in \u001b[0;36mretry_target\u001b[1;34m(target, predicate, sleep_generator, timeout, on_error, exception_factory, **kwargs)\u001b[0m\n\u001b[0;32m    151\u001b[0m \u001b[38;5;28;01mexcept\u001b[39;00m \u001b[38;5;167;01mException\u001b[39;00m \u001b[38;5;28;01mas\u001b[39;00m exc:\n\u001b[0;32m    152\u001b[0m     \u001b[38;5;66;03m# defer to shared logic for handling errors\u001b[39;00m\n\u001b[1;32m--> 153\u001b[0m     \u001b[43m_retry_error_helper\u001b[49m\u001b[43m(\u001b[49m\n\u001b[0;32m    154\u001b[0m \u001b[43m        \u001b[49m\u001b[43mexc\u001b[49m\u001b[43m,\u001b[49m\n\u001b[0;32m    155\u001b[0m \u001b[43m        \u001b[49m\u001b[43mdeadline\u001b[49m\u001b[43m,\u001b[49m\n\u001b[0;32m    156\u001b[0m \u001b[43m        \u001b[49m\u001b[43msleep\u001b[49m\u001b[43m,\u001b[49m\n\u001b[0;32m    157\u001b[0m \u001b[43m        \u001b[49m\u001b[43merror_list\u001b[49m\u001b[43m,\u001b[49m\n\u001b[0;32m    158\u001b[0m \u001b[43m        \u001b[49m\u001b[43mpredicate\u001b[49m\u001b[43m,\u001b[49m\n\u001b[0;32m    159\u001b[0m \u001b[43m        \u001b[49m\u001b[43mon_error\u001b[49m\u001b[43m,\u001b[49m\n\u001b[0;32m    160\u001b[0m \u001b[43m        \u001b[49m\u001b[43mexception_factory\u001b[49m\u001b[43m,\u001b[49m\n\u001b[0;32m    161\u001b[0m \u001b[43m        \u001b[49m\u001b[43mtimeout\u001b[49m\u001b[43m,\u001b[49m\n\u001b[0;32m    162\u001b[0m \u001b[43m    \u001b[49m\u001b[43m)\u001b[49m\n\u001b[0;32m    163\u001b[0m     \u001b[38;5;66;03m# if exception not raised, sleep before next attempt\u001b[39;00m\n",
      "File \u001b[1;32mc:\\Users\\janit\\anaconda3\\envs\\torchenv\\Lib\\site-packages\\google\\api_core\\retry\\retry_base.py:212\u001b[0m, in \u001b[0;36m_retry_error_helper\u001b[1;34m(exc, deadline, next_sleep, error_list, predicate_fn, on_error_fn, exc_factory_fn, original_timeout)\u001b[0m\n\u001b[0;32m    207\u001b[0m     final_exc, source_exc \u001b[38;5;241m=\u001b[39m exc_factory_fn(\n\u001b[0;32m    208\u001b[0m         error_list,\n\u001b[0;32m    209\u001b[0m         RetryFailureReason\u001b[38;5;241m.\u001b[39mNON_RETRYABLE_ERROR,\n\u001b[0;32m    210\u001b[0m         original_timeout,\n\u001b[0;32m    211\u001b[0m     )\n\u001b[1;32m--> 212\u001b[0m     \u001b[38;5;28;01mraise\u001b[39;00m final_exc \u001b[38;5;28;01mfrom\u001b[39;00m\u001b[38;5;250m \u001b[39m\u001b[38;5;21;01msource_exc\u001b[39;00m\n\u001b[0;32m    213\u001b[0m \u001b[38;5;28;01mif\u001b[39;00m on_error_fn \u001b[38;5;129;01mis\u001b[39;00m \u001b[38;5;129;01mnot\u001b[39;00m \u001b[38;5;28;01mNone\u001b[39;00m:\n",
      "File \u001b[1;32mc:\\Users\\janit\\anaconda3\\envs\\torchenv\\Lib\\site-packages\\google\\api_core\\retry\\retry_unary.py:144\u001b[0m, in \u001b[0;36mretry_target\u001b[1;34m(target, predicate, sleep_generator, timeout, on_error, exception_factory, **kwargs)\u001b[0m\n\u001b[0;32m    143\u001b[0m \u001b[38;5;28;01mtry\u001b[39;00m:\n\u001b[1;32m--> 144\u001b[0m     result \u001b[38;5;241m=\u001b[39m \u001b[43mtarget\u001b[49m\u001b[43m(\u001b[49m\u001b[43m)\u001b[49m\n\u001b[0;32m    145\u001b[0m     \u001b[38;5;28;01mif\u001b[39;00m inspect\u001b[38;5;241m.\u001b[39misawaitable(result):\n",
      "File \u001b[1;32mc:\\Users\\janit\\anaconda3\\envs\\torchenv\\Lib\\site-packages\\google\\api_core\\timeout.py:130\u001b[0m, in \u001b[0;36mTimeToDeadlineTimeout.__call__.<locals>.func_with_timeout\u001b[1;34m(*args, **kwargs)\u001b[0m\n\u001b[0;32m    128\u001b[0m     kwargs[\u001b[38;5;124m\"\u001b[39m\u001b[38;5;124mtimeout\u001b[39m\u001b[38;5;124m\"\u001b[39m] \u001b[38;5;241m=\u001b[39m remaining_timeout\n\u001b[1;32m--> 130\u001b[0m \u001b[38;5;28;01mreturn\u001b[39;00m \u001b[43mfunc\u001b[49m\u001b[43m(\u001b[49m\u001b[38;5;241;43m*\u001b[39;49m\u001b[43margs\u001b[49m\u001b[43m,\u001b[49m\u001b[43m \u001b[49m\u001b[38;5;241;43m*\u001b[39;49m\u001b[38;5;241;43m*\u001b[39;49m\u001b[43mkwargs\u001b[49m\u001b[43m)\u001b[49m\n",
      "File \u001b[1;32mc:\\Users\\janit\\anaconda3\\envs\\torchenv\\Lib\\site-packages\\google\\api_core\\grpc_helpers.py:78\u001b[0m, in \u001b[0;36m_wrap_unary_errors.<locals>.error_remapped_callable\u001b[1;34m(*args, **kwargs)\u001b[0m\n\u001b[0;32m     77\u001b[0m \u001b[38;5;28;01mexcept\u001b[39;00m grpc\u001b[38;5;241m.\u001b[39mRpcError \u001b[38;5;28;01mas\u001b[39;00m exc:\n\u001b[1;32m---> 78\u001b[0m     \u001b[38;5;28;01mraise\u001b[39;00m exceptions\u001b[38;5;241m.\u001b[39mfrom_grpc_error(exc) \u001b[38;5;28;01mfrom\u001b[39;00m\u001b[38;5;250m \u001b[39m\u001b[38;5;21;01mexc\u001b[39;00m\n",
      "\u001b[1;31mInvalidArgument\u001b[0m: 400 * GenerateContentRequest.contents[8].parts: contents.parts must not be empty.\n",
      "\nThe above exception was the direct cause of the following exception:\n",
      "\u001b[1;31mChatGoogleGenerativeAIError\u001b[0m               Traceback (most recent call last)",
      "Cell \u001b[1;32mIn[186], line 5\u001b[0m\n\u001b[0;32m      2\u001b[0m inputs \u001b[38;5;241m=\u001b[39m {\u001b[38;5;124m\"\u001b[39m\u001b[38;5;124mmessages\u001b[39m\u001b[38;5;124m\"\u001b[39m: [{\u001b[38;5;124m\"\u001b[39m\u001b[38;5;124mrole\u001b[39m\u001b[38;5;124m\"\u001b[39m: \u001b[38;5;124m\"\u001b[39m\u001b[38;5;124muser\u001b[39m\u001b[38;5;124m\"\u001b[39m, \u001b[38;5;124m\"\u001b[39m\u001b[38;5;124mcontent\u001b[39m\u001b[38;5;124m\"\u001b[39m: \u001b[38;5;124m\"\u001b[39m\u001b[38;5;124mI want to book at 2pm 15 th june 2025\u001b[39m\u001b[38;5;124m\"\u001b[39m,}], \u001b[38;5;124m\"\u001b[39m\u001b[38;5;124mdialog_state\u001b[39m\u001b[38;5;124m\"\u001b[39m:\u001b[38;5;124m\"\u001b[39m\u001b[38;5;124mnew\u001b[39m\u001b[38;5;124m\"\u001b[39m}\n\u001b[0;32m      4\u001b[0m _printed \u001b[38;5;241m=\u001b[39m \u001b[38;5;28mset\u001b[39m()\n\u001b[1;32m----> 5\u001b[0m \u001b[38;5;28;43;01mfor\u001b[39;49;00m\u001b[43m \u001b[49m\u001b[43mevent\u001b[49m\u001b[43m \u001b[49m\u001b[38;5;129;43;01min\u001b[39;49;00m\u001b[43m \u001b[49m\u001b[43mall_graph\u001b[49m\u001b[38;5;241;43m.\u001b[39;49m\u001b[43mstream\u001b[49m\u001b[43m(\u001b[49m\u001b[43minputs\u001b[49m\u001b[43m,\u001b[49m\u001b[43m \u001b[49m\u001b[43mthread\u001b[49m\u001b[43m,\u001b[49m\u001b[43m \u001b[49m\u001b[43mstream_mode\u001b[49m\u001b[38;5;241;43m=\u001b[39;49m\u001b[38;5;124;43m\"\u001b[39;49m\u001b[38;5;124;43mvalues\u001b[39;49m\u001b[38;5;124;43m\"\u001b[39;49m\u001b[43m)\u001b[49m\u001b[43m:\u001b[49m\n\u001b[0;32m      6\u001b[0m \u001b[43m    \u001b[49m\u001b[43m_print_event\u001b[49m\u001b[43m(\u001b[49m\u001b[43mevent\u001b[49m\u001b[43m,\u001b[49m\u001b[43m \u001b[49m\u001b[43m_printed\u001b[49m\u001b[43m)\u001b[49m\n",
      "File \u001b[1;32mc:\\Users\\janit\\anaconda3\\envs\\torchenv\\Lib\\site-packages\\langgraph\\pregel\\__init__.py:2436\u001b[0m, in \u001b[0;36mPregel.stream\u001b[1;34m(self, input, config, stream_mode, output_keys, interrupt_before, interrupt_after, checkpoint_during, debug, subgraphs)\u001b[0m\n\u001b[0;32m   2434\u001b[0m         \u001b[38;5;28;01mfor\u001b[39;00m task \u001b[38;5;129;01min\u001b[39;00m loop\u001b[38;5;241m.\u001b[39mmatch_cached_writes():\n\u001b[0;32m   2435\u001b[0m             loop\u001b[38;5;241m.\u001b[39moutput_writes(task\u001b[38;5;241m.\u001b[39mid, task\u001b[38;5;241m.\u001b[39mwrites, cached\u001b[38;5;241m=\u001b[39m\u001b[38;5;28;01mTrue\u001b[39;00m)\n\u001b[1;32m-> 2436\u001b[0m \u001b[43m        \u001b[49m\u001b[38;5;28;43;01mfor\u001b[39;49;00m\u001b[43m \u001b[49m\u001b[43m_\u001b[49m\u001b[43m \u001b[49m\u001b[38;5;129;43;01min\u001b[39;49;00m\u001b[43m \u001b[49m\u001b[43mrunner\u001b[49m\u001b[38;5;241;43m.\u001b[39;49m\u001b[43mtick\u001b[49m\u001b[43m(\u001b[49m\n\u001b[0;32m   2437\u001b[0m \u001b[43m            \u001b[49m\u001b[43m[\u001b[49m\u001b[43mt\u001b[49m\u001b[43m \u001b[49m\u001b[38;5;28;43;01mfor\u001b[39;49;00m\u001b[43m \u001b[49m\u001b[43mt\u001b[49m\u001b[43m \u001b[49m\u001b[38;5;129;43;01min\u001b[39;49;00m\u001b[43m \u001b[49m\u001b[43mloop\u001b[49m\u001b[38;5;241;43m.\u001b[39;49m\u001b[43mtasks\u001b[49m\u001b[38;5;241;43m.\u001b[39;49m\u001b[43mvalues\u001b[49m\u001b[43m(\u001b[49m\u001b[43m)\u001b[49m\u001b[43m \u001b[49m\u001b[38;5;28;43;01mif\u001b[39;49;00m\u001b[43m \u001b[49m\u001b[38;5;129;43;01mnot\u001b[39;49;00m\u001b[43m \u001b[49m\u001b[43mt\u001b[49m\u001b[38;5;241;43m.\u001b[39;49m\u001b[43mwrites\u001b[49m\u001b[43m]\u001b[49m\u001b[43m,\u001b[49m\n\u001b[0;32m   2438\u001b[0m \u001b[43m            \u001b[49m\u001b[43mtimeout\u001b[49m\u001b[38;5;241;43m=\u001b[39;49m\u001b[38;5;28;43mself\u001b[39;49m\u001b[38;5;241;43m.\u001b[39;49m\u001b[43mstep_timeout\u001b[49m\u001b[43m,\u001b[49m\n\u001b[0;32m   2439\u001b[0m \u001b[43m            \u001b[49m\u001b[43mget_waiter\u001b[49m\u001b[38;5;241;43m=\u001b[39;49m\u001b[43mget_waiter\u001b[49m\u001b[43m,\u001b[49m\n\u001b[0;32m   2440\u001b[0m \u001b[43m            \u001b[49m\u001b[43mschedule_task\u001b[49m\u001b[38;5;241;43m=\u001b[39;49m\u001b[43mloop\u001b[49m\u001b[38;5;241;43m.\u001b[39;49m\u001b[43maccept_push\u001b[49m\u001b[43m,\u001b[49m\n\u001b[0;32m   2441\u001b[0m \u001b[43m        \u001b[49m\u001b[43m)\u001b[49m\u001b[43m:\u001b[49m\n\u001b[0;32m   2442\u001b[0m \u001b[43m            \u001b[49m\u001b[38;5;66;43;03m# emit output\u001b[39;49;00m\n\u001b[0;32m   2443\u001b[0m \u001b[43m            \u001b[49m\u001b[38;5;28;43;01myield from\u001b[39;49;00m\u001b[43m \u001b[49m\u001b[43moutput\u001b[49m\u001b[43m(\u001b[49m\u001b[43m)\u001b[49m\n\u001b[0;32m   2444\u001b[0m \u001b[38;5;66;03m# emit output\u001b[39;00m\n",
      "File \u001b[1;32mc:\\Users\\janit\\anaconda3\\envs\\torchenv\\Lib\\site-packages\\langgraph\\pregel\\runner.py:252\u001b[0m, in \u001b[0;36mPregelRunner.tick\u001b[1;34m(self, tasks, reraise, timeout, retry_policy, get_waiter, schedule_task)\u001b[0m\n\u001b[0;32m    250\u001b[0m \u001b[38;5;66;03m# panic on failure or timeout\u001b[39;00m\n\u001b[0;32m    251\u001b[0m \u001b[38;5;28;01mtry\u001b[39;00m:\n\u001b[1;32m--> 252\u001b[0m     \u001b[43m_panic_or_proceed\u001b[49m\u001b[43m(\u001b[49m\n\u001b[0;32m    253\u001b[0m \u001b[43m        \u001b[49m\u001b[43mfutures\u001b[49m\u001b[38;5;241;43m.\u001b[39;49m\u001b[43mdone\u001b[49m\u001b[38;5;241;43m.\u001b[39;49m\u001b[43munion\u001b[49m\u001b[43m(\u001b[49m\u001b[43mf\u001b[49m\u001b[43m \u001b[49m\u001b[38;5;28;43;01mfor\u001b[39;49;00m\u001b[43m \u001b[49m\u001b[43mf\u001b[49m\u001b[43m,\u001b[49m\u001b[43m \u001b[49m\u001b[43mt\u001b[49m\u001b[43m \u001b[49m\u001b[38;5;129;43;01min\u001b[39;49;00m\u001b[43m \u001b[49m\u001b[43mfutures\u001b[49m\u001b[38;5;241;43m.\u001b[39;49m\u001b[43mitems\u001b[49m\u001b[43m(\u001b[49m\u001b[43m)\u001b[49m\u001b[43m \u001b[49m\u001b[38;5;28;43;01mif\u001b[39;49;00m\u001b[43m \u001b[49m\u001b[43mt\u001b[49m\u001b[43m \u001b[49m\u001b[38;5;129;43;01mis\u001b[39;49;00m\u001b[43m \u001b[49m\u001b[38;5;129;43;01mnot\u001b[39;49;00m\u001b[43m \u001b[49m\u001b[38;5;28;43;01mNone\u001b[39;49;00m\u001b[43m)\u001b[49m\u001b[43m,\u001b[49m\n\u001b[0;32m    254\u001b[0m \u001b[43m        \u001b[49m\u001b[43mpanic\u001b[49m\u001b[38;5;241;43m=\u001b[39;49m\u001b[43mreraise\u001b[49m\u001b[43m,\u001b[49m\n\u001b[0;32m    255\u001b[0m \u001b[43m    \u001b[49m\u001b[43m)\u001b[49m\n\u001b[0;32m    256\u001b[0m \u001b[38;5;28;01mexcept\u001b[39;00m \u001b[38;5;167;01mException\u001b[39;00m \u001b[38;5;28;01mas\u001b[39;00m exc:\n\u001b[0;32m    257\u001b[0m     \u001b[38;5;28;01mif\u001b[39;00m tb \u001b[38;5;241m:=\u001b[39m exc\u001b[38;5;241m.\u001b[39m__traceback__:\n",
      "File \u001b[1;32mc:\\Users\\janit\\anaconda3\\envs\\torchenv\\Lib\\site-packages\\langgraph\\pregel\\runner.py:509\u001b[0m, in \u001b[0;36m_panic_or_proceed\u001b[1;34m(futs, timeout_exc_cls, panic)\u001b[0m\n\u001b[0;32m    507\u001b[0m                 interrupts\u001b[38;5;241m.\u001b[39mappend(exc)\n\u001b[0;32m    508\u001b[0m             \u001b[38;5;28;01melif\u001b[39;00m fut \u001b[38;5;129;01mnot\u001b[39;00m \u001b[38;5;129;01min\u001b[39;00m SKIP_RERAISE_SET:\n\u001b[1;32m--> 509\u001b[0m                 \u001b[38;5;28;01mraise\u001b[39;00m exc\n\u001b[0;32m    510\u001b[0m \u001b[38;5;66;03m# raise combined interrupts\u001b[39;00m\n\u001b[0;32m    511\u001b[0m \u001b[38;5;28;01mif\u001b[39;00m interrupts:\n",
      "File \u001b[1;32mc:\\Users\\janit\\anaconda3\\envs\\torchenv\\Lib\\site-packages\\langgraph\\pregel\\executor.py:80\u001b[0m, in \u001b[0;36mBackgroundExecutor.done\u001b[1;34m(self, task)\u001b[0m\n\u001b[0;32m     78\u001b[0m \u001b[38;5;250m\u001b[39m\u001b[38;5;124;03m\"\"\"Remove the task from the tasks dict when it's done.\"\"\"\u001b[39;00m\n\u001b[0;32m     79\u001b[0m \u001b[38;5;28;01mtry\u001b[39;00m:\n\u001b[1;32m---> 80\u001b[0m     \u001b[43mtask\u001b[49m\u001b[38;5;241;43m.\u001b[39;49m\u001b[43mresult\u001b[49m\u001b[43m(\u001b[49m\u001b[43m)\u001b[49m\n\u001b[0;32m     81\u001b[0m \u001b[38;5;28;01mexcept\u001b[39;00m GraphBubbleUp:\n\u001b[0;32m     82\u001b[0m     \u001b[38;5;66;03m# This exception is an interruption signal, not an error\u001b[39;00m\n\u001b[0;32m     83\u001b[0m     \u001b[38;5;66;03m# so we don't want to re-raise it on exit\u001b[39;00m\n\u001b[0;32m     84\u001b[0m     \u001b[38;5;28mself\u001b[39m\u001b[38;5;241m.\u001b[39mtasks\u001b[38;5;241m.\u001b[39mpop(task)\n",
      "File \u001b[1;32mc:\\Users\\janit\\anaconda3\\envs\\torchenv\\Lib\\concurrent\\futures\\_base.py:449\u001b[0m, in \u001b[0;36mFuture.result\u001b[1;34m(self, timeout)\u001b[0m\n\u001b[0;32m    447\u001b[0m     \u001b[38;5;28;01mraise\u001b[39;00m CancelledError()\n\u001b[0;32m    448\u001b[0m \u001b[38;5;28;01melif\u001b[39;00m \u001b[38;5;28mself\u001b[39m\u001b[38;5;241m.\u001b[39m_state \u001b[38;5;241m==\u001b[39m FINISHED:\n\u001b[1;32m--> 449\u001b[0m     \u001b[38;5;28;01mreturn\u001b[39;00m \u001b[38;5;28;43mself\u001b[39;49m\u001b[38;5;241;43m.\u001b[39;49m\u001b[43m__get_result\u001b[49m\u001b[43m(\u001b[49m\u001b[43m)\u001b[49m\n\u001b[0;32m    451\u001b[0m \u001b[38;5;28mself\u001b[39m\u001b[38;5;241m.\u001b[39m_condition\u001b[38;5;241m.\u001b[39mwait(timeout)\n\u001b[0;32m    453\u001b[0m \u001b[38;5;28;01mif\u001b[39;00m \u001b[38;5;28mself\u001b[39m\u001b[38;5;241m.\u001b[39m_state \u001b[38;5;129;01min\u001b[39;00m [CANCELLED, CANCELLED_AND_NOTIFIED]:\n",
      "File \u001b[1;32mc:\\Users\\janit\\anaconda3\\envs\\torchenv\\Lib\\concurrent\\futures\\_base.py:401\u001b[0m, in \u001b[0;36mFuture.__get_result\u001b[1;34m(self)\u001b[0m\n\u001b[0;32m    399\u001b[0m \u001b[38;5;28;01mif\u001b[39;00m \u001b[38;5;28mself\u001b[39m\u001b[38;5;241m.\u001b[39m_exception:\n\u001b[0;32m    400\u001b[0m     \u001b[38;5;28;01mtry\u001b[39;00m:\n\u001b[1;32m--> 401\u001b[0m         \u001b[38;5;28;01mraise\u001b[39;00m \u001b[38;5;28mself\u001b[39m\u001b[38;5;241m.\u001b[39m_exception\n\u001b[0;32m    402\u001b[0m     \u001b[38;5;28;01mfinally\u001b[39;00m:\n\u001b[0;32m    403\u001b[0m         \u001b[38;5;66;03m# Break a reference cycle with the exception in self._exception\u001b[39;00m\n\u001b[0;32m    404\u001b[0m         \u001b[38;5;28mself\u001b[39m \u001b[38;5;241m=\u001b[39m \u001b[38;5;28;01mNone\u001b[39;00m\n",
      "File \u001b[1;32mc:\\Users\\janit\\anaconda3\\envs\\torchenv\\Lib\\concurrent\\futures\\thread.py:58\u001b[0m, in \u001b[0;36m_WorkItem.run\u001b[1;34m(self)\u001b[0m\n\u001b[0;32m     55\u001b[0m     \u001b[38;5;28;01mreturn\u001b[39;00m\n\u001b[0;32m     57\u001b[0m \u001b[38;5;28;01mtry\u001b[39;00m:\n\u001b[1;32m---> 58\u001b[0m     result \u001b[38;5;241m=\u001b[39m \u001b[38;5;28;43mself\u001b[39;49m\u001b[38;5;241;43m.\u001b[39;49m\u001b[43mfn\u001b[49m\u001b[43m(\u001b[49m\u001b[38;5;241;43m*\u001b[39;49m\u001b[38;5;28;43mself\u001b[39;49m\u001b[38;5;241;43m.\u001b[39;49m\u001b[43margs\u001b[49m\u001b[43m,\u001b[49m\u001b[43m \u001b[49m\u001b[38;5;241;43m*\u001b[39;49m\u001b[38;5;241;43m*\u001b[39;49m\u001b[38;5;28;43mself\u001b[39;49m\u001b[38;5;241;43m.\u001b[39;49m\u001b[43mkwargs\u001b[49m\u001b[43m)\u001b[49m\n\u001b[0;32m     59\u001b[0m \u001b[38;5;28;01mexcept\u001b[39;00m \u001b[38;5;167;01mBaseException\u001b[39;00m \u001b[38;5;28;01mas\u001b[39;00m exc:\n\u001b[0;32m     60\u001b[0m     \u001b[38;5;28mself\u001b[39m\u001b[38;5;241m.\u001b[39mfuture\u001b[38;5;241m.\u001b[39mset_exception(exc)\n",
      "File \u001b[1;32mc:\\Users\\janit\\anaconda3\\envs\\torchenv\\Lib\\site-packages\\langgraph\\pregel\\retry.py:40\u001b[0m, in \u001b[0;36mrun_with_retry\u001b[1;34m(task, retry_policy, configurable)\u001b[0m\n\u001b[0;32m     38\u001b[0m     task\u001b[38;5;241m.\u001b[39mwrites\u001b[38;5;241m.\u001b[39mclear()\n\u001b[0;32m     39\u001b[0m     \u001b[38;5;66;03m# run the task\u001b[39;00m\n\u001b[1;32m---> 40\u001b[0m     \u001b[38;5;28;01mreturn\u001b[39;00m \u001b[43mtask\u001b[49m\u001b[38;5;241;43m.\u001b[39;49m\u001b[43mproc\u001b[49m\u001b[38;5;241;43m.\u001b[39;49m\u001b[43minvoke\u001b[49m\u001b[43m(\u001b[49m\u001b[43mtask\u001b[49m\u001b[38;5;241;43m.\u001b[39;49m\u001b[43minput\u001b[49m\u001b[43m,\u001b[49m\u001b[43m \u001b[49m\u001b[43mconfig\u001b[49m\u001b[43m)\u001b[49m\n\u001b[0;32m     41\u001b[0m \u001b[38;5;28;01mexcept\u001b[39;00m ParentCommand \u001b[38;5;28;01mas\u001b[39;00m exc:\n\u001b[0;32m     42\u001b[0m     ns: \u001b[38;5;28mstr\u001b[39m \u001b[38;5;241m=\u001b[39m config[CONF][CONFIG_KEY_CHECKPOINT_NS]\n",
      "File \u001b[1;32mc:\\Users\\janit\\anaconda3\\envs\\torchenv\\Lib\\site-packages\\langgraph\\utils\\runnable.py:623\u001b[0m, in \u001b[0;36mRunnableSeq.invoke\u001b[1;34m(self, input, config, **kwargs)\u001b[0m\n\u001b[0;32m    621\u001b[0m     \u001b[38;5;66;03m# run in context\u001b[39;00m\n\u001b[0;32m    622\u001b[0m     \u001b[38;5;28;01mwith\u001b[39;00m set_config_context(config, run) \u001b[38;5;28;01mas\u001b[39;00m context:\n\u001b[1;32m--> 623\u001b[0m         \u001b[38;5;28minput\u001b[39m \u001b[38;5;241m=\u001b[39m \u001b[43mcontext\u001b[49m\u001b[38;5;241;43m.\u001b[39;49m\u001b[43mrun\u001b[49m\u001b[43m(\u001b[49m\u001b[43mstep\u001b[49m\u001b[38;5;241;43m.\u001b[39;49m\u001b[43minvoke\u001b[49m\u001b[43m,\u001b[49m\u001b[43m \u001b[49m\u001b[38;5;28;43minput\u001b[39;49m\u001b[43m,\u001b[49m\u001b[43m \u001b[49m\u001b[43mconfig\u001b[49m\u001b[43m,\u001b[49m\u001b[43m \u001b[49m\u001b[38;5;241;43m*\u001b[39;49m\u001b[38;5;241;43m*\u001b[39;49m\u001b[43mkwargs\u001b[49m\u001b[43m)\u001b[49m\n\u001b[0;32m    624\u001b[0m \u001b[38;5;28;01melse\u001b[39;00m:\n\u001b[0;32m    625\u001b[0m     \u001b[38;5;28minput\u001b[39m \u001b[38;5;241m=\u001b[39m step\u001b[38;5;241m.\u001b[39minvoke(\u001b[38;5;28minput\u001b[39m, config)\n",
      "File \u001b[1;32mc:\\Users\\janit\\anaconda3\\envs\\torchenv\\Lib\\site-packages\\langgraph\\utils\\runnable.py:377\u001b[0m, in \u001b[0;36mRunnableCallable.invoke\u001b[1;34m(self, input, config, **kwargs)\u001b[0m\n\u001b[0;32m    375\u001b[0m         run_manager\u001b[38;5;241m.\u001b[39mon_chain_end(ret)\n\u001b[0;32m    376\u001b[0m \u001b[38;5;28;01melse\u001b[39;00m:\n\u001b[1;32m--> 377\u001b[0m     ret \u001b[38;5;241m=\u001b[39m \u001b[38;5;28;43mself\u001b[39;49m\u001b[38;5;241;43m.\u001b[39;49m\u001b[43mfunc\u001b[49m\u001b[43m(\u001b[49m\u001b[38;5;241;43m*\u001b[39;49m\u001b[43margs\u001b[49m\u001b[43m,\u001b[49m\u001b[43m \u001b[49m\u001b[38;5;241;43m*\u001b[39;49m\u001b[38;5;241;43m*\u001b[39;49m\u001b[43mkwargs\u001b[49m\u001b[43m)\u001b[49m\n\u001b[0;32m    378\u001b[0m \u001b[38;5;28;01mif\u001b[39;00m \u001b[38;5;28mself\u001b[39m\u001b[38;5;241m.\u001b[39mrecurse \u001b[38;5;129;01mand\u001b[39;00m \u001b[38;5;28misinstance\u001b[39m(ret, Runnable):\n\u001b[0;32m    379\u001b[0m     \u001b[38;5;28;01mreturn\u001b[39;00m ret\u001b[38;5;241m.\u001b[39minvoke(\u001b[38;5;28minput\u001b[39m, config)\n",
      "Cell \u001b[1;32mIn[149], line 64\u001b[0m, in \u001b[0;36mAssistant.__call__\u001b[1;34m(self, state, config)\u001b[0m\n\u001b[0;32m     61\u001b[0m state \u001b[38;5;241m=\u001b[39m {\u001b[38;5;241m*\u001b[39m\u001b[38;5;241m*\u001b[39mstate, \u001b[38;5;124m\"\u001b[39m\u001b[38;5;124mmessages\u001b[39m\u001b[38;5;124m\"\u001b[39m: filtered_messages}\n\u001b[0;32m     63\u001b[0m \u001b[38;5;66;03m# Invoke the LLM/toolchain\u001b[39;00m\n\u001b[1;32m---> 64\u001b[0m result \u001b[38;5;241m=\u001b[39m \u001b[38;5;28;43mself\u001b[39;49m\u001b[38;5;241;43m.\u001b[39;49m\u001b[43mrunnable\u001b[49m\u001b[38;5;241;43m.\u001b[39;49m\u001b[43minvoke\u001b[49m\u001b[43m(\u001b[49m\u001b[43mstate\u001b[49m\u001b[43m)\u001b[49m\n\u001b[0;32m     66\u001b[0m \u001b[38;5;66;03m# Check if the result is empty or unhelpful\u001b[39;00m\n\u001b[0;32m     67\u001b[0m \u001b[38;5;28;01mif\u001b[39;00m \u001b[38;5;129;01mnot\u001b[39;00m result\u001b[38;5;241m.\u001b[39mtool_calls \u001b[38;5;129;01mand\u001b[39;00m (\n\u001b[0;32m     68\u001b[0m     \u001b[38;5;129;01mnot\u001b[39;00m result\u001b[38;5;241m.\u001b[39mcontent\n\u001b[0;32m     69\u001b[0m     \u001b[38;5;129;01mor\u001b[39;00m (\u001b[38;5;28misinstance\u001b[39m(result\u001b[38;5;241m.\u001b[39mcontent, \u001b[38;5;28mlist\u001b[39m) \u001b[38;5;129;01mand\u001b[39;00m (\u001b[38;5;129;01mnot\u001b[39;00m result\u001b[38;5;241m.\u001b[39mcontent \u001b[38;5;129;01mor\u001b[39;00m \u001b[38;5;129;01mnot\u001b[39;00m result\u001b[38;5;241m.\u001b[39mcontent[\u001b[38;5;241m0\u001b[39m]\u001b[38;5;241m.\u001b[39mget(\u001b[38;5;124m\"\u001b[39m\u001b[38;5;124mtext\u001b[39m\u001b[38;5;124m\"\u001b[39m)))\n\u001b[0;32m     70\u001b[0m ):\n\u001b[0;32m     71\u001b[0m     \u001b[38;5;66;03m# Prompt the model again with a direct message\u001b[39;00m\n",
      "File \u001b[1;32mc:\\Users\\janit\\anaconda3\\envs\\torchenv\\Lib\\site-packages\\langchain_core\\runnables\\base.py:3047\u001b[0m, in \u001b[0;36mRunnableSequence.invoke\u001b[1;34m(self, input, config, **kwargs)\u001b[0m\n\u001b[0;32m   3045\u001b[0m                 input_ \u001b[38;5;241m=\u001b[39m context\u001b[38;5;241m.\u001b[39mrun(step\u001b[38;5;241m.\u001b[39minvoke, input_, config, \u001b[38;5;241m*\u001b[39m\u001b[38;5;241m*\u001b[39mkwargs)\n\u001b[0;32m   3046\u001b[0m             \u001b[38;5;28;01melse\u001b[39;00m:\n\u001b[1;32m-> 3047\u001b[0m                 input_ \u001b[38;5;241m=\u001b[39m \u001b[43mcontext\u001b[49m\u001b[38;5;241;43m.\u001b[39;49m\u001b[43mrun\u001b[49m\u001b[43m(\u001b[49m\u001b[43mstep\u001b[49m\u001b[38;5;241;43m.\u001b[39;49m\u001b[43minvoke\u001b[49m\u001b[43m,\u001b[49m\u001b[43m \u001b[49m\u001b[43minput_\u001b[49m\u001b[43m,\u001b[49m\u001b[43m \u001b[49m\u001b[43mconfig\u001b[49m\u001b[43m)\u001b[49m\n\u001b[0;32m   3048\u001b[0m \u001b[38;5;66;03m# finish the root run\u001b[39;00m\n\u001b[0;32m   3049\u001b[0m \u001b[38;5;28;01mexcept\u001b[39;00m \u001b[38;5;167;01mBaseException\u001b[39;00m \u001b[38;5;28;01mas\u001b[39;00m e:\n",
      "File \u001b[1;32mc:\\Users\\janit\\anaconda3\\envs\\torchenv\\Lib\\site-packages\\langchain_core\\runnables\\base.py:5431\u001b[0m, in \u001b[0;36mRunnableBindingBase.invoke\u001b[1;34m(self, input, config, **kwargs)\u001b[0m\n\u001b[0;32m   5424\u001b[0m \u001b[38;5;129m@override\u001b[39m\n\u001b[0;32m   5425\u001b[0m \u001b[38;5;28;01mdef\u001b[39;00m\u001b[38;5;250m \u001b[39m\u001b[38;5;21minvoke\u001b[39m(\n\u001b[0;32m   5426\u001b[0m     \u001b[38;5;28mself\u001b[39m,\n\u001b[1;32m   (...)\u001b[0m\n\u001b[0;32m   5429\u001b[0m     \u001b[38;5;241m*\u001b[39m\u001b[38;5;241m*\u001b[39mkwargs: Optional[Any],\n\u001b[0;32m   5430\u001b[0m ) \u001b[38;5;241m-\u001b[39m\u001b[38;5;241m>\u001b[39m Output:\n\u001b[1;32m-> 5431\u001b[0m     \u001b[38;5;28;01mreturn\u001b[39;00m \u001b[38;5;28;43mself\u001b[39;49m\u001b[38;5;241;43m.\u001b[39;49m\u001b[43mbound\u001b[49m\u001b[38;5;241;43m.\u001b[39;49m\u001b[43minvoke\u001b[49m\u001b[43m(\u001b[49m\n\u001b[0;32m   5432\u001b[0m \u001b[43m        \u001b[49m\u001b[38;5;28;43minput\u001b[39;49m\u001b[43m,\u001b[49m\n\u001b[0;32m   5433\u001b[0m \u001b[43m        \u001b[49m\u001b[38;5;28;43mself\u001b[39;49m\u001b[38;5;241;43m.\u001b[39;49m\u001b[43m_merge_configs\u001b[49m\u001b[43m(\u001b[49m\u001b[43mconfig\u001b[49m\u001b[43m)\u001b[49m\u001b[43m,\u001b[49m\n\u001b[0;32m   5434\u001b[0m \u001b[43m        \u001b[49m\u001b[38;5;241;43m*\u001b[39;49m\u001b[38;5;241;43m*\u001b[39;49m\u001b[43m{\u001b[49m\u001b[38;5;241;43m*\u001b[39;49m\u001b[38;5;241;43m*\u001b[39;49m\u001b[38;5;28;43mself\u001b[39;49m\u001b[38;5;241;43m.\u001b[39;49m\u001b[43mkwargs\u001b[49m\u001b[43m,\u001b[49m\u001b[43m \u001b[49m\u001b[38;5;241;43m*\u001b[39;49m\u001b[38;5;241;43m*\u001b[39;49m\u001b[43mkwargs\u001b[49m\u001b[43m}\u001b[49m\u001b[43m,\u001b[49m\n\u001b[0;32m   5435\u001b[0m \u001b[43m    \u001b[49m\u001b[43m)\u001b[49m\n",
      "File \u001b[1;32mc:\\Users\\janit\\anaconda3\\envs\\torchenv\\Lib\\site-packages\\langchain_google_genai\\chat_models.py:1022\u001b[0m, in \u001b[0;36mChatGoogleGenerativeAI.invoke\u001b[1;34m(self, input, config, code_execution, stop, **kwargs)\u001b[0m\n\u001b[0;32m   1017\u001b[0m     \u001b[38;5;28;01melse\u001b[39;00m:\n\u001b[0;32m   1018\u001b[0m         \u001b[38;5;28;01mraise\u001b[39;00m \u001b[38;5;167;01mValueError\u001b[39;00m(\n\u001b[0;32m   1019\u001b[0m             \u001b[38;5;124m\"\u001b[39m\u001b[38;5;124mTools are already defined.\u001b[39m\u001b[38;5;124m\"\u001b[39m \u001b[38;5;124m\"\u001b[39m\u001b[38;5;124mcode_execution tool can\u001b[39m\u001b[38;5;124m'\u001b[39m\u001b[38;5;124mt be defined\u001b[39m\u001b[38;5;124m\"\u001b[39m\n\u001b[0;32m   1020\u001b[0m         )\n\u001b[1;32m-> 1022\u001b[0m \u001b[38;5;28;01mreturn\u001b[39;00m \u001b[38;5;28;43msuper\u001b[39;49m\u001b[43m(\u001b[49m\u001b[43m)\u001b[49m\u001b[38;5;241;43m.\u001b[39;49m\u001b[43minvoke\u001b[49m\u001b[43m(\u001b[49m\u001b[38;5;28;43minput\u001b[39;49m\u001b[43m,\u001b[49m\u001b[43m \u001b[49m\u001b[43mconfig\u001b[49m\u001b[43m,\u001b[49m\u001b[43m \u001b[49m\u001b[43mstop\u001b[49m\u001b[38;5;241;43m=\u001b[39;49m\u001b[43mstop\u001b[49m\u001b[43m,\u001b[49m\u001b[43m \u001b[49m\u001b[38;5;241;43m*\u001b[39;49m\u001b[38;5;241;43m*\u001b[39;49m\u001b[43mkwargs\u001b[49m\u001b[43m)\u001b[49m\n",
      "File \u001b[1;32mc:\\Users\\janit\\anaconda3\\envs\\torchenv\\Lib\\site-packages\\langchain_core\\language_models\\chat_models.py:372\u001b[0m, in \u001b[0;36mBaseChatModel.invoke\u001b[1;34m(self, input, config, stop, **kwargs)\u001b[0m\n\u001b[0;32m    360\u001b[0m \u001b[38;5;129m@override\u001b[39m\n\u001b[0;32m    361\u001b[0m \u001b[38;5;28;01mdef\u001b[39;00m\u001b[38;5;250m \u001b[39m\u001b[38;5;21minvoke\u001b[39m(\n\u001b[0;32m    362\u001b[0m     \u001b[38;5;28mself\u001b[39m,\n\u001b[1;32m   (...)\u001b[0m\n\u001b[0;32m    367\u001b[0m     \u001b[38;5;241m*\u001b[39m\u001b[38;5;241m*\u001b[39mkwargs: Any,\n\u001b[0;32m    368\u001b[0m ) \u001b[38;5;241m-\u001b[39m\u001b[38;5;241m>\u001b[39m BaseMessage:\n\u001b[0;32m    369\u001b[0m     config \u001b[38;5;241m=\u001b[39m ensure_config(config)\n\u001b[0;32m    370\u001b[0m     \u001b[38;5;28;01mreturn\u001b[39;00m cast(\n\u001b[0;32m    371\u001b[0m         \u001b[38;5;124m\"\u001b[39m\u001b[38;5;124mChatGeneration\u001b[39m\u001b[38;5;124m\"\u001b[39m,\n\u001b[1;32m--> 372\u001b[0m         \u001b[38;5;28;43mself\u001b[39;49m\u001b[38;5;241;43m.\u001b[39;49m\u001b[43mgenerate_prompt\u001b[49m\u001b[43m(\u001b[49m\n\u001b[0;32m    373\u001b[0m \u001b[43m            \u001b[49m\u001b[43m[\u001b[49m\u001b[38;5;28;43mself\u001b[39;49m\u001b[38;5;241;43m.\u001b[39;49m\u001b[43m_convert_input\u001b[49m\u001b[43m(\u001b[49m\u001b[38;5;28;43minput\u001b[39;49m\u001b[43m)\u001b[49m\u001b[43m]\u001b[49m\u001b[43m,\u001b[49m\n\u001b[0;32m    374\u001b[0m \u001b[43m            \u001b[49m\u001b[43mstop\u001b[49m\u001b[38;5;241;43m=\u001b[39;49m\u001b[43mstop\u001b[49m\u001b[43m,\u001b[49m\n\u001b[0;32m    375\u001b[0m \u001b[43m            \u001b[49m\u001b[43mcallbacks\u001b[49m\u001b[38;5;241;43m=\u001b[39;49m\u001b[43mconfig\u001b[49m\u001b[38;5;241;43m.\u001b[39;49m\u001b[43mget\u001b[49m\u001b[43m(\u001b[49m\u001b[38;5;124;43m\"\u001b[39;49m\u001b[38;5;124;43mcallbacks\u001b[39;49m\u001b[38;5;124;43m\"\u001b[39;49m\u001b[43m)\u001b[49m\u001b[43m,\u001b[49m\n\u001b[0;32m    376\u001b[0m \u001b[43m            \u001b[49m\u001b[43mtags\u001b[49m\u001b[38;5;241;43m=\u001b[39;49m\u001b[43mconfig\u001b[49m\u001b[38;5;241;43m.\u001b[39;49m\u001b[43mget\u001b[49m\u001b[43m(\u001b[49m\u001b[38;5;124;43m\"\u001b[39;49m\u001b[38;5;124;43mtags\u001b[39;49m\u001b[38;5;124;43m\"\u001b[39;49m\u001b[43m)\u001b[49m\u001b[43m,\u001b[49m\n\u001b[0;32m    377\u001b[0m \u001b[43m            \u001b[49m\u001b[43mmetadata\u001b[49m\u001b[38;5;241;43m=\u001b[39;49m\u001b[43mconfig\u001b[49m\u001b[38;5;241;43m.\u001b[39;49m\u001b[43mget\u001b[49m\u001b[43m(\u001b[49m\u001b[38;5;124;43m\"\u001b[39;49m\u001b[38;5;124;43mmetadata\u001b[39;49m\u001b[38;5;124;43m\"\u001b[39;49m\u001b[43m)\u001b[49m\u001b[43m,\u001b[49m\n\u001b[0;32m    378\u001b[0m \u001b[43m            \u001b[49m\u001b[43mrun_name\u001b[49m\u001b[38;5;241;43m=\u001b[39;49m\u001b[43mconfig\u001b[49m\u001b[38;5;241;43m.\u001b[39;49m\u001b[43mget\u001b[49m\u001b[43m(\u001b[49m\u001b[38;5;124;43m\"\u001b[39;49m\u001b[38;5;124;43mrun_name\u001b[39;49m\u001b[38;5;124;43m\"\u001b[39;49m\u001b[43m)\u001b[49m\u001b[43m,\u001b[49m\n\u001b[0;32m    379\u001b[0m \u001b[43m            \u001b[49m\u001b[43mrun_id\u001b[49m\u001b[38;5;241;43m=\u001b[39;49m\u001b[43mconfig\u001b[49m\u001b[38;5;241;43m.\u001b[39;49m\u001b[43mpop\u001b[49m\u001b[43m(\u001b[49m\u001b[38;5;124;43m\"\u001b[39;49m\u001b[38;5;124;43mrun_id\u001b[39;49m\u001b[38;5;124;43m\"\u001b[39;49m\u001b[43m,\u001b[49m\u001b[43m \u001b[49m\u001b[38;5;28;43;01mNone\u001b[39;49;00m\u001b[43m)\u001b[49m\u001b[43m,\u001b[49m\n\u001b[0;32m    380\u001b[0m \u001b[43m            \u001b[49m\u001b[38;5;241;43m*\u001b[39;49m\u001b[38;5;241;43m*\u001b[39;49m\u001b[43mkwargs\u001b[49m\u001b[43m,\u001b[49m\n\u001b[0;32m    381\u001b[0m \u001b[43m        \u001b[49m\u001b[43m)\u001b[49m\u001b[38;5;241m.\u001b[39mgenerations[\u001b[38;5;241m0\u001b[39m][\u001b[38;5;241m0\u001b[39m],\n\u001b[0;32m    382\u001b[0m     )\u001b[38;5;241m.\u001b[39mmessage\n",
      "File \u001b[1;32mc:\\Users\\janit\\anaconda3\\envs\\torchenv\\Lib\\site-packages\\langchain_core\\language_models\\chat_models.py:957\u001b[0m, in \u001b[0;36mBaseChatModel.generate_prompt\u001b[1;34m(self, prompts, stop, callbacks, **kwargs)\u001b[0m\n\u001b[0;32m    948\u001b[0m \u001b[38;5;129m@override\u001b[39m\n\u001b[0;32m    949\u001b[0m \u001b[38;5;28;01mdef\u001b[39;00m\u001b[38;5;250m \u001b[39m\u001b[38;5;21mgenerate_prompt\u001b[39m(\n\u001b[0;32m    950\u001b[0m     \u001b[38;5;28mself\u001b[39m,\n\u001b[1;32m   (...)\u001b[0m\n\u001b[0;32m    954\u001b[0m     \u001b[38;5;241m*\u001b[39m\u001b[38;5;241m*\u001b[39mkwargs: Any,\n\u001b[0;32m    955\u001b[0m ) \u001b[38;5;241m-\u001b[39m\u001b[38;5;241m>\u001b[39m LLMResult:\n\u001b[0;32m    956\u001b[0m     prompt_messages \u001b[38;5;241m=\u001b[39m [p\u001b[38;5;241m.\u001b[39mto_messages() \u001b[38;5;28;01mfor\u001b[39;00m p \u001b[38;5;129;01min\u001b[39;00m prompts]\n\u001b[1;32m--> 957\u001b[0m     \u001b[38;5;28;01mreturn\u001b[39;00m \u001b[38;5;28;43mself\u001b[39;49m\u001b[38;5;241;43m.\u001b[39;49m\u001b[43mgenerate\u001b[49m\u001b[43m(\u001b[49m\u001b[43mprompt_messages\u001b[49m\u001b[43m,\u001b[49m\u001b[43m \u001b[49m\u001b[43mstop\u001b[49m\u001b[38;5;241;43m=\u001b[39;49m\u001b[43mstop\u001b[49m\u001b[43m,\u001b[49m\u001b[43m \u001b[49m\u001b[43mcallbacks\u001b[49m\u001b[38;5;241;43m=\u001b[39;49m\u001b[43mcallbacks\u001b[49m\u001b[43m,\u001b[49m\u001b[43m \u001b[49m\u001b[38;5;241;43m*\u001b[39;49m\u001b[38;5;241;43m*\u001b[39;49m\u001b[43mkwargs\u001b[49m\u001b[43m)\u001b[49m\n",
      "File \u001b[1;32mc:\\Users\\janit\\anaconda3\\envs\\torchenv\\Lib\\site-packages\\langchain_core\\language_models\\chat_models.py:776\u001b[0m, in \u001b[0;36mBaseChatModel.generate\u001b[1;34m(self, messages, stop, callbacks, tags, metadata, run_name, run_id, **kwargs)\u001b[0m\n\u001b[0;32m    773\u001b[0m \u001b[38;5;28;01mfor\u001b[39;00m i, m \u001b[38;5;129;01min\u001b[39;00m \u001b[38;5;28menumerate\u001b[39m(input_messages):\n\u001b[0;32m    774\u001b[0m     \u001b[38;5;28;01mtry\u001b[39;00m:\n\u001b[0;32m    775\u001b[0m         results\u001b[38;5;241m.\u001b[39mappend(\n\u001b[1;32m--> 776\u001b[0m             \u001b[38;5;28;43mself\u001b[39;49m\u001b[38;5;241;43m.\u001b[39;49m\u001b[43m_generate_with_cache\u001b[49m\u001b[43m(\u001b[49m\n\u001b[0;32m    777\u001b[0m \u001b[43m                \u001b[49m\u001b[43mm\u001b[49m\u001b[43m,\u001b[49m\n\u001b[0;32m    778\u001b[0m \u001b[43m                \u001b[49m\u001b[43mstop\u001b[49m\u001b[38;5;241;43m=\u001b[39;49m\u001b[43mstop\u001b[49m\u001b[43m,\u001b[49m\n\u001b[0;32m    779\u001b[0m \u001b[43m                \u001b[49m\u001b[43mrun_manager\u001b[49m\u001b[38;5;241;43m=\u001b[39;49m\u001b[43mrun_managers\u001b[49m\u001b[43m[\u001b[49m\u001b[43mi\u001b[49m\u001b[43m]\u001b[49m\u001b[43m \u001b[49m\u001b[38;5;28;43;01mif\u001b[39;49;00m\u001b[43m \u001b[49m\u001b[43mrun_managers\u001b[49m\u001b[43m \u001b[49m\u001b[38;5;28;43;01melse\u001b[39;49;00m\u001b[43m \u001b[49m\u001b[38;5;28;43;01mNone\u001b[39;49;00m\u001b[43m,\u001b[49m\n\u001b[0;32m    780\u001b[0m \u001b[43m                \u001b[49m\u001b[38;5;241;43m*\u001b[39;49m\u001b[38;5;241;43m*\u001b[39;49m\u001b[43mkwargs\u001b[49m\u001b[43m,\u001b[49m\n\u001b[0;32m    781\u001b[0m \u001b[43m            \u001b[49m\u001b[43m)\u001b[49m\n\u001b[0;32m    782\u001b[0m         )\n\u001b[0;32m    783\u001b[0m     \u001b[38;5;28;01mexcept\u001b[39;00m \u001b[38;5;167;01mBaseException\u001b[39;00m \u001b[38;5;28;01mas\u001b[39;00m e:\n\u001b[0;32m    784\u001b[0m         \u001b[38;5;28;01mif\u001b[39;00m run_managers:\n",
      "File \u001b[1;32mc:\\Users\\janit\\anaconda3\\envs\\torchenv\\Lib\\site-packages\\langchain_core\\language_models\\chat_models.py:1022\u001b[0m, in \u001b[0;36mBaseChatModel._generate_with_cache\u001b[1;34m(self, messages, stop, run_manager, **kwargs)\u001b[0m\n\u001b[0;32m   1020\u001b[0m     result \u001b[38;5;241m=\u001b[39m generate_from_stream(\u001b[38;5;28miter\u001b[39m(chunks))\n\u001b[0;32m   1021\u001b[0m \u001b[38;5;28;01melif\u001b[39;00m inspect\u001b[38;5;241m.\u001b[39msignature(\u001b[38;5;28mself\u001b[39m\u001b[38;5;241m.\u001b[39m_generate)\u001b[38;5;241m.\u001b[39mparameters\u001b[38;5;241m.\u001b[39mget(\u001b[38;5;124m\"\u001b[39m\u001b[38;5;124mrun_manager\u001b[39m\u001b[38;5;124m\"\u001b[39m):\n\u001b[1;32m-> 1022\u001b[0m     result \u001b[38;5;241m=\u001b[39m \u001b[38;5;28;43mself\u001b[39;49m\u001b[38;5;241;43m.\u001b[39;49m\u001b[43m_generate\u001b[49m\u001b[43m(\u001b[49m\n\u001b[0;32m   1023\u001b[0m \u001b[43m        \u001b[49m\u001b[43mmessages\u001b[49m\u001b[43m,\u001b[49m\u001b[43m \u001b[49m\u001b[43mstop\u001b[49m\u001b[38;5;241;43m=\u001b[39;49m\u001b[43mstop\u001b[49m\u001b[43m,\u001b[49m\u001b[43m \u001b[49m\u001b[43mrun_manager\u001b[49m\u001b[38;5;241;43m=\u001b[39;49m\u001b[43mrun_manager\u001b[49m\u001b[43m,\u001b[49m\u001b[43m \u001b[49m\u001b[38;5;241;43m*\u001b[39;49m\u001b[38;5;241;43m*\u001b[39;49m\u001b[43mkwargs\u001b[49m\n\u001b[0;32m   1024\u001b[0m \u001b[43m    \u001b[49m\u001b[43m)\u001b[49m\n\u001b[0;32m   1025\u001b[0m \u001b[38;5;28;01melse\u001b[39;00m:\n\u001b[0;32m   1026\u001b[0m     result \u001b[38;5;241m=\u001b[39m \u001b[38;5;28mself\u001b[39m\u001b[38;5;241m.\u001b[39m_generate(messages, stop\u001b[38;5;241m=\u001b[39mstop, \u001b[38;5;241m*\u001b[39m\u001b[38;5;241m*\u001b[39mkwargs)\n",
      "File \u001b[1;32mc:\\Users\\janit\\anaconda3\\envs\\torchenv\\Lib\\site-packages\\langchain_google_genai\\chat_models.py:1089\u001b[0m, in \u001b[0;36mChatGoogleGenerativeAI._generate\u001b[1;34m(self, messages, stop, run_manager, tools, functions, safety_settings, tool_config, generation_config, cached_content, tool_choice, **kwargs)\u001b[0m\n\u001b[0;32m   1063\u001b[0m \u001b[38;5;28;01mdef\u001b[39;00m\u001b[38;5;250m \u001b[39m\u001b[38;5;21m_generate\u001b[39m(\n\u001b[0;32m   1064\u001b[0m     \u001b[38;5;28mself\u001b[39m,\n\u001b[0;32m   1065\u001b[0m     messages: List[BaseMessage],\n\u001b[1;32m   (...)\u001b[0m\n\u001b[0;32m   1076\u001b[0m     \u001b[38;5;241m*\u001b[39m\u001b[38;5;241m*\u001b[39mkwargs: Any,\n\u001b[0;32m   1077\u001b[0m ) \u001b[38;5;241m-\u001b[39m\u001b[38;5;241m>\u001b[39m ChatResult:\n\u001b[0;32m   1078\u001b[0m     request \u001b[38;5;241m=\u001b[39m \u001b[38;5;28mself\u001b[39m\u001b[38;5;241m.\u001b[39m_prepare_request(\n\u001b[0;32m   1079\u001b[0m         messages,\n\u001b[0;32m   1080\u001b[0m         stop\u001b[38;5;241m=\u001b[39mstop,\n\u001b[1;32m   (...)\u001b[0m\n\u001b[0;32m   1087\u001b[0m         tool_choice\u001b[38;5;241m=\u001b[39mtool_choice,\n\u001b[0;32m   1088\u001b[0m     )\n\u001b[1;32m-> 1089\u001b[0m     response: GenerateContentResponse \u001b[38;5;241m=\u001b[39m \u001b[43m_chat_with_retry\u001b[49m\u001b[43m(\u001b[49m\n\u001b[0;32m   1090\u001b[0m \u001b[43m        \u001b[49m\u001b[43mrequest\u001b[49m\u001b[38;5;241;43m=\u001b[39;49m\u001b[43mrequest\u001b[49m\u001b[43m,\u001b[49m\n\u001b[0;32m   1091\u001b[0m \u001b[43m        \u001b[49m\u001b[38;5;241;43m*\u001b[39;49m\u001b[38;5;241;43m*\u001b[39;49m\u001b[43mkwargs\u001b[49m\u001b[43m,\u001b[49m\n\u001b[0;32m   1092\u001b[0m \u001b[43m        \u001b[49m\u001b[43mgeneration_method\u001b[49m\u001b[38;5;241;43m=\u001b[39;49m\u001b[38;5;28;43mself\u001b[39;49m\u001b[38;5;241;43m.\u001b[39;49m\u001b[43mclient\u001b[49m\u001b[38;5;241;43m.\u001b[39;49m\u001b[43mgenerate_content\u001b[49m\u001b[43m,\u001b[49m\n\u001b[0;32m   1093\u001b[0m \u001b[43m        \u001b[49m\u001b[43mmetadata\u001b[49m\u001b[38;5;241;43m=\u001b[39;49m\u001b[38;5;28;43mself\u001b[39;49m\u001b[38;5;241;43m.\u001b[39;49m\u001b[43mdefault_metadata\u001b[49m\u001b[43m,\u001b[49m\n\u001b[0;32m   1094\u001b[0m \u001b[43m    \u001b[49m\u001b[43m)\u001b[49m\n\u001b[0;32m   1095\u001b[0m     \u001b[38;5;28;01mreturn\u001b[39;00m _response_to_result(response)\n",
      "File \u001b[1;32mc:\\Users\\janit\\anaconda3\\envs\\torchenv\\Lib\\site-packages\\langchain_google_genai\\chat_models.py:206\u001b[0m, in \u001b[0;36m_chat_with_retry\u001b[1;34m(generation_method, **kwargs)\u001b[0m\n\u001b[0;32m    203\u001b[0m     \u001b[38;5;28;01mexcept\u001b[39;00m \u001b[38;5;167;01mException\u001b[39;00m \u001b[38;5;28;01mas\u001b[39;00m e:\n\u001b[0;32m    204\u001b[0m         \u001b[38;5;28;01mraise\u001b[39;00m e\n\u001b[1;32m--> 206\u001b[0m \u001b[38;5;28;01mreturn\u001b[39;00m \u001b[43m_chat_with_retry\u001b[49m\u001b[43m(\u001b[49m\u001b[38;5;241;43m*\u001b[39;49m\u001b[38;5;241;43m*\u001b[39;49m\u001b[43mkwargs\u001b[49m\u001b[43m)\u001b[49m\n",
      "File \u001b[1;32mc:\\Users\\janit\\anaconda3\\envs\\torchenv\\Lib\\site-packages\\tenacity\\__init__.py:289\u001b[0m, in \u001b[0;36mBaseRetrying.wraps.<locals>.wrapped_f\u001b[1;34m(*args, **kw)\u001b[0m\n\u001b[0;32m    287\u001b[0m \u001b[38;5;129m@functools\u001b[39m\u001b[38;5;241m.\u001b[39mwraps(f)\n\u001b[0;32m    288\u001b[0m \u001b[38;5;28;01mdef\u001b[39;00m\u001b[38;5;250m \u001b[39m\u001b[38;5;21mwrapped_f\u001b[39m(\u001b[38;5;241m*\u001b[39margs: t\u001b[38;5;241m.\u001b[39mAny, \u001b[38;5;241m*\u001b[39m\u001b[38;5;241m*\u001b[39mkw: t\u001b[38;5;241m.\u001b[39mAny) \u001b[38;5;241m-\u001b[39m\u001b[38;5;241m>\u001b[39m t\u001b[38;5;241m.\u001b[39mAny:\n\u001b[1;32m--> 289\u001b[0m     \u001b[38;5;28;01mreturn\u001b[39;00m \u001b[38;5;28;43mself\u001b[39;49m\u001b[43m(\u001b[49m\u001b[43mf\u001b[49m\u001b[43m,\u001b[49m\u001b[43m \u001b[49m\u001b[38;5;241;43m*\u001b[39;49m\u001b[43margs\u001b[49m\u001b[43m,\u001b[49m\u001b[43m \u001b[49m\u001b[38;5;241;43m*\u001b[39;49m\u001b[38;5;241;43m*\u001b[39;49m\u001b[43mkw\u001b[49m\u001b[43m)\u001b[49m\n",
      "File \u001b[1;32mc:\\Users\\janit\\anaconda3\\envs\\torchenv\\Lib\\site-packages\\tenacity\\__init__.py:379\u001b[0m, in \u001b[0;36mRetrying.__call__\u001b[1;34m(self, fn, *args, **kwargs)\u001b[0m\n\u001b[0;32m    377\u001b[0m retry_state \u001b[38;5;241m=\u001b[39m RetryCallState(retry_object\u001b[38;5;241m=\u001b[39m\u001b[38;5;28mself\u001b[39m, fn\u001b[38;5;241m=\u001b[39mfn, args\u001b[38;5;241m=\u001b[39margs, kwargs\u001b[38;5;241m=\u001b[39mkwargs)\n\u001b[0;32m    378\u001b[0m \u001b[38;5;28;01mwhile\u001b[39;00m \u001b[38;5;28;01mTrue\u001b[39;00m:\n\u001b[1;32m--> 379\u001b[0m     do \u001b[38;5;241m=\u001b[39m \u001b[38;5;28;43mself\u001b[39;49m\u001b[38;5;241;43m.\u001b[39;49m\u001b[43miter\u001b[49m\u001b[43m(\u001b[49m\u001b[43mretry_state\u001b[49m\u001b[38;5;241;43m=\u001b[39;49m\u001b[43mretry_state\u001b[49m\u001b[43m)\u001b[49m\n\u001b[0;32m    380\u001b[0m     \u001b[38;5;28;01mif\u001b[39;00m \u001b[38;5;28misinstance\u001b[39m(do, DoAttempt):\n\u001b[0;32m    381\u001b[0m         \u001b[38;5;28;01mtry\u001b[39;00m:\n",
      "File \u001b[1;32mc:\\Users\\janit\\anaconda3\\envs\\torchenv\\Lib\\site-packages\\tenacity\\__init__.py:314\u001b[0m, in \u001b[0;36mBaseRetrying.iter\u001b[1;34m(self, retry_state)\u001b[0m\n\u001b[0;32m    312\u001b[0m is_explicit_retry \u001b[38;5;241m=\u001b[39m fut\u001b[38;5;241m.\u001b[39mfailed \u001b[38;5;129;01mand\u001b[39;00m \u001b[38;5;28misinstance\u001b[39m(fut\u001b[38;5;241m.\u001b[39mexception(), TryAgain)\n\u001b[0;32m    313\u001b[0m \u001b[38;5;28;01mif\u001b[39;00m \u001b[38;5;129;01mnot\u001b[39;00m (is_explicit_retry \u001b[38;5;129;01mor\u001b[39;00m \u001b[38;5;28mself\u001b[39m\u001b[38;5;241m.\u001b[39mretry(retry_state)):\n\u001b[1;32m--> 314\u001b[0m     \u001b[38;5;28;01mreturn\u001b[39;00m \u001b[43mfut\u001b[49m\u001b[38;5;241;43m.\u001b[39;49m\u001b[43mresult\u001b[49m\u001b[43m(\u001b[49m\u001b[43m)\u001b[49m\n\u001b[0;32m    316\u001b[0m \u001b[38;5;28;01mif\u001b[39;00m \u001b[38;5;28mself\u001b[39m\u001b[38;5;241m.\u001b[39mafter \u001b[38;5;129;01mis\u001b[39;00m \u001b[38;5;129;01mnot\u001b[39;00m \u001b[38;5;28;01mNone\u001b[39;00m:\n\u001b[0;32m    317\u001b[0m     \u001b[38;5;28mself\u001b[39m\u001b[38;5;241m.\u001b[39mafter(retry_state)\n",
      "File \u001b[1;32mc:\\Users\\janit\\anaconda3\\envs\\torchenv\\Lib\\concurrent\\futures\\_base.py:449\u001b[0m, in \u001b[0;36mFuture.result\u001b[1;34m(self, timeout)\u001b[0m\n\u001b[0;32m    447\u001b[0m     \u001b[38;5;28;01mraise\u001b[39;00m CancelledError()\n\u001b[0;32m    448\u001b[0m \u001b[38;5;28;01melif\u001b[39;00m \u001b[38;5;28mself\u001b[39m\u001b[38;5;241m.\u001b[39m_state \u001b[38;5;241m==\u001b[39m FINISHED:\n\u001b[1;32m--> 449\u001b[0m     \u001b[38;5;28;01mreturn\u001b[39;00m \u001b[38;5;28;43mself\u001b[39;49m\u001b[38;5;241;43m.\u001b[39;49m\u001b[43m__get_result\u001b[49m\u001b[43m(\u001b[49m\u001b[43m)\u001b[49m\n\u001b[0;32m    451\u001b[0m \u001b[38;5;28mself\u001b[39m\u001b[38;5;241m.\u001b[39m_condition\u001b[38;5;241m.\u001b[39mwait(timeout)\n\u001b[0;32m    453\u001b[0m \u001b[38;5;28;01mif\u001b[39;00m \u001b[38;5;28mself\u001b[39m\u001b[38;5;241m.\u001b[39m_state \u001b[38;5;129;01min\u001b[39;00m [CANCELLED, CANCELLED_AND_NOTIFIED]:\n",
      "File \u001b[1;32mc:\\Users\\janit\\anaconda3\\envs\\torchenv\\Lib\\concurrent\\futures\\_base.py:401\u001b[0m, in \u001b[0;36mFuture.__get_result\u001b[1;34m(self)\u001b[0m\n\u001b[0;32m    399\u001b[0m \u001b[38;5;28;01mif\u001b[39;00m \u001b[38;5;28mself\u001b[39m\u001b[38;5;241m.\u001b[39m_exception:\n\u001b[0;32m    400\u001b[0m     \u001b[38;5;28;01mtry\u001b[39;00m:\n\u001b[1;32m--> 401\u001b[0m         \u001b[38;5;28;01mraise\u001b[39;00m \u001b[38;5;28mself\u001b[39m\u001b[38;5;241m.\u001b[39m_exception\n\u001b[0;32m    402\u001b[0m     \u001b[38;5;28;01mfinally\u001b[39;00m:\n\u001b[0;32m    403\u001b[0m         \u001b[38;5;66;03m# Break a reference cycle with the exception in self._exception\u001b[39;00m\n\u001b[0;32m    404\u001b[0m         \u001b[38;5;28mself\u001b[39m \u001b[38;5;241m=\u001b[39m \u001b[38;5;28;01mNone\u001b[39;00m\n",
      "File \u001b[1;32mc:\\Users\\janit\\anaconda3\\envs\\torchenv\\Lib\\site-packages\\tenacity\\__init__.py:382\u001b[0m, in \u001b[0;36mRetrying.__call__\u001b[1;34m(self, fn, *args, **kwargs)\u001b[0m\n\u001b[0;32m    380\u001b[0m \u001b[38;5;28;01mif\u001b[39;00m \u001b[38;5;28misinstance\u001b[39m(do, DoAttempt):\n\u001b[0;32m    381\u001b[0m     \u001b[38;5;28;01mtry\u001b[39;00m:\n\u001b[1;32m--> 382\u001b[0m         result \u001b[38;5;241m=\u001b[39m \u001b[43mfn\u001b[49m\u001b[43m(\u001b[49m\u001b[38;5;241;43m*\u001b[39;49m\u001b[43margs\u001b[49m\u001b[43m,\u001b[49m\u001b[43m \u001b[49m\u001b[38;5;241;43m*\u001b[39;49m\u001b[38;5;241;43m*\u001b[39;49m\u001b[43mkwargs\u001b[49m\u001b[43m)\u001b[49m\n\u001b[0;32m    383\u001b[0m     \u001b[38;5;28;01mexcept\u001b[39;00m \u001b[38;5;167;01mBaseException\u001b[39;00m:  \u001b[38;5;66;03m# noqa: B902\u001b[39;00m\n\u001b[0;32m    384\u001b[0m         retry_state\u001b[38;5;241m.\u001b[39mset_exception(sys\u001b[38;5;241m.\u001b[39mexc_info())  \u001b[38;5;66;03m# type: ignore[arg-type]\u001b[39;00m\n",
      "File \u001b[1;32mc:\\Users\\janit\\anaconda3\\envs\\torchenv\\Lib\\site-packages\\langchain_google_genai\\chat_models.py:200\u001b[0m, in \u001b[0;36m_chat_with_retry.<locals>._chat_with_retry\u001b[1;34m(**kwargs)\u001b[0m\n\u001b[0;32m    197\u001b[0m         \u001b[38;5;28;01mraise\u001b[39;00m \u001b[38;5;167;01mValueError\u001b[39;00m(error_msg)\n\u001b[0;32m    199\u001b[0m \u001b[38;5;28;01mexcept\u001b[39;00m google\u001b[38;5;241m.\u001b[39mapi_core\u001b[38;5;241m.\u001b[39mexceptions\u001b[38;5;241m.\u001b[39mInvalidArgument \u001b[38;5;28;01mas\u001b[39;00m e:\n\u001b[1;32m--> 200\u001b[0m     \u001b[38;5;28;01mraise\u001b[39;00m ChatGoogleGenerativeAIError(\n\u001b[0;32m    201\u001b[0m         \u001b[38;5;124mf\u001b[39m\u001b[38;5;124m\"\u001b[39m\u001b[38;5;124mInvalid argument provided to Gemini: \u001b[39m\u001b[38;5;132;01m{\u001b[39;00me\u001b[38;5;132;01m}\u001b[39;00m\u001b[38;5;124m\"\u001b[39m\n\u001b[0;32m    202\u001b[0m     ) \u001b[38;5;28;01mfrom\u001b[39;00m\u001b[38;5;250m \u001b[39m\u001b[38;5;21;01me\u001b[39;00m\n\u001b[0;32m    203\u001b[0m \u001b[38;5;28;01mexcept\u001b[39;00m \u001b[38;5;167;01mException\u001b[39;00m \u001b[38;5;28;01mas\u001b[39;00m e:\n\u001b[0;32m    204\u001b[0m     \u001b[38;5;28;01mraise\u001b[39;00m e\n",
      "\u001b[1;31mChatGoogleGenerativeAIError\u001b[0m: Invalid argument provided to Gemini: 400 * GenerateContentRequest.contents[8].parts: contents.parts must not be empty.\n",
      "\u001b[0mDuring task with name 'primary_assistant' and id 'c84ce207-93a9-908a-d72a-ee21dd10e33c'"
     ]
    }
   ],
   "source": [
    "thread = {\"configurable\": {\"thread_id\": \"1\"}, \"callbacks\": [langfuse_handler]}\n",
    "inputs = {\"messages\": [{\"role\": \"user\", \"content\": \"I want to book at 2pm 15 th june 2025\",}], \"dialog_state\":\"new\"}\n",
    "\n",
    "_printed = set()\n",
    "for event in all_graph.stream(inputs, thread, stream_mode=\"values\"):\n",
    "    _print_event(event, _printed)"
   ]
  },
  {
   "cell_type": "code",
   "execution_count": 181,
   "id": "02bca29c",
   "metadata": {},
   "outputs": [
    {
     "name": "stderr",
     "output_type": "stream",
     "text": [
      "Key 'example' is not supported in schema, ignoring\n",
      "Key 'example 2' is not supported in schema, ignoring\n",
      "Key 'example 3' is not supported in schema, ignoring\n"
     ]
    },
    {
     "name": "stdout",
     "output_type": "stream",
     "text": [
      "Currently in:  new\n",
      "==================================\u001b[1m Ai Message \u001b[0m==================================\n",
      "\n",
      "I can't find a doctor with that name. Is there another doctor you are looking for?\n",
      "Current dialog State is :  ['primary_assistant', 'new']\n",
      "debug:  new\n",
      "Currently in:  new\n"
     ]
    },
    {
     "name": "stderr",
     "output_type": "stream",
     "text": [
      "Gemini produced an empty response. Continuing with empty message\n",
      "Feedback: \n",
      "Gemini produced an empty response. Continuing with empty message\n",
      "Feedback: \n",
      "Key 'example' is not supported in schema, ignoring\n",
      "Key 'example 2' is not supported in schema, ignoring\n",
      "Key 'example 3' is not supported in schema, ignoring\n"
     ]
    },
    {
     "name": "stdout",
     "output_type": "stream",
     "text": [
      "Currently in:  new\n",
      "==================================\u001b[1m Ai Message \u001b[0m==================================\n",
      "\n",
      "I'm sorry, I still cannot find a doctor named Janith. Would you like to search for a different doctor, or perhaps I can list all available doctors for you to choose from?\n"
     ]
    }
   ],
   "source": [
    "inputs = {\"messages\": [{\"role\": \"user\", \"content\": \"I want to book at 2pm 15 th june 2025\",}],\"dialog_state\":\"new\"}\n",
    "\n",
    "_printed = set()\n",
    "for event in all_graph.stream(state, thread, stream_mode=\"values\"):\n",
    "    _print_event(event, _printed)"
   ]
  },
  {
   "cell_type": "code",
   "execution_count": 91,
   "id": "38a5db97",
   "metadata": {},
   "outputs": [
    {
     "name": "stderr",
     "output_type": "stream",
     "text": [
      "Key 'example' is not supported in schema, ignoring\n",
      "Key 'example 2' is not supported in schema, ignoring\n",
      "Key 'example 3' is not supported in schema, ignoring\n"
     ]
    },
    {
     "name": "stdout",
     "output_type": "stream",
     "text": [
      "Currently in:  new\n",
      "================================\u001b[1m Human Message \u001b[0m=================================\n",
      "\n",
      "I want to book at 2pm 15 th june 2025\n",
      "Current dialog State is :  ['new']\n",
      "debug:  new\n",
      "Currently in:  new\n"
     ]
    },
    {
     "name": "stderr",
     "output_type": "stream",
     "text": [
      "Key 'example' is not supported in schema, ignoring\n",
      "Key 'example 2' is not supported in schema, ignoring\n",
      "Key 'example 3' is not supported in schema, ignoring\n"
     ]
    },
    {
     "name": "stdout",
     "output_type": "stream",
     "text": [
      "Currently in:  new\n",
      "==================================\u001b[1m Ai Message \u001b[0m==================================\n",
      "Tool Calls:\n",
      "  handoff_to_new_appointment (f7c92a76-61d4-4233-b013-39dffe6d0b48)\n",
      " Call ID: f7c92a76-61d4-4233-b013-39dffe6d0b48\n",
      "  Args:\n",
      "    request: The user wants to book an appointment for June 15th, 2025, at 2 PM. Please clarify which doctor they would like to book with, as \"Dr. Janith\" was not found and a list of available doctors was provided previously.\n",
      "Currently in:  new\n",
      "=================================\u001b[1m Tool Message \u001b[0m=================================\n",
      "\n",
      "The assistant is now the new_appointment_booking. Reflect on the above conversation between the host assistant and the user. The user's intent is unsatisfied. Use the provided tools to assist the user. booking, update, other action is not complete until after you have successfully invoked the appropriate tool. If the user changes their mind or needs help for other tasks, call the CompleteOrEscalate function to let the primary host assistant take control. Do not mention who you are - just act as the proxy for the assistant.\n"
     ]
    },
    {
     "name": "stderr",
     "output_type": "stream",
     "text": [
      "Gemini produced an empty response. Continuing with empty message\n",
      "Feedback: \n",
      "Key 'example' is not supported in schema, ignoring\n",
      "Key 'example 2' is not supported in schema, ignoring\n",
      "Key 'example 3' is not supported in schema, ignoring\n"
     ]
    },
    {
     "name": "stdout",
     "output_type": "stream",
     "text": [
      "Currently in:  new\n",
      "==================================\u001b[1m Ai Message \u001b[0m==================================\n",
      "\n",
      "Please tell me which doctor you would like to book the appointment with.\n"
     ]
    }
   ],
   "source": [
    "inputs = {\"messages\": [{\"role\": \"user\", \"content\": \"I want to book at 2pm 15 th june 2025\",}]}\n",
    "\n",
    "_printed = set()\n",
    "for event in all_graph.stream(inputs, thread, stream_mode=\"values\"):\n",
    "    _print_event(event, _printed)"
   ]
  },
  {
   "cell_type": "code",
   "execution_count": 92,
   "id": "ce9e3146",
   "metadata": {},
   "outputs": [
    {
     "name": "stderr",
     "output_type": "stream",
     "text": [
      "Key 'example' is not supported in schema, ignoring\n",
      "Key 'example 2' is not supported in schema, ignoring\n",
      "Key 'example 3' is not supported in schema, ignoring\n"
     ]
    },
    {
     "name": "stdout",
     "output_type": "stream",
     "text": [
      "Currently in:  new\n",
      "================================\u001b[1m Human Message \u001b[0m=================================\n",
      "\n",
      "I want Dr. Alice\n",
      "Current dialog State is :  ['new', 'new']\n",
      "debug:  new\n",
      "Currently in:  new\n"
     ]
    },
    {
     "name": "stderr",
     "output_type": "stream",
     "text": [
      "Key 'example' is not supported in schema, ignoring\n",
      "Key 'example 2' is not supported in schema, ignoring\n",
      "Key 'example 3' is not supported in schema, ignoring\n"
     ]
    },
    {
     "name": "stdout",
     "output_type": "stream",
     "text": [
      "Currently in:  new\n",
      "==================================\u001b[1m Ai Message \u001b[0m==================================\n",
      "Tool Calls:\n",
      "  handoff_to_new_appointment (3769533b-1f0a-4868-bc92-a37ca787f788)\n",
      " Call ID: 3769533b-1f0a-4868-bc92-a37ca787f788\n",
      "  Args:\n",
      "    request: The user wants to book an appointment with Dr. Alice Smith on June 15th, 2025, at 2 PM.\n",
      "Currently in:  new\n",
      "=================================\u001b[1m Tool Message \u001b[0m=================================\n",
      "Name: handoff_to_new_appointment\n",
      "\n",
      "Error: handoff_to_new_appointment is not a valid tool, try one of [check_doctor_availability, search_for_doctor, book_appointment].\n"
     ]
    },
    {
     "ename": "ChatGoogleGenerativeAIError",
     "evalue": "Invalid argument provided to Gemini: 400 * GenerateContentRequest.contents[17].parts: contents.parts must not be empty.\n",
     "output_type": "error",
     "traceback": [
      "\u001b[1;31m---------------------------------------------------------------------------\u001b[0m",
      "\u001b[1;31mInvalidArgument\u001b[0m                           Traceback (most recent call last)",
      "File \u001b[1;32mc:\\Users\\janit\\anaconda3\\envs\\torchenv\\Lib\\site-packages\\langchain_google_genai\\chat_models.py:188\u001b[0m, in \u001b[0;36m_chat_with_retry.<locals>._chat_with_retry\u001b[1;34m(**kwargs)\u001b[0m\n\u001b[0;32m    187\u001b[0m \u001b[38;5;28;01mtry\u001b[39;00m:\n\u001b[1;32m--> 188\u001b[0m     \u001b[38;5;28;01mreturn\u001b[39;00m \u001b[43mgeneration_method\u001b[49m\u001b[43m(\u001b[49m\u001b[38;5;241;43m*\u001b[39;49m\u001b[38;5;241;43m*\u001b[39;49m\u001b[43mkwargs\u001b[49m\u001b[43m)\u001b[49m\n\u001b[0;32m    189\u001b[0m \u001b[38;5;66;03m# Do not retry for these errors.\u001b[39;00m\n",
      "File \u001b[1;32mc:\\Users\\janit\\anaconda3\\envs\\torchenv\\Lib\\site-packages\\google\\ai\\generativelanguage_v1beta\\services\\generative_service\\client.py:867\u001b[0m, in \u001b[0;36mGenerativeServiceClient.generate_content\u001b[1;34m(self, request, model, contents, retry, timeout, metadata)\u001b[0m\n\u001b[0;32m    866\u001b[0m \u001b[38;5;66;03m# Send the request.\u001b[39;00m\n\u001b[1;32m--> 867\u001b[0m response \u001b[38;5;241m=\u001b[39m \u001b[43mrpc\u001b[49m\u001b[43m(\u001b[49m\n\u001b[0;32m    868\u001b[0m \u001b[43m    \u001b[49m\u001b[43mrequest\u001b[49m\u001b[43m,\u001b[49m\n\u001b[0;32m    869\u001b[0m \u001b[43m    \u001b[49m\u001b[43mretry\u001b[49m\u001b[38;5;241;43m=\u001b[39;49m\u001b[43mretry\u001b[49m\u001b[43m,\u001b[49m\n\u001b[0;32m    870\u001b[0m \u001b[43m    \u001b[49m\u001b[43mtimeout\u001b[49m\u001b[38;5;241;43m=\u001b[39;49m\u001b[43mtimeout\u001b[49m\u001b[43m,\u001b[49m\n\u001b[0;32m    871\u001b[0m \u001b[43m    \u001b[49m\u001b[43mmetadata\u001b[49m\u001b[38;5;241;43m=\u001b[39;49m\u001b[43mmetadata\u001b[49m\u001b[43m,\u001b[49m\n\u001b[0;32m    872\u001b[0m \u001b[43m\u001b[49m\u001b[43m)\u001b[49m\n\u001b[0;32m    874\u001b[0m \u001b[38;5;66;03m# Done; return the response.\u001b[39;00m\n",
      "File \u001b[1;32mc:\\Users\\janit\\anaconda3\\envs\\torchenv\\Lib\\site-packages\\google\\api_core\\gapic_v1\\method.py:131\u001b[0m, in \u001b[0;36m_GapicCallable.__call__\u001b[1;34m(self, timeout, retry, compression, *args, **kwargs)\u001b[0m\n\u001b[0;32m    129\u001b[0m     kwargs[\u001b[38;5;124m\"\u001b[39m\u001b[38;5;124mcompression\u001b[39m\u001b[38;5;124m\"\u001b[39m] \u001b[38;5;241m=\u001b[39m compression\n\u001b[1;32m--> 131\u001b[0m \u001b[38;5;28;01mreturn\u001b[39;00m \u001b[43mwrapped_func\u001b[49m\u001b[43m(\u001b[49m\u001b[38;5;241;43m*\u001b[39;49m\u001b[43margs\u001b[49m\u001b[43m,\u001b[49m\u001b[43m \u001b[49m\u001b[38;5;241;43m*\u001b[39;49m\u001b[38;5;241;43m*\u001b[39;49m\u001b[43mkwargs\u001b[49m\u001b[43m)\u001b[49m\n",
      "File \u001b[1;32mc:\\Users\\janit\\anaconda3\\envs\\torchenv\\Lib\\site-packages\\google\\api_core\\retry\\retry_unary.py:293\u001b[0m, in \u001b[0;36mRetry.__call__.<locals>.retry_wrapped_func\u001b[1;34m(*args, **kwargs)\u001b[0m\n\u001b[0;32m    290\u001b[0m sleep_generator \u001b[38;5;241m=\u001b[39m exponential_sleep_generator(\n\u001b[0;32m    291\u001b[0m     \u001b[38;5;28mself\u001b[39m\u001b[38;5;241m.\u001b[39m_initial, \u001b[38;5;28mself\u001b[39m\u001b[38;5;241m.\u001b[39m_maximum, multiplier\u001b[38;5;241m=\u001b[39m\u001b[38;5;28mself\u001b[39m\u001b[38;5;241m.\u001b[39m_multiplier\n\u001b[0;32m    292\u001b[0m )\n\u001b[1;32m--> 293\u001b[0m \u001b[38;5;28;01mreturn\u001b[39;00m \u001b[43mretry_target\u001b[49m\u001b[43m(\u001b[49m\n\u001b[0;32m    294\u001b[0m \u001b[43m    \u001b[49m\u001b[43mtarget\u001b[49m\u001b[43m,\u001b[49m\n\u001b[0;32m    295\u001b[0m \u001b[43m    \u001b[49m\u001b[38;5;28;43mself\u001b[39;49m\u001b[38;5;241;43m.\u001b[39;49m\u001b[43m_predicate\u001b[49m\u001b[43m,\u001b[49m\n\u001b[0;32m    296\u001b[0m \u001b[43m    \u001b[49m\u001b[43msleep_generator\u001b[49m\u001b[43m,\u001b[49m\n\u001b[0;32m    297\u001b[0m \u001b[43m    \u001b[49m\u001b[43mtimeout\u001b[49m\u001b[38;5;241;43m=\u001b[39;49m\u001b[38;5;28;43mself\u001b[39;49m\u001b[38;5;241;43m.\u001b[39;49m\u001b[43m_timeout\u001b[49m\u001b[43m,\u001b[49m\n\u001b[0;32m    298\u001b[0m \u001b[43m    \u001b[49m\u001b[43mon_error\u001b[49m\u001b[38;5;241;43m=\u001b[39;49m\u001b[43mon_error\u001b[49m\u001b[43m,\u001b[49m\n\u001b[0;32m    299\u001b[0m \u001b[43m\u001b[49m\u001b[43m)\u001b[49m\n",
      "File \u001b[1;32mc:\\Users\\janit\\anaconda3\\envs\\torchenv\\Lib\\site-packages\\google\\api_core\\retry\\retry_unary.py:153\u001b[0m, in \u001b[0;36mretry_target\u001b[1;34m(target, predicate, sleep_generator, timeout, on_error, exception_factory, **kwargs)\u001b[0m\n\u001b[0;32m    151\u001b[0m \u001b[38;5;28;01mexcept\u001b[39;00m \u001b[38;5;167;01mException\u001b[39;00m \u001b[38;5;28;01mas\u001b[39;00m exc:\n\u001b[0;32m    152\u001b[0m     \u001b[38;5;66;03m# defer to shared logic for handling errors\u001b[39;00m\n\u001b[1;32m--> 153\u001b[0m     \u001b[43m_retry_error_helper\u001b[49m\u001b[43m(\u001b[49m\n\u001b[0;32m    154\u001b[0m \u001b[43m        \u001b[49m\u001b[43mexc\u001b[49m\u001b[43m,\u001b[49m\n\u001b[0;32m    155\u001b[0m \u001b[43m        \u001b[49m\u001b[43mdeadline\u001b[49m\u001b[43m,\u001b[49m\n\u001b[0;32m    156\u001b[0m \u001b[43m        \u001b[49m\u001b[43msleep\u001b[49m\u001b[43m,\u001b[49m\n\u001b[0;32m    157\u001b[0m \u001b[43m        \u001b[49m\u001b[43merror_list\u001b[49m\u001b[43m,\u001b[49m\n\u001b[0;32m    158\u001b[0m \u001b[43m        \u001b[49m\u001b[43mpredicate\u001b[49m\u001b[43m,\u001b[49m\n\u001b[0;32m    159\u001b[0m \u001b[43m        \u001b[49m\u001b[43mon_error\u001b[49m\u001b[43m,\u001b[49m\n\u001b[0;32m    160\u001b[0m \u001b[43m        \u001b[49m\u001b[43mexception_factory\u001b[49m\u001b[43m,\u001b[49m\n\u001b[0;32m    161\u001b[0m \u001b[43m        \u001b[49m\u001b[43mtimeout\u001b[49m\u001b[43m,\u001b[49m\n\u001b[0;32m    162\u001b[0m \u001b[43m    \u001b[49m\u001b[43m)\u001b[49m\n\u001b[0;32m    163\u001b[0m     \u001b[38;5;66;03m# if exception not raised, sleep before next attempt\u001b[39;00m\n",
      "File \u001b[1;32mc:\\Users\\janit\\anaconda3\\envs\\torchenv\\Lib\\site-packages\\google\\api_core\\retry\\retry_base.py:212\u001b[0m, in \u001b[0;36m_retry_error_helper\u001b[1;34m(exc, deadline, next_sleep, error_list, predicate_fn, on_error_fn, exc_factory_fn, original_timeout)\u001b[0m\n\u001b[0;32m    207\u001b[0m     final_exc, source_exc \u001b[38;5;241m=\u001b[39m exc_factory_fn(\n\u001b[0;32m    208\u001b[0m         error_list,\n\u001b[0;32m    209\u001b[0m         RetryFailureReason\u001b[38;5;241m.\u001b[39mNON_RETRYABLE_ERROR,\n\u001b[0;32m    210\u001b[0m         original_timeout,\n\u001b[0;32m    211\u001b[0m     )\n\u001b[1;32m--> 212\u001b[0m     \u001b[38;5;28;01mraise\u001b[39;00m final_exc \u001b[38;5;28;01mfrom\u001b[39;00m\u001b[38;5;250m \u001b[39m\u001b[38;5;21;01msource_exc\u001b[39;00m\n\u001b[0;32m    213\u001b[0m \u001b[38;5;28;01mif\u001b[39;00m on_error_fn \u001b[38;5;129;01mis\u001b[39;00m \u001b[38;5;129;01mnot\u001b[39;00m \u001b[38;5;28;01mNone\u001b[39;00m:\n",
      "File \u001b[1;32mc:\\Users\\janit\\anaconda3\\envs\\torchenv\\Lib\\site-packages\\google\\api_core\\retry\\retry_unary.py:144\u001b[0m, in \u001b[0;36mretry_target\u001b[1;34m(target, predicate, sleep_generator, timeout, on_error, exception_factory, **kwargs)\u001b[0m\n\u001b[0;32m    143\u001b[0m \u001b[38;5;28;01mtry\u001b[39;00m:\n\u001b[1;32m--> 144\u001b[0m     result \u001b[38;5;241m=\u001b[39m \u001b[43mtarget\u001b[49m\u001b[43m(\u001b[49m\u001b[43m)\u001b[49m\n\u001b[0;32m    145\u001b[0m     \u001b[38;5;28;01mif\u001b[39;00m inspect\u001b[38;5;241m.\u001b[39misawaitable(result):\n",
      "File \u001b[1;32mc:\\Users\\janit\\anaconda3\\envs\\torchenv\\Lib\\site-packages\\google\\api_core\\timeout.py:130\u001b[0m, in \u001b[0;36mTimeToDeadlineTimeout.__call__.<locals>.func_with_timeout\u001b[1;34m(*args, **kwargs)\u001b[0m\n\u001b[0;32m    128\u001b[0m     kwargs[\u001b[38;5;124m\"\u001b[39m\u001b[38;5;124mtimeout\u001b[39m\u001b[38;5;124m\"\u001b[39m] \u001b[38;5;241m=\u001b[39m remaining_timeout\n\u001b[1;32m--> 130\u001b[0m \u001b[38;5;28;01mreturn\u001b[39;00m \u001b[43mfunc\u001b[49m\u001b[43m(\u001b[49m\u001b[38;5;241;43m*\u001b[39;49m\u001b[43margs\u001b[49m\u001b[43m,\u001b[49m\u001b[43m \u001b[49m\u001b[38;5;241;43m*\u001b[39;49m\u001b[38;5;241;43m*\u001b[39;49m\u001b[43mkwargs\u001b[49m\u001b[43m)\u001b[49m\n",
      "File \u001b[1;32mc:\\Users\\janit\\anaconda3\\envs\\torchenv\\Lib\\site-packages\\google\\api_core\\grpc_helpers.py:78\u001b[0m, in \u001b[0;36m_wrap_unary_errors.<locals>.error_remapped_callable\u001b[1;34m(*args, **kwargs)\u001b[0m\n\u001b[0;32m     77\u001b[0m \u001b[38;5;28;01mexcept\u001b[39;00m grpc\u001b[38;5;241m.\u001b[39mRpcError \u001b[38;5;28;01mas\u001b[39;00m exc:\n\u001b[1;32m---> 78\u001b[0m     \u001b[38;5;28;01mraise\u001b[39;00m exceptions\u001b[38;5;241m.\u001b[39mfrom_grpc_error(exc) \u001b[38;5;28;01mfrom\u001b[39;00m\u001b[38;5;250m \u001b[39m\u001b[38;5;21;01mexc\u001b[39;00m\n",
      "\u001b[1;31mInvalidArgument\u001b[0m: 400 * GenerateContentRequest.contents[17].parts: contents.parts must not be empty.\n",
      "\nThe above exception was the direct cause of the following exception:\n",
      "\u001b[1;31mChatGoogleGenerativeAIError\u001b[0m               Traceback (most recent call last)",
      "Cell \u001b[1;32mIn[92], line 4\u001b[0m\n\u001b[0;32m      1\u001b[0m inputs \u001b[38;5;241m=\u001b[39m {\u001b[38;5;124m\"\u001b[39m\u001b[38;5;124mmessages\u001b[39m\u001b[38;5;124m\"\u001b[39m: [{\u001b[38;5;124m\"\u001b[39m\u001b[38;5;124mrole\u001b[39m\u001b[38;5;124m\"\u001b[39m: \u001b[38;5;124m\"\u001b[39m\u001b[38;5;124muser\u001b[39m\u001b[38;5;124m\"\u001b[39m, \u001b[38;5;124m\"\u001b[39m\u001b[38;5;124mcontent\u001b[39m\u001b[38;5;124m\"\u001b[39m: \u001b[38;5;124m\"\u001b[39m\u001b[38;5;124mI want Dr. Alice\u001b[39m\u001b[38;5;124m\"\u001b[39m,}]}\n\u001b[0;32m      3\u001b[0m _printed \u001b[38;5;241m=\u001b[39m \u001b[38;5;28mset\u001b[39m()\n\u001b[1;32m----> 4\u001b[0m \u001b[38;5;28;43;01mfor\u001b[39;49;00m\u001b[43m \u001b[49m\u001b[43mevent\u001b[49m\u001b[43m \u001b[49m\u001b[38;5;129;43;01min\u001b[39;49;00m\u001b[43m \u001b[49m\u001b[43mall_graph\u001b[49m\u001b[38;5;241;43m.\u001b[39;49m\u001b[43mstream\u001b[49m\u001b[43m(\u001b[49m\u001b[43minputs\u001b[49m\u001b[43m,\u001b[49m\u001b[43m \u001b[49m\u001b[43mthread\u001b[49m\u001b[43m,\u001b[49m\u001b[43m \u001b[49m\u001b[43mstream_mode\u001b[49m\u001b[38;5;241;43m=\u001b[39;49m\u001b[38;5;124;43m\"\u001b[39;49m\u001b[38;5;124;43mvalues\u001b[39;49m\u001b[38;5;124;43m\"\u001b[39;49m\u001b[43m)\u001b[49m\u001b[43m:\u001b[49m\n\u001b[0;32m      5\u001b[0m \u001b[43m    \u001b[49m\u001b[43m_print_event\u001b[49m\u001b[43m(\u001b[49m\u001b[43mevent\u001b[49m\u001b[43m,\u001b[49m\u001b[43m \u001b[49m\u001b[43m_printed\u001b[49m\u001b[43m)\u001b[49m\n",
      "File \u001b[1;32mc:\\Users\\janit\\anaconda3\\envs\\torchenv\\Lib\\site-packages\\langgraph\\pregel\\__init__.py:2436\u001b[0m, in \u001b[0;36mPregel.stream\u001b[1;34m(self, input, config, stream_mode, output_keys, interrupt_before, interrupt_after, checkpoint_during, debug, subgraphs)\u001b[0m\n\u001b[0;32m   2434\u001b[0m         \u001b[38;5;28;01mfor\u001b[39;00m task \u001b[38;5;129;01min\u001b[39;00m loop\u001b[38;5;241m.\u001b[39mmatch_cached_writes():\n\u001b[0;32m   2435\u001b[0m             loop\u001b[38;5;241m.\u001b[39moutput_writes(task\u001b[38;5;241m.\u001b[39mid, task\u001b[38;5;241m.\u001b[39mwrites, cached\u001b[38;5;241m=\u001b[39m\u001b[38;5;28;01mTrue\u001b[39;00m)\n\u001b[1;32m-> 2436\u001b[0m \u001b[43m        \u001b[49m\u001b[38;5;28;43;01mfor\u001b[39;49;00m\u001b[43m \u001b[49m\u001b[43m_\u001b[49m\u001b[43m \u001b[49m\u001b[38;5;129;43;01min\u001b[39;49;00m\u001b[43m \u001b[49m\u001b[43mrunner\u001b[49m\u001b[38;5;241;43m.\u001b[39;49m\u001b[43mtick\u001b[49m\u001b[43m(\u001b[49m\n\u001b[0;32m   2437\u001b[0m \u001b[43m            \u001b[49m\u001b[43m[\u001b[49m\u001b[43mt\u001b[49m\u001b[43m \u001b[49m\u001b[38;5;28;43;01mfor\u001b[39;49;00m\u001b[43m \u001b[49m\u001b[43mt\u001b[49m\u001b[43m \u001b[49m\u001b[38;5;129;43;01min\u001b[39;49;00m\u001b[43m \u001b[49m\u001b[43mloop\u001b[49m\u001b[38;5;241;43m.\u001b[39;49m\u001b[43mtasks\u001b[49m\u001b[38;5;241;43m.\u001b[39;49m\u001b[43mvalues\u001b[49m\u001b[43m(\u001b[49m\u001b[43m)\u001b[49m\u001b[43m \u001b[49m\u001b[38;5;28;43;01mif\u001b[39;49;00m\u001b[43m \u001b[49m\u001b[38;5;129;43;01mnot\u001b[39;49;00m\u001b[43m \u001b[49m\u001b[43mt\u001b[49m\u001b[38;5;241;43m.\u001b[39;49m\u001b[43mwrites\u001b[49m\u001b[43m]\u001b[49m\u001b[43m,\u001b[49m\n\u001b[0;32m   2438\u001b[0m \u001b[43m            \u001b[49m\u001b[43mtimeout\u001b[49m\u001b[38;5;241;43m=\u001b[39;49m\u001b[38;5;28;43mself\u001b[39;49m\u001b[38;5;241;43m.\u001b[39;49m\u001b[43mstep_timeout\u001b[49m\u001b[43m,\u001b[49m\n\u001b[0;32m   2439\u001b[0m \u001b[43m            \u001b[49m\u001b[43mget_waiter\u001b[49m\u001b[38;5;241;43m=\u001b[39;49m\u001b[43mget_waiter\u001b[49m\u001b[43m,\u001b[49m\n\u001b[0;32m   2440\u001b[0m \u001b[43m            \u001b[49m\u001b[43mschedule_task\u001b[49m\u001b[38;5;241;43m=\u001b[39;49m\u001b[43mloop\u001b[49m\u001b[38;5;241;43m.\u001b[39;49m\u001b[43maccept_push\u001b[49m\u001b[43m,\u001b[49m\n\u001b[0;32m   2441\u001b[0m \u001b[43m        \u001b[49m\u001b[43m)\u001b[49m\u001b[43m:\u001b[49m\n\u001b[0;32m   2442\u001b[0m \u001b[43m            \u001b[49m\u001b[38;5;66;43;03m# emit output\u001b[39;49;00m\n\u001b[0;32m   2443\u001b[0m \u001b[43m            \u001b[49m\u001b[38;5;28;43;01myield from\u001b[39;49;00m\u001b[43m \u001b[49m\u001b[43moutput\u001b[49m\u001b[43m(\u001b[49m\u001b[43m)\u001b[49m\n\u001b[0;32m   2444\u001b[0m \u001b[38;5;66;03m# emit output\u001b[39;00m\n",
      "File \u001b[1;32mc:\\Users\\janit\\anaconda3\\envs\\torchenv\\Lib\\site-packages\\langgraph\\pregel\\runner.py:161\u001b[0m, in \u001b[0;36mPregelRunner.tick\u001b[1;34m(self, tasks, reraise, timeout, retry_policy, get_waiter, schedule_task)\u001b[0m\n\u001b[0;32m    159\u001b[0m t \u001b[38;5;241m=\u001b[39m tasks[\u001b[38;5;241m0\u001b[39m]\n\u001b[0;32m    160\u001b[0m \u001b[38;5;28;01mtry\u001b[39;00m:\n\u001b[1;32m--> 161\u001b[0m     \u001b[43mrun_with_retry\u001b[49m\u001b[43m(\u001b[49m\n\u001b[0;32m    162\u001b[0m \u001b[43m        \u001b[49m\u001b[43mt\u001b[49m\u001b[43m,\u001b[49m\n\u001b[0;32m    163\u001b[0m \u001b[43m        \u001b[49m\u001b[43mretry_policy\u001b[49m\u001b[43m,\u001b[49m\n\u001b[0;32m    164\u001b[0m \u001b[43m        \u001b[49m\u001b[43mconfigurable\u001b[49m\u001b[38;5;241;43m=\u001b[39;49m\u001b[43m{\u001b[49m\n\u001b[0;32m    165\u001b[0m \u001b[43m            \u001b[49m\u001b[43mCONFIG_KEY_CALL\u001b[49m\u001b[43m:\u001b[49m\u001b[43m \u001b[49m\u001b[43mpartial\u001b[49m\u001b[43m(\u001b[49m\n\u001b[0;32m    166\u001b[0m \u001b[43m                \u001b[49m\u001b[43m_call\u001b[49m\u001b[43m,\u001b[49m\n\u001b[0;32m    167\u001b[0m \u001b[43m                \u001b[49m\u001b[43mweakref\u001b[49m\u001b[38;5;241;43m.\u001b[39;49m\u001b[43mref\u001b[49m\u001b[43m(\u001b[49m\u001b[43mt\u001b[49m\u001b[43m)\u001b[49m\u001b[43m,\u001b[49m\n\u001b[0;32m    168\u001b[0m \u001b[43m                \u001b[49m\u001b[43mretry\u001b[49m\u001b[38;5;241;43m=\u001b[39;49m\u001b[43mretry_policy\u001b[49m\u001b[43m,\u001b[49m\n\u001b[0;32m    169\u001b[0m \u001b[43m                \u001b[49m\u001b[43mfutures\u001b[49m\u001b[38;5;241;43m=\u001b[39;49m\u001b[43mweakref\u001b[49m\u001b[38;5;241;43m.\u001b[39;49m\u001b[43mref\u001b[49m\u001b[43m(\u001b[49m\u001b[43mfutures\u001b[49m\u001b[43m)\u001b[49m\u001b[43m,\u001b[49m\n\u001b[0;32m    170\u001b[0m \u001b[43m                \u001b[49m\u001b[43mschedule_task\u001b[49m\u001b[38;5;241;43m=\u001b[39;49m\u001b[43mschedule_task\u001b[49m\u001b[43m,\u001b[49m\n\u001b[0;32m    171\u001b[0m \u001b[43m                \u001b[49m\u001b[43msubmit\u001b[49m\u001b[38;5;241;43m=\u001b[39;49m\u001b[38;5;28;43mself\u001b[39;49m\u001b[38;5;241;43m.\u001b[39;49m\u001b[43msubmit\u001b[49m\u001b[43m,\u001b[49m\n\u001b[0;32m    172\u001b[0m \u001b[43m            \u001b[49m\u001b[43m)\u001b[49m\u001b[43m,\u001b[49m\n\u001b[0;32m    173\u001b[0m \u001b[43m        \u001b[49m\u001b[43m}\u001b[49m\u001b[43m,\u001b[49m\n\u001b[0;32m    174\u001b[0m \u001b[43m    \u001b[49m\u001b[43m)\u001b[49m\n\u001b[0;32m    175\u001b[0m     \u001b[38;5;28mself\u001b[39m\u001b[38;5;241m.\u001b[39mcommit(t, \u001b[38;5;28;01mNone\u001b[39;00m)\n\u001b[0;32m    176\u001b[0m \u001b[38;5;28;01mexcept\u001b[39;00m \u001b[38;5;167;01mException\u001b[39;00m \u001b[38;5;28;01mas\u001b[39;00m exc:\n",
      "File \u001b[1;32mc:\\Users\\janit\\anaconda3\\envs\\torchenv\\Lib\\site-packages\\langgraph\\pregel\\retry.py:40\u001b[0m, in \u001b[0;36mrun_with_retry\u001b[1;34m(task, retry_policy, configurable)\u001b[0m\n\u001b[0;32m     38\u001b[0m     task\u001b[38;5;241m.\u001b[39mwrites\u001b[38;5;241m.\u001b[39mclear()\n\u001b[0;32m     39\u001b[0m     \u001b[38;5;66;03m# run the task\u001b[39;00m\n\u001b[1;32m---> 40\u001b[0m     \u001b[38;5;28;01mreturn\u001b[39;00m \u001b[43mtask\u001b[49m\u001b[38;5;241;43m.\u001b[39;49m\u001b[43mproc\u001b[49m\u001b[38;5;241;43m.\u001b[39;49m\u001b[43minvoke\u001b[49m\u001b[43m(\u001b[49m\u001b[43mtask\u001b[49m\u001b[38;5;241;43m.\u001b[39;49m\u001b[43minput\u001b[49m\u001b[43m,\u001b[49m\u001b[43m \u001b[49m\u001b[43mconfig\u001b[49m\u001b[43m)\u001b[49m\n\u001b[0;32m     41\u001b[0m \u001b[38;5;28;01mexcept\u001b[39;00m ParentCommand \u001b[38;5;28;01mas\u001b[39;00m exc:\n\u001b[0;32m     42\u001b[0m     ns: \u001b[38;5;28mstr\u001b[39m \u001b[38;5;241m=\u001b[39m config[CONF][CONFIG_KEY_CHECKPOINT_NS]\n",
      "File \u001b[1;32mc:\\Users\\janit\\anaconda3\\envs\\torchenv\\Lib\\site-packages\\langgraph\\utils\\runnable.py:623\u001b[0m, in \u001b[0;36mRunnableSeq.invoke\u001b[1;34m(self, input, config, **kwargs)\u001b[0m\n\u001b[0;32m    621\u001b[0m     \u001b[38;5;66;03m# run in context\u001b[39;00m\n\u001b[0;32m    622\u001b[0m     \u001b[38;5;28;01mwith\u001b[39;00m set_config_context(config, run) \u001b[38;5;28;01mas\u001b[39;00m context:\n\u001b[1;32m--> 623\u001b[0m         \u001b[38;5;28minput\u001b[39m \u001b[38;5;241m=\u001b[39m \u001b[43mcontext\u001b[49m\u001b[38;5;241;43m.\u001b[39;49m\u001b[43mrun\u001b[49m\u001b[43m(\u001b[49m\u001b[43mstep\u001b[49m\u001b[38;5;241;43m.\u001b[39;49m\u001b[43minvoke\u001b[49m\u001b[43m,\u001b[49m\u001b[43m \u001b[49m\u001b[38;5;28;43minput\u001b[39;49m\u001b[43m,\u001b[49m\u001b[43m \u001b[49m\u001b[43mconfig\u001b[49m\u001b[43m,\u001b[49m\u001b[43m \u001b[49m\u001b[38;5;241;43m*\u001b[39;49m\u001b[38;5;241;43m*\u001b[39;49m\u001b[43mkwargs\u001b[49m\u001b[43m)\u001b[49m\n\u001b[0;32m    624\u001b[0m \u001b[38;5;28;01melse\u001b[39;00m:\n\u001b[0;32m    625\u001b[0m     \u001b[38;5;28minput\u001b[39m \u001b[38;5;241m=\u001b[39m step\u001b[38;5;241m.\u001b[39minvoke(\u001b[38;5;28minput\u001b[39m, config)\n",
      "File \u001b[1;32mc:\\Users\\janit\\anaconda3\\envs\\torchenv\\Lib\\site-packages\\langgraph\\utils\\runnable.py:377\u001b[0m, in \u001b[0;36mRunnableCallable.invoke\u001b[1;34m(self, input, config, **kwargs)\u001b[0m\n\u001b[0;32m    375\u001b[0m         run_manager\u001b[38;5;241m.\u001b[39mon_chain_end(ret)\n\u001b[0;32m    376\u001b[0m \u001b[38;5;28;01melse\u001b[39;00m:\n\u001b[1;32m--> 377\u001b[0m     ret \u001b[38;5;241m=\u001b[39m \u001b[38;5;28;43mself\u001b[39;49m\u001b[38;5;241;43m.\u001b[39;49m\u001b[43mfunc\u001b[49m\u001b[43m(\u001b[49m\u001b[38;5;241;43m*\u001b[39;49m\u001b[43margs\u001b[49m\u001b[43m,\u001b[49m\u001b[43m \u001b[49m\u001b[38;5;241;43m*\u001b[39;49m\u001b[38;5;241;43m*\u001b[39;49m\u001b[43mkwargs\u001b[49m\u001b[43m)\u001b[49m\n\u001b[0;32m    378\u001b[0m \u001b[38;5;28;01mif\u001b[39;00m \u001b[38;5;28mself\u001b[39m\u001b[38;5;241m.\u001b[39mrecurse \u001b[38;5;129;01mand\u001b[39;00m \u001b[38;5;28misinstance\u001b[39m(ret, Runnable):\n\u001b[0;32m    379\u001b[0m     \u001b[38;5;28;01mreturn\u001b[39;00m ret\u001b[38;5;241m.\u001b[39minvoke(\u001b[38;5;28minput\u001b[39m, config)\n",
      "Cell \u001b[1;32mIn[48], line 63\u001b[0m, in \u001b[0;36mAssistant.__call__\u001b[1;34m(self, state, config)\u001b[0m\n\u001b[0;32m     60\u001b[0m     messages\u001b[38;5;241m.\u001b[39mpop(\u001b[38;5;241m-\u001b[39m\u001b[38;5;241m2\u001b[39m)\n\u001b[0;32m     62\u001b[0m state \u001b[38;5;241m=\u001b[39m {\u001b[38;5;241m*\u001b[39m\u001b[38;5;241m*\u001b[39mstate, \u001b[38;5;124m\"\u001b[39m\u001b[38;5;124mmessages\u001b[39m\u001b[38;5;124m\"\u001b[39m: messages}\n\u001b[1;32m---> 63\u001b[0m result \u001b[38;5;241m=\u001b[39m \u001b[38;5;28;43mself\u001b[39;49m\u001b[38;5;241;43m.\u001b[39;49m\u001b[43mrunnable\u001b[49m\u001b[38;5;241;43m.\u001b[39;49m\u001b[43minvoke\u001b[49m\u001b[43m(\u001b[49m\u001b[43mstate\u001b[49m\u001b[43m)\u001b[49m\n\u001b[0;32m     65\u001b[0m \u001b[38;5;28;01mif\u001b[39;00m \u001b[38;5;129;01mnot\u001b[39;00m result\u001b[38;5;241m.\u001b[39mtool_calls \u001b[38;5;129;01mand\u001b[39;00m (\n\u001b[0;32m     66\u001b[0m     \u001b[38;5;129;01mnot\u001b[39;00m result\u001b[38;5;241m.\u001b[39mcontent\n\u001b[0;32m     67\u001b[0m     \u001b[38;5;129;01mor\u001b[39;00m (\u001b[38;5;28misinstance\u001b[39m(result\u001b[38;5;241m.\u001b[39mcontent, \u001b[38;5;28mlist\u001b[39m) \u001b[38;5;129;01mand\u001b[39;00m (\u001b[38;5;129;01mnot\u001b[39;00m result\u001b[38;5;241m.\u001b[39mcontent \u001b[38;5;129;01mor\u001b[39;00m \u001b[38;5;129;01mnot\u001b[39;00m result\u001b[38;5;241m.\u001b[39mcontent[\u001b[38;5;241m0\u001b[39m]\u001b[38;5;241m.\u001b[39mget(\u001b[38;5;124m\"\u001b[39m\u001b[38;5;124mtext\u001b[39m\u001b[38;5;124m\"\u001b[39m)))\n\u001b[0;32m     68\u001b[0m ):\n\u001b[0;32m     69\u001b[0m     messages \u001b[38;5;241m=\u001b[39m messages \u001b[38;5;241m+\u001b[39m [HumanMessage(content\u001b[38;5;241m=\u001b[39m\u001b[38;5;124m\"\u001b[39m\u001b[38;5;124mRespond with a real output.\u001b[39m\u001b[38;5;124m\"\u001b[39m)]\n",
      "File \u001b[1;32mc:\\Users\\janit\\anaconda3\\envs\\torchenv\\Lib\\site-packages\\langchain_core\\runnables\\base.py:3047\u001b[0m, in \u001b[0;36mRunnableSequence.invoke\u001b[1;34m(self, input, config, **kwargs)\u001b[0m\n\u001b[0;32m   3045\u001b[0m                 input_ \u001b[38;5;241m=\u001b[39m context\u001b[38;5;241m.\u001b[39mrun(step\u001b[38;5;241m.\u001b[39minvoke, input_, config, \u001b[38;5;241m*\u001b[39m\u001b[38;5;241m*\u001b[39mkwargs)\n\u001b[0;32m   3046\u001b[0m             \u001b[38;5;28;01melse\u001b[39;00m:\n\u001b[1;32m-> 3047\u001b[0m                 input_ \u001b[38;5;241m=\u001b[39m \u001b[43mcontext\u001b[49m\u001b[38;5;241;43m.\u001b[39;49m\u001b[43mrun\u001b[49m\u001b[43m(\u001b[49m\u001b[43mstep\u001b[49m\u001b[38;5;241;43m.\u001b[39;49m\u001b[43minvoke\u001b[49m\u001b[43m,\u001b[49m\u001b[43m \u001b[49m\u001b[43minput_\u001b[49m\u001b[43m,\u001b[49m\u001b[43m \u001b[49m\u001b[43mconfig\u001b[49m\u001b[43m)\u001b[49m\n\u001b[0;32m   3048\u001b[0m \u001b[38;5;66;03m# finish the root run\u001b[39;00m\n\u001b[0;32m   3049\u001b[0m \u001b[38;5;28;01mexcept\u001b[39;00m \u001b[38;5;167;01mBaseException\u001b[39;00m \u001b[38;5;28;01mas\u001b[39;00m e:\n",
      "File \u001b[1;32mc:\\Users\\janit\\anaconda3\\envs\\torchenv\\Lib\\site-packages\\langchain_core\\runnables\\base.py:5431\u001b[0m, in \u001b[0;36mRunnableBindingBase.invoke\u001b[1;34m(self, input, config, **kwargs)\u001b[0m\n\u001b[0;32m   5424\u001b[0m \u001b[38;5;129m@override\u001b[39m\n\u001b[0;32m   5425\u001b[0m \u001b[38;5;28;01mdef\u001b[39;00m\u001b[38;5;250m \u001b[39m\u001b[38;5;21minvoke\u001b[39m(\n\u001b[0;32m   5426\u001b[0m     \u001b[38;5;28mself\u001b[39m,\n\u001b[1;32m   (...)\u001b[0m\n\u001b[0;32m   5429\u001b[0m     \u001b[38;5;241m*\u001b[39m\u001b[38;5;241m*\u001b[39mkwargs: Optional[Any],\n\u001b[0;32m   5430\u001b[0m ) \u001b[38;5;241m-\u001b[39m\u001b[38;5;241m>\u001b[39m Output:\n\u001b[1;32m-> 5431\u001b[0m     \u001b[38;5;28;01mreturn\u001b[39;00m \u001b[38;5;28;43mself\u001b[39;49m\u001b[38;5;241;43m.\u001b[39;49m\u001b[43mbound\u001b[49m\u001b[38;5;241;43m.\u001b[39;49m\u001b[43minvoke\u001b[49m\u001b[43m(\u001b[49m\n\u001b[0;32m   5432\u001b[0m \u001b[43m        \u001b[49m\u001b[38;5;28;43minput\u001b[39;49m\u001b[43m,\u001b[49m\n\u001b[0;32m   5433\u001b[0m \u001b[43m        \u001b[49m\u001b[38;5;28;43mself\u001b[39;49m\u001b[38;5;241;43m.\u001b[39;49m\u001b[43m_merge_configs\u001b[49m\u001b[43m(\u001b[49m\u001b[43mconfig\u001b[49m\u001b[43m)\u001b[49m\u001b[43m,\u001b[49m\n\u001b[0;32m   5434\u001b[0m \u001b[43m        \u001b[49m\u001b[38;5;241;43m*\u001b[39;49m\u001b[38;5;241;43m*\u001b[39;49m\u001b[43m{\u001b[49m\u001b[38;5;241;43m*\u001b[39;49m\u001b[38;5;241;43m*\u001b[39;49m\u001b[38;5;28;43mself\u001b[39;49m\u001b[38;5;241;43m.\u001b[39;49m\u001b[43mkwargs\u001b[49m\u001b[43m,\u001b[49m\u001b[43m \u001b[49m\u001b[38;5;241;43m*\u001b[39;49m\u001b[38;5;241;43m*\u001b[39;49m\u001b[43mkwargs\u001b[49m\u001b[43m}\u001b[49m\u001b[43m,\u001b[49m\n\u001b[0;32m   5435\u001b[0m \u001b[43m    \u001b[49m\u001b[43m)\u001b[49m\n",
      "File \u001b[1;32mc:\\Users\\janit\\anaconda3\\envs\\torchenv\\Lib\\site-packages\\langchain_google_genai\\chat_models.py:1022\u001b[0m, in \u001b[0;36mChatGoogleGenerativeAI.invoke\u001b[1;34m(self, input, config, code_execution, stop, **kwargs)\u001b[0m\n\u001b[0;32m   1017\u001b[0m     \u001b[38;5;28;01melse\u001b[39;00m:\n\u001b[0;32m   1018\u001b[0m         \u001b[38;5;28;01mraise\u001b[39;00m \u001b[38;5;167;01mValueError\u001b[39;00m(\n\u001b[0;32m   1019\u001b[0m             \u001b[38;5;124m\"\u001b[39m\u001b[38;5;124mTools are already defined.\u001b[39m\u001b[38;5;124m\"\u001b[39m \u001b[38;5;124m\"\u001b[39m\u001b[38;5;124mcode_execution tool can\u001b[39m\u001b[38;5;124m'\u001b[39m\u001b[38;5;124mt be defined\u001b[39m\u001b[38;5;124m\"\u001b[39m\n\u001b[0;32m   1020\u001b[0m         )\n\u001b[1;32m-> 1022\u001b[0m \u001b[38;5;28;01mreturn\u001b[39;00m \u001b[38;5;28;43msuper\u001b[39;49m\u001b[43m(\u001b[49m\u001b[43m)\u001b[49m\u001b[38;5;241;43m.\u001b[39;49m\u001b[43minvoke\u001b[49m\u001b[43m(\u001b[49m\u001b[38;5;28;43minput\u001b[39;49m\u001b[43m,\u001b[49m\u001b[43m \u001b[49m\u001b[43mconfig\u001b[49m\u001b[43m,\u001b[49m\u001b[43m \u001b[49m\u001b[43mstop\u001b[49m\u001b[38;5;241;43m=\u001b[39;49m\u001b[43mstop\u001b[49m\u001b[43m,\u001b[49m\u001b[43m \u001b[49m\u001b[38;5;241;43m*\u001b[39;49m\u001b[38;5;241;43m*\u001b[39;49m\u001b[43mkwargs\u001b[49m\u001b[43m)\u001b[49m\n",
      "File \u001b[1;32mc:\\Users\\janit\\anaconda3\\envs\\torchenv\\Lib\\site-packages\\langchain_core\\language_models\\chat_models.py:372\u001b[0m, in \u001b[0;36mBaseChatModel.invoke\u001b[1;34m(self, input, config, stop, **kwargs)\u001b[0m\n\u001b[0;32m    360\u001b[0m \u001b[38;5;129m@override\u001b[39m\n\u001b[0;32m    361\u001b[0m \u001b[38;5;28;01mdef\u001b[39;00m\u001b[38;5;250m \u001b[39m\u001b[38;5;21minvoke\u001b[39m(\n\u001b[0;32m    362\u001b[0m     \u001b[38;5;28mself\u001b[39m,\n\u001b[1;32m   (...)\u001b[0m\n\u001b[0;32m    367\u001b[0m     \u001b[38;5;241m*\u001b[39m\u001b[38;5;241m*\u001b[39mkwargs: Any,\n\u001b[0;32m    368\u001b[0m ) \u001b[38;5;241m-\u001b[39m\u001b[38;5;241m>\u001b[39m BaseMessage:\n\u001b[0;32m    369\u001b[0m     config \u001b[38;5;241m=\u001b[39m ensure_config(config)\n\u001b[0;32m    370\u001b[0m     \u001b[38;5;28;01mreturn\u001b[39;00m cast(\n\u001b[0;32m    371\u001b[0m         \u001b[38;5;124m\"\u001b[39m\u001b[38;5;124mChatGeneration\u001b[39m\u001b[38;5;124m\"\u001b[39m,\n\u001b[1;32m--> 372\u001b[0m         \u001b[38;5;28;43mself\u001b[39;49m\u001b[38;5;241;43m.\u001b[39;49m\u001b[43mgenerate_prompt\u001b[49m\u001b[43m(\u001b[49m\n\u001b[0;32m    373\u001b[0m \u001b[43m            \u001b[49m\u001b[43m[\u001b[49m\u001b[38;5;28;43mself\u001b[39;49m\u001b[38;5;241;43m.\u001b[39;49m\u001b[43m_convert_input\u001b[49m\u001b[43m(\u001b[49m\u001b[38;5;28;43minput\u001b[39;49m\u001b[43m)\u001b[49m\u001b[43m]\u001b[49m\u001b[43m,\u001b[49m\n\u001b[0;32m    374\u001b[0m \u001b[43m            \u001b[49m\u001b[43mstop\u001b[49m\u001b[38;5;241;43m=\u001b[39;49m\u001b[43mstop\u001b[49m\u001b[43m,\u001b[49m\n\u001b[0;32m    375\u001b[0m \u001b[43m            \u001b[49m\u001b[43mcallbacks\u001b[49m\u001b[38;5;241;43m=\u001b[39;49m\u001b[43mconfig\u001b[49m\u001b[38;5;241;43m.\u001b[39;49m\u001b[43mget\u001b[49m\u001b[43m(\u001b[49m\u001b[38;5;124;43m\"\u001b[39;49m\u001b[38;5;124;43mcallbacks\u001b[39;49m\u001b[38;5;124;43m\"\u001b[39;49m\u001b[43m)\u001b[49m\u001b[43m,\u001b[49m\n\u001b[0;32m    376\u001b[0m \u001b[43m            \u001b[49m\u001b[43mtags\u001b[49m\u001b[38;5;241;43m=\u001b[39;49m\u001b[43mconfig\u001b[49m\u001b[38;5;241;43m.\u001b[39;49m\u001b[43mget\u001b[49m\u001b[43m(\u001b[49m\u001b[38;5;124;43m\"\u001b[39;49m\u001b[38;5;124;43mtags\u001b[39;49m\u001b[38;5;124;43m\"\u001b[39;49m\u001b[43m)\u001b[49m\u001b[43m,\u001b[49m\n\u001b[0;32m    377\u001b[0m \u001b[43m            \u001b[49m\u001b[43mmetadata\u001b[49m\u001b[38;5;241;43m=\u001b[39;49m\u001b[43mconfig\u001b[49m\u001b[38;5;241;43m.\u001b[39;49m\u001b[43mget\u001b[49m\u001b[43m(\u001b[49m\u001b[38;5;124;43m\"\u001b[39;49m\u001b[38;5;124;43mmetadata\u001b[39;49m\u001b[38;5;124;43m\"\u001b[39;49m\u001b[43m)\u001b[49m\u001b[43m,\u001b[49m\n\u001b[0;32m    378\u001b[0m \u001b[43m            \u001b[49m\u001b[43mrun_name\u001b[49m\u001b[38;5;241;43m=\u001b[39;49m\u001b[43mconfig\u001b[49m\u001b[38;5;241;43m.\u001b[39;49m\u001b[43mget\u001b[49m\u001b[43m(\u001b[49m\u001b[38;5;124;43m\"\u001b[39;49m\u001b[38;5;124;43mrun_name\u001b[39;49m\u001b[38;5;124;43m\"\u001b[39;49m\u001b[43m)\u001b[49m\u001b[43m,\u001b[49m\n\u001b[0;32m    379\u001b[0m \u001b[43m            \u001b[49m\u001b[43mrun_id\u001b[49m\u001b[38;5;241;43m=\u001b[39;49m\u001b[43mconfig\u001b[49m\u001b[38;5;241;43m.\u001b[39;49m\u001b[43mpop\u001b[49m\u001b[43m(\u001b[49m\u001b[38;5;124;43m\"\u001b[39;49m\u001b[38;5;124;43mrun_id\u001b[39;49m\u001b[38;5;124;43m\"\u001b[39;49m\u001b[43m,\u001b[49m\u001b[43m \u001b[49m\u001b[38;5;28;43;01mNone\u001b[39;49;00m\u001b[43m)\u001b[49m\u001b[43m,\u001b[49m\n\u001b[0;32m    380\u001b[0m \u001b[43m            \u001b[49m\u001b[38;5;241;43m*\u001b[39;49m\u001b[38;5;241;43m*\u001b[39;49m\u001b[43mkwargs\u001b[49m\u001b[43m,\u001b[49m\n\u001b[0;32m    381\u001b[0m \u001b[43m        \u001b[49m\u001b[43m)\u001b[49m\u001b[38;5;241m.\u001b[39mgenerations[\u001b[38;5;241m0\u001b[39m][\u001b[38;5;241m0\u001b[39m],\n\u001b[0;32m    382\u001b[0m     )\u001b[38;5;241m.\u001b[39mmessage\n",
      "File \u001b[1;32mc:\\Users\\janit\\anaconda3\\envs\\torchenv\\Lib\\site-packages\\langchain_core\\language_models\\chat_models.py:957\u001b[0m, in \u001b[0;36mBaseChatModel.generate_prompt\u001b[1;34m(self, prompts, stop, callbacks, **kwargs)\u001b[0m\n\u001b[0;32m    948\u001b[0m \u001b[38;5;129m@override\u001b[39m\n\u001b[0;32m    949\u001b[0m \u001b[38;5;28;01mdef\u001b[39;00m\u001b[38;5;250m \u001b[39m\u001b[38;5;21mgenerate_prompt\u001b[39m(\n\u001b[0;32m    950\u001b[0m     \u001b[38;5;28mself\u001b[39m,\n\u001b[1;32m   (...)\u001b[0m\n\u001b[0;32m    954\u001b[0m     \u001b[38;5;241m*\u001b[39m\u001b[38;5;241m*\u001b[39mkwargs: Any,\n\u001b[0;32m    955\u001b[0m ) \u001b[38;5;241m-\u001b[39m\u001b[38;5;241m>\u001b[39m LLMResult:\n\u001b[0;32m    956\u001b[0m     prompt_messages \u001b[38;5;241m=\u001b[39m [p\u001b[38;5;241m.\u001b[39mto_messages() \u001b[38;5;28;01mfor\u001b[39;00m p \u001b[38;5;129;01min\u001b[39;00m prompts]\n\u001b[1;32m--> 957\u001b[0m     \u001b[38;5;28;01mreturn\u001b[39;00m \u001b[38;5;28;43mself\u001b[39;49m\u001b[38;5;241;43m.\u001b[39;49m\u001b[43mgenerate\u001b[49m\u001b[43m(\u001b[49m\u001b[43mprompt_messages\u001b[49m\u001b[43m,\u001b[49m\u001b[43m \u001b[49m\u001b[43mstop\u001b[49m\u001b[38;5;241;43m=\u001b[39;49m\u001b[43mstop\u001b[49m\u001b[43m,\u001b[49m\u001b[43m \u001b[49m\u001b[43mcallbacks\u001b[49m\u001b[38;5;241;43m=\u001b[39;49m\u001b[43mcallbacks\u001b[49m\u001b[43m,\u001b[49m\u001b[43m \u001b[49m\u001b[38;5;241;43m*\u001b[39;49m\u001b[38;5;241;43m*\u001b[39;49m\u001b[43mkwargs\u001b[49m\u001b[43m)\u001b[49m\n",
      "File \u001b[1;32mc:\\Users\\janit\\anaconda3\\envs\\torchenv\\Lib\\site-packages\\langchain_core\\language_models\\chat_models.py:776\u001b[0m, in \u001b[0;36mBaseChatModel.generate\u001b[1;34m(self, messages, stop, callbacks, tags, metadata, run_name, run_id, **kwargs)\u001b[0m\n\u001b[0;32m    773\u001b[0m \u001b[38;5;28;01mfor\u001b[39;00m i, m \u001b[38;5;129;01min\u001b[39;00m \u001b[38;5;28menumerate\u001b[39m(input_messages):\n\u001b[0;32m    774\u001b[0m     \u001b[38;5;28;01mtry\u001b[39;00m:\n\u001b[0;32m    775\u001b[0m         results\u001b[38;5;241m.\u001b[39mappend(\n\u001b[1;32m--> 776\u001b[0m             \u001b[38;5;28;43mself\u001b[39;49m\u001b[38;5;241;43m.\u001b[39;49m\u001b[43m_generate_with_cache\u001b[49m\u001b[43m(\u001b[49m\n\u001b[0;32m    777\u001b[0m \u001b[43m                \u001b[49m\u001b[43mm\u001b[49m\u001b[43m,\u001b[49m\n\u001b[0;32m    778\u001b[0m \u001b[43m                \u001b[49m\u001b[43mstop\u001b[49m\u001b[38;5;241;43m=\u001b[39;49m\u001b[43mstop\u001b[49m\u001b[43m,\u001b[49m\n\u001b[0;32m    779\u001b[0m \u001b[43m                \u001b[49m\u001b[43mrun_manager\u001b[49m\u001b[38;5;241;43m=\u001b[39;49m\u001b[43mrun_managers\u001b[49m\u001b[43m[\u001b[49m\u001b[43mi\u001b[49m\u001b[43m]\u001b[49m\u001b[43m \u001b[49m\u001b[38;5;28;43;01mif\u001b[39;49;00m\u001b[43m \u001b[49m\u001b[43mrun_managers\u001b[49m\u001b[43m \u001b[49m\u001b[38;5;28;43;01melse\u001b[39;49;00m\u001b[43m \u001b[49m\u001b[38;5;28;43;01mNone\u001b[39;49;00m\u001b[43m,\u001b[49m\n\u001b[0;32m    780\u001b[0m \u001b[43m                \u001b[49m\u001b[38;5;241;43m*\u001b[39;49m\u001b[38;5;241;43m*\u001b[39;49m\u001b[43mkwargs\u001b[49m\u001b[43m,\u001b[49m\n\u001b[0;32m    781\u001b[0m \u001b[43m            \u001b[49m\u001b[43m)\u001b[49m\n\u001b[0;32m    782\u001b[0m         )\n\u001b[0;32m    783\u001b[0m     \u001b[38;5;28;01mexcept\u001b[39;00m \u001b[38;5;167;01mBaseException\u001b[39;00m \u001b[38;5;28;01mas\u001b[39;00m e:\n\u001b[0;32m    784\u001b[0m         \u001b[38;5;28;01mif\u001b[39;00m run_managers:\n",
      "File \u001b[1;32mc:\\Users\\janit\\anaconda3\\envs\\torchenv\\Lib\\site-packages\\langchain_core\\language_models\\chat_models.py:1022\u001b[0m, in \u001b[0;36mBaseChatModel._generate_with_cache\u001b[1;34m(self, messages, stop, run_manager, **kwargs)\u001b[0m\n\u001b[0;32m   1020\u001b[0m     result \u001b[38;5;241m=\u001b[39m generate_from_stream(\u001b[38;5;28miter\u001b[39m(chunks))\n\u001b[0;32m   1021\u001b[0m \u001b[38;5;28;01melif\u001b[39;00m inspect\u001b[38;5;241m.\u001b[39msignature(\u001b[38;5;28mself\u001b[39m\u001b[38;5;241m.\u001b[39m_generate)\u001b[38;5;241m.\u001b[39mparameters\u001b[38;5;241m.\u001b[39mget(\u001b[38;5;124m\"\u001b[39m\u001b[38;5;124mrun_manager\u001b[39m\u001b[38;5;124m\"\u001b[39m):\n\u001b[1;32m-> 1022\u001b[0m     result \u001b[38;5;241m=\u001b[39m \u001b[38;5;28;43mself\u001b[39;49m\u001b[38;5;241;43m.\u001b[39;49m\u001b[43m_generate\u001b[49m\u001b[43m(\u001b[49m\n\u001b[0;32m   1023\u001b[0m \u001b[43m        \u001b[49m\u001b[43mmessages\u001b[49m\u001b[43m,\u001b[49m\u001b[43m \u001b[49m\u001b[43mstop\u001b[49m\u001b[38;5;241;43m=\u001b[39;49m\u001b[43mstop\u001b[49m\u001b[43m,\u001b[49m\u001b[43m \u001b[49m\u001b[43mrun_manager\u001b[49m\u001b[38;5;241;43m=\u001b[39;49m\u001b[43mrun_manager\u001b[49m\u001b[43m,\u001b[49m\u001b[43m \u001b[49m\u001b[38;5;241;43m*\u001b[39;49m\u001b[38;5;241;43m*\u001b[39;49m\u001b[43mkwargs\u001b[49m\n\u001b[0;32m   1024\u001b[0m \u001b[43m    \u001b[49m\u001b[43m)\u001b[49m\n\u001b[0;32m   1025\u001b[0m \u001b[38;5;28;01melse\u001b[39;00m:\n\u001b[0;32m   1026\u001b[0m     result \u001b[38;5;241m=\u001b[39m \u001b[38;5;28mself\u001b[39m\u001b[38;5;241m.\u001b[39m_generate(messages, stop\u001b[38;5;241m=\u001b[39mstop, \u001b[38;5;241m*\u001b[39m\u001b[38;5;241m*\u001b[39mkwargs)\n",
      "File \u001b[1;32mc:\\Users\\janit\\anaconda3\\envs\\torchenv\\Lib\\site-packages\\langchain_google_genai\\chat_models.py:1089\u001b[0m, in \u001b[0;36mChatGoogleGenerativeAI._generate\u001b[1;34m(self, messages, stop, run_manager, tools, functions, safety_settings, tool_config, generation_config, cached_content, tool_choice, **kwargs)\u001b[0m\n\u001b[0;32m   1063\u001b[0m \u001b[38;5;28;01mdef\u001b[39;00m\u001b[38;5;250m \u001b[39m\u001b[38;5;21m_generate\u001b[39m(\n\u001b[0;32m   1064\u001b[0m     \u001b[38;5;28mself\u001b[39m,\n\u001b[0;32m   1065\u001b[0m     messages: List[BaseMessage],\n\u001b[1;32m   (...)\u001b[0m\n\u001b[0;32m   1076\u001b[0m     \u001b[38;5;241m*\u001b[39m\u001b[38;5;241m*\u001b[39mkwargs: Any,\n\u001b[0;32m   1077\u001b[0m ) \u001b[38;5;241m-\u001b[39m\u001b[38;5;241m>\u001b[39m ChatResult:\n\u001b[0;32m   1078\u001b[0m     request \u001b[38;5;241m=\u001b[39m \u001b[38;5;28mself\u001b[39m\u001b[38;5;241m.\u001b[39m_prepare_request(\n\u001b[0;32m   1079\u001b[0m         messages,\n\u001b[0;32m   1080\u001b[0m         stop\u001b[38;5;241m=\u001b[39mstop,\n\u001b[1;32m   (...)\u001b[0m\n\u001b[0;32m   1087\u001b[0m         tool_choice\u001b[38;5;241m=\u001b[39mtool_choice,\n\u001b[0;32m   1088\u001b[0m     )\n\u001b[1;32m-> 1089\u001b[0m     response: GenerateContentResponse \u001b[38;5;241m=\u001b[39m \u001b[43m_chat_with_retry\u001b[49m\u001b[43m(\u001b[49m\n\u001b[0;32m   1090\u001b[0m \u001b[43m        \u001b[49m\u001b[43mrequest\u001b[49m\u001b[38;5;241;43m=\u001b[39;49m\u001b[43mrequest\u001b[49m\u001b[43m,\u001b[49m\n\u001b[0;32m   1091\u001b[0m \u001b[43m        \u001b[49m\u001b[38;5;241;43m*\u001b[39;49m\u001b[38;5;241;43m*\u001b[39;49m\u001b[43mkwargs\u001b[49m\u001b[43m,\u001b[49m\n\u001b[0;32m   1092\u001b[0m \u001b[43m        \u001b[49m\u001b[43mgeneration_method\u001b[49m\u001b[38;5;241;43m=\u001b[39;49m\u001b[38;5;28;43mself\u001b[39;49m\u001b[38;5;241;43m.\u001b[39;49m\u001b[43mclient\u001b[49m\u001b[38;5;241;43m.\u001b[39;49m\u001b[43mgenerate_content\u001b[49m\u001b[43m,\u001b[49m\n\u001b[0;32m   1093\u001b[0m \u001b[43m        \u001b[49m\u001b[43mmetadata\u001b[49m\u001b[38;5;241;43m=\u001b[39;49m\u001b[38;5;28;43mself\u001b[39;49m\u001b[38;5;241;43m.\u001b[39;49m\u001b[43mdefault_metadata\u001b[49m\u001b[43m,\u001b[49m\n\u001b[0;32m   1094\u001b[0m \u001b[43m    \u001b[49m\u001b[43m)\u001b[49m\n\u001b[0;32m   1095\u001b[0m     \u001b[38;5;28;01mreturn\u001b[39;00m _response_to_result(response)\n",
      "File \u001b[1;32mc:\\Users\\janit\\anaconda3\\envs\\torchenv\\Lib\\site-packages\\langchain_google_genai\\chat_models.py:206\u001b[0m, in \u001b[0;36m_chat_with_retry\u001b[1;34m(generation_method, **kwargs)\u001b[0m\n\u001b[0;32m    203\u001b[0m     \u001b[38;5;28;01mexcept\u001b[39;00m \u001b[38;5;167;01mException\u001b[39;00m \u001b[38;5;28;01mas\u001b[39;00m e:\n\u001b[0;32m    204\u001b[0m         \u001b[38;5;28;01mraise\u001b[39;00m e\n\u001b[1;32m--> 206\u001b[0m \u001b[38;5;28;01mreturn\u001b[39;00m \u001b[43m_chat_with_retry\u001b[49m\u001b[43m(\u001b[49m\u001b[38;5;241;43m*\u001b[39;49m\u001b[38;5;241;43m*\u001b[39;49m\u001b[43mkwargs\u001b[49m\u001b[43m)\u001b[49m\n",
      "File \u001b[1;32mc:\\Users\\janit\\anaconda3\\envs\\torchenv\\Lib\\site-packages\\tenacity\\__init__.py:289\u001b[0m, in \u001b[0;36mBaseRetrying.wraps.<locals>.wrapped_f\u001b[1;34m(*args, **kw)\u001b[0m\n\u001b[0;32m    287\u001b[0m \u001b[38;5;129m@functools\u001b[39m\u001b[38;5;241m.\u001b[39mwraps(f)\n\u001b[0;32m    288\u001b[0m \u001b[38;5;28;01mdef\u001b[39;00m\u001b[38;5;250m \u001b[39m\u001b[38;5;21mwrapped_f\u001b[39m(\u001b[38;5;241m*\u001b[39margs: t\u001b[38;5;241m.\u001b[39mAny, \u001b[38;5;241m*\u001b[39m\u001b[38;5;241m*\u001b[39mkw: t\u001b[38;5;241m.\u001b[39mAny) \u001b[38;5;241m-\u001b[39m\u001b[38;5;241m>\u001b[39m t\u001b[38;5;241m.\u001b[39mAny:\n\u001b[1;32m--> 289\u001b[0m     \u001b[38;5;28;01mreturn\u001b[39;00m \u001b[38;5;28;43mself\u001b[39;49m\u001b[43m(\u001b[49m\u001b[43mf\u001b[49m\u001b[43m,\u001b[49m\u001b[43m \u001b[49m\u001b[38;5;241;43m*\u001b[39;49m\u001b[43margs\u001b[49m\u001b[43m,\u001b[49m\u001b[43m \u001b[49m\u001b[38;5;241;43m*\u001b[39;49m\u001b[38;5;241;43m*\u001b[39;49m\u001b[43mkw\u001b[49m\u001b[43m)\u001b[49m\n",
      "File \u001b[1;32mc:\\Users\\janit\\anaconda3\\envs\\torchenv\\Lib\\site-packages\\tenacity\\__init__.py:379\u001b[0m, in \u001b[0;36mRetrying.__call__\u001b[1;34m(self, fn, *args, **kwargs)\u001b[0m\n\u001b[0;32m    377\u001b[0m retry_state \u001b[38;5;241m=\u001b[39m RetryCallState(retry_object\u001b[38;5;241m=\u001b[39m\u001b[38;5;28mself\u001b[39m, fn\u001b[38;5;241m=\u001b[39mfn, args\u001b[38;5;241m=\u001b[39margs, kwargs\u001b[38;5;241m=\u001b[39mkwargs)\n\u001b[0;32m    378\u001b[0m \u001b[38;5;28;01mwhile\u001b[39;00m \u001b[38;5;28;01mTrue\u001b[39;00m:\n\u001b[1;32m--> 379\u001b[0m     do \u001b[38;5;241m=\u001b[39m \u001b[38;5;28;43mself\u001b[39;49m\u001b[38;5;241;43m.\u001b[39;49m\u001b[43miter\u001b[49m\u001b[43m(\u001b[49m\u001b[43mretry_state\u001b[49m\u001b[38;5;241;43m=\u001b[39;49m\u001b[43mretry_state\u001b[49m\u001b[43m)\u001b[49m\n\u001b[0;32m    380\u001b[0m     \u001b[38;5;28;01mif\u001b[39;00m \u001b[38;5;28misinstance\u001b[39m(do, DoAttempt):\n\u001b[0;32m    381\u001b[0m         \u001b[38;5;28;01mtry\u001b[39;00m:\n",
      "File \u001b[1;32mc:\\Users\\janit\\anaconda3\\envs\\torchenv\\Lib\\site-packages\\tenacity\\__init__.py:314\u001b[0m, in \u001b[0;36mBaseRetrying.iter\u001b[1;34m(self, retry_state)\u001b[0m\n\u001b[0;32m    312\u001b[0m is_explicit_retry \u001b[38;5;241m=\u001b[39m fut\u001b[38;5;241m.\u001b[39mfailed \u001b[38;5;129;01mand\u001b[39;00m \u001b[38;5;28misinstance\u001b[39m(fut\u001b[38;5;241m.\u001b[39mexception(), TryAgain)\n\u001b[0;32m    313\u001b[0m \u001b[38;5;28;01mif\u001b[39;00m \u001b[38;5;129;01mnot\u001b[39;00m (is_explicit_retry \u001b[38;5;129;01mor\u001b[39;00m \u001b[38;5;28mself\u001b[39m\u001b[38;5;241m.\u001b[39mretry(retry_state)):\n\u001b[1;32m--> 314\u001b[0m     \u001b[38;5;28;01mreturn\u001b[39;00m \u001b[43mfut\u001b[49m\u001b[38;5;241;43m.\u001b[39;49m\u001b[43mresult\u001b[49m\u001b[43m(\u001b[49m\u001b[43m)\u001b[49m\n\u001b[0;32m    316\u001b[0m \u001b[38;5;28;01mif\u001b[39;00m \u001b[38;5;28mself\u001b[39m\u001b[38;5;241m.\u001b[39mafter \u001b[38;5;129;01mis\u001b[39;00m \u001b[38;5;129;01mnot\u001b[39;00m \u001b[38;5;28;01mNone\u001b[39;00m:\n\u001b[0;32m    317\u001b[0m     \u001b[38;5;28mself\u001b[39m\u001b[38;5;241m.\u001b[39mafter(retry_state)\n",
      "File \u001b[1;32mc:\\Users\\janit\\anaconda3\\envs\\torchenv\\Lib\\concurrent\\futures\\_base.py:449\u001b[0m, in \u001b[0;36mFuture.result\u001b[1;34m(self, timeout)\u001b[0m\n\u001b[0;32m    447\u001b[0m     \u001b[38;5;28;01mraise\u001b[39;00m CancelledError()\n\u001b[0;32m    448\u001b[0m \u001b[38;5;28;01melif\u001b[39;00m \u001b[38;5;28mself\u001b[39m\u001b[38;5;241m.\u001b[39m_state \u001b[38;5;241m==\u001b[39m FINISHED:\n\u001b[1;32m--> 449\u001b[0m     \u001b[38;5;28;01mreturn\u001b[39;00m \u001b[38;5;28;43mself\u001b[39;49m\u001b[38;5;241;43m.\u001b[39;49m\u001b[43m__get_result\u001b[49m\u001b[43m(\u001b[49m\u001b[43m)\u001b[49m\n\u001b[0;32m    451\u001b[0m \u001b[38;5;28mself\u001b[39m\u001b[38;5;241m.\u001b[39m_condition\u001b[38;5;241m.\u001b[39mwait(timeout)\n\u001b[0;32m    453\u001b[0m \u001b[38;5;28;01mif\u001b[39;00m \u001b[38;5;28mself\u001b[39m\u001b[38;5;241m.\u001b[39m_state \u001b[38;5;129;01min\u001b[39;00m [CANCELLED, CANCELLED_AND_NOTIFIED]:\n",
      "File \u001b[1;32mc:\\Users\\janit\\anaconda3\\envs\\torchenv\\Lib\\concurrent\\futures\\_base.py:401\u001b[0m, in \u001b[0;36mFuture.__get_result\u001b[1;34m(self)\u001b[0m\n\u001b[0;32m    399\u001b[0m \u001b[38;5;28;01mif\u001b[39;00m \u001b[38;5;28mself\u001b[39m\u001b[38;5;241m.\u001b[39m_exception:\n\u001b[0;32m    400\u001b[0m     \u001b[38;5;28;01mtry\u001b[39;00m:\n\u001b[1;32m--> 401\u001b[0m         \u001b[38;5;28;01mraise\u001b[39;00m \u001b[38;5;28mself\u001b[39m\u001b[38;5;241m.\u001b[39m_exception\n\u001b[0;32m    402\u001b[0m     \u001b[38;5;28;01mfinally\u001b[39;00m:\n\u001b[0;32m    403\u001b[0m         \u001b[38;5;66;03m# Break a reference cycle with the exception in self._exception\u001b[39;00m\n\u001b[0;32m    404\u001b[0m         \u001b[38;5;28mself\u001b[39m \u001b[38;5;241m=\u001b[39m \u001b[38;5;28;01mNone\u001b[39;00m\n",
      "File \u001b[1;32mc:\\Users\\janit\\anaconda3\\envs\\torchenv\\Lib\\site-packages\\tenacity\\__init__.py:382\u001b[0m, in \u001b[0;36mRetrying.__call__\u001b[1;34m(self, fn, *args, **kwargs)\u001b[0m\n\u001b[0;32m    380\u001b[0m \u001b[38;5;28;01mif\u001b[39;00m \u001b[38;5;28misinstance\u001b[39m(do, DoAttempt):\n\u001b[0;32m    381\u001b[0m     \u001b[38;5;28;01mtry\u001b[39;00m:\n\u001b[1;32m--> 382\u001b[0m         result \u001b[38;5;241m=\u001b[39m \u001b[43mfn\u001b[49m\u001b[43m(\u001b[49m\u001b[38;5;241;43m*\u001b[39;49m\u001b[43margs\u001b[49m\u001b[43m,\u001b[49m\u001b[43m \u001b[49m\u001b[38;5;241;43m*\u001b[39;49m\u001b[38;5;241;43m*\u001b[39;49m\u001b[43mkwargs\u001b[49m\u001b[43m)\u001b[49m\n\u001b[0;32m    383\u001b[0m     \u001b[38;5;28;01mexcept\u001b[39;00m \u001b[38;5;167;01mBaseException\u001b[39;00m:  \u001b[38;5;66;03m# noqa: B902\u001b[39;00m\n\u001b[0;32m    384\u001b[0m         retry_state\u001b[38;5;241m.\u001b[39mset_exception(sys\u001b[38;5;241m.\u001b[39mexc_info())  \u001b[38;5;66;03m# type: ignore[arg-type]\u001b[39;00m\n",
      "File \u001b[1;32mc:\\Users\\janit\\anaconda3\\envs\\torchenv\\Lib\\site-packages\\langchain_google_genai\\chat_models.py:200\u001b[0m, in \u001b[0;36m_chat_with_retry.<locals>._chat_with_retry\u001b[1;34m(**kwargs)\u001b[0m\n\u001b[0;32m    197\u001b[0m         \u001b[38;5;28;01mraise\u001b[39;00m \u001b[38;5;167;01mValueError\u001b[39;00m(error_msg)\n\u001b[0;32m    199\u001b[0m \u001b[38;5;28;01mexcept\u001b[39;00m google\u001b[38;5;241m.\u001b[39mapi_core\u001b[38;5;241m.\u001b[39mexceptions\u001b[38;5;241m.\u001b[39mInvalidArgument \u001b[38;5;28;01mas\u001b[39;00m e:\n\u001b[1;32m--> 200\u001b[0m     \u001b[38;5;28;01mraise\u001b[39;00m ChatGoogleGenerativeAIError(\n\u001b[0;32m    201\u001b[0m         \u001b[38;5;124mf\u001b[39m\u001b[38;5;124m\"\u001b[39m\u001b[38;5;124mInvalid argument provided to Gemini: \u001b[39m\u001b[38;5;132;01m{\u001b[39;00me\u001b[38;5;132;01m}\u001b[39;00m\u001b[38;5;124m\"\u001b[39m\n\u001b[0;32m    202\u001b[0m     ) \u001b[38;5;28;01mfrom\u001b[39;00m\u001b[38;5;250m \u001b[39m\u001b[38;5;21;01me\u001b[39;00m\n\u001b[0;32m    203\u001b[0m \u001b[38;5;28;01mexcept\u001b[39;00m \u001b[38;5;167;01mException\u001b[39;00m \u001b[38;5;28;01mas\u001b[39;00m e:\n\u001b[0;32m    204\u001b[0m     \u001b[38;5;28;01mraise\u001b[39;00m e\n",
      "\u001b[1;31mChatGoogleGenerativeAIError\u001b[0m: Invalid argument provided to Gemini: 400 * GenerateContentRequest.contents[17].parts: contents.parts must not be empty.\n",
      "\u001b[0mDuring task with name 'new' and id '06bd6d89-2fef-9054-3489-6ff85e82e02e'"
     ]
    }
   ],
   "source": [
    "inputs = {\"messages\": [{\"role\": \"user\", \"content\": \"I want Dr. Alice\",}]}\n",
    "\n",
    "_printed = set()\n",
    "for event in all_graph.stream(inputs, thread, stream_mode=\"values\"):\n",
    "    _print_event(event, _printed)"
   ]
  },
  {
   "cell_type": "code",
   "execution_count": null,
   "id": "97105fce",
   "metadata": {},
   "outputs": [],
   "source": []
  }
 ],
 "metadata": {
  "kernelspec": {
   "display_name": "torchenv",
   "language": "python",
   "name": "python3"
  },
  "language_info": {
   "codemirror_mode": {
    "name": "ipython",
    "version": 3
   },
   "file_extension": ".py",
   "mimetype": "text/x-python",
   "name": "python",
   "nbconvert_exporter": "python",
   "pygments_lexer": "ipython3",
   "version": "3.12.3"
  }
 },
 "nbformat": 4,
 "nbformat_minor": 5
}
