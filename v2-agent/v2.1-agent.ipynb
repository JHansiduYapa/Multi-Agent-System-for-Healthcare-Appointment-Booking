{
 "cells": [
  {
   "cell_type": "markdown",
   "id": "0dd644ff",
   "metadata": {},
   "source": [
    "## Doctor appointment booking System\n",
    "\n",
    "This chat agent can interact with users and perform the following tasks:\n",
    "\n",
    "    1. Select a doctor and choose a time slot for booking\n",
    "\n",
    "    2. Cancel a booked appointment\n",
    "\n",
    "    3. Reschedule a booked appointment based on availability\n",
    "\n",
    "    4. Search for doctor details filtered by name, availability, specialty, and location"
   ]
  },
  {
   "cell_type": "markdown",
   "id": "609d1a78",
   "metadata": {},
   "source": [
    "### 1. Connect with Gemini API\n",
    "\n",
    "connect to the llm using google api key."
   ]
  },
  {
   "cell_type": "code",
   "execution_count": 1,
   "id": "df5698ae",
   "metadata": {},
   "outputs": [],
   "source": [
    "# connect with gemini api\n",
    "import getpass\n",
    "import os\n",
    "\n",
    "if \"GOOGLE_API_KEY\" not in os.environ:\n",
    "    os.environ[\"GOOGLE_API_KEY\"] = getpass.getpass(\"Enter your Google AI API key: \")"
   ]
  },
  {
   "cell_type": "code",
   "execution_count": 2,
   "id": "ca85ca11",
   "metadata": {},
   "outputs": [],
   "source": [
    "# initialize llm chat model\n",
    "from langchain_google_genai import ChatGoogleGenerativeAI\n",
    "from google.genai.types import GenerateContentConfig\n",
    "\n",
    "\n",
    "system_instruction = \"\"\"\n",
    "                        You are a phone-agent assistant.  \n",
    "                        \n",
    "                        Keep all messages very short—just a single question or one answer.  \n",
    "                        \n",
    "                        Act as if you’re on a live call: no long explanations or chit-chat.  \n",
    "                        \n",
    "                        Always reference prior chat context and stay aligned with the conversation.  \n",
    "                        \n",
    "                    \"\"\"\n",
    "\n",
    "llm = ChatGoogleGenerativeAI(\n",
    "    model=\"gemini-2.0-flash-001\",\n",
    "    temperature=0,\n",
    "    max_tokens=None,\n",
    "    timeout=None,\n",
    "    max_retries=2,\n",
    "    config=GenerateContentConfig(\n",
    "        system_instruction=system_instruction,\n",
    "    ),\n",
    "    # other params...\n",
    ")"
   ]
  },
  {
   "cell_type": "markdown",
   "id": "da302890",
   "metadata": {},
   "source": [
    "### 2. State and Assistant class\n",
    "\n",
    "This class is used to define specialized assistants based on each tasks"
   ]
  },
  {
   "cell_type": "code",
   "execution_count": 3,
   "id": "ba5a6748",
   "metadata": {},
   "outputs": [],
   "source": [
    "from typing import Annotated\n",
    "\n",
    "from langchain_community.tools.tavily_search import TavilySearchResults\n",
    "from langchain_core.prompts import ChatPromptTemplate\n",
    "from langchain_core.runnables import Runnable, RunnableConfig\n",
    "from typing_extensions import TypedDict\n",
    "\n",
    "from langgraph.graph.message import AnyMessage, add_messages\n",
    "\n",
    "# state of the graph\n",
    "class State(TypedDict):\n",
    "    messages: Annotated[list[AnyMessage], add_messages]\n",
    "    user_name: str # name of the current user\n",
    "    user_id: str # id of the current user\n",
    "\n",
    "\n",
    "class Assistant:\n",
    "    # this initialize a runnable that can be prompt template | llm with tools\n",
    "    # by doing that we can make any assistant with same code\n",
    "    def __init__(self, runnable: Runnable):\n",
    "        self.runnable = runnable\n",
    "\n",
    "    def __call__(self, state: State, config: RunnableConfig):\n",
    "        # if the llm not produce a result\n",
    "        # it safely update the state with in a node using state = {**state, \"messages\": messages}\n",
    "        # normally state is updated after the node is executed \n",
    "        # in this case \n",
    "        while True:\n",
    "            result = self.runnable.invoke(state)\n",
    "            # If the LLM happens to return an empty response, we will re-prompt it\n",
    "            # for an actual response.\n",
    "            if not result.tool_calls and (\n",
    "                not result.content\n",
    "                or isinstance(result.content, list)\n",
    "                and not result.content[0].get(\"text\")\n",
    "            ):\n",
    "                messages = state[\"messages\"] + [(\"user\", \"Respond with a real output.\")]\n",
    "                state = {**state, \"messages\": messages}\n",
    "            else:\n",
    "                break\n",
    "        return {\"messages\": result}"
   ]
  },
  {
   "cell_type": "markdown",
   "id": "d5974f52",
   "metadata": {},
   "source": [
    "### 3. Completion of task and hand over to other assistant\n",
    "\n",
    "This tool is called when the task is completed or the user intend to go another task"
   ]
  },
  {
   "cell_type": "code",
   "execution_count": 18,
   "id": "aa1bc6e1",
   "metadata": {},
   "outputs": [],
   "source": [
    "from pydantic import BaseModel, Field\n",
    "\n",
    "class CompleteOrEscalate(BaseModel):\n",
    "    \"\"\"A tool to mark the current task as completed and/or to escalate control of the dialog to the main assistant,\n",
    "    who can re-route the dialog based on the user's needs.\"\"\"\n",
    "\n",
    "    cancel: bool = True\n",
    "    reason: str\n",
    "\n",
    "    class Config:\n",
    "        json_schema_extra = {\n",
    "            \"example\": {\n",
    "                \"cancel\": True,\n",
    "                \"reason\": \"User changed their mind about the current task.\"\n",
    "            }\n",
    "        }\n"
   ]
  },
  {
   "cell_type": "markdown",
   "id": "7e190eba",
   "metadata": {},
   "source": [
    "### 4. Create DataBase and insert sample data to that\n",
    "\n",
    "This make a database and add some sample data "
   ]
  },
  {
   "cell_type": "code",
   "execution_count": 19,
   "id": "a2cfa6e9",
   "metadata": {},
   "outputs": [],
   "source": [
    "DB_PATH = \"hospital3.db\""
   ]
  },
  {
   "cell_type": "code",
   "execution_count": 12,
   "id": "52c4f2ec",
   "metadata": {},
   "outputs": [
    {
     "name": "stdout",
     "output_type": "stream",
     "text": [
      "(1, '10:00', '2025-06-06', 1, 1)\n",
      "(2, '11:30', '2025-06-06', 2, 2)\n",
      "(3, '14:00', '2025-06-07', 3, 3)\n"
     ]
    }
   ],
   "source": [
    "import sqlite3\n",
    "from datetime import datetime\n",
    "\n",
    "# Step 1: Connect\n",
    "DB_PATH = \"hospital3.db\"\n",
    "conn = sqlite3.connect(DB_PATH) \n",
    "cursor = conn.cursor()\n",
    "\n",
    "# Step 2: Create tables\n",
    "cursor.execute(\"\"\"\n",
    "CREATE TABLE Doctor (\n",
    "    Doctor_ID INTEGER PRIMARY KEY AUTOINCREMENT,\n",
    "    Doctor_Name TEXT,\n",
    "    Specialization TEXT,\n",
    "    Location TEXT,\n",
    "    Rating REAL\n",
    ")\n",
    "\"\"\")\n",
    "\n",
    "cursor.execute(\"\"\"\n",
    "CREATE TABLE Patient (\n",
    "    Patient_ID INTEGER PRIMARY KEY AUTOINCREMENT,\n",
    "    Patient_Name TEXT,\n",
    "    Age INTEGER\n",
    ")\n",
    "\"\"\")\n",
    "\n",
    "cursor.execute(\"\"\"\n",
    "CREATE TABLE Appointment (\n",
    "    Appointment_ID INTEGER PRIMARY KEY AUTOINCREMENT,\n",
    "    Appointment_Time TEXT,\n",
    "    Appointment_Date TEXT,\n",
    "    Doctor_ID INTEGER,\n",
    "    Patient_ID INTEGER,\n",
    "    FOREIGN KEY (Doctor_ID) REFERENCES Doctor(Doctor_ID),\n",
    "    FOREIGN KEY (Patient_ID) REFERENCES Patient(Patient_ID)\n",
    ")\n",
    "\"\"\")\n",
    "\n",
    "# Insert data into Doctor and Patient tables\n",
    "doctors = [\n",
    "    (\"Dr. Alice Smith\", \"Cardiology\", \"New York\", 4.7),\n",
    "    (\"Dr. Bob Johnson\", \"Neurology\", \"Los Angeles\", 4.5),\n",
    "    (\"Dr. Clara Lee\", \"Pediatrics\", \"Chicago\", 4.8)\n",
    "]\n",
    "\n",
    "patients = [\n",
    "    (\"John Doe\", 30),\n",
    "    (\"Emily Davis\", 25),\n",
    "    (\"Michael Brown\", 45)\n",
    "]\n",
    "\n",
    "cursor.executemany(\"INSERT INTO Doctor (Doctor_Name, Specialization, Location, Rating) VALUES (?, ?, ?, ?)\", doctors)\n",
    "cursor.executemany(\"INSERT INTO Patient (Patient_Name, Age) VALUES (?, ?)\", patients)\n",
    "\n",
    "# Retrieve IDs\n",
    "cursor.execute(\"SELECT Doctor_ID FROM Doctor ORDER BY Doctor_ID\")\n",
    "doctor_ids = [row[0] for row in cursor.fetchall()]\n",
    "\n",
    "cursor.execute(\"SELECT Patient_ID FROM Patient ORDER BY Patient_ID\")\n",
    "patient_ids = [row[0] for row in cursor.fetchall()]\n",
    "\n",
    "# Insert into Appointment table\n",
    "appointments = [\n",
    "    (\"10:00\", \"2025-06-06\", doctor_ids[0], patient_ids[0]),\n",
    "    (\"11:30\", \"2025-06-06\", doctor_ids[1], patient_ids[1]),\n",
    "    (\"14:00\", \"2025-06-07\", doctor_ids[2], patient_ids[2])\n",
    "]\n",
    "\n",
    "cursor.executemany(\"\"\"\n",
    "    INSERT INTO Appointment (Appointment_Time, Appointment_Date, Doctor_ID, Patient_ID)\n",
    "    VALUES (?, ?, ?, ?)\n",
    "\"\"\", appointments)\n",
    "\n",
    "# Step 4: Commit and verify\n",
    "conn.commit()\n",
    "\n",
    "# Print the data\n",
    "for row in cursor.execute(\"SELECT * FROM Appointment\"):\n",
    "    print(row)\n",
    "\n",
    "# Close connection\n",
    "conn.close()"
   ]
  },
  {
   "cell_type": "markdown",
   "id": "3ddf691c",
   "metadata": {},
   "source": [
    "### 5. Tools for searching a Doctor and book an Appointment"
   ]
  },
  {
   "cell_type": "code",
   "execution_count": 42,
   "id": "67e34c3f",
   "metadata": {},
   "outputs": [],
   "source": [
    "from langchain_core.tools import tool\n",
    "from typing import Optional, Dict, List\n",
    "import sqlite3\n",
    "\n",
    "# Tool to search for a doctor by name\n",
    "@tool\n",
    "def search_for_doctor(name: Optional[str] = None) -> List[Dict]:\n",
    "    \"\"\"\n",
    "    Search for doctors by name (or return all if name is None).\n",
    "\n",
    "    Args:\n",
    "        name (Optional[str]): The partial or full name of the doctor.\n",
    "\n",
    "    Returns:\n",
    "        List[Dict]: Doctors matching the search criteria.\n",
    "    \"\"\"\n",
    "    conn = sqlite3.connect(DB_PATH)\n",
    "    conn.row_factory = sqlite3.Row\n",
    "    cursor = conn.cursor()\n",
    "\n",
    "    if name:\n",
    "        cursor.execute(\"\"\"\n",
    "            SELECT * FROM Doctor WHERE Doctor_Name LIKE ?\n",
    "        \"\"\", (f\"%{name}%\",))\n",
    "    else:\n",
    "        cursor.execute(\"SELECT * FROM Doctor\")\n",
    "\n",
    "    results = [dict(row) for row in cursor.fetchall()]\n",
    "    conn.close()\n",
    "    return results\n",
    "\n",
    "# Tool to check a doctor's availability at a given date and time\n",
    "@tool\n",
    "def check_doctor_availability(doctor_id: int, date: str, time: str) -> Dict:\n",
    "    \"\"\"\n",
    "    Check if a doctor is available at a given date and time.\n",
    "\n",
    "    Args:\n",
    "        doctor_id (int): The ID of the doctor.\n",
    "        date (str): Date of the appointment in 'YYYY-MM-DD' format.\n",
    "        time (str): Time of the appointment (e.g., '10:00').\n",
    "\n",
    "    Returns:\n",
    "        Dict: {\"available\": True/False}\n",
    "    \"\"\"\n",
    "    conn = sqlite3.connect(DB_PATH)\n",
    "    cursor = conn.cursor()\n",
    "\n",
    "    cursor.execute(\"\"\"\n",
    "        SELECT 1 FROM Appointment\n",
    "        WHERE Doctor_ID = ? AND Appointment_Date = ? AND Appointment_Time = ?\n",
    "    \"\"\", (doctor_id, date, time))\n",
    "\n",
    "    result = cursor.fetchone()\n",
    "    conn.close()\n",
    "\n",
    "    return {\"available\": result is None}\n",
    "\n",
    "# Tool for book an appoinment and add to the database\n",
    "@tool\n",
    "def book_appointment(user_id: int, doctor_id: int, date: str, time: str) -> Dict:\n",
    "    \"\"\"\n",
    "    Book an appointment with a doctor if available at the given date and time.\n",
    "\n",
    "    Args:\n",
    "        user_id (int): The ID of the patient.\n",
    "        doctor_id (int): The ID of the doctor.\n",
    "        date (str): Appointment date in 'YYYY-MM-DD' format.\n",
    "        time (str): Appointment time in 'HH:MM' format.\n",
    "\n",
    "    Returns:\n",
    "        Dict: {\"success\": True/False, \"message\": str}\n",
    "    \"\"\"\n",
    "    conn = sqlite3.connect(DB_PATH)\n",
    "    cursor = conn.cursor()\n",
    "\n",
    "    # Check if doctor is available\n",
    "    cursor.execute(\"\"\"\n",
    "        SELECT 1 FROM Appointment\n",
    "        WHERE Doctor_ID = ? AND Appointment_Date = ? AND Appointment_Time = ?\n",
    "    \"\"\", (doctor_id, date, time))\n",
    "    result = cursor.fetchone()\n",
    "\n",
    "    if result:\n",
    "        conn.close()\n",
    "        return {\"success\": False, \"message\": \"Doctor is not available at this date and time.\"}\n",
    "\n",
    "    # Book appointment\n",
    "    cursor.execute(\"\"\"\n",
    "        INSERT INTO Appointment (Appointment_Time, Appointment_Date, Doctor_ID, Patient_ID)\n",
    "        VALUES (?, ?, ?, ?)\n",
    "    \"\"\", (time, date, doctor_id, user_id))\n",
    "    conn.commit()\n",
    "    conn.close()\n",
    "\n",
    "    return {\"success\": True, \"message\": \"Appointment booked successfully.\"}\n"
   ]
  },
  {
   "cell_type": "code",
   "execution_count": 43,
   "id": "0152deb0",
   "metadata": {},
   "outputs": [],
   "source": [
    "from langchain_core.prompts import ChatPromptTemplate\n",
    "from datetime import datetime\n",
    "\n",
    "book_doctor_prompt = ChatPromptTemplate.from_messages(\n",
    "    [\n",
    "        (\n",
    "            \"system\",\n",
    "            \"You are a specialized assistant for handling doctor appointment bookings. \"\n",
    "            \"The primary assistant delegates work to you whenever the user needs help finding a doctor or scheduling an appointment. \"\n",
    "            \"Search for doctors based on the user's preferences (name, specialization, location), and check their availability for a given date and time. \"\n",
    "            \"Confirm the details with the user before attempting to book the appointment. \"\n",
    "            \"If the doctor is unavailable, offer alternate time slots or suggest a similar doctor. \"\n",
    "            \"Always confirm availability before booking. \"\n",
    "            \"Do not proceed with a booking unless the relevant tool has successfully returned availability.\"\n",
    "            \"\\nCurrent time: {time}.\"\n",
    "            '\\n\\nIf the user needs help outside of your scope, then \"CompleteOrEscalate\" the dialog to the main assistant. '\n",
    "            \"Do not make up tools or waste the user's time.\"\n",
    "            \"\\n\\nSome examples where you should CompleteOrEscalate:\\n\"\n",
    "            \" - 'I'm looking for medical insurance info'\\n\"\n",
    "            \" - 'I want to book a hospital room'\\n\"\n",
    "            \" - 'Actually, I’ll call the clinic myself'\\n\"\n",
    "            \" - 'I want to book a flight to the hospital location first'\\n\"\n",
    "            \" - 'Doctor appointment already confirmed'\\n\",\n",
    "        ),\n",
    "        (\"placeholder\", \"{messages}\"),\n",
    "    ]\n",
    ").partial(time=datetime.now())\n",
    "\n",
    "book_appointment_tools = [check_doctor_availability, search_for_doctor, book_appointment]\n",
    "book_appointment_runnable = book_doctor_prompt | llm.bind_tools(\n",
    "    book_appointment_tools + [CompleteOrEscalate]\n",
    ")"
   ]
  },
  {
   "cell_type": "markdown",
   "id": "e7adc251",
   "metadata": {},
   "source": [
    "### 6. Make the book appointment sub graph\n",
    "\n",
    "This sub graph is resposible for select a doctor and book an appointment "
   ]
  },
  {
   "cell_type": "code",
   "execution_count": 44,
   "id": "9a09a980",
   "metadata": {},
   "outputs": [
    {
     "data": {
      "image/png": "[encoded data removed]",
      "text/plain": [
       "<IPython.core.display.Image object>"
      ]
     },
     "metadata": {},
     "output_type": "display_data"
    }
   ],
   "source": [
    "from langgraph.checkpoint.memory import MemorySaver\n",
    "from langgraph.graph import StateGraph\n",
    "from langgraph.prebuilt import tools_condition,ToolNode\n",
    "\n",
    "# make a sample graph to check working\n",
    "graph_builder = StateGraph(State)\n",
    "\n",
    "graph_builder.add_node(\"tools\", ToolNode(book_appointment_tools))\n",
    "graph_builder.add_node(\"assistant\", Assistant(book_appointment_runnable))\n",
    "graph_builder.add_edge(\"tools\", \"assistant\")\n",
    "graph_builder.add_conditional_edges(\"assistant\", tools_condition)\n",
    "graph_builder.set_entry_point(\"assistant\")\n",
    "\n",
    "memory = MemorySaver()\n",
    "graph = graph_builder.compile(checkpointer=memory)\n",
    "\n",
    "from IPython.display import Image, display\n",
    "\n",
    "try:\n",
    "    display(Image(graph.get_graph().draw_mermaid_png()))\n",
    "except Exception:\n",
    "    # This requires some extra dependencies and is optional\n",
    "    pass"
   ]
  },
  {
   "cell_type": "code",
   "execution_count": 36,
   "id": "83741e48",
   "metadata": {},
   "outputs": [
    {
     "name": "stderr",
     "output_type": "stream",
     "text": [
      "Key 'example' is not supported in schema, ignoring\n",
      "Key 'example' is not supported in schema, ignoring\n"
     ]
    },
    {
     "name": "stdout",
     "output_type": "stream",
     "text": [
      "{'assistant': {'messages': AIMessage(content='', additional_kwargs={'function_call': {'name': 'search_for_doctor', 'arguments': '{\"name\": \"Janith\"}'}}, response_metadata={'prompt_feedback': {'block_reason': 0, 'safety_ratings': []}, 'finish_reason': 'STOP', 'model_name': 'gemini-2.0-flash-001', 'safety_ratings': []}, id='run--4d66f329-c45f-49e9-b7a6-6db18f58e30a-0', tool_calls=[{'name': 'search_for_doctor', 'args': {'name': 'Janith'}, 'id': 'd007f5d6-a4a3-487a-9075-ea6a1bcdc0bf', 'type': 'tool_call'}], usage_metadata={'input_tokens': 597, 'output_tokens': 8, 'total_tokens': 605, 'input_token_details': {'cache_read': 0}})}}\n",
      "{'tools': {'messages': [ToolMessage(content=[], name='search_for_doctor', id='726f1e5f-6133-4421-8f65-544361add8a6', tool_call_id='d007f5d6-a4a3-487a-9075-ea6a1bcdc0bf')]}}\n",
      "{'assistant': {'messages': AIMessage(content='I am sorry, I could not find a doctor by that name. Would you like me to search for a different doctor?', additional_kwargs={}, response_metadata={'prompt_feedback': {'block_reason': 0, 'safety_ratings': []}, 'finish_reason': 'STOP', 'model_name': 'gemini-2.0-flash-001', 'safety_ratings': []}, id='run--c122f27e-23a5-41d0-9369-dbdca8fe127c-0', usage_metadata={'input_tokens': 611, 'output_tokens': 26, 'total_tokens': 637, 'input_token_details': {'cache_read': 0}})}}\n"
     ]
    }
   ],
   "source": [
    "thread = {\"configurable\": {\"thread_id\": \"1\"}}\n",
    "inputs = {\"messages\": [{\"role\": \"user\", \"content\": \"I want to book appoinment to Dr. Janith\"}]}\n",
    "for chunk in graph.stream(inputs, thread, stream_mode=\"updates\"):\n",
    "    print(chunk)"
   ]
  },
  {
   "cell_type": "code",
   "execution_count": 45,
   "id": "575113db",
   "metadata": {},
   "outputs": [
    {
     "name": "stderr",
     "output_type": "stream",
     "text": [
      "Key 'example' is not supported in schema, ignoring\n",
      "Key 'example' is not supported in schema, ignoring\n"
     ]
    },
    {
     "name": "stdout",
     "output_type": "stream",
     "text": [
      "{'assistant': {'messages': AIMessage(content='', additional_kwargs={'function_call': {'name': 'search_for_doctor', 'arguments': '{\"name\": \"Alice\"}'}}, response_metadata={'prompt_feedback': {'block_reason': 0, 'safety_ratings': []}, 'finish_reason': 'STOP', 'model_name': 'gemini-2.0-flash-001', 'safety_ratings': []}, id='run--fed37008-5a37-4a91-b650-c2d341bb5a1b-0', tool_calls=[{'name': 'search_for_doctor', 'args': {'name': 'Alice'}, 'id': '79722622-bc59-49c1-b662-39adccca96af', 'type': 'tool_call'}], usage_metadata={'input_tokens': 593, 'output_tokens': 7, 'total_tokens': 600, 'input_token_details': {'cache_read': 0}})}}\n",
      "{'tools': {'messages': [ToolMessage(content='[{\"Doctor_ID\": 1, \"Doctor_Name\": \"Dr. Alice Smith\", \"Specialization\": \"Cardiology\", \"Location\": \"New York\", \"Rating\": 4.7}]', name='search_for_doctor', id='19ff0512-39dc-46b6-9749-bf0d7014014e', tool_call_id='79722622-bc59-49c1-b662-39adccca96af')]}}\n",
      "{'assistant': {'messages': AIMessage(content='OK. I found Dr. Alice Smith, a cardiologist in New York. Her ID is 1. Would you like to book an appointment with her?', additional_kwargs={}, response_metadata={'prompt_feedback': {'block_reason': 0, 'safety_ratings': []}, 'finish_reason': 'STOP', 'model_name': 'gemini-2.0-flash-001', 'safety_ratings': []}, id='run--01fca3ed-df32-422a-9050-e04cd6c5739c-0', usage_metadata={'input_tokens': 626, 'output_tokens': 33, 'total_tokens': 659, 'input_token_details': {'cache_read': 0}})}}\n"
     ]
    }
   ],
   "source": [
    "inputs = {\"messages\": [{\"role\": \"user\", \"content\": \"okey can I find Dr. Alice\"}]}\n",
    "for chunk in graph.stream(inputs, thread, stream_mode=\"updates\"):\n",
    "    print(chunk)"
   ]
  },
  {
   "cell_type": "code",
   "execution_count": 46,
   "id": "3ee93110",
   "metadata": {},
   "outputs": [
    {
     "name": "stderr",
     "output_type": "stream",
     "text": [
      "Key 'example' is not supported in schema, ignoring\n",
      "Key 'example' is not supported in schema, ignoring\n"
     ]
    },
    {
     "name": "stdout",
     "output_type": "stream",
     "text": [
      "{'assistant': {'messages': AIMessage(content='', additional_kwargs={'function_call': {'name': 'check_doctor_availability', 'arguments': '{\"doctor_id\": 1.0, \"date\": \"2025-06-06\", \"time\": \"10:00\"}'}}, response_metadata={'prompt_feedback': {'block_reason': 0, 'safety_ratings': []}, 'finish_reason': 'STOP', 'model_name': 'gemini-2.0-flash-001', 'safety_ratings': []}, id='run--d86f2a66-fbc4-45bc-995a-30beefd700db-0', tool_calls=[{'name': 'check_doctor_availability', 'args': {'doctor_id': 1.0, 'date': '2025-06-06', 'time': '10:00'}, 'id': 'e7c67632-c686-47ef-94b8-d6bec21582fd', 'type': 'tool_call'}], usage_metadata={'input_tokens': 681, 'output_tokens': 26, 'total_tokens': 707, 'input_token_details': {'cache_read': 0}})}}\n",
      "{'tools': {'messages': [ToolMessage(content='{\"available\": false}', name='check_doctor_availability', id='02f232a4-efa2-4e17-aa0b-b6a3cc969708', tool_call_id='e7c67632-c686-47ef-94b8-d6bec21582fd')]}}\n",
      "{'assistant': {'messages': AIMessage(content='It seems Dr. Alice Smith is not available at 10:00 on June 6, 2025. Would you like me to check other times, or would you like to find another doctor?', additional_kwargs={}, response_metadata={'prompt_feedback': {'block_reason': 0, 'safety_ratings': []}, 'finish_reason': 'STOP', 'model_name': 'gemini-2.0-flash-001', 'safety_ratings': []}, id='run--06afcc4e-0067-4ce5-9dee-d089ca65d3ba-0', usage_metadata={'input_tokens': 714, 'output_tokens': 46, 'total_tokens': 760, 'input_token_details': {'cache_read': 0}})}}\n"
     ]
    }
   ],
   "source": [
    "inputs = {\"messages\": [{\"role\": \"user\", \"content\": \"yea ,I want to book appoinment at 6 June 2025 at 10 am\"}]}\n",
    "for chunk in graph.stream(inputs, thread, stream_mode=\"updates\"):\n",
    "    print(chunk)"
   ]
  },
  {
   "cell_type": "code",
   "execution_count": 47,
   "id": "2d34f2ec",
   "metadata": {},
   "outputs": [
    {
     "name": "stderr",
     "output_type": "stream",
     "text": [
      "Key 'example' is not supported in schema, ignoring\n",
      "Key 'example' is not supported in schema, ignoring\n"
     ]
    },
    {
     "name": "stdout",
     "output_type": "stream",
     "text": [
      "{'assistant': {'messages': AIMessage(content='', additional_kwargs={'function_call': {'name': 'check_doctor_availability', 'arguments': '{\"doctor_id\": 1.0, \"date\": \"2025-06-06\", \"time\": \"11:00\"}'}}, response_metadata={'prompt_feedback': {'block_reason': 0, 'safety_ratings': []}, 'finish_reason': 'STOP', 'model_name': 'gemini-2.0-flash-001', 'safety_ratings': []}, id='run--dc0a923f-5e50-400c-afc1-9ee34f24f074-0', tool_calls=[{'name': 'check_doctor_availability', 'args': {'doctor_id': 1.0, 'date': '2025-06-06', 'time': '11:00'}, 'id': 'd8d9eaa1-9b46-403e-bae6-605be7ce7075', 'type': 'tool_call'}], usage_metadata={'input_tokens': 782, 'output_tokens': 26, 'total_tokens': 808, 'input_token_details': {'cache_read': 0}})}}\n",
      "{'tools': {'messages': [ToolMessage(content='{\"available\": true}', name='check_doctor_availability', id='b9f3d157-c6fc-45be-83e9-724dc629cd88', tool_call_id='d8d9eaa1-9b46-403e-bae6-605be7ce7075')]}}\n",
      "{'assistant': {'messages': AIMessage(content='OK, Dr. Alice Smith is available at 11:00 on June 6, 2025. Can I confirm the booking? I will need your user ID to proceed.', additional_kwargs={}, response_metadata={'prompt_feedback': {'block_reason': 0, 'safety_ratings': []}, 'finish_reason': 'STOP', 'model_name': 'gemini-2.0-flash-001', 'safety_ratings': []}, id='run--ada20b3c-2640-44c0-8b85-3d28c9d082b8-0', usage_metadata={'input_tokens': 815, 'output_tokens': 41, 'total_tokens': 856, 'input_token_details': {'cache_read': 0}})}}\n"
     ]
    }
   ],
   "source": [
    "inputs = {\"messages\": [{\"role\": \"user\", \"content\": \"okey, can I book appoinment at 6 June 2025 at 11 am\"}]}\n",
    "for chunk in graph.stream(inputs, thread, stream_mode=\"updates\"):\n",
    "    print(chunk)"
   ]
  },
  {
   "cell_type": "code",
   "execution_count": 48,
   "id": "fb297915",
   "metadata": {},
   "outputs": [
    {
     "name": "stderr",
     "output_type": "stream",
     "text": [
      "Key 'example' is not supported in schema, ignoring\n"
     ]
    },
    {
     "name": "stdout",
     "output_type": "stream",
     "text": [
      "{'assistant': {'messages': AIMessage(content='What is your user ID?', additional_kwargs={}, response_metadata={'prompt_feedback': {'block_reason': 0, 'safety_ratings': []}, 'finish_reason': 'STOP', 'model_name': 'gemini-2.0-flash-001', 'safety_ratings': []}, id='run--a2ffdfb2-f61c-4bf1-a1e1-c8a6db75efc8-0', usage_metadata={'input_tokens': 877, 'output_tokens': 7, 'total_tokens': 884, 'input_token_details': {'cache_read': 0}})}}\n"
     ]
    }
   ],
   "source": [
    "inputs = {\"messages\": [{\"role\": \"user\", \"content\": \"okey, book appoinment at 6 June 2025 at 11 am\"}]}\n",
    "for chunk in graph.stream(inputs, thread, stream_mode=\"updates\"):\n",
    "    print(chunk)"
   ]
  },
  {
   "cell_type": "code",
   "execution_count": 49,
   "id": "576dc1ef",
   "metadata": {},
   "outputs": [
    {
     "name": "stderr",
     "output_type": "stream",
     "text": [
      "Key 'example' is not supported in schema, ignoring\n",
      "Key 'example' is not supported in schema, ignoring\n"
     ]
    },
    {
     "name": "stdout",
     "output_type": "stream",
     "text": [
      "{'assistant': {'messages': AIMessage(content='', additional_kwargs={'function_call': {'name': 'book_appointment', 'arguments': '{\"doctor_id\": 1.0, \"user_id\": 1.0, \"date\": \"2025-06-06\", \"time\": \"11:00\"}'}}, response_metadata={'prompt_feedback': {'block_reason': 0, 'safety_ratings': []}, 'finish_reason': 'STOP', 'model_name': 'gemini-2.0-flash-001', 'safety_ratings': []}, id='run--da30aa25-2bc5-4154-816f-57a9cad3e04d-0', tool_calls=[{'name': 'book_appointment', 'args': {'doctor_id': 1.0, 'user_id': 1.0, 'date': '2025-06-06', 'time': '11:00'}, 'id': 'a20a5a0a-626a-4fb3-88dc-f148eb68e2d8', 'type': 'tool_call'}], usage_metadata={'input_tokens': 888, 'output_tokens': 28, 'total_tokens': 916, 'input_token_details': {'cache_read': 0}})}}\n",
      "{'tools': {'messages': [ToolMessage(content='{\"success\": true, \"message\": \"Appointment booked successfully.\"}', name='book_appointment', id='6b4ee0c3-56d3-446c-83b3-7db9695f763a', tool_call_id='a20a5a0a-626a-4fb3-88dc-f148eb68e2d8')]}}\n",
      "{'assistant': {'messages': AIMessage(content='Great! Your appointment with Dr. Alice Smith for June 6, 2025, at 11:00 is confirmed. Is there anything else I can help you with?', additional_kwargs={}, response_metadata={'prompt_feedback': {'block_reason': 0, 'safety_ratings': []}, 'finish_reason': 'STOP', 'model_name': 'gemini-2.0-flash-001', 'safety_ratings': []}, id='run--74062710-caba-4784-adde-cc11e7719282-0', usage_metadata={'input_tokens': 926, 'output_tokens': 41, 'total_tokens': 967, 'input_token_details': {'cache_read': 0}})}}\n"
     ]
    }
   ],
   "source": [
    "inputs = {\"messages\": [{\"role\": \"user\", \"content\": \"my Id is 1\"}]}\n",
    "for chunk in graph.stream(inputs, thread, stream_mode=\"updates\"):\n",
    "    print(chunk)"
   ]
  },
  {
   "cell_type": "code",
   "execution_count": null,
   "id": "79733f87",
   "metadata": {},
   "outputs": [
    {
     "name": "stdout",
     "output_type": "stream",
     "text": [
      "(1, '10:00', '2025-06-06', 1, 1)\n",
      "(2, '11:30', '2025-06-06', 2, 2)\n",
      "(3, '14:00', '2025-06-07', 3, 3)\n",
      "(4, '11:00', '2025-06-06', 1, 1)\n"
     ]
    }
   ],
   "source": [
    "# check whether the database is updated\n",
    "\n",
    "conn = sqlite3.connect(DB_PATH) \n",
    "cursor = conn.cursor()\n",
    "\n",
    "for row in cursor.execute(\"SELECT * FROM Appointment\"):\n",
    "    print(row)"
   ]
  },
  {
   "cell_type": "markdown",
   "id": "86bb9b21",
   "metadata": {},
   "source": [
    "### 7. Tools for Search the appointment and delete that appoinment\n",
    "\n",
    "This tools are responsible for search the booked appointment and delete if user confirm "
   ]
  },
  {
   "cell_type": "code",
   "execution_count": 66,
   "id": "0ef98b6d",
   "metadata": {},
   "outputs": [],
   "source": [
    "@tool\n",
    "def search_for_appointment(appointment_id: int) -> Dict:\n",
    "    \"\"\"\n",
    "    Search for an appointment by its ID.\n",
    "\n",
    "    Args:\n",
    "        appointment_id (int): The ID of the appointment.\n",
    "\n",
    "    Returns:\n",
    "        Dict: Appointment details if found, otherwise a failure message.\n",
    "    \"\"\"\n",
    "    conn = sqlite3.connect(DB_PATH)\n",
    "    cursor = conn.cursor()\n",
    "\n",
    "    cursor.execute(\"\"\"\n",
    "        SELECT Appointment_ID, Appointment_Date, Appointment_Time, Doctor_ID, Patient_ID\n",
    "        FROM Appointment\n",
    "        WHERE Appointment_ID = ?\n",
    "    \"\"\", (appointment_id,))\n",
    "    \n",
    "    result = cursor.fetchone()\n",
    "    conn.close()\n",
    "\n",
    "    if result:\n",
    "        return {\n",
    "            \"success\": True,\n",
    "            \"appointment\": {\n",
    "                \"appointment_id\": result[0],\n",
    "                \"date\": result[1],\n",
    "                \"time\": result[2],\n",
    "                \"doctor_id\": result[3],\n",
    "                \"patient_id\": result[4]\n",
    "            }\n",
    "        }\n",
    "    else:\n",
    "        return {\"success\": False, \"message\": \"Appointment not found.\"}\n",
    "\n",
    "\n",
    "@tool\n",
    "def cancel_appointment(appointment_id: int) -> Dict:\n",
    "    \"\"\"\n",
    "    Cancel an existing appointment by its ID.\n",
    "\n",
    "    Args:\n",
    "        appointment_id (int): The ID of the appointment to cancel.\n",
    "\n",
    "    Returns:\n",
    "        Dict: {\"success\": True/False, \"message\": str}\n",
    "    \"\"\"\n",
    "    conn = sqlite3.connect(DB_PATH)\n",
    "    cursor = conn.cursor()\n",
    "\n",
    "    cursor.execute(\"SELECT 1 FROM Appointment WHERE Appointment_ID = ?\", (appointment_id,))\n",
    "    result = cursor.fetchone()\n",
    "\n",
    "    if not result:\n",
    "        conn.close()\n",
    "        return {\"success\": False, \"message\": \"Appointment not found.\"}\n",
    "\n",
    "    cursor.execute(\"DELETE FROM Appointment WHERE Appointment_ID = ?\", (appointment_id,))\n",
    "    conn.commit()\n",
    "    conn.close()\n",
    "\n",
    "    return {\"success\": True, \"message\": \"Appointment cancelled successfully.\"}"
   ]
  },
  {
   "cell_type": "code",
   "execution_count": 67,
   "id": "3568ea53",
   "metadata": {},
   "outputs": [],
   "source": [
    "from langchain_core.prompts import ChatPromptTemplate\n",
    "from datetime import datetime\n",
    "\n",
    "cancel_appointment_prompt = ChatPromptTemplate.from_messages(\n",
    "    [\n",
    "        (\n",
    "            \"system\",\n",
    "            \"You are a specialized assistant for handling doctor appointment cancellations. \"\n",
    "            \"The primary assistant delegates work to you whenever the user wants to cancel an appointment. \"\n",
    "            \"First, verify the appointment ID with the user. Then confirm the cancellation intent clearly before proceeding. \"\n",
    "            \"Use the appropriate tool to cancel the appointment and inform the user of the result. \"\n",
    "            \"Be clear and efficient in your responses. Do not cancel unless explicitly requested by the user.\"\n",
    "            \"\\nCurrent time: {time}.\"\n",
    "            '\\n\\nIf the user needs help outside of your scope, then \"CompleteOrEscalate\" the dialog to the main assistant. '\n",
    "            \"Do not make up tools or waste the user's time.\"\n",
    "            \"\\n\\nSome examples where you should CompleteOrEscalate:\\n\"\n",
    "            \" - 'I want to rebook instead of canceling'\\n\"\n",
    "            \" - 'What are the symptoms of flu?'\\n\"\n",
    "            \" - 'Actually, my friend needs to cancel, not me'\\n\"\n",
    "            \" - 'Appointment already canceled elsewhere'\\n\",\n",
    "        ),\n",
    "        (\"placeholder\", \"{messages}\"),\n",
    "    ]\n",
    ").partial(time=datetime.now())\n",
    "\n",
    "cancel_appointment_tools = [search_for_appointment, cancel_appointment]\n",
    "\n",
    "cancel_appointment_runnable = cancel_appointment_prompt | llm.bind_tools(\n",
    "    cancel_appointment_tools + [CompleteOrEscalate]\n",
    ")"
   ]
  },
  {
   "cell_type": "code",
   "execution_count": 68,
   "id": "31488df1",
   "metadata": {},
   "outputs": [
    {
     "data": {
      "image/png": "[encoded data removed]",
      "text/plain": [
       "<IPython.core.display.Image object>"
      ]
     },
     "metadata": {},
     "output_type": "display_data"
    }
   ],
   "source": [
    "# make the graph responsible for cancel the appointment\n",
    "graph_builder_cancel = StateGraph(State)\n",
    "\n",
    "graph_builder_cancel.add_node(\"tools\", ToolNode(cancel_appointment_tools))\n",
    "graph_builder_cancel.add_node(\"assistant\", Assistant(cancel_appointment_runnable))\n",
    "graph_builder_cancel.add_edge(\"tools\", \"assistant\")\n",
    "graph_builder_cancel.add_conditional_edges(\"assistant\", tools_condition)\n",
    "graph_builder_cancel.set_entry_point(\"assistant\")\n",
    "\n",
    "memory_cancel = MemorySaver()\n",
    "graph_cancel = graph_builder_cancel.compile(checkpointer=memory_cancel)\n",
    "\n",
    "from IPython.display import Image, display\n",
    "\n",
    "try:\n",
    "    display(Image(graph_cancel.get_graph().draw_mermaid_png()))\n",
    "except Exception:\n",
    "    pass"
   ]
  },
  {
   "cell_type": "code",
   "execution_count": 69,
   "id": "3ba5d0fa",
   "metadata": {},
   "outputs": [
    {
     "name": "stderr",
     "output_type": "stream",
     "text": [
      "Key 'example' is not supported in schema, ignoring\n"
     ]
    },
    {
     "name": "stdout",
     "output_type": "stream",
     "text": [
      "{'assistant': {'messages': AIMessage(content='Ok, I can help with that. First, can you please provide the appointment ID you wish to cancel?', additional_kwargs={}, response_metadata={'prompt_feedback': {'block_reason': 0, 'safety_ratings': []}, 'finish_reason': 'STOP', 'model_name': 'gemini-2.0-flash-001', 'safety_ratings': []}, id='run--c9cb01e5-0632-436e-814a-9c8a1640dec6-0', usage_metadata={'input_tokens': 379, 'output_tokens': 23, 'total_tokens': 402, 'input_token_details': {'cache_read': 0}})}}\n"
     ]
    }
   ],
   "source": [
    "thread = {\"configurable\": {\"thread_id\": \"2\"}}\n",
    "inputs = {\"messages\": [{\"role\": \"user\", \"content\": \"I want to cancel my appoinment with Dr.Smith\"}]}\n",
    "for chunk in graph_cancel.stream(inputs, thread, stream_mode=\"updates\"):\n",
    "    print(chunk)"
   ]
  },
  {
   "cell_type": "code",
   "execution_count": 70,
   "id": "f66c8b8a",
   "metadata": {},
   "outputs": [
    {
     "name": "stderr",
     "output_type": "stream",
     "text": [
      "Key 'example' is not supported in schema, ignoring\n"
     ]
    },
    {
     "name": "stdout",
     "output_type": "stream",
     "text": [
      "{'assistant': {'messages': AIMessage(content='Okay, just to confirm, you wish to cancel the appointment with ID 2?', additional_kwargs={}, response_metadata={'prompt_feedback': {'block_reason': 0, 'safety_ratings': []}, 'finish_reason': 'STOP', 'model_name': 'gemini-2.0-flash-001', 'safety_ratings': []}, id='run--89b68149-07f3-46db-90bd-d2a43a3546df-0', usage_metadata={'input_tokens': 406, 'output_tokens': 18, 'total_tokens': 424, 'input_token_details': {'cache_read': 0}})}}\n"
     ]
    }
   ],
   "source": [
    "inputs = {\"messages\": [{\"role\": \"user\", \"content\": \"My id is 2\"}]}\n",
    "for chunk in graph_cancel.stream(inputs, thread, stream_mode=\"updates\"):\n",
    "    print(chunk)"
   ]
  },
  {
   "cell_type": "code",
   "execution_count": 71,
   "id": "4108b939",
   "metadata": {},
   "outputs": [
    {
     "name": "stderr",
     "output_type": "stream",
     "text": [
      "Key 'example' is not supported in schema, ignoring\n",
      "Key 'example' is not supported in schema, ignoring\n"
     ]
    },
    {
     "name": "stdout",
     "output_type": "stream",
     "text": [
      "{'assistant': {'messages': AIMessage(content='', additional_kwargs={'function_call': {'name': 'cancel_appointment', 'arguments': '{\"appointment_id\": 2.0}'}}, response_metadata={'prompt_feedback': {'block_reason': 0, 'safety_ratings': []}, 'finish_reason': 'STOP', 'model_name': 'gemini-2.0-flash-001', 'safety_ratings': []}, id='run--bdff7600-eee4-4c30-ab47-6ee7aef8c12e-0', tool_calls=[{'name': 'cancel_appointment', 'args': {'appointment_id': 2.0}, 'id': 'f323b8cb-0d99-47f5-bfce-e230bed35f97', 'type': 'tool_call'}], usage_metadata={'input_tokens': 424, 'output_tokens': 7, 'total_tokens': 431, 'input_token_details': {'cache_read': 0}})}}\n",
      "{'tools': {'messages': [ToolMessage(content='{\"success\": true, \"message\": \"Appointment cancelled successfully.\"}', name='cancel_appointment', id='c61ebb36-0402-4aba-9bf7-e1f12de4fa85', tool_call_id='f323b8cb-0d99-47f5-bfce-e230bed35f97')]}}\n",
      "{'assistant': {'messages': AIMessage(content='OK. I have cancelled appointment ID 2.', additional_kwargs={}, response_metadata={'prompt_feedback': {'block_reason': 0, 'safety_ratings': []}, 'finish_reason': 'STOP', 'model_name': 'gemini-2.0-flash-001', 'safety_ratings': []}, id='run--49a75038-de32-41b6-aa2d-713f6453019d-0', usage_metadata={'input_tokens': 441, 'output_tokens': 11, 'total_tokens': 452, 'input_token_details': {'cache_read': 0}})}}\n"
     ]
    }
   ],
   "source": [
    "inputs = {\"messages\": [{\"role\": \"user\", \"content\": \"yes\"}]}\n",
    "for chunk in graph_cancel.stream(inputs, thread, stream_mode=\"updates\"):\n",
    "    print(chunk)"
   ]
  },
  {
   "cell_type": "code",
   "execution_count": 72,
   "id": "11db4473",
   "metadata": {},
   "outputs": [
    {
     "name": "stdout",
     "output_type": "stream",
     "text": [
      "(1, '10:00', '2025-06-06', 1, 1)\n",
      "(3, '14:00', '2025-06-07', 3, 3)\n",
      "(4, '11:00', '2025-06-06', 1, 1)\n"
     ]
    }
   ],
   "source": [
    "# check whether the database is updated\n",
    "\n",
    "conn = sqlite3.connect(DB_PATH) \n",
    "cursor = conn.cursor()\n",
    "\n",
    "for row in cursor.execute(\"SELECT * FROM Appointment\"):\n",
    "    print(row)"
   ]
  },
  {
   "cell_type": "code",
   "execution_count": null,
   "id": "d35e8798",
   "metadata": {},
   "outputs": [],
   "source": []
  }
 ],
 "metadata": {
  "kernelspec": {
   "display_name": "torchenv",
   "language": "python",
   "name": "python3"
  },
  "language_info": {
   "codemirror_mode": {
    "name": "ipython",
    "version": 3
   },
   "file_extension": ".py",
   "mimetype": "text/x-python",
   "name": "python",
   "nbconvert_exporter": "python",
   "pygments_lexer": "ipython3",
   "version": "3.12.3"
  }
 },
 "nbformat": 4,
 "nbformat_minor": 5
}
