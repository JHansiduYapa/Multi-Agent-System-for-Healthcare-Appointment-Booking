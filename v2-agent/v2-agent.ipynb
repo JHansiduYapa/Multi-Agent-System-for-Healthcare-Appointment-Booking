{
 "cells": [
  {
   "cell_type": "markdown",
   "id": "ffce6d7e",
   "metadata": {},
   "source": [
    "## Doctor appointment booking System\n",
    "### This is Lang-Graph agent that can book appointments, cancel appointment and change the appointment based on user query  "
   ]
  },
  {
   "cell_type": "code",
   "execution_count": 1,
   "id": "9c765a20",
   "metadata": {},
   "outputs": [],
   "source": [
    "# import relevant python libraries \n",
    "import json\n",
    "from pprint import pprint\n",
    "from typing import Annotated\n",
    "from typing_extensions import TypedDict\n",
    "\n",
    "# import the langchain libraries\n",
    "from langchain_core.tools import tool\n",
    "from langchain_core.messages import ToolMessage\n",
    "from langgraph.graph import StateGraph, START, END, MessagesState\n",
    "from langgraph.graph.message import add_messages,BaseMessage\n",
    "from langgraph.prebuilt import InjectedStore, ToolNode\n",
    "from langchain_ollama import ChatOllama"
   ]
  },
  {
   "cell_type": "code",
   "execution_count": 2,
   "id": "f22163f4",
   "metadata": {},
   "outputs": [],
   "source": [
    "# initialize the ollama chat model\n",
    "llm = ChatOllama(\n",
    "    model = \"llama3.2:latest\",\n",
    "    temperature = 0.8,\n",
    "    num_predict = 256,\n",
    ")\n",
    "# llm_with_tools = llm.bind_tools([multiply])"
   ]
  },
  {
   "cell_type": "code",
   "execution_count": 3,
   "id": "2463e895",
   "metadata": {},
   "outputs": [],
   "source": [
    "from langchain_core.tools import tool\n",
    "\n",
    "@tool\n",
    "def multiply(a: int, b: int) -> int:\n",
    "   \"\"\"Multiply two numbers.\"\"\"\n",
    "   return a * b"
   ]
  },
  {
   "cell_type": "code",
   "execution_count": 4,
   "id": "f46c1ab8",
   "metadata": {},
   "outputs": [],
   "source": [
    "messages = [\n",
    "    (\"system\", \"You are a helpful translator. Translate the user sentence to French.\"),\n",
    "    (\"human\", \"I love programming.\"),\n",
    "]\n",
    "response = llm.invoke(messages)"
   ]
  },
  {
   "cell_type": "code",
   "execution_count": 5,
   "id": "088c7b5b",
   "metadata": {},
   "outputs": [
    {
     "data": {
      "text/plain": [
       "[]"
      ]
     },
     "execution_count": 5,
     "metadata": {},
     "output_type": "execute_result"
    }
   ],
   "source": [
    "response.tool_calls"
   ]
  },
  {
   "cell_type": "markdown",
   "id": "5cf80f0d",
   "metadata": {},
   "source": [
    "### 1. What is TypedDict\n",
    "A TypedDict type represents dictionary objects with a specific set of string keys, and with specific value types for each valid key. Each string key can be either required (it must be present) or non-required (it doesn’t need to exist).\n",
    "\n",
    "\n",
    "Annotated in python allows developers to declare the type of a reference and provide additional information related to it.\n",
    "\n",
    "name: Annotated[str, \"first letter is capital\"]"
   ]
  },
  {
   "cell_type": "code",
   "execution_count": 6,
   "id": "e9744fd1",
   "metadata": {},
   "outputs": [],
   "source": [
    "import getpass\n",
    "import os\n",
    "\n",
    "if \"GOOGLE_API_KEY\" not in os.environ:\n",
    "    os.environ[\"GOOGLE_API_KEY\"] = getpass.getpass(\"Enter your Google AI API key: \")"
   ]
  },
  {
   "cell_type": "code",
   "execution_count": 3,
   "id": "5db68e62",
   "metadata": {},
   "outputs": [
    {
     "name": "stdout",
     "output_type": "stream",
     "text": [
      "Note: you may need to restart the kernel to use updated packages.\n"
     ]
    },
    {
     "name": "stderr",
     "output_type": "stream",
     "text": [
      "ERROR: pip's dependency resolver does not currently take into account all the packages that are installed. This behaviour is the source of the following dependency conflicts.\n",
      "langchain-community 0.3.18 requires langchain<1.0.0,>=0.3.19, but you have langchain 0.3.17 which is incompatible.\n"
     ]
    }
   ],
   "source": [
    "%pip install -qU langchain-google-genai"
   ]
  },
  {
   "cell_type": "code",
   "execution_count": 7,
   "id": "2ecb96a2",
   "metadata": {},
   "outputs": [],
   "source": [
    "from langchain_google_genai import ChatGoogleGenerativeAI\n",
    "\n",
    "llm = ChatGoogleGenerativeAI(\n",
    "    model=\"gemini-2.0-flash-001\",\n",
    "    temperature=0,\n",
    "    max_tokens=None,\n",
    "    timeout=None,\n",
    "    max_retries=2,\n",
    "    # other params...\n",
    ")"
   ]
  },
  {
   "cell_type": "code",
   "execution_count": 7,
   "id": "71b6b79b",
   "metadata": {},
   "outputs": [],
   "source": [
    "class State(TypedDict):\n",
    "    # Messages have the type \"list\". The `add_messages` function\n",
    "    # in the annotation defines how this state key should be updated\n",
    "    # (in this case, it appends messages to the list, rather than overwriting them)\n",
    "    messages: Annotated[list, add_messages]\n",
    "    \n",
    "\n",
    "\n",
    "graph_builder = StateGraph(State)"
   ]
  },
  {
   "cell_type": "markdown",
   "id": "2d54bec4",
   "metadata": {},
   "source": [
    "Our graph can now handle two key tasks:\n",
    "\n",
    "1.Each node can receive the current State as input and output an update to the state.\n",
    "\n",
    "2.Updates to messages will be appended to the existing list rather than overwriting it, thanks to the prebuilt add_messages function used with the Annotated syntax."
   ]
  },
  {
   "cell_type": "code",
   "execution_count": 8,
   "id": "178f5589",
   "metadata": {},
   "outputs": [
    {
     "name": "stderr",
     "output_type": "stream",
     "text": [
      "Key 'title' is not supported in schema, ignoring\n",
      "c:\\Users\\janit\\anaconda3\\envs\\torchenv\\Lib\\site-packages\\langchain_google_genai\\chat_models.py:1410: UserWarning: ChatGoogleGenerativeAI.with_structured_output with dict schema has changed recently to align with behavior of other LangChain chat models. More context: https://github.com/langchain-ai/langchain-google/pull/772\n",
      "  warnings.warn(\n"
     ]
    }
   ],
   "source": [
    "# build sample state graph using lang graph\n",
    "# The tool abstraction in LangChain associates a Python function with a schema that defines the function's name, \n",
    "# description and expected arguments.\n",
    "@tool\n",
    "def get_weather(city: str):\n",
    "    \"\"\"Get the weather for a specific city\"\"\"\n",
    "    return f\"It's sunny in {city}!\"\n",
    "\n",
    "# This wraps the model so it can extract the structured input (like \"city\") needed for get_weather.\n",
    "# With this model can extract the from message specific format\n",
    "model = llm.with_structured_output(get_weather)"
   ]
  },
  {
   "cell_type": "code",
   "execution_count": 9,
   "id": "704d6b7e",
   "metadata": {},
   "outputs": [],
   "source": [
    "# this is subgraph state model\n",
    "# in the sub graph it use the state of city addition to the messages\n",
    "class SubGraphState(MessagesState):\n",
    "    city: str"
   ]
  },
  {
   "cell_type": "code",
   "execution_count": 10,
   "id": "23e2db0a",
   "metadata": {},
   "outputs": [],
   "source": [
    "# this node update the state with the city \n",
    "def model_node(state: SubGraphState):\n",
    "    result = model.invoke(state[\"messages\"])\n",
    "    return {\"city\": result[\"city\"]}"
   ]
  },
  {
   "cell_type": "code",
   "execution_count": 11,
   "id": "0f15a27d",
   "metadata": {},
   "outputs": [],
   "source": [
    "# this node execute the tool with the argument\n",
    "def weather_node(state: SubGraphState):\n",
    "    result = get_weather.invoke({\"city\": state[\"city\"]})\n",
    "    return {\"messages\": [{\"role\": \"assistant\", \"content\": result}]}"
   ]
  },
  {
   "cell_type": "code",
   "execution_count": 12,
   "id": "9cd16c3b",
   "metadata": {},
   "outputs": [],
   "source": [
    "subgraph = StateGraph(SubGraphState)\n",
    "subgraph.add_node(model_node)\n",
    "subgraph.add_node(weather_node)\n",
    "subgraph.add_edge(START, \"model_node\")\n",
    "subgraph.add_edge(\"model_node\", \"weather_node\")\n",
    "subgraph.add_edge(\"weather_node\", END)\n",
    "subgraph = subgraph.compile(interrupt_before=[\"weather_node\"])"
   ]
  },
  {
   "cell_type": "markdown",
   "id": "d9a6ad17",
   "metadata": {},
   "source": [
    "### 2. Make the Graph to appointment booking\n",
    "#### 2.1 Function calling with missing parameters\n",
    "\n",
    "there are some occasions user will only provide some of the parameters only in the user query at that time we need to get other parameters without add them using hallucinations."
   ]
  },
  {
   "cell_type": "markdown",
   "id": "fda59e66",
   "metadata": {},
   "source": [
    "- Define Tool Input Schema with Pydantic : Utilize Pydantic's BaseModel to define the expected inputs for your tool. This schema will automatically enforce the presence of required fields."
   ]
  },
  {
   "cell_type": "code",
   "execution_count": 8,
   "id": "7e5adc89",
   "metadata": {},
   "outputs": [],
   "source": [
    "from pydantic import BaseModel, Field\n",
    "from typing import Annotated\n",
    "from langchain.tools import tool\n",
    "from langchain.tools import BaseTool\n",
    "from typing import Type\n",
    "from langgraph.types import Command\n",
    "\n",
    "class CheckAvailabilityInput(BaseModel):\n",
    "    month: Annotated[int, Field(ge=1, le=12, description=\"Month of the year (1-12)\")]\n",
    "    date: Annotated[int, Field(ge=1, le=31, description=\"Day of the month (1-31)\")]\n",
    "    hour: Annotated[int, Field(ge=0, le=23, description=\"Hour of the day (0-23)\")]\n"
   ]
  },
  {
   "cell_type": "code",
   "execution_count": 76,
   "id": "7b4ee3ed",
   "metadata": {},
   "outputs": [],
   "source": [
    "from typing import Optional, Type\n",
    "\n",
    "from langchain.callbacks.manager import (\n",
    "    AsyncCallbackManagerForToolRun,\n",
    "    CallbackManagerForToolRun,\n",
    ")\n",
    "# tool for appointment booking\n",
    "class CheckAvailabilityTool(BaseTool):\n",
    "    name: Type[BaseModel] = \"check_availability\"\n",
    "    description: Type[BaseModel] = \"Checks if a given date and time is available for booking.\"\n",
    "    args_schema: Type[BaseModel] = CheckAvailabilityInput\n",
    "\n",
    "    def _run(self, month: int, date: int, hour: int, run_manager: Optional[CallbackManagerForToolRun] = None) -> str:\n",
    "        # dummy method for check the availability of the calendar\n",
    "\n",
    "        # update the state using given inputs\n",
    "        Command(\n",
    "            update={\n",
    "                # update the state keys\n",
    "                \"month\": month,\n",
    "                \"date\": date,\n",
    "                \"hour\": hour\n",
    "            }\n",
    "        )\n",
    "        return \"Date and Time is available. Ask user to proceed the appointment booking at given time and date\""
   ]
  },
  {
   "cell_type": "code",
   "execution_count": 77,
   "id": "5f572d7a",
   "metadata": {},
   "outputs": [],
   "source": [
    "from pydantic import ValidationError\n",
    "\n",
    "check_availability_tool = CheckAvailabilityTool()\n",
    "try:\n",
    "    check_availability_tool.invoke({\"month\": 4, \"date\": 15, \"hour\": 14})\n",
    "except ValidationError as e:\n",
    "    missing_fields = [err['loc'][0] for err in e.errors()]\n",
    "    print(missing_fields)"
   ]
  },
  {
   "cell_type": "code",
   "execution_count": 78,
   "id": "7b24c2d1",
   "metadata": {},
   "outputs": [],
   "source": [
    "check_availability_tool = CheckAvailabilityTool()\n",
    "model_with_tools = llm.bind_tools([check_availability_tool])"
   ]
  },
  {
   "cell_type": "code",
   "execution_count": 79,
   "id": "783855c7",
   "metadata": {},
   "outputs": [],
   "source": [
    "# this is subgraph state model\n",
    "# in the sub graph it use the state of city addition to the messages\n",
    "class SubGraphState(TypedDict):\n",
    "    messages: Annotated[list, add_messages]\n",
    "    month: int\n",
    "    date: int\n",
    "    hour: int\n",
    "\n",
    "# this is conditional function that return tools if tool called\n",
    "# other wise return end\n",
    "def should_continue(state: SubGraphState):\n",
    "    messages = state[\"messages\"]\n",
    "    last_message = messages[-1]\n",
    "    if last_message.tool_calls:\n",
    "        return \"tools\"\n",
    "    return END\n",
    "\n",
    "def call_model(state: SubGraphState):\n",
    "    try:\n",
    "        month = state[\"month\"]\n",
    "        day   = state[\"date\"]\n",
    "        hour  = state[\"hour\"]\n",
    "        print(f\"Parsed date/time → Month: {month}, Date: {day}, Hour: {hour}\")\n",
    "    except KeyError as e:\n",
    "        # one of the expected keys was missing\n",
    "        print(f\"State key error: missing {e}\")\n",
    "    messages = state[\"messages\"]\n",
    "    response = model_with_tools.invoke(messages)\n",
    "    return {\"messages\": [response]}"
   ]
  },
  {
   "cell_type": "code",
   "execution_count": 80,
   "id": "520144ed",
   "metadata": {},
   "outputs": [],
   "source": [
    "class BasicToolNode:\n",
    "    \"\"\"A node that runs the tools requested in the last AIMessage.\"\"\"\n",
    "\n",
    "    def __init__(self, tools: list) -> None:\n",
    "        self.tools_by_name = {tool.name: tool for tool in tools}\n",
    "\n",
    "    def __call__(self, inputs: dict):\n",
    "        \n",
    "        if messages := inputs.get(\"messages\", []):\n",
    "            message = messages[-1]\n",
    "        else:\n",
    "            raise ValueError(\"No message found in input\")\n",
    "        outputs = []\n",
    "        for tool_call in message.tool_calls:\n",
    "            tool_result = self.tools_by_name[tool_call[\"name\"]].invoke(\n",
    "                tool_call[\"args\"]\n",
    "            )\n",
    "            outputs.append(\n",
    "                ToolMessage(\n",
    "                    content=json.dumps(tool_result),\n",
    "                    name=tool_call[\"name\"],\n",
    "                    tool_call_id=tool_call[\"id\"],\n",
    "                )\n",
    "            )\n",
    "        return {\"messages\": outputs}"
   ]
  },
  {
   "cell_type": "code",
   "execution_count": 81,
   "id": "e7dc19e4",
   "metadata": {},
   "outputs": [
    {
     "data": {
      "text/plain": [
       "<langgraph.graph.state.StateGraph at 0x22745245a30>"
      ]
     },
     "execution_count": 81,
     "metadata": {},
     "output_type": "execute_result"
    }
   ],
   "source": [
    "# make the graph\n",
    "graph_builder = StateGraph(SubGraphState)\n",
    "\n",
    "\n",
    "# make connection in graph\n",
    "graph_builder.add_node(\"chatbot\", call_model)\n",
    "\n",
    "# make a node to execute the tool\n",
    "tool_node = BasicToolNode(tools=[check_availability_tool])\n",
    "graph_builder.add_node(\"tools\", tool_node)"
   ]
  },
  {
   "cell_type": "code",
   "execution_count": 82,
   "id": "c65215e4",
   "metadata": {},
   "outputs": [],
   "source": [
    "def route_tools(\n",
    "    state: SubGraphState,\n",
    "):\n",
    "    \"\"\"\n",
    "    Use in the conditional_edge to route to the ToolNode if the last message\n",
    "    has tool calls. Otherwise, route to the end.\n",
    "    \"\"\"\n",
    "    if isinstance(state, list):\n",
    "        ai_message = state[-1]\n",
    "    elif messages := state.get(\"messages\", []):\n",
    "        ai_message = messages[-1]\n",
    "    else:\n",
    "        raise ValueError(f\"No messages found in input state to tool_edge: {state}\")\n",
    "    if hasattr(ai_message, \"tool_calls\") and len(ai_message.tool_calls) > 0:\n",
    "        return \"tools\"\n",
    "    return END\n",
    "\n",
    "\n",
    "# The `tools_condition` function returns \"tools\" if the chatbot asks to use a tool, and \"END\" if\n",
    "# it is fine directly responding. This conditional routing defines the main agent loop.\n",
    "graph_builder.add_conditional_edges(\n",
    "    \"chatbot\",\n",
    "    route_tools,\n",
    "    # The following dictionary lets you tell the graph to interpret the condition's outputs as a specific node\n",
    "    # It defaults to the identity function, but if you\n",
    "    # want to use a node named something else apart from \"tools\",\n",
    "    # You can update the value of the dictionary to something else\n",
    "    # e.g., \"tools\": \"my_tools\"\n",
    "    {\"tools\": \"tools\", END: END},\n",
    ")\n",
    "# Any time a tool is called, we return to the chatbot to decide the next step\n",
    "graph_builder.add_edge(START, \"chatbot\")\n",
    "graph_builder.add_edge(\"tools\", \"chatbot\")\n",
    "graph_builder.add_edge(START, \"chatbot\")\n",
    "graph = graph_builder.compile()"
   ]
  },
  {
   "cell_type": "code",
   "execution_count": 83,
   "id": "3de84564",
   "metadata": {},
   "outputs": [
    {
     "data": {
      "image/png": "[encoded data removed]",
      "text/plain": [
       "<IPython.core.display.Image object>"
      ]
     },
     "metadata": {},
     "output_type": "display_data"
    }
   ],
   "source": [
    "from IPython.display import Image, display\n",
    "\n",
    "try:\n",
    "    display(Image(graph.get_graph().draw_mermaid_png()))\n",
    "except Exception:\n",
    "    # This requires some extra dependencies and is optional\n",
    "    pass"
   ]
  },
  {
   "cell_type": "code",
   "execution_count": 84,
   "id": "0eab676a",
   "metadata": {},
   "outputs": [
    {
     "name": "stdout",
     "output_type": "stream",
     "text": [
      "================================\u001b[1m Human Message \u001b[0m=================================\n",
      "\n",
      "hello?\n",
      "State key error: missing 'month'\n",
      "==================================\u001b[1m Ai Message \u001b[0m==================================\n",
      "\n",
      "Hello! How can I help you today?\n"
     ]
    }
   ],
   "source": [
    "user_input = \"hello?\"\n",
    "config = {\"configurable\": {\"thread_id\": \"1\"}}\n",
    "\n",
    "events = graph.stream(\n",
    "    {\"messages\": [{\"role\": \"user\", \"content\": user_input}]},\n",
    "    config,\n",
    "    stream_mode=\"values\",\n",
    ")\n",
    "for event in events:\n",
    "    if \"messages\" in event:\n",
    "        event[\"messages\"][-1].pretty_print()"
   ]
  },
  {
   "cell_type": "code",
   "execution_count": 74,
   "id": "61a26b19",
   "metadata": {},
   "outputs": [
    {
     "name": "stdout",
     "output_type": "stream",
     "text": [
      "================================\u001b[1m Human Message \u001b[0m=================================\n",
      "\n",
      "I want to book an appointment on 23rd march check the availability?\n",
      "State key error: missing 'month'\n",
      "==================================\u001b[1m Ai Message \u001b[0m==================================\n",
      "\n",
      "What hour you would like to book?\n"
     ]
    }
   ],
   "source": [
    "user_input = \"I want to book an appointment on 23rd march check the availability?\"\n",
    "config = {\"configurable\": {\"thread_id\": \"1\"}}\n",
    "\n",
    "events = graph.stream(\n",
    "    {\"messages\": [{\"role\": \"user\", \"content\": user_input}]},\n",
    "    config,\n",
    "    stream_mode=\"values\",\n",
    ")\n",
    "for event in events:\n",
    "    if \"messages\" in event:\n",
    "        event[\"messages\"][-1].pretty_print()"
   ]
  },
  {
   "cell_type": "code",
   "execution_count": null,
   "id": "cfecbc6c",
   "metadata": {},
   "outputs": [
    {
     "name": "stdout",
     "output_type": "stream",
     "text": [
      "================================\u001b[1m Human Message \u001b[0m=================================\n",
      "\n",
      "i want to book at 6pm\n",
      "==================================\u001b[1m Ai Message \u001b[0m==================================\n",
      "\n",
      "Okay, I need a bit more information. Which day and month are you looking to book?\n"
     ]
    }
   ],
   "source": [
    "user_input = \"i want to book at 6pm\"\n",
    "\n",
    "# The config is the **second positional argument** to stream() or invoke()!\n",
    "events = graph.stream(\n",
    "    {\"messages\": [{\"role\": \"user\", \"content\": user_input}]},\n",
    "    config,\n",
    "    stream_mode=\"values\",\n",
    ")\n",
    "for event in events:\n",
    "    event[\"messages\"][-1].pretty_print()"
   ]
  },
  {
   "cell_type": "code",
   "execution_count": 85,
   "id": "b004b07a",
   "metadata": {},
   "outputs": [
    {
     "name": "stdout",
     "output_type": "stream",
     "text": [
      "================================\u001b[1m Human Message \u001b[0m=================================\n",
      "\n",
      "I want check availability 2025 at march 20 at 5pm?\n",
      "State key error: missing 'month'\n",
      "==================================\u001b[1m Ai Message \u001b[0m==================================\n",
      "Tool Calls:\n",
      "  check_availability (0612e6a8-7dfb-4456-ba2d-9aa247230539)\n",
      " Call ID: 0612e6a8-7dfb-4456-ba2d-9aa247230539\n",
      "  Args:\n",
      "    date: 20.0\n",
      "    hour: 17.0\n",
      "    month: 3.0\n",
      "=================================\u001b[1m Tool Message \u001b[0m=================================\n",
      "Name: check_availability\n",
      "\n",
      "\"Date and Time is available. Ask user to proceed the appointment booking at given time and date\"\n",
      "State key error: missing 'month'\n",
      "==================================\u001b[1m Ai Message \u001b[0m==================================\n",
      "\n",
      "Date and Time is available. Ask user to proceed the appointment booking at given time and date\n"
     ]
    }
   ],
   "source": [
    "user_input = \"I want check availability 2025 at march 20 at 5pm?\"\n",
    "\n",
    "# The config is the **second positional argument** to stream() or invoke()!\n",
    "events = graph.stream(\n",
    "    {\"messages\": [{\"role\": \"user\", \"content\": user_input}]},\n",
    "    config,\n",
    "    stream_mode=\"values\",\n",
    ")\n",
    "\n",
    "for event in events:\n",
    "    event[\"messages\"][-1].pretty_print()"
   ]
  },
  {
   "cell_type": "code",
   "execution_count": null,
   "id": "a81d8574",
   "metadata": {},
   "outputs": [
    {
     "name": "stdout",
     "output_type": "stream",
     "text": [
      "================================\u001b[1m Human Message \u001b[0m=================================\n",
      "\n",
      "i want appointment at 5pm on march 20, 2025?\n",
      "==================================\u001b[1m Ai Message \u001b[0m==================================\n",
      "Tool Calls:\n",
      "  check_availability (61dab9c1-ea04-41a1-8085-697db65ca818)\n",
      " Call ID: 61dab9c1-ea04-41a1-8085-697db65ca818\n",
      "  Args:\n",
      "    date: 20.0\n",
      "    hour: 17.0\n",
      "    month: 3.0\n",
      "=================================\u001b[1m Tool Message \u001b[0m=================================\n",
      "Name: check_availability\n",
      "\n",
      "\"Date and Time is available. Ask user to proceed the appointment booking at given time and date\"\n",
      "==================================\u001b[1m Ai Message \u001b[0m==================================\n",
      "\n",
      "Yes, the date and time is available. Would you like to proceed with the appointment booking?\n"
     ]
    }
   ],
   "source": [
    "user_input = \"i want appointment at 5pm on march 20, 2025?\"\n",
    "\n",
    "# Refined prompt to prevent hallucinated arguments\n",
    "prompt = \"\"\"\n",
    "You are an AI assistant. Respond to the user's query strictly based on the provided input.\n",
    "Reply more politely and helpful way like answer to a phone call.\n",
    "Do not make assumptions on date, time and month,unless explicitly mentioned in the user's query.\n",
    "If any wanted information not given in user do not add it in given first message. \n",
    "\"\"\"\n",
    "\n",
    "config = {\"configurable\": {\"thread_id\": \"0\"}}\n",
    "\n",
    "# The config is the **second positional argument** to stream() or invoke()!\n",
    "events = graph.stream(\n",
    "    {\"messages\": [{\"role\": \"system\", \"content\": prompt}, {\"role\": \"user\", \"content\": user_input}]},\n",
    "    config,\n",
    "    stream_mode=\"values\",\n",
    ")\n",
    "\n",
    "for event in events:\n",
    "    event[\"messages\"][-1].pretty_print()"
   ]
  },
  {
   "cell_type": "code",
   "execution_count": 49,
   "id": "8d891279",
   "metadata": {},
   "outputs": [
    {
     "name": "stdout",
     "output_type": "stream",
     "text": [
      "================================\u001b[1m Human Message \u001b[0m=================================\n",
      "\n",
      "Hello! My name is Will.\n",
      "==================================\u001b[1m Ai Message \u001b[0m==================================\n",
      "\n",
      "Hi Will! How can I help you today?\n"
     ]
    }
   ],
   "source": [
    "user_input = \"Hello! My name is Will.\"\n",
    "\n",
    "# The config is the **second positional argument** to stream() or invoke()!\n",
    "events = graph.stream(\n",
    "    {\"messages\": [{\"role\": \"user\", \"content\": user_input}]},\n",
    "    config,\n",
    "    stream_mode=\"values\",\n",
    ")\n",
    "for event in events:\n",
    "    event[\"messages\"][-1].pretty_print()"
   ]
  }
 ],
 "metadata": {
  "kernelspec": {
   "display_name": "torchenv",
   "language": "python",
   "name": "python3"
  },
  "language_info": {
   "codemirror_mode": {
    "name": "ipython",
    "version": 3
   },
   "file_extension": ".py",
   "mimetype": "text/x-python",
   "name": "python",
   "nbconvert_exporter": "python",
   "pygments_lexer": "ipython3",
   "version": "3.12.3"
  }
 },
 "nbformat": 4,
 "nbformat_minor": 5
}
