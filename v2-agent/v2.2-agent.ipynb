{
 "cells": [
  {
   "cell_type": "markdown",
   "id": "f6ef0f86",
   "metadata": {},
   "source": [
    "### 1. Create Supervisor Agent\n",
    "\n",
    "- create react prebuilt and make the supervisor agent and worker agents using langgraph react prebuilt.\n",
    "\n",
    "- \"Command\" It can be useful to combine control flow (edges) and state updates (nodes). For example, you might want to BOTH perform state updates AND decide which node to go to next in the SAME node. "
   ]
  },
  {
   "cell_type": "code",
   "execution_count": 2,
   "id": "76f95cba",
   "metadata": {},
   "outputs": [],
   "source": [
    "# connect with gemini api\n",
    "import getpass\n",
    "import os\n",
    "\n",
    "if \"GOOGLE_API_KEY\" not in os.environ:\n",
    "    os.environ[\"GOOGLE_API_KEY\"] = getpass.getpass(\"Enter your Google AI API key: \")"
   ]
  },
  {
   "cell_type": "code",
   "execution_count": 3,
   "id": "d9ea1e82",
   "metadata": {},
   "outputs": [],
   "source": [
    "# initialize llm chat model\n",
    "from langchain_google_genai import ChatGoogleGenerativeAI\n",
    "from google.genai.types import GenerateContentConfig\n",
    "\n",
    "\n",
    "system_instruction = \"\"\"\n",
    "                        You are a phone-agent assistant.  \n",
    "                        \n",
    "                        Keep all messages very short—just a single question or one answer.  \n",
    "                        \n",
    "                        Act as if you’re on a live call: no long explanations or chit-chat.  \n",
    "                        \n",
    "                        Always reference prior chat context and stay aligned with the conversation.  \n",
    "                        \n",
    "                    \"\"\"\n",
    "\n",
    "llm = ChatGoogleGenerativeAI(\n",
    "    model=\"gemini-2.5-flash-preview-05-20\",\n",
    "    temperature=0,\n",
    "    max_tokens=None,\n",
    "    timeout=None,\n",
    "    max_retries=2,\n",
    "    config=GenerateContentConfig(\n",
    "        system_instruction=system_instruction,\n",
    "    ),\n",
    "    # other params...\n",
    ")"
   ]
  },
  {
   "cell_type": "markdown",
   "id": "752682ea",
   "metadata": {},
   "source": [
    "### 2. Create tools for doctor appointment booking | rescheduling | cancel"
   ]
  },
  {
   "cell_type": "code",
   "execution_count": 142,
   "id": "36b8d23d",
   "metadata": {},
   "outputs": [],
   "source": [
    "from langgraph.types import Command\n",
    "from langgraph.prebuilt.chat_agent_executor import AgentState\n",
    "from langchain_core.messages import HumanMessage, SystemMessage, AIMessage,ToolMessage\n",
    "from langchain_core.messages import ToolMessage \n",
    "from typing_extensions import Annotated\n",
    "from langgraph.prebuilt import InjectedState\n",
    "from langgraph.graph import StateGraph, MessagesState, START, END\n",
    "\n",
    "# Doctor appointment tools\n",
    "def book_appointment(doctor_name: str, date: str, time: str):\n",
    "    \"\"\"Book a new doctor appointment\"\"\"\n",
    "    return f\"Appointment booked with Dr. {doctor_name} on {date} at {time}.\"\n",
    "\n",
    "def reschedule_appointment(appointment_id: str, new_date: str, new_time: str):\n",
    "    \"\"\"Reschedule an existing doctor appointment\"\"\"\n",
    "    return f\"Appointment {appointment_id} rescheduled to {new_date} at {new_time}.\"\n",
    "\n",
    "def cancel_appointment(appointment_id: str):\n",
    "    \"\"\"Cancel an existing doctor appointment\"\"\"\n",
    "    return f\"Appointment {appointment_id} has been cancelled.\"\n",
    "\n",
    "def search_doctor(specialization: str = \"\", location: str = \"\"):\n",
    "    \"\"\"Search for doctors by specialization and/or location\"\"\"\n",
    "    return f\"Found doctors matching specialization='{specialization}' and location='{location}'.\"\n",
    "\n",
    "def search_appointment(patient_id: str = \"\", doctor_name: str = \"\", date: str = \"\"):\n",
    "    \"\"\"Search for existing appointments by patient, doctor, or date\"\"\"\n",
    "    return f\"Found appointments for patient_id='{patient_id}', doctor='{doctor_name}', date='{date}'.\"\n",
    "\n",
    "def complete_task(state: Annotated[AgentState, InjectedState]):\n",
    "    \"\"\"Call when the given task is fully completed\"\"\"\n",
    "    last_message = state[\"messages\"][-1]\n",
    "    tool_calls = last_message.tool_calls[0]\n",
    "    tool_call_id = tool_calls['id']\n",
    "    return Command(\n",
    "        goto=END,\n",
    "        update={\"messages\": [ToolMessage(\"success\",tool_call_id=tool_call_id),], \"dialog_state\":\"pop\"}\n",
    "    )"
   ]
  },
  {
   "cell_type": "markdown",
   "id": "b0afafa4",
   "metadata": {},
   "source": [
    "### 3. Agent for new appointment booking use prebuilt"
   ]
  },
  {
   "cell_type": "code",
   "execution_count": 143,
   "id": "777597f1",
   "metadata": {},
   "outputs": [
    {
     "data": {
      "image/png": "[encoded data removed]",
      "text/plain": [
       "<IPython.core.display.Image object>"
      ]
     },
     "metadata": {},
     "output_type": "display_data"
    }
   ],
   "source": [
    "# \n",
    "from IPython.display import Image, display\n",
    "from langgraph.prebuilt import create_react_agent, InjectedState\n",
    "\n",
    "tools = [search_doctor, book_appointment, complete_task]\n",
    "new_booking_assistant_node = create_react_agent(\n",
    "    model=llm,\n",
    "    tools=tools,\n",
    "    prompt=\"You are a new appointment booking assistant.before booking an appointment,You should first search for a doctor. If doctor is confirmed. Then you can book an appointment.If all task is completed call the complete_task.\",\n",
    "    name=\"new_booking_assistant\"\n",
    ")\n",
    "\n",
    "# Show the agent\n",
    "display(Image(new_booking_assistant_node.get_graph().draw_mermaid_png()))"
   ]
  },
  {
   "cell_type": "code",
   "execution_count": 144,
   "id": "d61f2ba7",
   "metadata": {},
   "outputs": [
    {
     "name": "stdout",
     "output_type": "stream",
     "text": [
      "================================\u001b[1m Human Message \u001b[0m=================================\n",
      "\n",
      "I want to book with dr.Alice. at 2pm 16 july\n",
      "==================================\u001b[1m Ai Message \u001b[0m==================================\n",
      "Name: new_booking_assistant\n",
      "\n",
      "Could you please specify the year for July 16? Also, have you already searched for Dr. Alice, or would you like me to proceed with booking the appointment?\n"
     ]
    }
   ],
   "source": [
    "from typing_extensions import Literal\n",
    "from langchain_core.messages import HumanMessage, SystemMessage\n",
    "\n",
    "config = {\"configurable\": {\"thread_id\": \"1\"}}\n",
    "messages = [HumanMessage(content=\"I want to book with dr.Alice. at 2pm 16 july\")]\n",
    "events = new_booking_assistant_node.stream({\"messages\": messages},\n",
    "                                      config,\n",
    "                                      stream_mode=\"values\",)\n",
    "for event in events:\n",
    "    event[\"messages\"][-1].pretty_print()"
   ]
  },
  {
   "cell_type": "markdown",
   "id": "d4e8605b",
   "metadata": {},
   "source": [
    "### 4. Agent for cancel appointment booking use prebuilt"
   ]
  },
  {
   "cell_type": "code",
   "execution_count": 145,
   "id": "6c592a2e",
   "metadata": {},
   "outputs": [
    {
     "data": {
      "image/png": "[encoded data removed]",
      "text/plain": [
       "<IPython.core.display.Image object>"
      ]
     },
     "metadata": {},
     "output_type": "display_data"
    }
   ],
   "source": [
    "# make a sub agent that specialized for cancel an appointment\n",
    "from IPython.display import Image, display\n",
    "from langgraph.prebuilt import create_react_agent, InjectedState\n",
    "\n",
    "tools = [search_appointment, cancel_appointment, complete_task]\n",
    "cancel_booking_assistant_node = create_react_agent(\n",
    "    model=llm,\n",
    "    tools=tools,\n",
    "    prompt=\"You are a cancel appointment booking assistant.before cancel an appointment, You should search for an appointment. If all task is completed call the complete_task.\",\n",
    "    name=\"cancel_booking_assistant\"\n",
    ")\n",
    "\n",
    "# Show the agent\n",
    "display(Image(cancel_booking_assistant_node.get_graph().draw_mermaid_png()))"
   ]
  },
  {
   "cell_type": "code",
   "execution_count": 146,
   "id": "612d6cc3",
   "metadata": {},
   "outputs": [
    {
     "name": "stdout",
     "output_type": "stream",
     "text": [
      "================================\u001b[1m Human Message \u001b[0m=================================\n",
      "\n",
      "I want to cancel my appointment\n",
      "==================================\u001b[1m Ai Message \u001b[0m==================================\n",
      "Name: cancel_booking_assistant\n",
      "\n",
      "Do you have the appointment ID, patient ID, doctor name, or date of the appointment?\n"
     ]
    }
   ],
   "source": [
    "# simple router with structured output\n",
    "from typing_extensions import Literal\n",
    "from langchain_core.messages import HumanMessage, SystemMessage, AIMessage,ToolMessage\n",
    "\n",
    "config = {\"configurable\": {\"thread_id\": \"1\"}}\n",
    "messages = [HumanMessage(content=\"I want to cancel my appointment\")]\n",
    "events = cancel_booking_assistant_node.stream({\"messages\": messages},\n",
    "                                      config,\n",
    "                                      stream_mode=\"values\",)\n",
    "for event in events:\n",
    "    event[\"messages\"][-1].pretty_print()"
   ]
  },
  {
   "cell_type": "code",
   "execution_count": 147,
   "id": "165225f6",
   "metadata": {},
   "outputs": [
    {
     "name": "stdout",
     "output_type": "stream",
     "text": [
      "================================\u001b[1m Human Message \u001b[0m=================================\n",
      "\n",
      "yea my appointment id is 2\n",
      "==================================\u001b[1m Ai Message \u001b[0m==================================\n",
      "Name: cancel_booking_assistant\n",
      "\n",
      "To confirm the appointment before cancellation, could you please provide the date of the appointment, the doctor's name, or your patient ID?\n"
     ]
    }
   ],
   "source": [
    "messages = [HumanMessage(content=\"yea my appointment id is 2\")]\n",
    "events = cancel_booking_assistant_node.stream({\"messages\": messages},\n",
    "                                      config,\n",
    "                                      stream_mode=\"values\",)\n",
    "for event in events:\n",
    "    event[\"messages\"][-1].pretty_print()"
   ]
  },
  {
   "cell_type": "markdown",
   "id": "7bf11df9",
   "metadata": {},
   "source": [
    "### 5. make a supervisor Tools are used to routing\n",
    "\n",
    "Router tool for speific agent handover."
   ]
  },
  {
   "cell_type": "code",
   "execution_count": 148,
   "id": "d69bcfd0",
   "metadata": {},
   "outputs": [],
   "source": [
    "from pydantic import BaseModel, Field\n",
    "from typing import Literal\n",
    "\n",
    "class cancel_booking_assistant(BaseModel):\n",
    "    \"\"\"If user needs to cancel an appointment\"\"\"\n",
    "    reason: str = Field(description=\"Reason why the request should be routed\")\n",
    "\n",
    "class new_booking_assistant(BaseModel):\n",
    "    \"\"\"If user needs to book a new appointment with a doctor\"\"\"\n",
    "    reason: str = Field(description=\"Reason why the request should be routed\")"
   ]
  },
  {
   "cell_type": "code",
   "execution_count": 149,
   "id": "0f98b50c",
   "metadata": {},
   "outputs": [],
   "source": [
    "from typing import Literal\n",
    "from langchain_openai import ChatOpenAI\n",
    "from langgraph.graph import StateGraph, MessagesState, START, END\n",
    "from langgraph.types import Command\n",
    "\n",
    "llm_with_tools =llm.bind_tools([cancel_booking_assistant, new_booking_assistant])\n",
    "\n",
    "def primary_agent(state: MessagesState) -> Command[Literal[\"cancel_booking_assistant\", \"new_booking_assistant\"]]:\n",
    "    \n",
    "    response = llm_with_tools.invoke(state[\"messages\"])\n",
    "    \n",
    "    print(response)\n",
    "    \n",
    "    # if the router think to navigate to agent\n",
    "    if hasattr(response, \"tool_call\") or hasattr(response, \"tool_calls\"):\n",
    "        # get the tool name and route to relavant node\n",
    "        tool_call = response.tool_calls[0]\n",
    "        tool_name = tool_call[\"name\"]\n",
    "        \n",
    "        # route to relavant node\n",
    "        return Command(\n",
    "            # next node to be executed next\n",
    "            goto=tool_name,\n",
    "            # state update \n",
    "            update={\"messages\": []}\n",
    "        )\n",
    "    \n",
    "    return {\"messages\": []}\n"
   ]
  },
  {
   "cell_type": "code",
   "execution_count": 150,
   "id": "c229882a",
   "metadata": {},
   "outputs": [
    {
     "data": {
      "image/png": "[encoded data removed]",
      "text/plain": [
       "<IPython.core.display.Image object>"
      ]
     },
     "metadata": {},
     "output_type": "display_data"
    }
   ],
   "source": [
    "from langgraph.checkpoint.memory import MemorySaver\n",
    "memory = MemorySaver()\n",
    "# Create the graph\n",
    "graph_builder = StateGraph(MessagesState)\n",
    "graph_builder.add_node(\"primary_agent\", primary_agent)\n",
    "graph_builder.add_node(\"new_booking_assistant\", new_booking_assistant_node)\n",
    "graph_builder.add_node(\"cancel_booking_assistant\", cancel_booking_assistant_node)\n",
    "\n",
    "graph_builder.set_entry_point(\"primary_agent\")\n",
    "graph = graph_builder.compile(checkpointer=memory)\n",
    "\n",
    "from IPython.display import Image, display\n",
    "\n",
    "try:\n",
    "    display(Image(graph.get_graph().draw_mermaid_png()))\n",
    "except Exception:\n",
    "    # This requires some extra dependencies and is optional\n",
    "    pass"
   ]
  },
  {
   "cell_type": "code",
   "execution_count": 151,
   "id": "950c33af",
   "metadata": {},
   "outputs": [],
   "source": [
    "from langfuse import Langfuse\n",
    "import os\n",
    "\n",
    "langfuse = Langfuse(\n",
    "  secret_key=\"sk-lf-dc4b0843-f2de-4bd8-aea0-f852d023b234\",\n",
    "  public_key=\"pk-lf-95bfeee2-5ed3-4ea7-ae8e-a84c0e1d8277\",\n",
    "  host=\"https://cloud.langfuse.com\"\n",
    ")\n",
    "\n",
    "# get keys for your project from https://cloud.langfuse.com\n",
    "os.environ[\"LANGFUSE_PUBLIC_KEY\"] = \"pk-lf-95bfeee2-5ed3-4ea7-ae8e-a84c0e1d8277\"\n",
    "os.environ[\"LANGFUSE_SECRET_KEY\"] = \"sk-lf-dc4b0843-f2de-4bd8-aea0-f852d023b234\"\n",
    "\n",
    "from langfuse.callback import CallbackHandler\n",
    "\n",
    "# Initialize Langfuse CallbackHandler for Langchain (tracing)\n",
    "langfuse_handler = CallbackHandler()"
   ]
  },
  {
   "cell_type": "code",
   "execution_count": 152,
   "id": "f69b5636",
   "metadata": {},
   "outputs": [
    {
     "name": "stdout",
     "output_type": "stream",
     "text": [
      "================================\u001b[1m Human Message \u001b[0m=================================\n",
      "\n",
      "I want to cancel my appointment\n",
      "content='' additional_kwargs={'function_call': {'name': 'cancel_booking_assistant', 'arguments': '{\"reason\": \"User wants to cancel an appointment\"}'}} response_metadata={'prompt_feedback': {'block_reason': 0, 'safety_ratings': []}, 'finish_reason': 'STOP', 'model_name': 'models/gemini-2.5-flash-preview-05-20', 'safety_ratings': []} id='run--658efa99-2c33-4ba0-9678-4e62d1dcfa5e-0' tool_calls=[{'name': 'cancel_booking_assistant', 'args': {'reason': 'User wants to cancel an appointment'}, 'id': '4e01d121-760c-4ca9-a18b-db54af5ad31a', 'type': 'tool_call'}] usage_metadata={'input_tokens': 105, 'output_tokens': 22, 'total_tokens': 173, 'input_token_details': {'cache_read': 0}}\n",
      "================================\u001b[1m Human Message \u001b[0m=================================\n",
      "\n",
      "I want to cancel my appointment\n",
      "==================================\u001b[1m Ai Message \u001b[0m==================================\n",
      "Name: cancel_booking_assistant\n",
      "\n",
      "Do you have the appointment ID, patient ID, doctor name, or date of the appointment?\n"
     ]
    }
   ],
   "source": [
    "config = {\"configurable\": {\"thread_id\": \"1\"}, \"callbacks\": [langfuse_handler]}\n",
    "messages = [HumanMessage(content=\"I want to cancel my appointment\")]\n",
    "events = graph.stream({\"messages\": messages},\n",
    "                                      config,\n",
    "                                      stream_mode=\"values\",)\n",
    "for event in events:\n",
    "    event[\"messages\"][-1].pretty_print()"
   ]
  },
  {
   "cell_type": "code",
   "execution_count": 153,
   "id": "5fe9ffbf",
   "metadata": {},
   "outputs": [
    {
     "name": "stdout",
     "output_type": "stream",
     "text": [
      "================================\u001b[1m Human Message \u001b[0m=================================\n",
      "\n",
      "my appointment id is 2\n",
      "content='' additional_kwargs={'function_call': {'name': 'cancel_booking_assistant', 'arguments': '{\"reason\": \"User wants to cancel an appointment with ID 2.\"}'}} response_metadata={'prompt_feedback': {'block_reason': 0, 'safety_ratings': []}, 'finish_reason': 'STOP', 'model_name': 'models/gemini-2.5-flash-preview-05-20', 'safety_ratings': []} id='run--57758f67-0989-4771-afd1-a2df65a3381b-0' tool_calls=[{'name': 'cancel_booking_assistant', 'args': {'reason': 'User wants to cancel an appointment with ID 2.'}, 'id': '12919f4b-4634-4d96-89dd-43c22bb5f863', 'type': 'tool_call'}] usage_metadata={'input_tokens': 132, 'output_tokens': 26, 'total_tokens': 364, 'input_token_details': {'cache_read': 0}}\n",
      "================================\u001b[1m Human Message \u001b[0m=================================\n",
      "\n",
      "my appointment id is 2\n",
      "==================================\u001b[1m Ai Message \u001b[0m==================================\n",
      "Name: cancel_booking_assistant\n",
      "\n",
      "Your appointment has been canceled.\n"
     ]
    }
   ],
   "source": [
    "messages = [HumanMessage(content=\"my appointment id is 2\")]\n",
    "events = graph.stream({\"messages\": messages},\n",
    "                                      config,\n",
    "                                      stream_mode=\"values\",)\n",
    "for event in events:\n",
    "    event[\"messages\"][-1].pretty_print()"
   ]
  },
  {
   "cell_type": "markdown",
   "id": "141430a6",
   "metadata": {},
   "source": [
    "### 6. Add user state to route back to the relavant node when conversation start \n",
    "\n",
    "When again start with the primary router instead of using current agent.\n",
    "\n",
    "Make a state managment system navigate back to the current state of the agent."
   ]
  },
  {
   "cell_type": "code",
   "execution_count": 136,
   "id": "5c7c74cd",
   "metadata": {},
   "outputs": [],
   "source": [
    "from typing import Annotated, Literal, Optional\n",
    "from typing_extensions import TypedDict\n",
    "\n",
    "from langgraph.graph.message import AnyMessage, add_messages\n",
    "\n",
    "# this method is used to update the current state of the graph\n",
    "# this state is updated when the entry of the sub agent and when leave the skill state is updated\n",
    "def update_dialog_stack(left: list[str], right: Optional[str]) -> list[str]:\n",
    "    \"\"\"Push or pop the state.\"\"\"\n",
    "    if right is None:\n",
    "        return left\n",
    "    if right == \"pop\":\n",
    "        return left[:-1]\n",
    "    return left + [right]\n",
    "\n",
    "# state of the graph\n",
    "class State(TypedDict):\n",
    "    messages: Annotated[list[AnyMessage], add_messages]\n",
    "    dialog_state: Annotated[\n",
    "        list[\n",
    "            Literal[\n",
    "                \"primary_agent\",\n",
    "                \"new_booking_assistant\",\n",
    "                \"cancel_booking_assistant\",\n",
    "            ]\n",
    "        ],\n",
    "        update_dialog_stack,\n",
    "    ]"
   ]
  },
  {
   "cell_type": "code",
   "execution_count": 137,
   "id": "4c5e0696",
   "metadata": {},
   "outputs": [],
   "source": [
    "from typing import Annotated, Literal, Optional\n",
    "from langgraph.types import Command\n",
    "# condition to route again to current work flow from the start\n",
    "# this condition is checked at the user info node and route to correct node\n",
    "def route_to_workflow(\n",
    "    state: State,\n",
    ") -> Command[Literal[\n",
    "    \"primary_agent\",\n",
    "    \"new_booking_assistant\",\n",
    "    \"cancel_booking_assistant\",\n",
    "]]:\n",
    "    \"\"\"If we are in a delegated state, route directly to the appropriate assistant.\"\"\"\n",
    "    dialog_state = state.get(\"dialog_state\")\n",
    "    print(\"Current dialog State is : \",dialog_state)\n",
    "    if not dialog_state:\n",
    "        dialog_state = \"primary_agent\"\n",
    "    print(\"debug: \",dialog_state[-1])\n",
    "    dialog_state = dialog_state[-1]\n",
    "    return Command(\n",
    "        # state update\n",
    "        update={\"dialog_state\":None},\n",
    "        # control flow\n",
    "        goto=dialog_state\n",
    "    )"
   ]
  },
  {
   "cell_type": "code",
   "execution_count": 138,
   "id": "554e86bd",
   "metadata": {},
   "outputs": [],
   "source": [
    "# define primary node slightly different and add current state and update that state\n",
    "def primary_agent(state: State) -> Command[Literal[\"cancel_booking_assistant\", \"new_booking_assistant\"]]:\n",
    "    \n",
    "    response = llm_with_tools.invoke(state[\"messages\"])\n",
    "    \n",
    "    print(response)\n",
    "    \n",
    "    # if the router think to navigate to agent\n",
    "    if hasattr(response, \"tool_call\") or hasattr(response, \"tool_calls\"):\n",
    "        # get the tool name and route to relavant node\n",
    "        tool_call = response.tool_calls[0]\n",
    "        tool_name = tool_call[\"name\"]\n",
    "        \n",
    "        # route to relavant node\n",
    "        return Command(\n",
    "            # next node to be executed next\n",
    "            goto=tool_name,\n",
    "            # state update \n",
    "            update={\"messages\": [], \"dialog_state\":tool_name}\n",
    "        )\n",
    "    \n",
    "    return {\"messages\": [], \"dialog_state\":None}"
   ]
  },
  {
   "cell_type": "code",
   "execution_count": 139,
   "id": "da5134d7",
   "metadata": {},
   "outputs": [
    {
     "data": {
      "image/png": "[encoded data removed]",
      "text/plain": [
       "<IPython.core.display.Image object>"
      ]
     },
     "metadata": {},
     "output_type": "display_data"
    }
   ],
   "source": [
    "from langgraph.checkpoint.memory import MemorySaver\n",
    "memory = MemorySaver()\n",
    "# Create the graph\n",
    "graph_builder = StateGraph(State)\n",
    "graph_builder.add_node(\"route_state\", route_to_workflow)\n",
    "graph_builder.add_node(\"primary_agent\", primary_agent)\n",
    "graph_builder.add_node(\"new_booking_assistant\", new_booking_assistant_node)\n",
    "graph_builder.add_node(\"cancel_booking_assistant\", cancel_booking_assistant_node)\n",
    "\n",
    "graph_builder.set_entry_point(\"route_state\")\n",
    "graph_builder.add_edge(\"route_state\" ,\"primary_agent\")\n",
    "graph = graph_builder.compile(checkpointer=memory)\n",
    "\n",
    "from IPython.display import Image, display\n",
    "\n",
    "display(Image(graph.get_graph().draw_mermaid_png()))\n",
    "# This requires some extra dependencies and is optional\n",
    "    "
   ]
  },
  {
   "cell_type": "code",
   "execution_count": 140,
   "id": "4eb69a7f",
   "metadata": {},
   "outputs": [
    {
     "name": "stdout",
     "output_type": "stream",
     "text": [
      "================================\u001b[1m Human Message \u001b[0m=================================\n",
      "\n",
      "I want to cancel my appointment\n",
      "Current dialog State is :  []\n",
      "debug:  t\n",
      "================================\u001b[1m Human Message \u001b[0m=================================\n",
      "\n",
      "I want to cancel my appointment\n",
      "content='' additional_kwargs={'function_call': {'name': 'cancel_booking_assistant', 'arguments': '{\"reason\": \"User wants to cancel an appointment\"}'}} response_metadata={'prompt_feedback': {'block_reason': 0, 'safety_ratings': []}, 'finish_reason': 'STOP', 'model_name': 'models/gemini-2.5-flash-preview-05-20', 'safety_ratings': []} id='run--195943a2-0ec8-43c2-99ac-c10637d94aec-0' tool_calls=[{'name': 'cancel_booking_assistant', 'args': {'reason': 'User wants to cancel an appointment'}, 'id': '127d45e7-17ec-4c87-9f96-c7455b4d8f4e', 'type': 'tool_call'}] usage_metadata={'input_tokens': 105, 'output_tokens': 22, 'total_tokens': 173, 'input_token_details': {'cache_read': 0}}\n",
      "================================\u001b[1m Human Message \u001b[0m=================================\n",
      "\n",
      "I want to cancel my appointment\n",
      "==================================\u001b[1m Ai Message \u001b[0m==================================\n",
      "Name: cancel_booking_assistant\n",
      "\n",
      "Do you have the appointment ID, patient ID, doctor name, or date of the appointment?\n"
     ]
    }
   ],
   "source": [
    "config = {\"configurable\": {\"thread_id\": \"1\"}, \"callbacks\": [langfuse_handler]}\n",
    "messages = [HumanMessage(content=\"I want to cancel my appointment\")]\n",
    "events = graph.stream({\"messages\": messages},\n",
    "                                      config,\n",
    "                                      stream_mode=\"values\",)\n",
    "for event in events:\n",
    "    event[\"messages\"][-1].pretty_print()"
   ]
  },
  {
   "cell_type": "code",
   "execution_count": 154,
   "id": "bde8de4b",
   "metadata": {},
   "outputs": [
    {
     "name": "stdout",
     "output_type": "stream",
     "text": [
      "================================\u001b[1m Human Message \u001b[0m=================================\n",
      "\n",
      "i want to book an new appointment\n",
      "content='' additional_kwargs={'function_call': {'name': 'new_booking_assistant', 'arguments': '{\"reason\": \"User wants to book a new appointment\"}'}} response_metadata={'prompt_feedback': {'block_reason': 0, 'safety_ratings': []}, 'finish_reason': 'STOP', 'model_name': 'models/gemini-2.5-flash-preview-05-20', 'safety_ratings': []} id='run--0abedb03-b974-4c87-8e70-839c409f7682-0' tool_calls=[{'name': 'new_booking_assistant', 'args': {'reason': 'User wants to book a new appointment'}, 'id': '0b522e2e-e2a3-411d-8a22-83715a8eaf3e', 'type': 'tool_call'}] usage_metadata={'input_tokens': 210, 'output_tokens': 23, 'total_tokens': 281, 'input_token_details': {'cache_read': 0}}\n",
      "================================\u001b[1m Human Message \u001b[0m=================================\n",
      "\n",
      "i want to book an new appointment\n",
      "==================================\u001b[1m Ai Message \u001b[0m==================================\n",
      "Name: new_booking_assistant\n",
      "\n",
      "Sure, I can help you with that. What specialization are you looking for, and in what location?\n"
     ]
    }
   ],
   "source": [
    "config = {\"configurable\": {\"thread_id\": \"1\"}, \"callbacks\": [langfuse_handler]}\n",
    "messages = [HumanMessage(content=\"i want to book an new appointment\")]\n",
    "events = graph.stream({\"messages\": messages},\n",
    "                                      config,\n",
    "                                      stream_mode=\"values\",)\n",
    "for event in events:\n",
    "    event[\"messages\"][-1].pretty_print()"
   ]
  },
  {
   "cell_type": "code",
   "execution_count": 155,
   "id": "9ae63ccd",
   "metadata": {},
   "outputs": [
    {
     "name": "stdout",
     "output_type": "stream",
     "text": [
      "================================\u001b[1m Human Message \u001b[0m=================================\n",
      "\n",
      "i want with dr.Janith\n",
      "content='' additional_kwargs={'function_call': {'name': 'new_booking_assistant', 'arguments': '{\"reason\": \"User wants to book a new appointment with Dr. Janith.\"}'}} response_metadata={'prompt_feedback': {'block_reason': 0, 'safety_ratings': []}, 'finish_reason': 'STOP', 'model_name': 'models/gemini-2.5-flash-preview-05-20', 'safety_ratings': []} id='run--887c02ad-6d63-40fd-bb20-cf68ba42cd27-0' tool_calls=[{'name': 'new_booking_assistant', 'args': {'reason': 'User wants to book a new appointment with Dr. Janith.'}, 'id': '0f6b4545-b561-4601-adf4-617e5f4535c9', 'type': 'tool_call'}] usage_metadata={'input_tokens': 240, 'output_tokens': 28, 'total_tokens': 337, 'input_token_details': {'cache_read': 0}}\n",
      "================================\u001b[1m Human Message \u001b[0m=================================\n",
      "\n",
      "i want with dr.Janith\n",
      "==================================\u001b[1m Ai Message \u001b[0m==================================\n",
      "Name: new_booking_assistant\n",
      "\n",
      "Ok, what date and time would you like to book the appointment with Dr. Janith?\n"
     ]
    }
   ],
   "source": [
    "config = {\"configurable\": {\"thread_id\": \"1\"}, \"callbacks\": [langfuse_handler]}\n",
    "messages = [HumanMessage(content=\"i want with dr.Janith\")]\n",
    "events = graph.stream({\"messages\": messages},\n",
    "                                      config,\n",
    "                                      stream_mode=\"values\",)\n",
    "for event in events:\n",
    "    event[\"messages\"][-1].pretty_print()"
   ]
  },
  {
   "cell_type": "code",
   "execution_count": 156,
   "id": "964f573e",
   "metadata": {},
   "outputs": [
    {
     "name": "stdout",
     "output_type": "stream",
     "text": [
      "================================\u001b[1m Human Message \u001b[0m=================================\n",
      "\n",
      "i want 24th july 2025\n",
      "content='' additional_kwargs={'function_call': {'name': 'new_booking_assistant', 'arguments': '{\"reason\": \"User wants to book a new appointment with Dr. Janith on 24th July 2025.\"}'}} response_metadata={'prompt_feedback': {'block_reason': 0, 'safety_ratings': []}, 'finish_reason': 'STOP', 'model_name': 'models/gemini-2.5-flash-preview-05-20', 'safety_ratings': []} id='run--1b2d2315-4c5a-4439-9188-d28f46fc8652-0' tool_calls=[{'name': 'new_booking_assistant', 'args': {'reason': 'User wants to book a new appointment with Dr. Janith on 24th July 2025.'}, 'id': '74130cd3-7445-4791-9b1e-8a0dc3ebba38', 'type': 'tool_call'}] usage_metadata={'input_tokens': 273, 'output_tokens': 39, 'total_tokens': 389, 'input_token_details': {'cache_read': 0}}\n",
      "================================\u001b[1m Human Message \u001b[0m=================================\n",
      "\n",
      "i want 24th july 2025\n",
      "==================================\u001b[1m Ai Message \u001b[0m==================================\n",
      "Name: new_booking_assistant\n",
      "\n",
      "What time on July 24th, 2025 would you like to book the appointment with Dr. Janith?\n"
     ]
    }
   ],
   "source": [
    "config = {\"configurable\": {\"thread_id\": \"1\"}, \"callbacks\": [langfuse_handler]}\n",
    "messages = [HumanMessage(content=\"i want 24th july 2025\")]\n",
    "events = graph.stream({\"messages\": messages},\n",
    "                                      config,\n",
    "                                      stream_mode=\"values\",)\n",
    "for event in events:\n",
    "    event[\"messages\"][-1].pretty_print()"
   ]
  },
  {
   "cell_type": "code",
   "execution_count": 157,
   "id": "b4bfeb05",
   "metadata": {},
   "outputs": [
    {
     "name": "stdout",
     "output_type": "stream",
     "text": [
      "================================\u001b[1m Human Message \u001b[0m=================================\n",
      "\n",
      "at 2pm\n",
      "content='' additional_kwargs={'function_call': {'name': 'new_booking_assistant', 'arguments': '{\"reason\": \"User wants to book a new appointment with Dr. Janith on July 24th, 2025, at 2 PM.\"}'}} response_metadata={'prompt_feedback': {'block_reason': 0, 'safety_ratings': []}, 'finish_reason': 'STOP', 'model_name': 'models/gemini-2.5-flash-preview-05-20', 'safety_ratings': []} id='run--f5f6c998-0b1a-4439-bac9-a9e325ec4c4d-0' tool_calls=[{'name': 'new_booking_assistant', 'args': {'reason': 'User wants to book a new appointment with Dr. Janith on July 24th, 2025, at 2 PM.'}, 'id': 'd58b0199-d739-476b-a944-de1cd05c4039', 'type': 'tool_call'}] usage_metadata={'input_tokens': 306, 'output_tokens': 45, 'total_tokens': 416, 'input_token_details': {'cache_read': 0}}\n",
      "================================\u001b[1m Human Message \u001b[0m=================================\n",
      "\n",
      "at 2pm\n",
      "==================================\u001b[1m Ai Message \u001b[0m==================================\n",
      "Name: new_booking_assistant\n",
      "\n",
      "Your appointment with Dr. Janith on 24th July 2025 at 2 PM is booked.\n"
     ]
    }
   ],
   "source": [
    "config = {\"configurable\": {\"thread_id\": \"1\"}, \"callbacks\": [langfuse_handler]}\n",
    "messages = [HumanMessage(content=\"at 2pm\")]\n",
    "events = graph.stream({\"messages\": messages},\n",
    "                                      config,\n",
    "                                      stream_mode=\"values\",)\n",
    "for event in events:\n",
    "    event[\"messages\"][-1].pretty_print()"
   ]
  },
  {
   "cell_type": "code",
   "execution_count": 160,
   "id": "11d97bcf",
   "metadata": {},
   "outputs": [
    {
     "name": "stdout",
     "output_type": "stream",
     "text": [
      "================================\u001b[1m Human Message \u001b[0m=================================\n",
      "\n",
      "I want to cancel my appointment, appointment id is 5\n",
      "content='' additional_kwargs={'function_call': {'name': 'cancel_booking_assistant', 'arguments': '{\"reason\": \"User wants to cancel the appointment\"}'}} response_metadata={'prompt_feedback': {'block_reason': 0, 'safety_ratings': []}, 'finish_reason': 'STOP', 'model_name': 'models/gemini-2.5-flash-preview-05-20', 'safety_ratings': []} id='run--18e52201-0039-44a2-9b03-40594e3685f6-0' tool_calls=[{'name': 'cancel_booking_assistant', 'args': {'reason': 'User wants to cancel the appointment'}, 'id': 'fe32292b-4703-4d84-bb19-8fc7aac04b42', 'type': 'tool_call'}] usage_metadata={'input_tokens': 111, 'output_tokens': 22, 'total_tokens': 219, 'input_token_details': {'cache_read': 0}}\n",
      "================================\u001b[1m Human Message \u001b[0m=================================\n",
      "\n",
      "I want to cancel my appointment, appointment id is 5\n",
      "==================================\u001b[1m Ai Message \u001b[0m==================================\n",
      "Name: cancel_booking_assistant\n",
      "\n",
      "I have cancelled your appointment.\n"
     ]
    }
   ],
   "source": [
    "config = {\"configurable\": {\"thread_id\": \"2\"}, \"callbacks\": [langfuse_handler]}\n",
    "messages = [HumanMessage(content=\"I want to cancel my appointment, appointment id is 5\")]\n",
    "events = graph.stream({\"messages\": messages},\n",
    "                                      config,\n",
    "                                      stream_mode=\"values\",)\n",
    "for event in events:\n",
    "    event[\"messages\"][-1].pretty_print()"
   ]
  }
 ],
 "metadata": {
  "kernelspec": {
   "display_name": "torchenv",
   "language": "python",
   "name": "python3"
  },
  "language_info": {
   "codemirror_mode": {
    "name": "ipython",
    "version": 3
   },
   "file_extension": ".py",
   "mimetype": "text/x-python",
   "name": "python",
   "nbconvert_exporter": "python",
   "pygments_lexer": "ipython3",
   "version": "3.12.3"
  }
 },
 "nbformat": 4,
 "nbformat_minor": 5
}
