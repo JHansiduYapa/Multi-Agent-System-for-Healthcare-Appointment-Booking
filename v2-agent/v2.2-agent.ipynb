{
 "cells": [
  {
   "cell_type": "markdown",
   "id": "f6ef0f86",
   "metadata": {},
   "source": [
    "### 1. Create Supervisor Agent\n",
    "\n",
    "- create react prebuilt and make the supervisor agent and worker agents using langgraph react prebuilt.\n",
    "\n",
    "- \"Command\" It can be useful to combine control flow (edges) and state updates (nodes). For example, you might want to BOTH perform state updates AND decide which node to go to next in the SAME node. "
   ]
  },
  {
   "cell_type": "code",
   "execution_count": 114,
   "id": "76f95cba",
   "metadata": {},
   "outputs": [],
   "source": [
    "# connect with gemini api\n",
    "import getpass\n",
    "import os\n",
    "\n",
    "if \"GOOGLE_API_KEY\" not in os.environ:\n",
    "    os.environ[\"GOOGLE_API_KEY\"] = getpass.getpass(\"Enter your Google AI API key: \")"
   ]
  },
  {
   "cell_type": "code",
   "execution_count": 115,
   "id": "d9ea1e82",
   "metadata": {},
   "outputs": [],
   "source": [
    "# initialize llm chat model\n",
    "from langchain_google_genai import ChatGoogleGenerativeAI\n",
    "from google.genai.types import GenerateContentConfig\n",
    "\n",
    "\n",
    "system_instruction = \"\"\"\n",
    "                        You are a phone-agent assistant.  \n",
    "                        \n",
    "                        Keep all messages very short—just a single question or one answer.  \n",
    "                        \n",
    "                        Act as if you’re on a live call: no long explanations or chit-chat.  \n",
    "                        \n",
    "                        Always reference prior chat context and stay aligned with the conversation.  \n",
    "                        \n",
    "                    \"\"\"\n",
    "\n",
    "llm = ChatGoogleGenerativeAI(\n",
    "    model=\"gemini-2.5-flash-preview-05-20\",\n",
    "    temperature=0,\n",
    "    max_tokens=None,\n",
    "    timeout=None,\n",
    "    max_retries=2,\n",
    "    config=GenerateContentConfig(\n",
    "        system_instruction=system_instruction,\n",
    "    ),\n",
    "    # other params...\n",
    ")"
   ]
  },
  {
   "cell_type": "markdown",
   "id": "752682ea",
   "metadata": {},
   "source": [
    "### 2. Create tools for doctor appointment booking | rescheduling | cancel"
   ]
  },
  {
   "cell_type": "code",
   "execution_count": 116,
   "id": "36b8d23d",
   "metadata": {},
   "outputs": [],
   "source": [
    "# Doctor appointment tools\n",
    "def book_appointment(doctor_name: str, date: str, time: str):\n",
    "    \"\"\"Book a new doctor appointment\"\"\"\n",
    "    return f\"Appointment booked with Dr. {doctor_name} on {date} at {time}.\"\n",
    "\n",
    "def reschedule_appointment(appointment_id: str, new_date: str, new_time: str):\n",
    "    \"\"\"Reschedule an existing doctor appointment\"\"\"\n",
    "    return f\"Appointment {appointment_id} rescheduled to {new_date} at {new_time}.\"\n",
    "\n",
    "def cancel_appointment(appointment_id: str):\n",
    "    \"\"\"Cancel an existing doctor appointment\"\"\"\n",
    "    return f\"Appointment {appointment_id} has been cancelled.\"\n",
    "\n",
    "def search_doctor(specialization: str = \"\", location: str = \"\"):\n",
    "    \"\"\"Search for doctors by specialization and/or location\"\"\"\n",
    "    return f\"Found doctors matching specialization='{specialization}' and location='{location}'.\"\n",
    "\n",
    "def search_appointment(patient_id: str = \"\", doctor_name: str = \"\", date: str = \"\"):\n",
    "    \"\"\"Search for existing appointments by patient, doctor, or date\"\"\"\n",
    "    return f\"Found appointments for patient_id='{patient_id}', doctor='{doctor_name}', date='{date}'.\"\n"
   ]
  },
  {
   "cell_type": "markdown",
   "id": "b0afafa4",
   "metadata": {},
   "source": [
    "### 3. Agent for new appointment booking use prebuilt"
   ]
  },
  {
   "cell_type": "code",
   "execution_count": 118,
   "id": "777597f1",
   "metadata": {},
   "outputs": [
    {
     "data": {
      "image/png": "[encoded data removed]",
      "text/plain": [
       "<IPython.core.display.Image object>"
      ]
     },
     "metadata": {},
     "output_type": "display_data"
    }
   ],
   "source": [
    "# \n",
    "from IPython.display import Image, display\n",
    "from langgraph.prebuilt import create_react_agent, InjectedState\n",
    "\n",
    "tools = [search_doctor, book_appointment]\n",
    "new_booking_assistant_node = create_react_agent(\n",
    "    model=llm,\n",
    "    tools=tools,\n",
    "    prompt=\"You are a new appointment booking assistant.before booking an appointment,You should first search for a doctor. If doctor is confirmed. Then you can book an appointment.\",\n",
    "    name=\"new_booking_assistant\"\n",
    ")\n",
    "\n",
    "# Show the agent\n",
    "display(Image(new_booking_assistant_node.get_graph().draw_mermaid_png()))"
   ]
  },
  {
   "cell_type": "code",
   "execution_count": 119,
   "id": "d61f2ba7",
   "metadata": {},
   "outputs": [
    {
     "name": "stdout",
     "output_type": "stream",
     "text": [
      "================================\u001b[1m Human Message \u001b[0m=================================\n",
      "\n",
      "I want to book with dr.Alice. at 2pm 16 july\n",
      "==================================\u001b[1m Ai Message \u001b[0m==================================\n",
      "Name: new_booking_assistant\n",
      "\n",
      "I can help you book an appointment with Dr. Alice. But first, I need to know her specialization or the city she practices in to confirm her details.\n"
     ]
    }
   ],
   "source": [
    "from typing_extensions import Literal\n",
    "from langchain_core.messages import HumanMessage, SystemMessage\n",
    "\n",
    "config = {\"configurable\": {\"thread_id\": \"1\"}}\n",
    "messages = [HumanMessage(content=\"I want to book with dr.Alice. at 2pm 16 july\")]\n",
    "events = new_booking_assistant_node.stream({\"messages\": messages},\n",
    "                                      config,\n",
    "                                      stream_mode=\"values\",)\n",
    "for event in events:\n",
    "    event[\"messages\"][-1].pretty_print()"
   ]
  },
  {
   "cell_type": "markdown",
   "id": "d4e8605b",
   "metadata": {},
   "source": [
    "### 4. Agent for cancel appointment booking use prebuilt"
   ]
  },
  {
   "cell_type": "code",
   "execution_count": 120,
   "id": "6c592a2e",
   "metadata": {},
   "outputs": [
    {
     "data": {
      "image/png": "[encoded data removed]",
      "text/plain": [
       "<IPython.core.display.Image object>"
      ]
     },
     "metadata": {},
     "output_type": "display_data"
    }
   ],
   "source": [
    "# make a sub agent that specialized for cancel an appointment\n",
    "from IPython.display import Image, display\n",
    "from langgraph.prebuilt import create_react_agent, InjectedState\n",
    "\n",
    "tools = [search_appointment, cancel_appointment]\n",
    "cancel_booking_assistant_node = create_react_agent(\n",
    "    model=llm,\n",
    "    tools=tools,\n",
    "    prompt=\"You are a cancel appointment booking assistant.before cancel an appointment, You should search for an appointment. Then you should \",\n",
    "    name=\"cancel_booking_assistant\"\n",
    ")\n",
    "\n",
    "# Show the agent\n",
    "display(Image(cancel_booking_assistant_node.get_graph().draw_mermaid_png()))"
   ]
  },
  {
   "cell_type": "code",
   "execution_count": 122,
   "id": "612d6cc3",
   "metadata": {},
   "outputs": [
    {
     "name": "stdout",
     "output_type": "stream",
     "text": [
      "================================\u001b[1m Human Message \u001b[0m=================================\n",
      "\n",
      "I want to cancel my appointment\n",
      "==================================\u001b[1m Ai Message \u001b[0m==================================\n",
      "Name: cancel_booking_assistant\n",
      "\n",
      "Do you have an appointment ID? If not, I can help you find your appointment first. I'll need your patient ID, the doctor's name, or the date of the appointment.\n"
     ]
    }
   ],
   "source": [
    "# simple router with structured output\n",
    "from typing_extensions import Literal\n",
    "from langchain_core.messages import HumanMessage, SystemMessage, AIMessage\n",
    "\n",
    "config = {\"configurable\": {\"thread_id\": \"1\"}}\n",
    "messages = [HumanMessage(content=\"I want to cancel my appointment\")]\n",
    "events = cancel_booking_assistant_node.stream({\"messages\": messages},\n",
    "                                      config,\n",
    "                                      stream_mode=\"values\",)\n",
    "for event in events:\n",
    "    event[\"messages\"][-1].pretty_print()"
   ]
  },
  {
   "cell_type": "code",
   "execution_count": 123,
   "id": "165225f6",
   "metadata": {},
   "outputs": [
    {
     "name": "stdout",
     "output_type": "stream",
     "text": [
      "================================\u001b[1m Human Message \u001b[0m=================================\n",
      "\n",
      "yea my appointment id is 2\n",
      "==================================\u001b[1m Ai Message \u001b[0m==================================\n",
      "Name: cancel_booking_assistant\n",
      "Tool Calls:\n",
      "  cancel_appointment (9131449d-dfd8-462e-9d3e-724d47542beb)\n",
      " Call ID: 9131449d-dfd8-462e-9d3e-724d47542beb\n",
      "  Args:\n",
      "    appointment_id: 2\n",
      "=================================\u001b[1m Tool Message \u001b[0m=================================\n",
      "Name: cancel_appointment\n",
      "\n",
      "Appointment 2 has been cancelled.\n",
      "==================================\u001b[1m Ai Message \u001b[0m==================================\n",
      "Name: cancel_booking_assistant\n",
      "\n",
      "Your appointment with id 2 has been cancelled.\n"
     ]
    }
   ],
   "source": [
    "messages = [HumanMessage(content=\"yea my appointment id is 2\")]\n",
    "events = cancel_booking_assistant_node.stream({\"messages\": messages},\n",
    "                                      config,\n",
    "                                      stream_mode=\"values\",)\n",
    "for event in events:\n",
    "    event[\"messages\"][-1].pretty_print()"
   ]
  },
  {
   "cell_type": "markdown",
   "id": "7bf11df9",
   "metadata": {},
   "source": [
    "### 5. make a supervisor Tools are used to routing\n",
    "\n",
    "Router tool for speific agent handover."
   ]
  },
  {
   "cell_type": "code",
   "execution_count": 124,
   "id": "d69bcfd0",
   "metadata": {},
   "outputs": [],
   "source": [
    "from pydantic import BaseModel, Field\n",
    "from typing import Literal\n",
    "\n",
    "class cancel_booking_assistant(BaseModel):\n",
    "    \"\"\"If user needs to cancel an appointment\"\"\"\n",
    "    reason: str = Field(description=\"Reason why the request should be routed\")\n",
    "\n",
    "class new_booking_assistant(BaseModel):\n",
    "    \"\"\"If user needs to book a new appointment with a doctor\"\"\"\n",
    "    reason: str = Field(description=\"Reason why the request should be routed\")"
   ]
  },
  {
   "cell_type": "code",
   "execution_count": 125,
   "id": "0f98b50c",
   "metadata": {},
   "outputs": [],
   "source": [
    "from typing import Literal\n",
    "from langchain_openai import ChatOpenAI\n",
    "from langgraph.graph import StateGraph, MessagesState, START, END\n",
    "from langgraph.types import Command\n",
    "\n",
    "llm_with_tools =llm.bind_tools([cancel_booking_assistant, new_booking_assistant])\n",
    "\n",
    "def primary_agent(state: MessagesState) -> Command[Literal[\"cancel_booking_assistant\", \"new_booking_assistant\"]]:\n",
    "    \n",
    "    response = llm_with_tools.invoke(state[\"messages\"])\n",
    "    \n",
    "    print(response)\n",
    "    \n",
    "    # if the router think to navigate to agent\n",
    "    if hasattr(response, \"tool_call\") or hasattr(response, \"tool_calls\"):\n",
    "        # get the tool name and route to relavant node\n",
    "        tool_call = response.tool_calls[0]\n",
    "        tool_name = tool_call[\"name\"]\n",
    "        \n",
    "        # route to relavant node\n",
    "        return Command(\n",
    "            # next node to be executed next\n",
    "            goto=tool_name,\n",
    "            # state update \n",
    "            update={\"messages\": []}\n",
    "        )\n",
    "    \n",
    "    return {\"messages\": []}\n"
   ]
  },
  {
   "cell_type": "code",
   "execution_count": 129,
   "id": "c229882a",
   "metadata": {},
   "outputs": [
    {
     "data": {
      "image/png": "[encoded data removed]",
      "text/plain": [
       "<IPython.core.display.Image object>"
      ]
     },
     "metadata": {},
     "output_type": "display_data"
    }
   ],
   "source": [
    "from langgraph.checkpoint.memory import MemorySaver\n",
    "memory = MemorySaver()\n",
    "# Create the graph\n",
    "graph_builder = StateGraph(MessagesState)\n",
    "graph_builder.add_node(\"primary_agent\", primary_agent)\n",
    "graph_builder.add_node(\"new_booking_assistant\", new_booking_assistant_node)\n",
    "graph_builder.add_node(\"cancel_booking_assistant\", cancel_booking_assistant_node)\n",
    "\n",
    "graph_builder.set_entry_point(\"primary_agent\")\n",
    "graph = graph_builder.compile(checkpointer=memory)\n",
    "\n",
    "from IPython.display import Image, display\n",
    "\n",
    "try:\n",
    "    display(Image(graph.get_graph().draw_mermaid_png()))\n",
    "except Exception:\n",
    "    # This requires some extra dependencies and is optional\n",
    "    pass"
   ]
  },
  {
   "cell_type": "code",
   "execution_count": 130,
   "id": "950c33af",
   "metadata": {},
   "outputs": [],
   "source": [
    "from langfuse import Langfuse\n",
    "import os\n",
    "\n",
    "langfuse = Langfuse(\n",
    "  secret_key=\"sk-lf-dc4b0843-f2de-4bd8-aea0-f852d023b234\",\n",
    "  public_key=\"pk-lf-95bfeee2-5ed3-4ea7-ae8e-a84c0e1d8277\",\n",
    "  host=\"https://cloud.langfuse.com\"\n",
    ")\n",
    "\n",
    "# get keys for your project from https://cloud.langfuse.com\n",
    "os.environ[\"LANGFUSE_PUBLIC_KEY\"] = \"pk-lf-95bfeee2-5ed3-4ea7-ae8e-a84c0e1d8277\"\n",
    "os.environ[\"LANGFUSE_SECRET_KEY\"] = \"sk-lf-dc4b0843-f2de-4bd8-aea0-f852d023b234\"\n",
    "\n",
    "from langfuse.callback import CallbackHandler\n",
    "\n",
    "# Initialize Langfuse CallbackHandler for Langchain (tracing)\n",
    "langfuse_handler = CallbackHandler()"
   ]
  },
  {
   "cell_type": "code",
   "execution_count": 131,
   "id": "f69b5636",
   "metadata": {},
   "outputs": [
    {
     "name": "stdout",
     "output_type": "stream",
     "text": [
      "================================\u001b[1m Human Message \u001b[0m=================================\n",
      "\n",
      "I want to cancel my appointment\n",
      "content='' additional_kwargs={'function_call': {'name': 'cancel_booking_assistant', 'arguments': '{\"reason\": \"User wants to cancel an appointment\"}'}} response_metadata={'prompt_feedback': {'block_reason': 0, 'safety_ratings': []}, 'finish_reason': 'STOP', 'model_name': 'models/gemini-2.5-flash-preview-05-20', 'safety_ratings': []} id='run--a7b64de4-ac01-455a-8e51-01a816c6943b-0' tool_calls=[{'name': 'cancel_booking_assistant', 'args': {'reason': 'User wants to cancel an appointment'}, 'id': 'e5a30fe9-8a55-469c-b486-e3287469d6ef', 'type': 'tool_call'}] usage_metadata={'input_tokens': 105, 'output_tokens': 22, 'total_tokens': 173, 'input_token_details': {'cache_read': 0}}\n",
      "================================\u001b[1m Human Message \u001b[0m=================================\n",
      "\n",
      "I want to cancel my appointment\n",
      "==================================\u001b[1m Ai Message \u001b[0m==================================\n",
      "Name: cancel_booking_assistant\n",
      "\n",
      "Do you have an appointment ID? If not, I can help you find your appointment first. I'll need your patient ID, the doctor's name, or the date of the appointment.\n"
     ]
    }
   ],
   "source": [
    "config = {\"configurable\": {\"thread_id\": \"1\"}, \"callbacks\": [langfuse_handler]}\n",
    "messages = [HumanMessage(content=\"I want to cancel my appointment\")]\n",
    "events = graph.stream({\"messages\": messages},\n",
    "                                      config,\n",
    "                                      stream_mode=\"values\",)\n",
    "for event in events:\n",
    "    event[\"messages\"][-1].pretty_print()"
   ]
  },
  {
   "cell_type": "code",
   "execution_count": 132,
   "id": "5fe9ffbf",
   "metadata": {},
   "outputs": [
    {
     "name": "stdout",
     "output_type": "stream",
     "text": [
      "================================\u001b[1m Human Message \u001b[0m=================================\n",
      "\n",
      "my appointment id is 2\n",
      "content='' additional_kwargs={'function_call': {'name': 'cancel_booking_assistant', 'arguments': '{\"reason\": \"User wants to cancel an appointment with id 2\"}'}} response_metadata={'prompt_feedback': {'block_reason': 0, 'safety_ratings': []}, 'finish_reason': 'STOP', 'model_name': 'models/gemini-2.5-flash-preview-05-20', 'safety_ratings': []} id='run--7dca7e2d-be47-4302-a15f-72bdcf3dbf0e-0' tool_calls=[{'name': 'cancel_booking_assistant', 'args': {'reason': 'User wants to cancel an appointment with id 2'}, 'id': 'e34acb70-5b91-4cbc-a91a-e2c30b1dc2e2', 'type': 'tool_call'}] usage_metadata={'input_tokens': 153, 'output_tokens': 26, 'total_tokens': 250, 'input_token_details': {'cache_read': 0}}\n",
      "================================\u001b[1m Human Message \u001b[0m=================================\n",
      "\n",
      "my appointment id is 2\n",
      "==================================\u001b[1m Ai Message \u001b[0m==================================\n",
      "Name: cancel_booking_assistant\n",
      "\n",
      "Your appointment with ID 2 has been cancelled.\n"
     ]
    }
   ],
   "source": [
    "messages = [HumanMessage(content=\"my appointment id is 2\")]\n",
    "events = graph.stream({\"messages\": messages},\n",
    "                                      config,\n",
    "                                      stream_mode=\"values\",)\n",
    "for event in events:\n",
    "    event[\"messages\"][-1].pretty_print()"
   ]
  },
  {
   "cell_type": "markdown",
   "id": "141430a6",
   "metadata": {},
   "source": [
    "### 6. Add user state to "
   ]
  },
  {
   "cell_type": "code",
   "execution_count": null,
   "id": "5c7c74cd",
   "metadata": {},
   "outputs": [],
   "source": []
  }
 ],
 "metadata": {
  "kernelspec": {
   "display_name": "torchenv",
   "language": "python",
   "name": "python3"
  },
  "language_info": {
   "codemirror_mode": {
    "name": "ipython",
    "version": 3
   },
   "file_extension": ".py",
   "mimetype": "text/x-python",
   "name": "python",
   "nbconvert_exporter": "python",
   "pygments_lexer": "ipython3",
   "version": "3.12.3"
  }
 },
 "nbformat": 4,
 "nbformat_minor": 5
}
