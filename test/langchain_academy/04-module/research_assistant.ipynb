{
 "cells": [
  {
   "cell_type": "markdown",
   "id": "5a0bc471",
   "metadata": {},
   "source": [
    "## Research Assistant\n",
    "\n",
    "### Goal\n",
    "Our goal is to build a lightweight, multi-agent system around chat models that customizes the research process.\n",
    "\n",
    "Source Selection\n",
    "\n",
    "- Users can choose any set of input sources for their research.\n",
    "\n",
    "Planning\n",
    "\n",
    "- Users provide a topic, and the system generates a team of AI analysts, each focusing on one sub-topic.\n",
    "- Human-in-the-loop will be used to refine these sub-topics before research begins.\n",
    "\n",
    "LLM Utilization\n",
    "\n",
    "- Each analyst will conduct in-depth interviews with an expert AI using the selected sources.\n",
    "- The interview will be a multi-turn conversation to extract detailed insights as shown in the STORM paper.\n",
    "- These interviews will be captured in a using sub-graphs with their internal state.\n",
    "\n",
    "Research Process\n",
    "\n",
    "- Experts will gather information to answer analyst questions in parallel.\n",
    "- And all interviews will be conducted simultaneously through map-reduce.\n",
    "\n",
    "Output Format\n",
    "\n",
    "- The gathered insights from each interview will be synthesized into a final report.\n",
    "- We'll use customizable prompts for the report, allowing for a flexible output format."
   ]
  },
  {
   "cell_type": "markdown",
   "id": "250c03f8",
   "metadata": {},
   "source": [
    "### 1. Setup the environment"
   ]
  },
  {
   "cell_type": "code",
   "execution_count": 7,
   "id": "4a75234b",
   "metadata": {},
   "outputs": [],
   "source": [
    "# connect with gemini api\n",
    "import getpass\n",
    "import os\n",
    "\n",
    "if \"GOOGLE_API_KEY\" not in os.environ:\n",
    "    os.environ[\"GOOGLE_API_KEY\"] = getpass.getpass(\"Enter your Google AI API key: \")"
   ]
  },
  {
   "cell_type": "code",
   "execution_count": 8,
   "id": "a080ec76",
   "metadata": {},
   "outputs": [],
   "source": [
    "# initialize llm chat model\n",
    "from langchain_google_genai import ChatGoogleGenerativeAI\n",
    "\n",
    "llm = ChatGoogleGenerativeAI(\n",
    "    model=\"gemini-2.0-flash-001\",\n",
    "    temperature=0,\n",
    "    max_tokens=None,\n",
    "    timeout=None,\n",
    "    max_retries=2,\n",
    "    # other params...\n",
    ")"
   ]
  },
  {
   "cell_type": "code",
   "execution_count": 9,
   "id": "fd6650ca",
   "metadata": {},
   "outputs": [],
   "source": [
    "import os, getpass\n",
    "\n",
    "def _set_env(var: str):\n",
    "    if not os.environ.get(var):\n",
    "        os.environ[var] = getpass.getpass(f\"{var}: \")"
   ]
  },
  {
   "cell_type": "code",
   "execution_count": 10,
   "id": "91f93d69",
   "metadata": {},
   "outputs": [
    {
     "data": {
      "text/plain": [
       "AIMessage(content=\"As a large language model, I don't have a name. You can just call me Bard.\", additional_kwargs={}, response_metadata={'prompt_feedback': {'block_reason': 0, 'safety_ratings': []}, 'finish_reason': 'STOP', 'model_name': 'gemini-2.0-flash-001', 'safety_ratings': []}, id='run--42c3dc2c-cb1f-441a-8b22-6ec69bb316da-0', usage_metadata={'input_tokens': 3, 'output_tokens': 22, 'total_tokens': 25, 'input_token_details': {'cache_read': 0}})"
      ]
     },
     "execution_count": 10,
     "metadata": {},
     "output_type": "execute_result"
    }
   ],
   "source": [
    "from langfuse.callback import CallbackHandler\n",
    "\n",
    "# make a simple trace to the langfuse\n",
    "langfuse_handler = CallbackHandler(\n",
    "    secret_key=\"sk-lf-b810fab9-0dc8-4675-a77c-fe3c9bf80bfc\",\n",
    "    public_key=\"pk-lf-a2d11315-f91c-44ba-a414-d8f335196820\",\n",
    "    host=\"https://cloud.langfuse.com\"\n",
    "    # host=\"https://us.cloud.langfuse.com\", # 🇺🇸 US region\n",
    ")\n",
    " \n",
    "# Your Langchain code \n",
    "# Add Langfuse handler as callback (classic and LCEL)\n",
    "llm.invoke( \"What is name\", config={\"callbacks\": [langfuse_handler]})"
   ]
  },
  {
   "cell_type": "markdown",
   "id": "63453574",
   "metadata": {},
   "source": [
    "### 2. Generate team of sub agents\n",
    "\n",
    "AI analysts, each focusing on one sub-topic."
   ]
  },
  {
   "cell_type": "code",
   "execution_count": 2,
   "id": "84b76040",
   "metadata": {},
   "outputs": [],
   "source": [
    "from typing import List\n",
    "from typing_extensions import TypedDict\n",
    "from pydantic import BaseModel, Field\n",
    "\n",
    "# class to get structured analyst from the llm\n",
    "class Analyst(BaseModel):\n",
    "    # the state or relation of being closely associated or affiliated with a particular Analyst.\n",
    "    affiliation: str = Field(\n",
    "        description=\"Primary affiliation of the analyst.\"\n",
    "        )\n",
    "    # name of the analyst\n",
    "    name: str = Field(\n",
    "        description=\"name of the analyst\"\n",
    "    )\n",
    "    # role of the analyst in terms of topic\n",
    "    role: str = Field(\n",
    "        description=\"Description of the analyst focus, concerns, and motives.\"\n",
    "    ) \n",
    "    # this method is callable like a property but behind is a function \n",
    "    @property\n",
    "    def persona(self) -> str:\n",
    "        return f\"Name: {self.name}\\nRole: {self.role}\\nAffiliation: {self.affiliation}\\nDescription: {self.description}\\n\"\n",
    "\n",
    "# this class is to get list of Analysts form llm model  \n",
    "class Perspectives(BaseModel):\n",
    "    analysts: List[Analyst] = Field(\n",
    "        description=\"Comprehensive list of analysts with their roles and affiliations.\",\n",
    "    )\n",
    "\n",
    "# then make the internal state of the subgraph generate analysts\n",
    "class GenerateAnalystsState(TypedDict):\n",
    "    topic: str # reseach topic\n",
    "    max_analysts: int # maximum number of analysts\n",
    "    human_analyst_feedback: str # any human feedback to llm\n",
    "    analysts: List[Analyst] # generated analysts"
   ]
  },
  {
   "cell_type": "markdown",
   "id": "931cb77a",
   "metadata": {},
   "source": [
    "# Requirment analysis agent\n",
    "Get requirment from the client and make questions and make a report about the requirement\n",
    "\n",
    "## 1. Get user need as message and generate sub-parts to explore more\n",
    "\n",
    "This sub graph generate sub headings from the user need.\n",
    "\n",
    "These generated sub heading leater used for more clrarifications of user requirements."
   ]
  },
  {
   "cell_type": "code",
   "execution_count": 11,
   "id": "570a05f9",
   "metadata": {},
   "outputs": [],
   "source": [
    "from typing import List\n",
    "from typing_extensions import TypedDict\n",
    "from pydantic import BaseModel, Field\n",
    "from langgraph.graph import MessagesState\n",
    "\n",
    "class GeneratedSubHeading(BaseModel):\n",
    "    generated_sub_heading: str = Field(None, description=\"generated sub part for understand the user need.\")\n",
    "\n",
    "# sub graph state\n",
    "class SubHeadingState(MessagesState):\n",
    "    max_generated_sub_headings: int # Number of generated queries\n",
    "    generated_sub_headings: List[GeneratedSubHeading] # Generated questions\n",
    "    current_focus: str\n",
    "\n",
    "class Perspectives(BaseModel):\n",
    "    sub_headings: List[GeneratedSubHeading] = Field(\n",
    "        description=\"Comprehensive list of sub part headings that align with user need.\",\n",
    "    )"
   ]
  },
  {
   "cell_type": "code",
   "execution_count": 12,
   "id": "dcf692cf",
   "metadata": {},
   "outputs": [],
   "source": [
    "generate_sub_headings_instructions = \"\"\"You are an caller agent user call for specific need.\n",
    "                                 \n",
    "                                 So you need do identify sub parts of the user need and generate sub part headings for get good understand about user need.\n",
    "\n",
    "                                 You need to generate maximum {max_sub_parts} sub parts to get clear understand about user need.\n",
    "                                 \n",
    "                                 \"\"\""
   ]
  },
  {
   "cell_type": "code",
   "execution_count": 13,
   "id": "2b2d078e",
   "metadata": {},
   "outputs": [],
   "source": [
    "# test for question generation.\n",
    "from IPython.display import Image, display\n",
    "from langgraph.graph import START, END, StateGraph\n",
    "from langgraph.checkpoint.memory import MemorySaver\n",
    "from langchain_core.messages import AIMessage, HumanMessage, SystemMessage\n",
    "\n",
    "# Make the system message\n",
    "system_message = generate_sub_headings_instructions.format(max_sub_parts=5)\n",
    "\n",
    "# Enforce structured output\n",
    "structured_llm = llm.with_structured_output(Perspectives)\n",
    "\n",
    "# Generate question \n",
    "queries = structured_llm.invoke([SystemMessage(content=system_message)]+[HumanMessage(content=\"Generate sub part headings.\")]+ [HumanMessage(content=\"I want to build a website\")])"
   ]
  },
  {
   "cell_type": "code",
   "execution_count": 14,
   "id": "9788e4cf",
   "metadata": {},
   "outputs": [
    {
     "name": "stdout",
     "output_type": "stream",
     "text": [
      "[GeneratedSubHeading(generated_sub_heading='Purpose of the website'), GeneratedSubHeading(generated_sub_heading='Target audience'), GeneratedSubHeading(generated_sub_heading='Key features'), GeneratedSubHeading(generated_sub_heading='Content strategy'), GeneratedSubHeading(generated_sub_heading='Technical requirements')]\n"
     ]
    }
   ],
   "source": [
    "print(queries.sub_headings)"
   ]
  },
  {
   "cell_type": "code",
   "execution_count": 15,
   "id": "34705bf3",
   "metadata": {},
   "outputs": [],
   "source": [
    "from IPython.display import Image, display\n",
    "from langgraph.graph import START, END, StateGraph\n",
    "from langgraph.checkpoint.memory import MemorySaver\n",
    "from langchain_core.messages import AIMessage, HumanMessage, SystemMessage\n",
    "\n",
    "def generate_sub_headings(state: SubHeadingState):\n",
    "    # define the variables\n",
    "    max_sub_headings=state[\"max_generated_sub_headings\"]\n",
    "\n",
    "    # get the history of the messages\n",
    "    messages = state.get('messages', [])\n",
    "    if not messages:\n",
    "        raise ValueError(\"The 'messages' list is empty. Cannot generate subheadings without a conversation history.\")\n",
    "\n",
    "    # get the last message\n",
    "    message = messages[-1]\n",
    "\n",
    "\n",
    "    # get the structed output\n",
    "    system_message = generate_sub_headings_instructions.format(max_sub_parts=max_sub_headings)\n",
    "\n",
    "    # Enforce structured output\n",
    "    structured_llm = llm.with_structured_output(Perspectives)\n",
    "\n",
    "    # Generate question \n",
    "    subheadings = structured_llm.invoke([SystemMessage(content=system_message)]+[HumanMessage(content=\"Generate sub part headings.\")]+[message])\n",
    "    \n",
    "    # update the state\n",
    "    return {\"generated_sub_headings\": subheadings}"
   ]
  },
  {
   "cell_type": "code",
   "execution_count": 16,
   "id": "76f6ed94",
   "metadata": {},
   "outputs": [
    {
     "data": {
      "image/png": "[encoded data removed]",
      "text/plain": [
       "<IPython.core.display.Image object>"
      ]
     },
     "metadata": {},
     "output_type": "display_data"
    }
   ],
   "source": [
    "# make a subgraph to generate subheading based on the user need\n",
    "GenerateSubHeadingBuilder = StateGraph(SubHeadingState)\n",
    "GenerateSubHeadingBuilder.add_node(\"generate_sub_headings\", generate_sub_headings)\n",
    "\n",
    "# make connections\n",
    "GenerateSubHeadingBuilder.add_edge(START,\"generate_sub_headings\")\n",
    "GenerateSubHeadingBuilder.add_edge(\"generate_sub_headings\",END)\n",
    "\n",
    "# compile\n",
    "memory = MemorySaver()\n",
    "graph = GenerateSubHeadingBuilder.compile(checkpointer=memory)\n",
    "\n",
    "# view\n",
    "display(Image(graph.get_graph(xray=1).draw_mermaid_png()))"
   ]
  },
  {
   "cell_type": "code",
   "execution_count": 17,
   "id": "3bd650c8",
   "metadata": {},
   "outputs": [
    {
     "data": {
      "text/plain": [
       "{'messages': [HumanMessage(content='I want to build a mobile app', additional_kwargs={}, response_metadata={}, id='5072b74f-672c-44d3-b34d-14990161377f')],\n",
       " 'max_generated_sub_headings': 10,\n",
       " 'generated_sub_headings': Perspectives(sub_headings=[GeneratedSubHeading(generated_sub_heading='App Functionality'), GeneratedSubHeading(generated_sub_heading='Target Audience'), GeneratedSubHeading(generated_sub_heading='Platform (iOS, Android, or both)'), GeneratedSubHeading(generated_sub_heading='Development Budget'), GeneratedSubHeading(generated_sub_heading='Monetization Strategy'), GeneratedSubHeading(generated_sub_heading='Timeline for Development'), GeneratedSubHeading(generated_sub_heading='Required Features'), GeneratedSubHeading(generated_sub_heading='Design Preferences'), GeneratedSubHeading(generated_sub_heading='Marketing Plan'), GeneratedSubHeading(generated_sub_heading='Maintenance and Updates')])}"
      ]
     },
     "execution_count": 17,
     "metadata": {},
     "output_type": "execute_result"
    }
   ],
   "source": [
    "# sample graph invoke\n",
    "thread = {\"configurable\": {\"thread_id\": \"1\"}}\n",
    "graph.invoke({\"messages\": [HumanMessage(content=\"I want to build a mobile app\")], \"max_generated_sub_headings\": 10}, thread)"
   ]
  },
  {
   "cell_type": "markdown",
   "id": "e7bbd04c",
   "metadata": {},
   "source": [
    "## 2. Make sub headings as topics make a conversation with user.\n",
    "\n",
    "This sub graph use the generated sub headings to explore more about this topic with the customer."
   ]
  },
  {
   "cell_type": "code",
   "execution_count": 4,
   "id": "bb088c7e",
   "metadata": {},
   "outputs": [],
   "source": [
    "last_state = {'messages': [HumanMessage(content='I want to build a website', additional_kwargs={}, response_metadata={}, id='5decbfe6-0788-4a81-a852-23a41bd84988'),\n",
    "            HumanMessage(content='I want to build a website', additional_kwargs={}, response_metadata={}, id='15ff0fa4-0ca9-48bb-97cf-1b1f66a9a338'),\n",
    "            HumanMessage(content='I want to build a website', additional_kwargs={}, response_metadata={}, id='55b2969b-6f88-4370-a1a5-46bdf94bc4a7'),\n",
    "            HumanMessage(content='I want to build a mobile app', additional_kwargs={}, response_metadata={}, id='cdf39020-1ec1-4977-b3b5-ed3dab1336bd')],\n",
    "            'max_generated_sub_headings': 10,\n",
    "            'generated_sub_headings': Perspectives(sub_headings=[GeneratedSubHeading(generated_sub_heading='App Functionality'), GeneratedSubHeading(generated_sub_heading='Target Audience'), GeneratedSubHeading(generated_sub_heading='Platform (iOS, Android, or both)'), GeneratedSubHeading(generated_sub_heading='Development Budget'), GeneratedSubHeading(generated_sub_heading='Monetization Strategy'), GeneratedSubHeading(generated_sub_heading='Timeline for Development'), GeneratedSubHeading(generated_sub_heading='Required Features'), GeneratedSubHeading(generated_sub_heading='Design Preferences'), GeneratedSubHeading(generated_sub_heading='Marketing Plan'), GeneratedSubHeading(generated_sub_heading='Maintenance and Updates')])}"
   ]
  },
  {
   "cell_type": "code",
   "execution_count": 40,
   "id": "008a0235",
   "metadata": {},
   "outputs": [
    {
     "data": {
      "image/png": "[encoded data removed]",
      "text/plain": [
       "<IPython.core.display.Image object>"
      ]
     },
     "metadata": {},
     "output_type": "display_data"
    }
   ],
   "source": [
    "# sub_headings check for availability if available go to the get sub heading \n",
    "# else end\n",
    "def availability_sub_headings(state: SubHeadingState):\n",
    "    # check the sub headings are available \n",
    "    sub_headings = state.pop('generated_sub_headings', [])\n",
    "\n",
    "    # if not go to the end\n",
    "    if not sub_headings:\n",
    "        return \"END\"\n",
    "    \n",
    "    # otherwise return get_sub_headig node\n",
    "    return \"get_sub_heading\"\n",
    "\n",
    "# this method get the sub heading from the list and make it current forcus\n",
    "def get_sub_heading(state: SubHeadingState):\n",
    "    # get the current sub heading one by one\n",
    "    sub_headings = state.pop('generated_sub_headings', [])\n",
    "\n",
    "    # if there is no remaining subheading go to the next sub graph to generate report\n",
    "    if not sub_headings:\n",
    "        ValueError(\"all subheadings are finished.\")\n",
    "    \n",
    "    # popped sub heading should mark as the new focus in the conversation \n",
    "    current_focus = sub_headings.sub_headings[0].generated_sub_heading\n",
    "\n",
    "    # these subheadings are the remaining subheadings\n",
    "    sub_headings.sub_headings = sub_headings.sub_headings[1:]\n",
    "    \n",
    "    return {'generated_sub_headings':sub_headings, 'current_focus':current_focus}\n",
    "\n",
    "# this method continue the conversation \n",
    "def continue_conversation(state: SubHeadingState):\n",
    "    \n",
    "    # get the current forcus and make a question \n",
    "    current_focus = state.get(\"current_focus\",\"\")\n",
    "\n",
    "    # this function continue the chat with user with different sub headings\n",
    "    generate_question = \"\"\" Do not make longer messages.\n",
    "\n",
    "                            You are an caller agent user call for specific need.\n",
    "\n",
    "                            You must act as if you're on a phone call. Keep the conversation brief, focused, and to the point avoid long or elaborate responses.\n",
    "                                 \n",
    "                            you need consider about the chat messages previous and align with chat history.\n",
    "\n",
    "                            you need to ask a question from user based on {current_focus}.\n",
    "                                 \n",
    "                            \"\"\"\n",
    "    \n",
    "    # history messages\n",
    "    messages = state.get(\"messages\", [])\n",
    "    \n",
    "    # make the system message to \n",
    "    system_message = generate_question.format(current_focus=current_focus)\n",
    "\n",
    "    # invoke the model with the history \n",
    "    question = llm.invoke(messages + [SystemMessage(content=system_message)])\n",
    "    print(\"assistant: \",question.content)\n",
    "\n",
    "    # answer to the question \n",
    "    user_reply = input(\"user: \")\n",
    "    \n",
    "    # update the messages with ai question and the human response\n",
    "    return {'messages': [question, HumanMessage(user_reply)]}    \n",
    "    \n",
    "\n",
    "# make a subgraph to generate subheading based on the user need\n",
    "GenerateSubHeadingBuilder = StateGraph(SubHeadingState)\n",
    "GenerateSubHeadingBuilder.add_node(\"get_sub_heading\", get_sub_heading)\n",
    "GenerateSubHeadingBuilder.add_node(\"continue_conversation\", continue_conversation)\n",
    "\n",
    "# make connections\n",
    "GenerateSubHeadingBuilder.add_conditional_edges(START, availability_sub_headings,\n",
    "                                                {\"END\": END, \"get_sub_heading\": \"get_sub_heading\"})\n",
    "GenerateSubHeadingBuilder.add_edge(\"get_sub_heading\", \"continue_conversation\")\n",
    "GenerateSubHeadingBuilder.add_edge(\"continue_conversation\", END)\n",
    "\n",
    "# compile\n",
    "memory = MemorySaver()\n",
    "graph = GenerateSubHeadingBuilder.compile(checkpointer=memory)\n",
    "\n",
    "# view\n",
    "display(Image(graph.get_graph(xray=1).draw_mermaid_png()))"
   ]
  },
  {
   "cell_type": "code",
   "execution_count": 41,
   "id": "12a52eab",
   "metadata": {},
   "outputs": [
    {
     "name": "stdout",
     "output_type": "stream",
     "text": [
      "assistant:  Okay, that's exciting! Building a mobile app can be a rewarding experience. To help me guide you, I need a little more information. Let's break down the process and figure out what you need to consider.\n",
      "\n",
      "**1. What is the purpose of your app? (The Core Idea)**\n",
      "\n",
      "*   **What problem does it solve?** What need does it fulfill?\n",
      "*   **What is the core functionality?** What is the one thing your app *must* do?\n",
      "*   **Who is your target audience?** Who will be using this app? (Age, demographics, tech savviness, etc.)\n",
      "*   **What are the key features?** List the features that are essential and those that are nice-to-have.\n",
      "*   **What makes your app unique?** What differentiates it from existing apps in the market?\n",
      "\n",
      "**Examples:**\n",
      "\n",
      "*   **Problem:** People struggle to find local, independent coffee shops.\n",
      "*   **Core Functionality:**  Display a map of nearby independent coffee shops with reviews and hours.\n",
      "*   **Target Audience:** Coffee lovers, travelers, people who prefer supporting local businesses.\n",
      "*   **Key Features:** Map view, search, filtering (by hours, ratings, etc.), user reviews, directions.\n",
      "*   **Uniqueness:** Focuses solely on *independent* coffee shops, curated list, maybe a loyalty program.\n",
      "\n",
      "**2. What platform(s) do you want to target?**\n",
      "\n",
      "*   **iOS (Apple App Store):**  Generally attracts a more affluent user base. Requires an Apple Developer account and knowledge of Swift or Objective-C.\n",
      "*   **Android (Google Play Store):**  Larger market share globally. Requires a Google Play Developer account and knowledge of Java or Kotlin.\n",
      "*   **Both iOS and Android:**  Reaches the widest audience but requires more development effort.\n",
      "*   **Web App (Accessible through a browser):**  Can be accessed on any device with a browser.  Often built with HTML, CSS, and JavaScript.  Not a native app, so it may lack some features and performance of native apps.\n",
      "\n",
      "**3. What type of app will it be?**\n",
      "\n",
      "*   **Native App:** Built specifically for a single platform (iOS or Android) using the platform's native languages (Swift/Objective-C for iOS, Java/Kotlin for Android).  Offers the best performance and access to device features.\n",
      "*   **Cross-Platform App:** Built using a single codebase that can be deployed to multiple platforms (iOS and Android).  Popular frameworks include React Native, Flutter, and Xamarin.  Can save time and money but may have some performance limitations.\n",
      "*   **Hybrid App:**  A web app wrapped in a native container.  Built using web technologies (HTML, CSS, JavaScript) and frameworks like Ionic or Cordova.  Easier to develop but can have performance issues and limited access to device features.\n",
      "*   **Progressive Web App (PWA):**  A web app that behaves like a native app.  Offers features like offline access, push notifications, and installability.  Built using web technologies and service workers.\n",
      "\n",
      "**4. What is your budget?**\n",
      "\n",
      "*   **Free:**  You'll need to learn to code yourself or find free resources.\n",
      "*   **Low Budget (Under $5,000):**  Consider using no-code/low-code platforms or hiring freelancers for specific tasks.\n",
      "*   **Medium Budget ($5,000 - $50,000):**  You can hire a small team of developers or a freelance agency.\n",
      "*   **High Budget ($50,000+):**  You can hire a professional app development company.\n",
      "\n",
      "**5. What are your technical skills?**\n",
      "\n",
      "*   **None:**  You'll need to learn to code, use a no-code/low-code platform, or hire someone.\n",
      "*   **Basic Programming:**  You might be able to learn a cross-platform framework like React Native or Flutter.\n",
      "*   **Experienced Developer:**  You can choose the best technology stack for your app and build it yourself or lead a team.\n",
      "\n",
      "**6. What is your timeline?**\n",
      "\n",
      "*   **Quick Launch:**  Consider using a no-code/low-code platform or a simple cross-platform app.\n",
      "*   **Complex App:**  Requires more time for development, testing, and deployment.\n",
      "\n",
      "**7. How will you monetize your app?**\n",
      "\n",
      "*   **Free with Ads:**  Generate revenue through advertising.\n",
      "*   **Freemium:**  Offer a basic version for free and charge for premium features.\n",
      "*   **Subscription:**  Charge users a recurring fee for access to the app.\n",
      "*   **In-App Purchases:**  Sell virtual goods or services within the app.\n",
      "*   **Paid App:**  Charge users a one-time fee to download the app.\n",
      "\n",
      "**Let's get started!  Tell me more about your app idea.  Specifically, answer these questions:**\n",
      "\n",
      "*   **What is the core purpose of your app?**\n",
      "*   **Who is your target audience?**\n",
      "*   **What are the 3-5 most important features?**\n",
      "*   **What is your approximate budget?**\n",
      "*   **What is your technical skill level?**\n",
      "\n",
      "Once I have this information, I can give you more specific advice on the best approach for building your mobile app. Good luck!\n"
     ]
    },
    {
     "data": {
      "text/plain": [
       "{'messages': [HumanMessage(content='I want to build a mobile app', additional_kwargs={}, response_metadata={}, id='de58641d-c663-41c1-b42d-e80efe34dbd2'),\n",
       "  AIMessage(content=\"Okay, that's exciting! Building a mobile app can be a rewarding experience. To help me guide you, I need a little more information. Let's break down the process and figure out what you need to consider.\\n\\n**1. What is the purpose of your app? (The Core Idea)**\\n\\n*   **What problem does it solve?** What need does it fulfill?\\n*   **What is the core functionality?** What is the one thing your app *must* do?\\n*   **Who is your target audience?** Who will be using this app? (Age, demographics, tech savviness, etc.)\\n*   **What are the key features?** List the features that are essential and those that are nice-to-have.\\n*   **What makes your app unique?** What differentiates it from existing apps in the market?\\n\\n**Examples:**\\n\\n*   **Problem:** People struggle to find local, independent coffee shops.\\n*   **Core Functionality:**  Display a map of nearby independent coffee shops with reviews and hours.\\n*   **Target Audience:** Coffee lovers, travelers, people who prefer supporting local businesses.\\n*   **Key Features:** Map view, search, filtering (by hours, ratings, etc.), user reviews, directions.\\n*   **Uniqueness:** Focuses solely on *independent* coffee shops, curated list, maybe a loyalty program.\\n\\n**2. What platform(s) do you want to target?**\\n\\n*   **iOS (Apple App Store):**  Generally attracts a more affluent user base. Requires an Apple Developer account and knowledge of Swift or Objective-C.\\n*   **Android (Google Play Store):**  Larger market share globally. Requires a Google Play Developer account and knowledge of Java or Kotlin.\\n*   **Both iOS and Android:**  Reaches the widest audience but requires more development effort.\\n*   **Web App (Accessible through a browser):**  Can be accessed on any device with a browser.  Often built with HTML, CSS, and JavaScript.  Not a native app, so it may lack some features and performance of native apps.\\n\\n**3. What type of app will it be?**\\n\\n*   **Native App:** Built specifically for a single platform (iOS or Android) using the platform's native languages (Swift/Objective-C for iOS, Java/Kotlin for Android).  Offers the best performance and access to device features.\\n*   **Cross-Platform App:** Built using a single codebase that can be deployed to multiple platforms (iOS and Android).  Popular frameworks include React Native, Flutter, and Xamarin.  Can save time and money but may have some performance limitations.\\n*   **Hybrid App:**  A web app wrapped in a native container.  Built using web technologies (HTML, CSS, JavaScript) and frameworks like Ionic or Cordova.  Easier to develop but can have performance issues and limited access to device features.\\n*   **Progressive Web App (PWA):**  A web app that behaves like a native app.  Offers features like offline access, push notifications, and installability.  Built using web technologies and service workers.\\n\\n**4. What is your budget?**\\n\\n*   **Free:**  You'll need to learn to code yourself or find free resources.\\n*   **Low Budget (Under $5,000):**  Consider using no-code/low-code platforms or hiring freelancers for specific tasks.\\n*   **Medium Budget ($5,000 - $50,000):**  You can hire a small team of developers or a freelance agency.\\n*   **High Budget ($50,000+):**  You can hire a professional app development company.\\n\\n**5. What are your technical skills?**\\n\\n*   **None:**  You'll need to learn to code, use a no-code/low-code platform, or hire someone.\\n*   **Basic Programming:**  You might be able to learn a cross-platform framework like React Native or Flutter.\\n*   **Experienced Developer:**  You can choose the best technology stack for your app and build it yourself or lead a team.\\n\\n**6. What is your timeline?**\\n\\n*   **Quick Launch:**  Consider using a no-code/low-code platform or a simple cross-platform app.\\n*   **Complex App:**  Requires more time for development, testing, and deployment.\\n\\n**7. How will you monetize your app?**\\n\\n*   **Free with Ads:**  Generate revenue through advertising.\\n*   **Freemium:**  Offer a basic version for free and charge for premium features.\\n*   **Subscription:**  Charge users a recurring fee for access to the app.\\n*   **In-App Purchases:**  Sell virtual goods or services within the app.\\n*   **Paid App:**  Charge users a one-time fee to download the app.\\n\\n**Let's get started!  Tell me more about your app idea.  Specifically, answer these questions:**\\n\\n*   **What is the core purpose of your app?**\\n*   **Who is your target audience?**\\n*   **What are the 3-5 most important features?**\\n*   **What is your approximate budget?**\\n*   **What is your technical skill level?**\\n\\nOnce I have this information, I can give you more specific advice on the best approach for building your mobile app. Good luck!\", additional_kwargs={}, response_metadata={'prompt_feedback': {'block_reason': 0, 'safety_ratings': []}, 'finish_reason': 'STOP', 'model_name': 'gemini-2.0-flash-001', 'safety_ratings': []}, id='run--a4f1de47-8c2b-4c94-ae9b-01515f560962-0', usage_metadata={'input_tokens': 7, 'output_tokens': 1158, 'total_tokens': 1165, 'input_token_details': {'cache_read': 0}}),\n",
       "  HumanMessage(content='hi', additional_kwargs={}, response_metadata={}, id='dffefbb9-14af-4b30-abb4-34b59a5be5fc')],\n",
       " 'max_generated_sub_headings': 10,\n",
       " 'generated_sub_headings': Perspectives(sub_headings=[GeneratedSubHeading(generated_sub_heading='Target Audience'), GeneratedSubHeading(generated_sub_heading='Platform (iOS, Android, or both)'), GeneratedSubHeading(generated_sub_heading='Development Budget'), GeneratedSubHeading(generated_sub_heading='Monetization Strategy'), GeneratedSubHeading(generated_sub_heading='Timeline for Development'), GeneratedSubHeading(generated_sub_heading='Required Features'), GeneratedSubHeading(generated_sub_heading='Design Preferences'), GeneratedSubHeading(generated_sub_heading='Marketing Plan'), GeneratedSubHeading(generated_sub_heading='Maintenance and Updates')]),\n",
       " 'current_focus': 'App Functionality'}"
      ]
     },
     "execution_count": 41,
     "metadata": {},
     "output_type": "execute_result"
    }
   ],
   "source": [
    "# sample graph invoke\n",
    "thread = {\"configurable\": {\"thread_id\": \"1\"}}\n",
    "graph.invoke({\"messages\": [HumanMessage(content=\"I want to build a mobile app\")], \"max_generated_sub_headings\": 10,'generated_sub_headings': Perspectives(sub_headings=[GeneratedSubHeading(generated_sub_heading='App Functionality'), GeneratedSubHeading(generated_sub_heading='Target Audience'), GeneratedSubHeading(generated_sub_heading='Platform (iOS, Android, or both)'), GeneratedSubHeading(generated_sub_heading='Development Budget'), GeneratedSubHeading(generated_sub_heading='Monetization Strategy'), GeneratedSubHeading(generated_sub_heading='Timeline for Development'), GeneratedSubHeading(generated_sub_heading='Required Features'), GeneratedSubHeading(generated_sub_heading='Design Preferences'), GeneratedSubHeading(generated_sub_heading='Marketing Plan'), GeneratedSubHeading(generated_sub_heading='Maintenance and Updates')])}, thread)"
   ]
  },
  {
   "cell_type": "markdown",
   "id": "cab52511",
   "metadata": {},
   "source": [
    "### Unit Testing for notebook\n",
    "\n",
    "This ensure the written functions are giving correct outputs"
   ]
  },
  {
   "cell_type": "code",
   "execution_count": 29,
   "id": "e73a8a47",
   "metadata": {},
   "outputs": [
    {
     "name": "stderr",
     "output_type": "stream",
     "text": [
      "test_continue_conversation (__main__.TestFunctions.test_continue_conversation) ... ok\n",
      "test_generated_sub_heading_type (__main__.TestFunctions.test_generated_sub_heading_type) ... ok\n",
      "\n",
      "----------------------------------------------------------------------\n",
      "Ran 2 tests in 3.039s\n",
      "\n",
      "OK\n"
     ]
    }
   ],
   "source": [
    "import unittest\n",
    "from IPython.display import Image, display\n",
    "from langgraph.graph import START, END, StateGraph\n",
    "from langgraph.checkpoint.memory import MemorySaver\n",
    "from langchain_core.messages import AIMessage, HumanMessage, SystemMessage\n",
    "\n",
    "class TestFunctions(unittest.TestCase):\n",
    "\n",
    "    def test_generated_sub_heading_type(self):\n",
    "        \n",
    "        # generate sub heading based on input \n",
    "        generate_query_instructions = \"\"\"You are an caller agent user call for specific need.\n",
    "                                 \n",
    "                                 So you need do identify sub parts of the user need and generate sub part headings for get good understand about user need.\n",
    "\n",
    "                                 You need to generate maximum {max_sub_parts} sub parts to get clear understand about user need.\n",
    "                                 \n",
    "                                 \"\"\"\n",
    "        \n",
    "        # Make the system message\n",
    "        system_message = generate_query_instructions.format(max_sub_parts=5)\n",
    "\n",
    "        # Enforce structured output\n",
    "        structured_llm = llm.with_structured_output(Perspectives)\n",
    "\n",
    "        # Generate question \n",
    "        queries = structured_llm.invoke([SystemMessage(content=system_message)]+[HumanMessage(content=\"Generate sub part headings.\")]+ [HumanMessage(content=\"I want to build a website\")])\n",
    "\n",
    "        # check for the type\n",
    "        self.assertIsInstance(queries.sub_headings,list)\n",
    "        for item in queries.sub_headings:\n",
    "            self.assertIsInstance(item, GeneratedSubHeading)\n",
    "\n",
    "    def test_continue_conversation(self):\n",
    "\n",
    "        # this function continue the chat with user with different sub headings\n",
    "        generate_question = \"\"\"You are an caller agent user call for specific need.\n",
    "                                    \n",
    "                                you need consider about the chat messages previous and align with chat history.\n",
    "\n",
    "                                you need to ask a question from user based on {current_focus}.\n",
    "                                    \n",
    "                                \"\"\"\n",
    "        \n",
    "        # history messages\n",
    "        messages = [HumanMessage(content='I want to build a mobile app', additional_kwargs={}, response_metadata={}, id='ccde5465-9521-4b3d-ba2a-9bdc585b8c36')]\n",
    "        \n",
    "        # make the system message to \n",
    "        system_message = generate_question.format(current_focus='App Functionality')\n",
    "\n",
    "        # invoke the model with the history \n",
    "        question = llm.invoke(messages+ [system_message])\n",
    "        # print(\"assistant: \",question.content)\n",
    "\n",
    "        # check for the type\n",
    "        self.assertIsInstance(question.content, str)\n",
    "\n",
    "\n",
    "# run the unit tests\n",
    "if __name__ == \"__main__\":\n",
    "    unittest.main(argv=[''], verbosity=2, exit=False)\n"
   ]
  },
  {
   "cell_type": "code",
   "execution_count": null,
   "id": "96d10a9e",
   "metadata": {},
   "outputs": [],
   "source": []
  }
 ],
 "metadata": {
  "kernelspec": {
   "display_name": "torchenv",
   "language": "python",
   "name": "python3"
  },
  "language_info": {
   "codemirror_mode": {
    "name": "ipython",
    "version": 3
   },
   "file_extension": ".py",
   "mimetype": "text/x-python",
   "name": "python",
   "nbconvert_exporter": "python",
   "pygments_lexer": "ipython3",
   "version": "3.12.3"
  }
 },
 "nbformat": 4,
 "nbformat_minor": 5
}
