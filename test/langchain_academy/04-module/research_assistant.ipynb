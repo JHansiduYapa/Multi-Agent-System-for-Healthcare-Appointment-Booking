{
 "cells": [
  {
   "cell_type": "markdown",
   "id": "5a0bc471",
   "metadata": {},
   "source": [
    "## Research Assistant\n",
    "\n",
    "### Goal\n",
    "Our goal is to build a lightweight, multi-agent system around chat models that customizes the research process.\n",
    "\n",
    "Source Selection\n",
    "\n",
    "- Users can choose any set of input sources for their research.\n",
    "\n",
    "Planning\n",
    "\n",
    "- Users provide a topic, and the system generates a team of AI analysts, each focusing on one sub-topic.\n",
    "- Human-in-the-loop will be used to refine these sub-topics before research begins.\n",
    "\n",
    "LLM Utilization\n",
    "\n",
    "- Each analyst will conduct in-depth interviews with an expert AI using the selected sources.\n",
    "- The interview will be a multi-turn conversation to extract detailed insights as shown in the STORM paper.\n",
    "- These interviews will be captured in a using sub-graphs with their internal state.\n",
    "\n",
    "Research Process\n",
    "\n",
    "- Experts will gather information to answer analyst questions in parallel.\n",
    "- And all interviews will be conducted simultaneously through map-reduce.\n",
    "\n",
    "Output Format\n",
    "\n",
    "- The gathered insights from each interview will be synthesized into a final report.\n",
    "- We'll use customizable prompts for the report, allowing for a flexible output format."
   ]
  },
  {
   "cell_type": "markdown",
   "id": "250c03f8",
   "metadata": {},
   "source": [
    "### 1. Setup the environment"
   ]
  },
  {
   "cell_type": "code",
   "execution_count": 1,
   "id": "4a75234b",
   "metadata": {},
   "outputs": [],
   "source": [
    "# connect with gemini api\n",
    "import getpass\n",
    "import os\n",
    "\n",
    "if \"GOOGLE_API_KEY\" not in os.environ:\n",
    "    os.environ[\"GOOGLE_API_KEY\"] = getpass.getpass(\"Enter your Google AI API key: \")"
   ]
  },
  {
   "cell_type": "code",
   "execution_count": 2,
   "id": "a080ec76",
   "metadata": {},
   "outputs": [],
   "source": [
    "# initialize llm chat model\n",
    "from langchain_google_genai import ChatGoogleGenerativeAI\n",
    "\n",
    "llm = ChatGoogleGenerativeAI(\n",
    "    model=\"gemini-2.0-flash-001\",\n",
    "    temperature=0,\n",
    "    max_tokens=None,\n",
    "    timeout=None,\n",
    "    max_retries=2,\n",
    "    # other params...\n",
    ")"
   ]
  },
  {
   "cell_type": "code",
   "execution_count": 3,
   "id": "fd6650ca",
   "metadata": {},
   "outputs": [],
   "source": [
    "import os, getpass\n",
    "\n",
    "def _set_env(var: str):\n",
    "    if not os.environ.get(var):\n",
    "        os.environ[var] = getpass.getpass(f\"{var}: \")"
   ]
  },
  {
   "cell_type": "code",
   "execution_count": 11,
   "id": "91f93d69",
   "metadata": {},
   "outputs": [
    {
     "data": {
      "text/plain": [
       "AIMessage(content=\"As a large language model, I don't have a name. You can just call me Bard.\", additional_kwargs={}, response_metadata={'prompt_feedback': {'block_reason': 0, 'safety_ratings': []}, 'finish_reason': 'STOP', 'model_name': 'gemini-2.0-flash-001', 'safety_ratings': []}, id='run--e10070b6-9fdb-4bbf-a400-1e00b3ac80fe-0', usage_metadata={'input_tokens': 3, 'output_tokens': 22, 'total_tokens': 25, 'input_token_details': {'cache_read': 0}})"
      ]
     },
     "execution_count": 11,
     "metadata": {},
     "output_type": "execute_result"
    }
   ],
   "source": [
    "from langfuse.callback import CallbackHandler\n",
    "\n",
    "# make a simple trace to the langfuse\n",
    "langfuse_handler = CallbackHandler(\n",
    "    secret_key=\"sk-lf-b810fab9-0dc8-4675-a77c-fe3c9bf80bfc\",\n",
    "    public_key=\"pk-lf-a2d11315-f91c-44ba-a414-d8f335196820\",\n",
    "    host=\"https://cloud.langfuse.com\"\n",
    "    # host=\"https://us.cloud.langfuse.com\", # 🇺🇸 US region\n",
    ")\n",
    " \n",
    "# Your Langchain code \n",
    "# Add Langfuse handler as callback (classic and LCEL)\n",
    "llm.invoke( \"What is name\", config={\"callbacks\": [langfuse_handler]})"
   ]
  },
  {
   "cell_type": "markdown",
   "id": "63453574",
   "metadata": {},
   "source": [
    "### 2. Generate team of sub agents\n",
    "\n",
    "AI analysts, each focusing on one sub-topic."
   ]
  },
  {
   "cell_type": "code",
   "execution_count": 2,
   "id": "84b76040",
   "metadata": {},
   "outputs": [],
   "source": [
    "from typing import List\n",
    "from typing_extensions import TypedDict\n",
    "from pydantic import BaseModel, Field\n",
    "\n",
    "# class to get structured analyst from the llm\n",
    "class Analyst(BaseModel):\n",
    "    # the state or relation of being closely associated or affiliated with a particular Analyst.\n",
    "    affiliation: str = Field(\n",
    "        description=\"Primary affiliation of the analyst.\"\n",
    "        )\n",
    "    # name of the analyst\n",
    "    name: str = Field(\n",
    "        description=\"name of the analyst\"\n",
    "    )\n",
    "    # role of the analyst in terms of topic\n",
    "    role: str = Field(\n",
    "        description=\"Description of the analyst focus, concerns, and motives.\"\n",
    "    ) \n",
    "    # this method is callable like a property but behind is a function \n",
    "    @property\n",
    "    def persona(self) -> str:\n",
    "        return f\"Name: {self.name}\\nRole: {self.role}\\nAffiliation: {self.affiliation}\\nDescription: {self.description}\\n\"\n",
    "\n",
    "# this class is to get list of Analysts form llm model  \n",
    "class Perspectives(BaseModel):\n",
    "    analysts: List[Analyst] = Field(\n",
    "        description=\"Comprehensive list of analysts with their roles and affiliations.\",\n",
    "    )\n",
    "\n",
    "# then make the internal state of the subgraph generate analysts\n",
    "class GenerateAnalystsState(TypedDict):\n",
    "    topic: str # reseach topic\n",
    "    max_analysts: int # maximum number of analysts\n",
    "    human_analyst_feedback: str # any human feedback to llm\n",
    "    analysts: List[Analyst] # generated analysts"
   ]
  },
  {
   "cell_type": "markdown",
   "id": "931cb77a",
   "metadata": {},
   "source": [
    "# Requirment analysis agent\n",
    "Get requirment from the client and make questions and make a report about the requirement\n",
    "\n",
    "## 1. Get user need as message and generate sub-parts to explore more\n",
    "\n",
    "This sub graph generate sub headings from the user need.\n",
    "\n",
    "These generated sub heading leater used for more clrarifications of user requirements."
   ]
  },
  {
   "cell_type": "code",
   "execution_count": 30,
   "id": "570a05f9",
   "metadata": {},
   "outputs": [],
   "source": [
    "from typing import List\n",
    "from typing_extensions import TypedDict\n",
    "from pydantic import BaseModel, Field\n",
    "from langgraph.graph import MessagesState\n",
    "\n",
    "class GeneratedSubHeading(BaseModel):\n",
    "    generated_sub_heading: str = Field(None, description=\"generated sub part for understand the user need.\")\n",
    "\n",
    "# sub graph state\n",
    "class SubHeadingState(MessagesState):\n",
    "    max_generated_sub_headings: int # Number of generated queries\n",
    "    generated_sub_headings: List[GeneratedSubHeading] # Generated questions\n",
    "\n",
    "class Perspectives(BaseModel):\n",
    "    sub_headings: List[GeneratedSubHeading] = Field(\n",
    "        description=\"Comprehensive list of sub part headings that align with user need.\",\n",
    "    )\n"
   ]
  },
  {
   "cell_type": "code",
   "execution_count": 31,
   "id": "dcf692cf",
   "metadata": {},
   "outputs": [],
   "source": [
    "generate_sub_headings_instructions = \"\"\"You are an caller agent user call for specific need.\n",
    "                                 \n",
    "                                 So you need do identify sub parts of the user need and generate sub part headings for get good understand about user need.\n",
    "\n",
    "                                 You need to generate maximum {max_sub_parts} sub parts to get clear understand about user need.\n",
    "                                 \n",
    "                                 \"\"\""
   ]
  },
  {
   "cell_type": "code",
   "execution_count": 32,
   "id": "2b2d078e",
   "metadata": {},
   "outputs": [],
   "source": [
    "# test for question generation.\n",
    "from IPython.display import Image, display\n",
    "from langgraph.graph import START, END, StateGraph\n",
    "from langgraph.checkpoint.memory import MemorySaver\n",
    "from langchain_core.messages import AIMessage, HumanMessage, SystemMessage\n",
    "\n",
    "# Make the system message\n",
    "system_message = generate_sub_headings_instructions.format(max_sub_parts=5)\n",
    "\n",
    "# Enforce structured output\n",
    "structured_llm = llm.with_structured_output(Perspectives)\n",
    "\n",
    "# Generate question \n",
    "queries = structured_llm.invoke([SystemMessage(content=system_message)]+[HumanMessage(content=\"Generate sub part headings.\")]+ [HumanMessage(content=\"I want to build a website\")])"
   ]
  },
  {
   "cell_type": "code",
   "execution_count": 33,
   "id": "9788e4cf",
   "metadata": {},
   "outputs": [
    {
     "name": "stdout",
     "output_type": "stream",
     "text": [
      "[GeneratedSubHeading(generated_sub_heading='Purpose of the website'), GeneratedSubHeading(generated_sub_heading='Target audience'), GeneratedSubHeading(generated_sub_heading='Key features'), GeneratedSubHeading(generated_sub_heading='Content strategy'), GeneratedSubHeading(generated_sub_heading='Technical requirements')]\n"
     ]
    }
   ],
   "source": [
    "print(queries.sub_headings)"
   ]
  },
  {
   "cell_type": "code",
   "execution_count": 49,
   "id": "34705bf3",
   "metadata": {},
   "outputs": [],
   "source": [
    "from IPython.display import Image, display\n",
    "from langgraph.graph import START, END, StateGraph\n",
    "from langgraph.checkpoint.memory import MemorySaver\n",
    "from langchain_core.messages import AIMessage, HumanMessage, SystemMessage\n",
    "\n",
    "def generate_sub_headings(state: SubHeadingState):\n",
    "    # define the variables\n",
    "    max_sub_headings=state[\"max_generated_sub_headings\"]\n",
    "\n",
    "    # get the history of the messages\n",
    "    messages = state.get('messages', [])\n",
    "    if not messages:\n",
    "        raise ValueError(\"The 'messages' list is empty. Cannot generate subheadings without a conversation history.\")\n",
    "\n",
    "    # get the last message\n",
    "    message = messages[-1]\n",
    "\n",
    "\n",
    "    # get the structed output\n",
    "    system_message = generate_sub_headings_instructions.format(max_sub_parts=max_sub_headings)\n",
    "\n",
    "    # Enforce structured output\n",
    "    structured_llm = llm.with_structured_output(Perspectives)\n",
    "\n",
    "    # Generate question \n",
    "    subheadings = structured_llm.invoke([SystemMessage(content=system_message)]+[HumanMessage(content=\"Generate sub part headings.\")]+[message])\n",
    "    \n",
    "    # update the state\n",
    "    return {\"generated_sub_headings\": subheadings}"
   ]
  },
  {
   "cell_type": "code",
   "execution_count": 50,
   "id": "76f6ed94",
   "metadata": {},
   "outputs": [
    {
     "data": {
      "image/png": "[encoded data removed]",
      "text/plain": [
       "<IPython.core.display.Image object>"
      ]
     },
     "metadata": {},
     "output_type": "display_data"
    }
   ],
   "source": [
    "# make a subgraph to generate subheading based on the user need\n",
    "GenerateSubHeadingBuilder = StateGraph(SubHeadingState)\n",
    "GenerateSubHeadingBuilder.add_node(\"generate_sub_headings\", generate_sub_headings)\n",
    "\n",
    "# make connections\n",
    "GenerateSubHeadingBuilder.add_edge(START,\"generate_sub_headings\")\n",
    "GenerateSubHeadingBuilder.add_edge(\"generate_sub_headings\",END)\n",
    "\n",
    "# compile\n",
    "memory = MemorySaver()\n",
    "graph = GenerateSubHeadingBuilder.compile(checkpointer=memory)\n",
    "\n",
    "# view\n",
    "display(Image(graph.get_graph(xray=1).draw_mermaid_png()))"
   ]
  },
  {
   "cell_type": "code",
   "execution_count": null,
   "id": "3bd650c8",
   "metadata": {},
   "outputs": [
    {
     "data": {
      "text/plain": [
       "{'messages': [HumanMessage(content='I want to build a website', additional_kwargs={}, response_metadata={}, id='5decbfe6-0788-4a81-a852-23a41bd84988'),\n",
       "  HumanMessage(content='I want to build a website', additional_kwargs={}, response_metadata={}, id='15ff0fa4-0ca9-48bb-97cf-1b1f66a9a338'),\n",
       "  HumanMessage(content='I want to build a website', additional_kwargs={}, response_metadata={}, id='55b2969b-6f88-4370-a1a5-46bdf94bc4a7'),\n",
       "  HumanMessage(content='I want to build a mobile app', additional_kwargs={}, response_metadata={}, id='cdf39020-1ec1-4977-b3b5-ed3dab1336bd')],\n",
       " 'max_generated_sub_headings': 10,\n",
       " 'generated_sub_headings': Perspectives(sub_headings=[GeneratedSubHeading(generated_sub_heading='App Functionality'), GeneratedSubHeading(generated_sub_heading='Target Audience'), GeneratedSubHeading(generated_sub_heading='Platform (iOS, Android, or both)'), GeneratedSubHeading(generated_sub_heading='Development Budget'), GeneratedSubHeading(generated_sub_heading='Monetization Strategy'), GeneratedSubHeading(generated_sub_heading='Timeline for Development'), GeneratedSubHeading(generated_sub_heading='Required Features'), GeneratedSubHeading(generated_sub_heading='Design Preferences'), GeneratedSubHeading(generated_sub_heading='Marketing Plan'), GeneratedSubHeading(generated_sub_heading='Maintenance and Updates')])}"
      ]
     },
     "execution_count": 54,
     "metadata": {},
     "output_type": "execute_result"
    }
   ],
   "source": [
    "# sample graph invoke\n",
    "thread = {\"configurable\": {\"thread_id\": \"1\"}}\n",
    "graph.invoke({\"messages\": [HumanMessage(content=\"I want to build a mobile app\")], \"max_generated_sub_headings\": 10}, thread)"
   ]
  },
  {
   "cell_type": "markdown",
   "id": "cab52511",
   "metadata": {},
   "source": [
    "### Unit Testing for notebook\n",
    "\n",
    "This ensure the written functions are giving correct outputs"
   ]
  },
  {
   "cell_type": "code",
   "execution_count": 11,
   "id": "e73a8a47",
   "metadata": {},
   "outputs": [
    {
     "name": "stderr",
     "output_type": "stream",
     "text": [
      "test_generated_sub_heading_type (__main__.TestFunctions.test_generated_sub_heading_type) ... ok\n",
      "\n",
      "----------------------------------------------------------------------\n",
      "Ran 1 test in 1.140s\n",
      "\n",
      "OK\n"
     ]
    }
   ],
   "source": [
    "import unittest\n",
    "from IPython.display import Image, display\n",
    "from langgraph.graph import START, END, StateGraph\n",
    "from langgraph.checkpoint.memory import MemorySaver\n",
    "from langchain_core.messages import AIMessage, HumanMessage, SystemMessage\n",
    "\n",
    "class TestFunctions(unittest.TestCase):\n",
    "\n",
    "    def test_generated_sub_heading_type(self):\n",
    "        \n",
    "        # generate sub heading based on input \n",
    "        generate_query_instructions = \"\"\"You are an caller agent user call for specific need.\n",
    "                                 \n",
    "                                 So you need do identify sub parts of the user need and generate sub part headings for get good understand about user need.\n",
    "\n",
    "                                 You need to generate maximum {max_sub_parts} sub parts to get clear understand about user need.\n",
    "                                 \n",
    "                                 \"\"\"\n",
    "        \n",
    "        # Make the system message\n",
    "        system_message = generate_query_instructions.format(max_sub_parts=5)\n",
    "\n",
    "        # Enforce structured output\n",
    "        structured_llm = llm.with_structured_output(Perspectives)\n",
    "\n",
    "        # Generate question \n",
    "        queries = structured_llm.invoke([SystemMessage(content=system_message)]+[HumanMessage(content=\"Generate sub part headings.\")]+ [HumanMessage(content=\"I want to build a website\")])\n",
    "\n",
    "        # check for the type\n",
    "        self.assertIsInstance(queries.sub_headings,list)\n",
    "        for item in queries.sub_headings:\n",
    "            self.assertIsInstance(item, GeneratedSubHeading)\n",
    "\n",
    "\n",
    "# run the unit tests\n",
    "if __name__ == \"__main__\":\n",
    "    unittest.main(argv=[''], verbosity=2, exit=False)\n"
   ]
  }
 ],
 "metadata": {
  "kernelspec": {
   "display_name": "torchenv",
   "language": "python",
   "name": "python3"
  },
  "language_info": {
   "codemirror_mode": {
    "name": "ipython",
    "version": 3
   },
   "file_extension": ".py",
   "mimetype": "text/x-python",
   "name": "python",
   "nbconvert_exporter": "python",
   "pygments_lexer": "ipython3",
   "version": "3.12.3"
  }
 },
 "nbformat": 4,
 "nbformat_minor": 5
}
