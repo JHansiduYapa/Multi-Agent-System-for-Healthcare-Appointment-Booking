{
 "cells": [
  {
   "cell_type": "markdown",
   "id": "5a0bc471",
   "metadata": {},
   "source": [
    "## Research Assistant\n",
    "\n",
    "### Goal\n",
    "Our goal is to build a lightweight, multi-agent system around chat models that customizes the research process.\n",
    "\n",
    "Source Selection\n",
    "\n",
    "- Users can choose any set of input sources for their research.\n",
    "\n",
    "Planning\n",
    "\n",
    "- Users provide a topic, and the system generates a team of AI analysts, each focusing on one sub-topic.\n",
    "- Human-in-the-loop will be used to refine these sub-topics before research begins.\n",
    "\n",
    "LLM Utilization\n",
    "\n",
    "- Each analyst will conduct in-depth interviews with an expert AI using the selected sources.\n",
    "- The interview will be a multi-turn conversation to extract detailed insights as shown in the STORM paper.\n",
    "- These interviews will be captured in a using sub-graphs with their internal state.\n",
    "\n",
    "Research Process\n",
    "\n",
    "- Experts will gather information to answer analyst questions in parallel.\n",
    "- And all interviews will be conducted simultaneously through map-reduce.\n",
    "\n",
    "Output Format\n",
    "\n",
    "- The gathered insights from each interview will be synthesized into a final report.\n",
    "- We'll use customizable prompts for the report, allowing for a flexible output format."
   ]
  },
  {
   "cell_type": "markdown",
   "id": "250c03f8",
   "metadata": {},
   "source": [
    "### 1. Setup the environment"
   ]
  },
  {
   "cell_type": "code",
   "execution_count": 1,
   "id": "4a75234b",
   "metadata": {},
   "outputs": [],
   "source": [
    "# connect with gemini api\n",
    "import getpass\n",
    "import os\n",
    "\n",
    "if \"GOOGLE_API_KEY\" not in os.environ:\n",
    "    os.environ[\"GOOGLE_API_KEY\"] = getpass.getpass(\"Enter your Google AI API key: \")"
   ]
  },
  {
   "cell_type": "code",
   "execution_count": 2,
   "id": "a080ec76",
   "metadata": {},
   "outputs": [],
   "source": [
    "# initialize llm chat model\n",
    "from langchain_google_genai import ChatGoogleGenerativeAI\n",
    "from google.genai.types import GenerateContentConfig\n",
    "\n",
    "\n",
    "system_instruction = \"\"\"\n",
    "                        You are a phone-agent assistant.  \n",
    "                        \n",
    "                        Keep all messages very short—just a single question or brief answer.  \n",
    "                        \n",
    "                        Act as if you’re on a live call: no long explanations or chit-chat.  \n",
    "                        \n",
    "                        Always reference prior chat context and stay aligned with the conversation.  \n",
    "                        \n",
    "                    \"\"\"\n",
    "\n",
    "llm = ChatGoogleGenerativeAI(\n",
    "    model=\"gemini-2.0-flash-001\",\n",
    "    temperature=0,\n",
    "    max_tokens=None,\n",
    "    timeout=None,\n",
    "    max_retries=2,\n",
    "    config=GenerateContentConfig(\n",
    "        system_instruction=system_instruction,\n",
    "    ),\n",
    "    # other params...\n",
    ")"
   ]
  },
  {
   "cell_type": "code",
   "execution_count": 3,
   "id": "fd6650ca",
   "metadata": {},
   "outputs": [],
   "source": [
    "import os, getpass\n",
    "\n",
    "def _set_env(var: str):\n",
    "    if not os.environ.get(var):\n",
    "        os.environ[var] = getpass.getpass(f\"{var}: \")"
   ]
  },
  {
   "cell_type": "code",
   "execution_count": 4,
   "id": "91f93d69",
   "metadata": {},
   "outputs": [
    {
     "data": {
      "text/plain": [
       "AIMessage(content=\"As a large language model, I don't have a name. You can just call me Bard.\", additional_kwargs={}, response_metadata={'prompt_feedback': {'block_reason': 0, 'safety_ratings': []}, 'finish_reason': 'STOP', 'model_name': 'gemini-2.0-flash-001', 'safety_ratings': []}, id='run--2bb1d431-dcec-4d69-8a71-23b948eddd64-0', usage_metadata={'input_tokens': 3, 'output_tokens': 22, 'total_tokens': 25, 'input_token_details': {'cache_read': 0}})"
      ]
     },
     "execution_count": 4,
     "metadata": {},
     "output_type": "execute_result"
    }
   ],
   "source": [
    "from langfuse.callback import CallbackHandler\n",
    "\n",
    "# make a simple trace to the langfuse\n",
    "langfuse_handler = CallbackHandler(\n",
    "    secret_key=\"sk-lf-b810fab9-0dc8-4675-a77c-fe3c9bf80bfc\",\n",
    "    public_key=\"pk-lf-a2d11315-f91c-44ba-a414-d8f335196820\",\n",
    "    host=\"https://cloud.langfuse.com\"\n",
    "    # host=\"https://us.cloud.langfuse.com\", # 🇺🇸 US region\n",
    ")\n",
    " \n",
    "# Your Langchain code \n",
    "# Add Langfuse handler as callback (classic and LCEL)\n",
    "llm.invoke( \"What is name\", config={\"callbacks\": [langfuse_handler]})"
   ]
  },
  {
   "cell_type": "markdown",
   "id": "63453574",
   "metadata": {},
   "source": [
    "### 2. Generate team of sub agents\n",
    "\n",
    "AI analysts, each focusing on one sub-topic."
   ]
  },
  {
   "cell_type": "code",
   "execution_count": 23,
   "id": "84b76040",
   "metadata": {},
   "outputs": [],
   "source": [
    "from typing import List\n",
    "from typing_extensions import TypedDict\n",
    "from pydantic import BaseModel, Field\n",
    "\n",
    "# class to get structured analyst from the llm\n",
    "class Analyst(BaseModel):\n",
    "    # the state or relation of being closely associated or affiliated with a particular Analyst.\n",
    "    affiliation: str = Field(\n",
    "        description=\"Primary affiliation of the analyst.\"\n",
    "        )\n",
    "    # name of the analyst\n",
    "    name: str = Field(\n",
    "        description=\"name of the analyst\"\n",
    "    )\n",
    "    # role of the analyst in terms of topic\n",
    "    role: str = Field(\n",
    "        description=\"Description of the analyst focus, concerns, and motives.\"\n",
    "    ) \n",
    "    # this method is callable like a property but behind is a function \n",
    "    @property\n",
    "    def persona(self) -> str:\n",
    "        return f\"Name: {self.name}\\nRole: {self.role}\\nAffiliation: {self.affiliation}\\nDescription: {self.description}\\n\"\n",
    "\n",
    "# this class is to get list of Analysts form llm model  \n",
    "class Perspectives(BaseModel):\n",
    "    analysts: List[Analyst] = Field(\n",
    "        description=\"Comprehensive list of analysts with their roles and affiliations.\",\n",
    "    )\n",
    "\n",
    "# then make the internal state of the subgraph generate analysts\n",
    "class GenerateAnalystsState(TypedDict):\n",
    "    topic: str # reseach topic\n",
    "    max_analysts: int # maximum number of analysts\n",
    "    human_analyst_feedback: str # any human feedback to llm\n",
    "    analysts: List[Analyst] # generated analysts"
   ]
  },
  {
   "cell_type": "markdown",
   "id": "931cb77a",
   "metadata": {},
   "source": [
    "# Requirment analysis agent\n",
    "Get requirment from the client and make questions and make a report about the requirement\n",
    "\n",
    "## 1. Get user need as message and generate sub-parts to explore more\n",
    "\n",
    "This sub graph generate sub headings from the user need.\n",
    "\n",
    "These generated sub heading leater used for more clrarifications of user requirements."
   ]
  },
  {
   "cell_type": "code",
   "execution_count": 5,
   "id": "570a05f9",
   "metadata": {},
   "outputs": [],
   "source": [
    "from typing import List\n",
    "from typing_extensions import TypedDict\n",
    "from pydantic import BaseModel, Field\n",
    "from langgraph.graph import MessagesState\n",
    "\n",
    "class GeneratedSubHeading(BaseModel):\n",
    "    generated_sub_heading: str = Field(None, description=\"generated sub part for understand the user need.\")\n",
    "\n",
    "# sub graph state\n",
    "class SubHeadingState(MessagesState):\n",
    "    max_generated_sub_headings: int # Number of generated queries\n",
    "    generated_sub_headings: List[GeneratedSubHeading] # Generated questions\n",
    "    current_focus: str\n",
    "\n",
    "class Perspectives(BaseModel):\n",
    "    sub_headings: List[GeneratedSubHeading] = Field(\n",
    "        description=\"Comprehensive list of sub part headings that align with user need.\",\n",
    "    )"
   ]
  },
  {
   "cell_type": "code",
   "execution_count": 6,
   "id": "dcf692cf",
   "metadata": {},
   "outputs": [],
   "source": [
    "generate_sub_headings_instructions = \"\"\"You are an caller agent user call for specific need.\n",
    "                                 \n",
    "                                 So you need do identify sub parts of the user need and generate sub part headings for get good understand about user need.\n",
    "\n",
    "                                 You need to generate maximum {max_sub_parts} sub parts to get clear understand about user need.\n",
    "                                 \n",
    "                                 \"\"\""
   ]
  },
  {
   "cell_type": "code",
   "execution_count": 7,
   "id": "2b2d078e",
   "metadata": {},
   "outputs": [],
   "source": [
    "# test for question generation.\n",
    "from IPython.display import Image, display\n",
    "from langgraph.graph import START, END, StateGraph\n",
    "from langgraph.checkpoint.memory import MemorySaver\n",
    "from langchain_core.messages import AIMessage, HumanMessage, SystemMessage\n",
    "\n",
    "# Make the system message\n",
    "system_message = generate_sub_headings_instructions.format(max_sub_parts=5)\n",
    "\n",
    "# Enforce structured output\n",
    "structured_llm = llm.with_structured_output(Perspectives)\n",
    "\n",
    "# Generate question \n",
    "queries = structured_llm.invoke([SystemMessage(content=system_message)]+[HumanMessage(content=\"Generate sub part headings.\")]+ [HumanMessage(content=\"I want to build a website\")])"
   ]
  },
  {
   "cell_type": "code",
   "execution_count": 8,
   "id": "9788e4cf",
   "metadata": {},
   "outputs": [
    {
     "name": "stdout",
     "output_type": "stream",
     "text": [
      "[GeneratedSubHeading(generated_sub_heading='Purpose of the website'), GeneratedSubHeading(generated_sub_heading='Target audience'), GeneratedSubHeading(generated_sub_heading='Website features'), GeneratedSubHeading(generated_sub_heading='Content strategy'), GeneratedSubHeading(generated_sub_heading='Technical requirements')]\n"
     ]
    }
   ],
   "source": [
    "print(queries.sub_headings)"
   ]
  },
  {
   "cell_type": "code",
   "execution_count": 9,
   "id": "34705bf3",
   "metadata": {},
   "outputs": [],
   "source": [
    "from IPython.display import Image, display\n",
    "from langgraph.graph import START, END, StateGraph\n",
    "from langgraph.checkpoint.memory import MemorySaver\n",
    "from langchain_core.messages import AIMessage, HumanMessage, SystemMessage\n",
    "\n",
    "def generate_sub_headings(state: SubHeadingState):\n",
    "    # define the variables\n",
    "    max_sub_headings=state[\"max_generated_sub_headings\"]\n",
    "\n",
    "    # get the history of the messages\n",
    "    messages = state.get('messages', [])\n",
    "    if not messages:\n",
    "        raise ValueError(\"The 'messages' list is empty. Cannot generate subheadings without a conversation history.\")\n",
    "\n",
    "    # get the last message\n",
    "    message = messages[-1]\n",
    "\n",
    "\n",
    "    # get the structed output\n",
    "    system_message = generate_sub_headings_instructions.format(max_sub_parts=max_sub_headings)\n",
    "\n",
    "    # Enforce structured output\n",
    "    structured_llm = llm.with_structured_output(Perspectives)\n",
    "\n",
    "    # Generate question \n",
    "    subheadings = structured_llm.invoke([SystemMessage(content=system_message)]+[HumanMessage(content=\"Generate sub part headings.\")]+[message])\n",
    "    \n",
    "    # update the state\n",
    "    return {\"generated_sub_headings\": subheadings}"
   ]
  },
  {
   "cell_type": "code",
   "execution_count": 10,
   "id": "76f6ed94",
   "metadata": {},
   "outputs": [
    {
     "data": {
      "image/png": "[encoded data removed]",
      "text/plain": [
       "<IPython.core.display.Image object>"
      ]
     },
     "metadata": {},
     "output_type": "display_data"
    }
   ],
   "source": [
    "# make a subgraph to generate subheading based on the user need\n",
    "GenerateSubHeadingBuilder = StateGraph(SubHeadingState)\n",
    "GenerateSubHeadingBuilder.add_node(\"generate_sub_headings\", generate_sub_headings)\n",
    "\n",
    "# make connections\n",
    "GenerateSubHeadingBuilder.add_edge(START,\"generate_sub_headings\")\n",
    "GenerateSubHeadingBuilder.add_edge(\"generate_sub_headings\",END)\n",
    "\n",
    "# compile\n",
    "memory = MemorySaver()\n",
    "graph = GenerateSubHeadingBuilder.compile(checkpointer=memory)\n",
    "\n",
    "# view\n",
    "display(Image(graph.get_graph(xray=1).draw_mermaid_png()))"
   ]
  },
  {
   "cell_type": "code",
   "execution_count": 11,
   "id": "3bd650c8",
   "metadata": {},
   "outputs": [
    {
     "data": {
      "text/plain": [
       "{'messages': [HumanMessage(content='I want to build a mobile app', additional_kwargs={}, response_metadata={}, id='bda3af18-d272-4f9a-88c0-adac68a78b74')],\n",
       " 'max_generated_sub_headings': 10,\n",
       " 'generated_sub_headings': Perspectives(sub_headings=[GeneratedSubHeading(generated_sub_heading='App Platform (iOS, Android, or both)'), GeneratedSubHeading(generated_sub_heading='Target Audience'), GeneratedSubHeading(generated_sub_heading='App Purpose and Functionality'), GeneratedSubHeading(generated_sub_heading='Monetization Strategy'), GeneratedSubHeading(generated_sub_heading='Development Budget'), GeneratedSubHeading(generated_sub_heading='Timeline for Development'), GeneratedSubHeading(generated_sub_heading='Required Features'), GeneratedSubHeading(generated_sub_heading='Design Preferences'), GeneratedSubHeading(generated_sub_heading='Maintenance Plan'), GeneratedSubHeading(generated_sub_heading='Marketing Strategy')])}"
      ]
     },
     "execution_count": 11,
     "metadata": {},
     "output_type": "execute_result"
    }
   ],
   "source": [
    "# sample graph invoke\n",
    "thread = {\"configurable\": {\"thread_id\": \"1\"}}\n",
    "graph.invoke({\"messages\": [HumanMessage(content=\"I want to build a mobile app\")], \"max_generated_sub_headings\": 10}, thread)"
   ]
  },
  {
   "cell_type": "markdown",
   "id": "e7bbd04c",
   "metadata": {},
   "source": [
    "## 2. Make sub headings as topics make a conversation with user.\n",
    "\n",
    "This sub graph use the generated sub headings to explore more about this topic with the customer."
   ]
  },
  {
   "cell_type": "code",
   "execution_count": 12,
   "id": "bb088c7e",
   "metadata": {},
   "outputs": [],
   "source": [
    "last_state = {'messages': [HumanMessage(content='I want to build a website', additional_kwargs={}, response_metadata={}, id='5decbfe6-0788-4a81-a852-23a41bd84988'),\n",
    "            HumanMessage(content='I want to build a website', additional_kwargs={}, response_metadata={}, id='15ff0fa4-0ca9-48bb-97cf-1b1f66a9a338'),\n",
    "            HumanMessage(content='I want to build a website', additional_kwargs={}, response_metadata={}, id='55b2969b-6f88-4370-a1a5-46bdf94bc4a7'),\n",
    "            HumanMessage(content='I want to build a mobile app', additional_kwargs={}, response_metadata={}, id='cdf39020-1ec1-4977-b3b5-ed3dab1336bd')],\n",
    "            'max_generated_sub_headings': 10,\n",
    "            'generated_sub_headings': Perspectives(sub_headings=[GeneratedSubHeading(generated_sub_heading='App Functionality'), GeneratedSubHeading(generated_sub_heading='Target Audience'), GeneratedSubHeading(generated_sub_heading='Platform (iOS, Android, or both)'), GeneratedSubHeading(generated_sub_heading='Development Budget'), GeneratedSubHeading(generated_sub_heading='Monetization Strategy'), GeneratedSubHeading(generated_sub_heading='Timeline for Development'), GeneratedSubHeading(generated_sub_heading='Required Features'), GeneratedSubHeading(generated_sub_heading='Design Preferences'), GeneratedSubHeading(generated_sub_heading='Marketing Plan'), GeneratedSubHeading(generated_sub_heading='Maintenance and Updates')])}"
   ]
  },
  {
   "cell_type": "code",
   "execution_count": 22,
   "id": "008a0235",
   "metadata": {},
   "outputs": [
    {
     "data": {
      "image/png": "[encoded data removed]",
      "text/plain": [
       "<IPython.core.display.Image object>"
      ]
     },
     "metadata": {},
     "output_type": "display_data"
    }
   ],
   "source": [
    "# add dummy node for add the condition check\n",
    "def ckeck_availability_sub_headings(state: SubHeadingState):\n",
    "    # dummy node\n",
    "    return state\n",
    "\n",
    "# sub_headings check for availability if available go to the get sub heading \n",
    "# else end\n",
    "def availability_sub_headings(state: SubHeadingState):\n",
    "    # check the sub headings are available \n",
    "    sub_headings = state.pop('generated_sub_headings', [])\n",
    "\n",
    "    # if not go to the end\n",
    "    if not sub_headings:\n",
    "        return \"END\"\n",
    "    \n",
    "    # otherwise return get_sub_headig node\n",
    "    return \"get_sub_heading\"\n",
    "\n",
    "# this method get the sub heading from the list and make it current forcus\n",
    "def get_sub_heading(state: SubHeadingState):\n",
    "    # get the current sub heading one by one\n",
    "    sub_headings = state.pop('generated_sub_headings', [])\n",
    "\n",
    "    # if there is no remaining subheading go to the next sub graph to generate report\n",
    "    if not sub_headings:\n",
    "        ValueError(\"all subheadings are finished.\")\n",
    "    \n",
    "    # popped sub heading should mark as the new focus in the conversation \n",
    "    current_focus = sub_headings.sub_headings[0].generated_sub_heading\n",
    "\n",
    "    # these subheadings are the remaining subheadings\n",
    "    sub_headings.sub_headings = sub_headings.sub_headings[1:]\n",
    "    \n",
    "    return {'generated_sub_headings':sub_headings, 'current_focus':current_focus}\n",
    "\n",
    "# this method continue the conversation \n",
    "def continue_conversation(state: SubHeadingState):\n",
    "    \n",
    "    # get the current forcus and make a question \n",
    "    current_focus = state.get(\"current_focus\",\"\")\n",
    "\n",
    "    # this function continue the chat with user with different sub headings\n",
    "    generate_question = \"\"\"\n",
    "                        \n",
    "                        Task: Ask the user one focused question based on {current_focus}.\n",
    "\n",
    "                        Examples:\n",
    "\n",
    "                        1) current_focus = \"flight booking details\"\n",
    "                        ⇒ “Understood—what’s your preferred departure airport and date?”\n",
    "\n",
    "                        2) current_focus = \"password reset\"\n",
    "                        ⇒ “Sure—could you please confirm your registered email address?”\n",
    "\n",
    "                        3) current_focus = \"order cancellation\"\n",
    "                        ⇒ “Okay—what’s the order number you’d like to cancel?”\n",
    "                        \n",
    "                        \"\"\"\n",
    "    \n",
    "    # history messages\n",
    "    messages = state.get(\"messages\", [])\n",
    "    \n",
    "    # make the system message to \n",
    "    system_message = generate_question.format(current_focus=current_focus)\n",
    "\n",
    "    # invoke the model with the history \n",
    "    question = llm.invoke(messages + [system_message])\n",
    "    print(\"assistant: \",question.content)\n",
    "\n",
    "    # answer to the question \n",
    "    user_reply = input(\"user: \")\n",
    "    \n",
    "    # update the messages with ai question and the human response\n",
    "    return {'messages': [question, HumanMessage(user_reply)]}    \n",
    "    \n",
    "\n",
    "# make a subgraph to generate subheading based on the user need\n",
    "ContinueConversationBuilder = StateGraph(SubHeadingState)\n",
    "ContinueConversationBuilder.add_node(\"get_sub_heading\", get_sub_heading)\n",
    "ContinueConversationBuilder.add_node(\"continue_conversation\", continue_conversation)\n",
    "ContinueConversationBuilder.add_node(\"ckeck_availability_sub_headings\", ckeck_availability_sub_headings)\n",
    "\n",
    "# make connections\n",
    "ContinueConversationBuilder.add_edge(START, \"ckeck_availability_sub_headings\")\n",
    "ContinueConversationBuilder.add_conditional_edges(\"ckeck_availability_sub_headings\", availability_sub_headings,\n",
    "                                                {\"END\": END, \"get_sub_heading\": \"get_sub_heading\"})\n",
    "ContinueConversationBuilder.add_edge(\"get_sub_heading\", \"continue_conversation\")\n",
    "ContinueConversationBuilder.add_edge(\"continue_conversation\", \"ckeck_availability_sub_headings\")\n",
    "\n",
    "# compile\n",
    "memory = MemorySaver()\n",
    "graph = ContinueConversationBuilder.compile(checkpointer=memory)\n",
    "\n",
    "# view\n",
    "display(Image(graph.get_graph(xray=1).draw_mermaid_png()))"
   ]
  },
  {
   "cell_type": "code",
   "execution_count": null,
   "id": "72c0cad6",
   "metadata": {},
   "outputs": [
    {
     "name": "stdout",
     "output_type": "stream",
     "text": [
      "assistant:  Okay, I understand. \n",
      "\n",
      "What is the current_focus?\n",
      "assistant:  Okay—who is the target audience for this road sign quiz app (e.g., learner drivers, experienced drivers, children, international drivers)?\n",
      "assistant:  Will this road sign quiz app be for iOS, Android, or both platforms?\n",
      "assistant:  Given that we're discussing a road sign quiz app for learner drivers, and the current focus is \"Development Budget,\" what's your estimated budget for developing this app?\n"
     ]
    }
   ],
   "source": [
    "# sample graph invoke\n",
    "thread = {\"configurable\": {\"thread_id\": \"1\"},\"recursion_limit\": 100}\n",
    "graph.invoke({\"max_generated_sub_headings\": 10,'generated_sub_headings': Perspectives(sub_headings=[GeneratedSubHeading(generated_sub_heading='App Functionality'), GeneratedSubHeading(generated_sub_heading='Target Audience'), GeneratedSubHeading(generated_sub_heading='Platform (iOS, Android, or both)'), GeneratedSubHeading(generated_sub_heading='Development Budget'), GeneratedSubHeading(generated_sub_heading='Monetization Strategy'), GeneratedSubHeading(generated_sub_heading='Timeline for Development'), GeneratedSubHeading(generated_sub_heading='Required Features'), GeneratedSubHeading(generated_sub_heading='Design Preferences'), GeneratedSubHeading(generated_sub_heading='Marketing Plan'), GeneratedSubHeading(generated_sub_heading='Maintenance and Updates')])}, thread)"
   ]
  },
  {
   "cell_type": "code",
   "execution_count": 17,
   "id": "a76ae491",
   "metadata": {},
   "outputs": [
    {
     "data": {
      "image/png": "[encoded data removed]",
      "text/plain": [
       "<IPython.core.display.Image object>"
      ]
     },
     "metadata": {},
     "output_type": "display_data"
    }
   ],
   "source": [
    "# connect both sub graphs\n",
    "entry_builder = StateGraph(SubHeadingState)\n",
    "entry_builder.add_node(\"generate_sub_heading\",GenerateSubHeadingBuilder.compile())\n",
    "entry_builder.add_node(\"continue_conversation\",ContinueConversationBuilder.compile())\n",
    "\n",
    "# make the connections between sub graphs\n",
    "entry_builder.add_edge(START, \"generate_sub_heading\")\n",
    "entry_builder.add_edge(\"generate_sub_heading\", \"continue_conversation\")\n",
    "entry_builder.add_edge(\"continue_conversation\", END)\n",
    "\n",
    "graph = entry_builder.compile()\n",
    "\n",
    "display(Image(graph.get_graph(xray=1).draw_mermaid_png()))"
   ]
  },
  {
   "cell_type": "code",
   "execution_count": 20,
   "id": "ea2a3b30",
   "metadata": {},
   "outputs": [
    {
     "name": "stdout",
     "output_type": "stream",
     "text": [
      "assistant:  Okay, to help me understand what kind of mobile app you want to build, what is the primary function or purpose of the app? What will it *do* for the user?\n",
      "assistant:  Okay, great! To make sure I understand the target audience and content correctly, is this app intended for people learning to drive, experienced drivers looking to refresh their knowledge, or perhaps a specific type of driver (e.g., commercial drivers)?\n",
      "assistant:  Okay, will this app be for iOS (Apple), Android, or both platforms?\n",
      "assistant:  current_focus = \"Development Budget\"\n",
      "⇒ “Got it. Do you have a specific budget range in mind for the app development?”\n",
      "assistant:  Given the budget of $400, are you planning to monetize the app (e.g., through ads, in-app purchases, or a subscription model) to help offset development costs?\n",
      "assistant:  Given the budget and the need to monetize, what's your ideal timeline for launching the app? Are you aiming for a quick release of a basic version, or are you willing to take more time to develop a more comprehensive app?\n",
      "assistant:  Given the need for a quick release of a basic version (V1), what are the absolute must-have features for this initial version of the road sign quiz app?\n",
      "assistant:  Given the focus on a basic V1 with 10 quizzes, do you have any preferences for the visual design or user interface of the app (e.g., a specific color scheme, a clean and simple layout, or any example apps you like the look of)?\n",
      "assistant:  current_focus = \"Development Budget\"\n",
      "⇒ “Got it. Do you have a specific budget range in mind for the app development?”\n",
      "assistant:  Given the need for a quick release and limited budget, how frequently do you anticipate needing to update the app with new road signs or quiz content after the initial launch?\n"
     ]
    },
    {
     "ename": "IndexError",
     "evalue": "list index out of range",
     "output_type": "error",
     "traceback": [
      "\u001b[1;31m---------------------------------------------------------------------------\u001b[0m",
      "\u001b[1;31mIndexError\u001b[0m                                Traceback (most recent call last)",
      "Cell \u001b[1;32mIn[20], line 3\u001b[0m\n\u001b[0;32m      1\u001b[0m \u001b[38;5;66;03m# sample graph invoke\u001b[39;00m\n\u001b[0;32m      2\u001b[0m thread \u001b[38;5;241m=\u001b[39m {\u001b[38;5;124m\"\u001b[39m\u001b[38;5;124mconfigurable\u001b[39m\u001b[38;5;124m\"\u001b[39m: {\u001b[38;5;124m\"\u001b[39m\u001b[38;5;124mthread_id\u001b[39m\u001b[38;5;124m\"\u001b[39m: \u001b[38;5;124m\"\u001b[39m\u001b[38;5;124m1\u001b[39m\u001b[38;5;124m\"\u001b[39m},\u001b[38;5;124m\"\u001b[39m\u001b[38;5;124mrecursion_limit\u001b[39m\u001b[38;5;124m\"\u001b[39m:\u001b[38;5;241m50\u001b[39m}\n\u001b[1;32m----> 3\u001b[0m \u001b[43mgraph\u001b[49m\u001b[38;5;241;43m.\u001b[39;49m\u001b[43minvoke\u001b[49m\u001b[43m(\u001b[49m\u001b[43m{\u001b[49m\u001b[38;5;124;43m\"\u001b[39;49m\u001b[38;5;124;43mmessages\u001b[39;49m\u001b[38;5;124;43m\"\u001b[39;49m\u001b[43m:\u001b[49m\u001b[43m \u001b[49m\u001b[43m[\u001b[49m\u001b[43mHumanMessage\u001b[49m\u001b[43m(\u001b[49m\u001b[43mcontent\u001b[49m\u001b[38;5;241;43m=\u001b[39;49m\u001b[38;5;124;43m\"\u001b[39;49m\u001b[38;5;124;43mI want to build a mobile app\u001b[39;49m\u001b[38;5;124;43m\"\u001b[39;49m\u001b[43m)\u001b[49m\u001b[43m]\u001b[49m\u001b[43m,\u001b[49m\u001b[43m \u001b[49m\u001b[38;5;124;43m\"\u001b[39;49m\u001b[38;5;124;43mmax_generated_sub_headings\u001b[39;49m\u001b[38;5;124;43m\"\u001b[39;49m\u001b[43m:\u001b[49m\u001b[43m \u001b[49m\u001b[38;5;241;43m10\u001b[39;49m\u001b[43m}\u001b[49m\u001b[43m,\u001b[49m\u001b[43m \u001b[49m\u001b[43mthread\u001b[49m\u001b[43m)\u001b[49m\n",
      "File \u001b[1;32mc:\\Users\\janit\\anaconda3\\envs\\torchenv\\Lib\\site-packages\\langgraph\\pregel\\__init__.py:2823\u001b[0m, in \u001b[0;36mPregel.invoke\u001b[1;34m(self, input, config, stream_mode, output_keys, interrupt_before, interrupt_after, checkpoint_during, debug, **kwargs)\u001b[0m\n\u001b[0;32m   2820\u001b[0m chunks: \u001b[38;5;28mlist\u001b[39m[Union[\u001b[38;5;28mdict\u001b[39m[\u001b[38;5;28mstr\u001b[39m, Any], Any]] \u001b[38;5;241m=\u001b[39m []\n\u001b[0;32m   2821\u001b[0m interrupts: \u001b[38;5;28mlist\u001b[39m[Interrupt] \u001b[38;5;241m=\u001b[39m []\n\u001b[1;32m-> 2823\u001b[0m \u001b[43m\u001b[49m\u001b[38;5;28;43;01mfor\u001b[39;49;00m\u001b[43m \u001b[49m\u001b[43mchunk\u001b[49m\u001b[43m \u001b[49m\u001b[38;5;129;43;01min\u001b[39;49;00m\u001b[43m \u001b[49m\u001b[38;5;28;43mself\u001b[39;49m\u001b[38;5;241;43m.\u001b[39;49m\u001b[43mstream\u001b[49m\u001b[43m(\u001b[49m\n\u001b[0;32m   2824\u001b[0m \u001b[43m    \u001b[49m\u001b[38;5;28;43minput\u001b[39;49m\u001b[43m,\u001b[49m\n\u001b[0;32m   2825\u001b[0m \u001b[43m    \u001b[49m\u001b[43mconfig\u001b[49m\u001b[43m,\u001b[49m\n\u001b[0;32m   2826\u001b[0m \u001b[43m    \u001b[49m\u001b[43mstream_mode\u001b[49m\u001b[38;5;241;43m=\u001b[39;49m\u001b[43mstream_mode\u001b[49m\u001b[43m,\u001b[49m\n\u001b[0;32m   2827\u001b[0m \u001b[43m    \u001b[49m\u001b[43moutput_keys\u001b[49m\u001b[38;5;241;43m=\u001b[39;49m\u001b[43moutput_keys\u001b[49m\u001b[43m,\u001b[49m\n\u001b[0;32m   2828\u001b[0m \u001b[43m    \u001b[49m\u001b[43minterrupt_before\u001b[49m\u001b[38;5;241;43m=\u001b[39;49m\u001b[43minterrupt_before\u001b[49m\u001b[43m,\u001b[49m\n\u001b[0;32m   2829\u001b[0m \u001b[43m    \u001b[49m\u001b[43minterrupt_after\u001b[49m\u001b[38;5;241;43m=\u001b[39;49m\u001b[43minterrupt_after\u001b[49m\u001b[43m,\u001b[49m\n\u001b[0;32m   2830\u001b[0m \u001b[43m    \u001b[49m\u001b[43mcheckpoint_during\u001b[49m\u001b[38;5;241;43m=\u001b[39;49m\u001b[43mcheckpoint_during\u001b[49m\u001b[43m,\u001b[49m\n\u001b[0;32m   2831\u001b[0m \u001b[43m    \u001b[49m\u001b[43mdebug\u001b[49m\u001b[38;5;241;43m=\u001b[39;49m\u001b[43mdebug\u001b[49m\u001b[43m,\u001b[49m\n\u001b[0;32m   2832\u001b[0m \u001b[43m    \u001b[49m\u001b[38;5;241;43m*\u001b[39;49m\u001b[38;5;241;43m*\u001b[39;49m\u001b[43mkwargs\u001b[49m\u001b[43m,\u001b[49m\n\u001b[0;32m   2833\u001b[0m \u001b[43m\u001b[49m\u001b[43m)\u001b[49m\u001b[43m:\u001b[49m\n\u001b[0;32m   2834\u001b[0m \u001b[43m    \u001b[49m\u001b[38;5;28;43;01mif\u001b[39;49;00m\u001b[43m \u001b[49m\u001b[43mstream_mode\u001b[49m\u001b[43m \u001b[49m\u001b[38;5;241;43m==\u001b[39;49m\u001b[43m \u001b[49m\u001b[38;5;124;43m\"\u001b[39;49m\u001b[38;5;124;43mvalues\u001b[39;49m\u001b[38;5;124;43m\"\u001b[39;49m\u001b[43m:\u001b[49m\n\u001b[0;32m   2835\u001b[0m \u001b[43m        \u001b[49m\u001b[38;5;28;43;01mif\u001b[39;49;00m\u001b[43m \u001b[49m\u001b[43m(\u001b[49m\n\u001b[0;32m   2836\u001b[0m \u001b[43m            \u001b[49m\u001b[38;5;28;43misinstance\u001b[39;49m\u001b[43m(\u001b[49m\u001b[43mchunk\u001b[49m\u001b[43m,\u001b[49m\u001b[43m \u001b[49m\u001b[38;5;28;43mdict\u001b[39;49m\u001b[43m)\u001b[49m\n\u001b[0;32m   2837\u001b[0m \u001b[43m            \u001b[49m\u001b[38;5;129;43;01mand\u001b[39;49;00m\u001b[43m \u001b[49m\u001b[43m(\u001b[49m\u001b[43mints\u001b[49m\u001b[43m \u001b[49m\u001b[38;5;241;43m:=\u001b[39;49m\u001b[43m \u001b[49m\u001b[43mchunk\u001b[49m\u001b[38;5;241;43m.\u001b[39;49m\u001b[43mget\u001b[49m\u001b[43m(\u001b[49m\u001b[43mINTERRUPT\u001b[49m\u001b[43m)\u001b[49m\u001b[43m)\u001b[49m\u001b[43m \u001b[49m\u001b[38;5;129;43;01mis\u001b[39;49;00m\u001b[43m \u001b[49m\u001b[38;5;129;43;01mnot\u001b[39;49;00m\u001b[43m \u001b[49m\u001b[38;5;28;43;01mNone\u001b[39;49;00m\n\u001b[0;32m   2838\u001b[0m \u001b[43m        \u001b[49m\u001b[43m)\u001b[49m\u001b[43m:\u001b[49m\n",
      "File \u001b[1;32mc:\\Users\\janit\\anaconda3\\envs\\torchenv\\Lib\\site-packages\\langgraph\\pregel\\__init__.py:2461\u001b[0m, in \u001b[0;36mPregel.stream\u001b[1;34m(self, input, config, stream_mode, output_keys, interrupt_before, interrupt_after, checkpoint_during, debug, subgraphs)\u001b[0m\n\u001b[0;32m   2455\u001b[0m     \u001b[38;5;66;03m# Similarly to Bulk Synchronous Parallel / Pregel model\u001b[39;00m\n\u001b[0;32m   2456\u001b[0m     \u001b[38;5;66;03m# computation proceeds in steps, while there are channel updates.\u001b[39;00m\n\u001b[0;32m   2457\u001b[0m     \u001b[38;5;66;03m# Channel updates from step N are only visible in step N+1\u001b[39;00m\n\u001b[0;32m   2458\u001b[0m     \u001b[38;5;66;03m# channels are guaranteed to be immutable for the duration of the step,\u001b[39;00m\n\u001b[0;32m   2459\u001b[0m     \u001b[38;5;66;03m# with channel updates applied only at the transition between steps.\u001b[39;00m\n\u001b[0;32m   2460\u001b[0m     \u001b[38;5;28;01mwhile\u001b[39;00m loop\u001b[38;5;241m.\u001b[39mtick(input_keys\u001b[38;5;241m=\u001b[39m\u001b[38;5;28mself\u001b[39m\u001b[38;5;241m.\u001b[39minput_channels):\n\u001b[1;32m-> 2461\u001b[0m \u001b[43m        \u001b[49m\u001b[38;5;28;43;01mfor\u001b[39;49;00m\u001b[43m \u001b[49m\u001b[43m_\u001b[49m\u001b[43m \u001b[49m\u001b[38;5;129;43;01min\u001b[39;49;00m\u001b[43m \u001b[49m\u001b[43mrunner\u001b[49m\u001b[38;5;241;43m.\u001b[39;49m\u001b[43mtick\u001b[49m\u001b[43m(\u001b[49m\n\u001b[0;32m   2462\u001b[0m \u001b[43m            \u001b[49m\u001b[43mloop\u001b[49m\u001b[38;5;241;43m.\u001b[39;49m\u001b[43mtasks\u001b[49m\u001b[38;5;241;43m.\u001b[39;49m\u001b[43mvalues\u001b[49m\u001b[43m(\u001b[49m\u001b[43m)\u001b[49m\u001b[43m,\u001b[49m\n\u001b[0;32m   2463\u001b[0m \u001b[43m            \u001b[49m\u001b[43mtimeout\u001b[49m\u001b[38;5;241;43m=\u001b[39;49m\u001b[38;5;28;43mself\u001b[39;49m\u001b[38;5;241;43m.\u001b[39;49m\u001b[43mstep_timeout\u001b[49m\u001b[43m,\u001b[49m\n\u001b[0;32m   2464\u001b[0m \u001b[43m            \u001b[49m\u001b[43mretry_policy\u001b[49m\u001b[38;5;241;43m=\u001b[39;49m\u001b[38;5;28;43mself\u001b[39;49m\u001b[38;5;241;43m.\u001b[39;49m\u001b[43mretry_policy\u001b[49m\u001b[43m,\u001b[49m\n\u001b[0;32m   2465\u001b[0m \u001b[43m            \u001b[49m\u001b[43mget_waiter\u001b[49m\u001b[38;5;241;43m=\u001b[39;49m\u001b[43mget_waiter\u001b[49m\u001b[43m,\u001b[49m\n\u001b[0;32m   2466\u001b[0m \u001b[43m        \u001b[49m\u001b[43m)\u001b[49m\u001b[43m:\u001b[49m\n\u001b[0;32m   2467\u001b[0m \u001b[43m            \u001b[49m\u001b[38;5;66;43;03m# emit output\u001b[39;49;00m\n\u001b[0;32m   2468\u001b[0m \u001b[43m            \u001b[49m\u001b[38;5;28;43;01myield from\u001b[39;49;00m\u001b[43m \u001b[49m\u001b[43moutput\u001b[49m\u001b[43m(\u001b[49m\u001b[43m)\u001b[49m\n\u001b[0;32m   2469\u001b[0m \u001b[38;5;66;03m# emit output\u001b[39;00m\n",
      "File \u001b[1;32mc:\\Users\\janit\\anaconda3\\envs\\torchenv\\Lib\\site-packages\\langgraph\\pregel\\runner.py:153\u001b[0m, in \u001b[0;36mPregelRunner.tick\u001b[1;34m(self, tasks, reraise, timeout, retry_policy, get_waiter)\u001b[0m\n\u001b[0;32m    151\u001b[0m t \u001b[38;5;241m=\u001b[39m tasks[\u001b[38;5;241m0\u001b[39m]\n\u001b[0;32m    152\u001b[0m \u001b[38;5;28;01mtry\u001b[39;00m:\n\u001b[1;32m--> 153\u001b[0m     \u001b[43mrun_with_retry\u001b[49m\u001b[43m(\u001b[49m\n\u001b[0;32m    154\u001b[0m \u001b[43m        \u001b[49m\u001b[43mt\u001b[49m\u001b[43m,\u001b[49m\n\u001b[0;32m    155\u001b[0m \u001b[43m        \u001b[49m\u001b[43mretry_policy\u001b[49m\u001b[43m,\u001b[49m\n\u001b[0;32m    156\u001b[0m \u001b[43m        \u001b[49m\u001b[43mconfigurable\u001b[49m\u001b[38;5;241;43m=\u001b[39;49m\u001b[43m{\u001b[49m\n\u001b[0;32m    157\u001b[0m \u001b[43m            \u001b[49m\u001b[43mCONFIG_KEY_CALL\u001b[49m\u001b[43m:\u001b[49m\u001b[43m \u001b[49m\u001b[43mpartial\u001b[49m\u001b[43m(\u001b[49m\n\u001b[0;32m    158\u001b[0m \u001b[43m                \u001b[49m\u001b[43m_call\u001b[49m\u001b[43m,\u001b[49m\n\u001b[0;32m    159\u001b[0m \u001b[43m                \u001b[49m\u001b[43mweakref\u001b[49m\u001b[38;5;241;43m.\u001b[39;49m\u001b[43mref\u001b[49m\u001b[43m(\u001b[49m\u001b[43mt\u001b[49m\u001b[43m)\u001b[49m\u001b[43m,\u001b[49m\n\u001b[0;32m    160\u001b[0m \u001b[43m                \u001b[49m\u001b[43mretry\u001b[49m\u001b[38;5;241;43m=\u001b[39;49m\u001b[43mretry_policy\u001b[49m\u001b[43m,\u001b[49m\n\u001b[0;32m    161\u001b[0m \u001b[43m                \u001b[49m\u001b[43mfutures\u001b[49m\u001b[38;5;241;43m=\u001b[39;49m\u001b[43mweakref\u001b[49m\u001b[38;5;241;43m.\u001b[39;49m\u001b[43mref\u001b[49m\u001b[43m(\u001b[49m\u001b[43mfutures\u001b[49m\u001b[43m)\u001b[49m\u001b[43m,\u001b[49m\n\u001b[0;32m    162\u001b[0m \u001b[43m                \u001b[49m\u001b[43mschedule_task\u001b[49m\u001b[38;5;241;43m=\u001b[39;49m\u001b[38;5;28;43mself\u001b[39;49m\u001b[38;5;241;43m.\u001b[39;49m\u001b[43mschedule_task\u001b[49m\u001b[43m,\u001b[49m\n\u001b[0;32m    163\u001b[0m \u001b[43m                \u001b[49m\u001b[43msubmit\u001b[49m\u001b[38;5;241;43m=\u001b[39;49m\u001b[38;5;28;43mself\u001b[39;49m\u001b[38;5;241;43m.\u001b[39;49m\u001b[43msubmit\u001b[49m\u001b[43m,\u001b[49m\n\u001b[0;32m    164\u001b[0m \u001b[43m                \u001b[49m\u001b[43mreraise\u001b[49m\u001b[38;5;241;43m=\u001b[39;49m\u001b[43mreraise\u001b[49m\u001b[43m,\u001b[49m\n\u001b[0;32m    165\u001b[0m \u001b[43m            \u001b[49m\u001b[43m)\u001b[49m\u001b[43m,\u001b[49m\n\u001b[0;32m    166\u001b[0m \u001b[43m        \u001b[49m\u001b[43m}\u001b[49m\u001b[43m,\u001b[49m\n\u001b[0;32m    167\u001b[0m \u001b[43m    \u001b[49m\u001b[43m)\u001b[49m\n\u001b[0;32m    168\u001b[0m     \u001b[38;5;28mself\u001b[39m\u001b[38;5;241m.\u001b[39mcommit(t, \u001b[38;5;28;01mNone\u001b[39;00m)\n\u001b[0;32m    169\u001b[0m \u001b[38;5;28;01mexcept\u001b[39;00m \u001b[38;5;167;01mException\u001b[39;00m \u001b[38;5;28;01mas\u001b[39;00m exc:\n",
      "File \u001b[1;32mc:\\Users\\janit\\anaconda3\\envs\\torchenv\\Lib\\site-packages\\langgraph\\pregel\\retry.py:40\u001b[0m, in \u001b[0;36mrun_with_retry\u001b[1;34m(task, retry_policy, configurable)\u001b[0m\n\u001b[0;32m     38\u001b[0m     task\u001b[38;5;241m.\u001b[39mwrites\u001b[38;5;241m.\u001b[39mclear()\n\u001b[0;32m     39\u001b[0m     \u001b[38;5;66;03m# run the task\u001b[39;00m\n\u001b[1;32m---> 40\u001b[0m     \u001b[38;5;28;01mreturn\u001b[39;00m \u001b[43mtask\u001b[49m\u001b[38;5;241;43m.\u001b[39;49m\u001b[43mproc\u001b[49m\u001b[38;5;241;43m.\u001b[39;49m\u001b[43minvoke\u001b[49m\u001b[43m(\u001b[49m\u001b[43mtask\u001b[49m\u001b[38;5;241;43m.\u001b[39;49m\u001b[43minput\u001b[49m\u001b[43m,\u001b[49m\u001b[43m \u001b[49m\u001b[43mconfig\u001b[49m\u001b[43m)\u001b[49m\n\u001b[0;32m     41\u001b[0m \u001b[38;5;28;01mexcept\u001b[39;00m ParentCommand \u001b[38;5;28;01mas\u001b[39;00m exc:\n\u001b[0;32m     42\u001b[0m     ns: \u001b[38;5;28mstr\u001b[39m \u001b[38;5;241m=\u001b[39m config[CONF][CONFIG_KEY_CHECKPOINT_NS]\n",
      "File \u001b[1;32mc:\\Users\\janit\\anaconda3\\envs\\torchenv\\Lib\\site-packages\\langgraph\\utils\\runnable.py:623\u001b[0m, in \u001b[0;36mRunnableSeq.invoke\u001b[1;34m(self, input, config, **kwargs)\u001b[0m\n\u001b[0;32m    621\u001b[0m     \u001b[38;5;66;03m# run in context\u001b[39;00m\n\u001b[0;32m    622\u001b[0m     \u001b[38;5;28;01mwith\u001b[39;00m set_config_context(config, run) \u001b[38;5;28;01mas\u001b[39;00m context:\n\u001b[1;32m--> 623\u001b[0m         \u001b[38;5;28minput\u001b[39m \u001b[38;5;241m=\u001b[39m \u001b[43mcontext\u001b[49m\u001b[38;5;241;43m.\u001b[39;49m\u001b[43mrun\u001b[49m\u001b[43m(\u001b[49m\u001b[43mstep\u001b[49m\u001b[38;5;241;43m.\u001b[39;49m\u001b[43minvoke\u001b[49m\u001b[43m,\u001b[49m\u001b[43m \u001b[49m\u001b[38;5;28;43minput\u001b[39;49m\u001b[43m,\u001b[49m\u001b[43m \u001b[49m\u001b[43mconfig\u001b[49m\u001b[43m,\u001b[49m\u001b[43m \u001b[49m\u001b[38;5;241;43m*\u001b[39;49m\u001b[38;5;241;43m*\u001b[39;49m\u001b[43mkwargs\u001b[49m\u001b[43m)\u001b[49m\n\u001b[0;32m    624\u001b[0m \u001b[38;5;28;01melse\u001b[39;00m:\n\u001b[0;32m    625\u001b[0m     \u001b[38;5;28minput\u001b[39m \u001b[38;5;241m=\u001b[39m step\u001b[38;5;241m.\u001b[39minvoke(\u001b[38;5;28minput\u001b[39m, config)\n",
      "File \u001b[1;32mc:\\Users\\janit\\anaconda3\\envs\\torchenv\\Lib\\site-packages\\langgraph\\pregel\\__init__.py:2823\u001b[0m, in \u001b[0;36mPregel.invoke\u001b[1;34m(self, input, config, stream_mode, output_keys, interrupt_before, interrupt_after, checkpoint_during, debug, **kwargs)\u001b[0m\n\u001b[0;32m   2820\u001b[0m chunks: \u001b[38;5;28mlist\u001b[39m[Union[\u001b[38;5;28mdict\u001b[39m[\u001b[38;5;28mstr\u001b[39m, Any], Any]] \u001b[38;5;241m=\u001b[39m []\n\u001b[0;32m   2821\u001b[0m interrupts: \u001b[38;5;28mlist\u001b[39m[Interrupt] \u001b[38;5;241m=\u001b[39m []\n\u001b[1;32m-> 2823\u001b[0m \u001b[43m\u001b[49m\u001b[38;5;28;43;01mfor\u001b[39;49;00m\u001b[43m \u001b[49m\u001b[43mchunk\u001b[49m\u001b[43m \u001b[49m\u001b[38;5;129;43;01min\u001b[39;49;00m\u001b[43m \u001b[49m\u001b[38;5;28;43mself\u001b[39;49m\u001b[38;5;241;43m.\u001b[39;49m\u001b[43mstream\u001b[49m\u001b[43m(\u001b[49m\n\u001b[0;32m   2824\u001b[0m \u001b[43m    \u001b[49m\u001b[38;5;28;43minput\u001b[39;49m\u001b[43m,\u001b[49m\n\u001b[0;32m   2825\u001b[0m \u001b[43m    \u001b[49m\u001b[43mconfig\u001b[49m\u001b[43m,\u001b[49m\n\u001b[0;32m   2826\u001b[0m \u001b[43m    \u001b[49m\u001b[43mstream_mode\u001b[49m\u001b[38;5;241;43m=\u001b[39;49m\u001b[43mstream_mode\u001b[49m\u001b[43m,\u001b[49m\n\u001b[0;32m   2827\u001b[0m \u001b[43m    \u001b[49m\u001b[43moutput_keys\u001b[49m\u001b[38;5;241;43m=\u001b[39;49m\u001b[43moutput_keys\u001b[49m\u001b[43m,\u001b[49m\n\u001b[0;32m   2828\u001b[0m \u001b[43m    \u001b[49m\u001b[43minterrupt_before\u001b[49m\u001b[38;5;241;43m=\u001b[39;49m\u001b[43minterrupt_before\u001b[49m\u001b[43m,\u001b[49m\n\u001b[0;32m   2829\u001b[0m \u001b[43m    \u001b[49m\u001b[43minterrupt_after\u001b[49m\u001b[38;5;241;43m=\u001b[39;49m\u001b[43minterrupt_after\u001b[49m\u001b[43m,\u001b[49m\n\u001b[0;32m   2830\u001b[0m \u001b[43m    \u001b[49m\u001b[43mcheckpoint_during\u001b[49m\u001b[38;5;241;43m=\u001b[39;49m\u001b[43mcheckpoint_during\u001b[49m\u001b[43m,\u001b[49m\n\u001b[0;32m   2831\u001b[0m \u001b[43m    \u001b[49m\u001b[43mdebug\u001b[49m\u001b[38;5;241;43m=\u001b[39;49m\u001b[43mdebug\u001b[49m\u001b[43m,\u001b[49m\n\u001b[0;32m   2832\u001b[0m \u001b[43m    \u001b[49m\u001b[38;5;241;43m*\u001b[39;49m\u001b[38;5;241;43m*\u001b[39;49m\u001b[43mkwargs\u001b[49m\u001b[43m,\u001b[49m\n\u001b[0;32m   2833\u001b[0m \u001b[43m\u001b[49m\u001b[43m)\u001b[49m\u001b[43m:\u001b[49m\n\u001b[0;32m   2834\u001b[0m \u001b[43m    \u001b[49m\u001b[38;5;28;43;01mif\u001b[39;49;00m\u001b[43m \u001b[49m\u001b[43mstream_mode\u001b[49m\u001b[43m \u001b[49m\u001b[38;5;241;43m==\u001b[39;49m\u001b[43m \u001b[49m\u001b[38;5;124;43m\"\u001b[39;49m\u001b[38;5;124;43mvalues\u001b[39;49m\u001b[38;5;124;43m\"\u001b[39;49m\u001b[43m:\u001b[49m\n\u001b[0;32m   2835\u001b[0m \u001b[43m        \u001b[49m\u001b[38;5;28;43;01mif\u001b[39;49;00m\u001b[43m \u001b[49m\u001b[43m(\u001b[49m\n\u001b[0;32m   2836\u001b[0m \u001b[43m            \u001b[49m\u001b[38;5;28;43misinstance\u001b[39;49m\u001b[43m(\u001b[49m\u001b[43mchunk\u001b[49m\u001b[43m,\u001b[49m\u001b[43m \u001b[49m\u001b[38;5;28;43mdict\u001b[39;49m\u001b[43m)\u001b[49m\n\u001b[0;32m   2837\u001b[0m \u001b[43m            \u001b[49m\u001b[38;5;129;43;01mand\u001b[39;49;00m\u001b[43m \u001b[49m\u001b[43m(\u001b[49m\u001b[43mints\u001b[49m\u001b[43m \u001b[49m\u001b[38;5;241;43m:=\u001b[39;49m\u001b[43m \u001b[49m\u001b[43mchunk\u001b[49m\u001b[38;5;241;43m.\u001b[39;49m\u001b[43mget\u001b[49m\u001b[43m(\u001b[49m\u001b[43mINTERRUPT\u001b[49m\u001b[43m)\u001b[49m\u001b[43m)\u001b[49m\u001b[43m \u001b[49m\u001b[38;5;129;43;01mis\u001b[39;49;00m\u001b[43m \u001b[49m\u001b[38;5;129;43;01mnot\u001b[39;49;00m\u001b[43m \u001b[49m\u001b[38;5;28;43;01mNone\u001b[39;49;00m\n\u001b[0;32m   2838\u001b[0m \u001b[43m        \u001b[49m\u001b[43m)\u001b[49m\u001b[43m:\u001b[49m\n",
      "File \u001b[1;32mc:\\Users\\janit\\anaconda3\\envs\\torchenv\\Lib\\site-packages\\langgraph\\pregel\\__init__.py:2461\u001b[0m, in \u001b[0;36mPregel.stream\u001b[1;34m(self, input, config, stream_mode, output_keys, interrupt_before, interrupt_after, checkpoint_during, debug, subgraphs)\u001b[0m\n\u001b[0;32m   2455\u001b[0m     \u001b[38;5;66;03m# Similarly to Bulk Synchronous Parallel / Pregel model\u001b[39;00m\n\u001b[0;32m   2456\u001b[0m     \u001b[38;5;66;03m# computation proceeds in steps, while there are channel updates.\u001b[39;00m\n\u001b[0;32m   2457\u001b[0m     \u001b[38;5;66;03m# Channel updates from step N are only visible in step N+1\u001b[39;00m\n\u001b[0;32m   2458\u001b[0m     \u001b[38;5;66;03m# channels are guaranteed to be immutable for the duration of the step,\u001b[39;00m\n\u001b[0;32m   2459\u001b[0m     \u001b[38;5;66;03m# with channel updates applied only at the transition between steps.\u001b[39;00m\n\u001b[0;32m   2460\u001b[0m     \u001b[38;5;28;01mwhile\u001b[39;00m loop\u001b[38;5;241m.\u001b[39mtick(input_keys\u001b[38;5;241m=\u001b[39m\u001b[38;5;28mself\u001b[39m\u001b[38;5;241m.\u001b[39minput_channels):\n\u001b[1;32m-> 2461\u001b[0m \u001b[43m        \u001b[49m\u001b[38;5;28;43;01mfor\u001b[39;49;00m\u001b[43m \u001b[49m\u001b[43m_\u001b[49m\u001b[43m \u001b[49m\u001b[38;5;129;43;01min\u001b[39;49;00m\u001b[43m \u001b[49m\u001b[43mrunner\u001b[49m\u001b[38;5;241;43m.\u001b[39;49m\u001b[43mtick\u001b[49m\u001b[43m(\u001b[49m\n\u001b[0;32m   2462\u001b[0m \u001b[43m            \u001b[49m\u001b[43mloop\u001b[49m\u001b[38;5;241;43m.\u001b[39;49m\u001b[43mtasks\u001b[49m\u001b[38;5;241;43m.\u001b[39;49m\u001b[43mvalues\u001b[49m\u001b[43m(\u001b[49m\u001b[43m)\u001b[49m\u001b[43m,\u001b[49m\n\u001b[0;32m   2463\u001b[0m \u001b[43m            \u001b[49m\u001b[43mtimeout\u001b[49m\u001b[38;5;241;43m=\u001b[39;49m\u001b[38;5;28;43mself\u001b[39;49m\u001b[38;5;241;43m.\u001b[39;49m\u001b[43mstep_timeout\u001b[49m\u001b[43m,\u001b[49m\n\u001b[0;32m   2464\u001b[0m \u001b[43m            \u001b[49m\u001b[43mretry_policy\u001b[49m\u001b[38;5;241;43m=\u001b[39;49m\u001b[38;5;28;43mself\u001b[39;49m\u001b[38;5;241;43m.\u001b[39;49m\u001b[43mretry_policy\u001b[49m\u001b[43m,\u001b[49m\n\u001b[0;32m   2465\u001b[0m \u001b[43m            \u001b[49m\u001b[43mget_waiter\u001b[49m\u001b[38;5;241;43m=\u001b[39;49m\u001b[43mget_waiter\u001b[49m\u001b[43m,\u001b[49m\n\u001b[0;32m   2466\u001b[0m \u001b[43m        \u001b[49m\u001b[43m)\u001b[49m\u001b[43m:\u001b[49m\n\u001b[0;32m   2467\u001b[0m \u001b[43m            \u001b[49m\u001b[38;5;66;43;03m# emit output\u001b[39;49;00m\n\u001b[0;32m   2468\u001b[0m \u001b[43m            \u001b[49m\u001b[38;5;28;43;01myield from\u001b[39;49;00m\u001b[43m \u001b[49m\u001b[43moutput\u001b[49m\u001b[43m(\u001b[49m\u001b[43m)\u001b[49m\n\u001b[0;32m   2469\u001b[0m \u001b[38;5;66;03m# emit output\u001b[39;00m\n",
      "File \u001b[1;32mc:\\Users\\janit\\anaconda3\\envs\\torchenv\\Lib\\site-packages\\langgraph\\pregel\\runner.py:153\u001b[0m, in \u001b[0;36mPregelRunner.tick\u001b[1;34m(self, tasks, reraise, timeout, retry_policy, get_waiter)\u001b[0m\n\u001b[0;32m    151\u001b[0m t \u001b[38;5;241m=\u001b[39m tasks[\u001b[38;5;241m0\u001b[39m]\n\u001b[0;32m    152\u001b[0m \u001b[38;5;28;01mtry\u001b[39;00m:\n\u001b[1;32m--> 153\u001b[0m     \u001b[43mrun_with_retry\u001b[49m\u001b[43m(\u001b[49m\n\u001b[0;32m    154\u001b[0m \u001b[43m        \u001b[49m\u001b[43mt\u001b[49m\u001b[43m,\u001b[49m\n\u001b[0;32m    155\u001b[0m \u001b[43m        \u001b[49m\u001b[43mretry_policy\u001b[49m\u001b[43m,\u001b[49m\n\u001b[0;32m    156\u001b[0m \u001b[43m        \u001b[49m\u001b[43mconfigurable\u001b[49m\u001b[38;5;241;43m=\u001b[39;49m\u001b[43m{\u001b[49m\n\u001b[0;32m    157\u001b[0m \u001b[43m            \u001b[49m\u001b[43mCONFIG_KEY_CALL\u001b[49m\u001b[43m:\u001b[49m\u001b[43m \u001b[49m\u001b[43mpartial\u001b[49m\u001b[43m(\u001b[49m\n\u001b[0;32m    158\u001b[0m \u001b[43m                \u001b[49m\u001b[43m_call\u001b[49m\u001b[43m,\u001b[49m\n\u001b[0;32m    159\u001b[0m \u001b[43m                \u001b[49m\u001b[43mweakref\u001b[49m\u001b[38;5;241;43m.\u001b[39;49m\u001b[43mref\u001b[49m\u001b[43m(\u001b[49m\u001b[43mt\u001b[49m\u001b[43m)\u001b[49m\u001b[43m,\u001b[49m\n\u001b[0;32m    160\u001b[0m \u001b[43m                \u001b[49m\u001b[43mretry\u001b[49m\u001b[38;5;241;43m=\u001b[39;49m\u001b[43mretry_policy\u001b[49m\u001b[43m,\u001b[49m\n\u001b[0;32m    161\u001b[0m \u001b[43m                \u001b[49m\u001b[43mfutures\u001b[49m\u001b[38;5;241;43m=\u001b[39;49m\u001b[43mweakref\u001b[49m\u001b[38;5;241;43m.\u001b[39;49m\u001b[43mref\u001b[49m\u001b[43m(\u001b[49m\u001b[43mfutures\u001b[49m\u001b[43m)\u001b[49m\u001b[43m,\u001b[49m\n\u001b[0;32m    162\u001b[0m \u001b[43m                \u001b[49m\u001b[43mschedule_task\u001b[49m\u001b[38;5;241;43m=\u001b[39;49m\u001b[38;5;28;43mself\u001b[39;49m\u001b[38;5;241;43m.\u001b[39;49m\u001b[43mschedule_task\u001b[49m\u001b[43m,\u001b[49m\n\u001b[0;32m    163\u001b[0m \u001b[43m                \u001b[49m\u001b[43msubmit\u001b[49m\u001b[38;5;241;43m=\u001b[39;49m\u001b[38;5;28;43mself\u001b[39;49m\u001b[38;5;241;43m.\u001b[39;49m\u001b[43msubmit\u001b[49m\u001b[43m,\u001b[49m\n\u001b[0;32m    164\u001b[0m \u001b[43m                \u001b[49m\u001b[43mreraise\u001b[49m\u001b[38;5;241;43m=\u001b[39;49m\u001b[43mreraise\u001b[49m\u001b[43m,\u001b[49m\n\u001b[0;32m    165\u001b[0m \u001b[43m            \u001b[49m\u001b[43m)\u001b[49m\u001b[43m,\u001b[49m\n\u001b[0;32m    166\u001b[0m \u001b[43m        \u001b[49m\u001b[43m}\u001b[49m\u001b[43m,\u001b[49m\n\u001b[0;32m    167\u001b[0m \u001b[43m    \u001b[49m\u001b[43m)\u001b[49m\n\u001b[0;32m    168\u001b[0m     \u001b[38;5;28mself\u001b[39m\u001b[38;5;241m.\u001b[39mcommit(t, \u001b[38;5;28;01mNone\u001b[39;00m)\n\u001b[0;32m    169\u001b[0m \u001b[38;5;28;01mexcept\u001b[39;00m \u001b[38;5;167;01mException\u001b[39;00m \u001b[38;5;28;01mas\u001b[39;00m exc:\n",
      "File \u001b[1;32mc:\\Users\\janit\\anaconda3\\envs\\torchenv\\Lib\\site-packages\\langgraph\\pregel\\retry.py:40\u001b[0m, in \u001b[0;36mrun_with_retry\u001b[1;34m(task, retry_policy, configurable)\u001b[0m\n\u001b[0;32m     38\u001b[0m     task\u001b[38;5;241m.\u001b[39mwrites\u001b[38;5;241m.\u001b[39mclear()\n\u001b[0;32m     39\u001b[0m     \u001b[38;5;66;03m# run the task\u001b[39;00m\n\u001b[1;32m---> 40\u001b[0m     \u001b[38;5;28;01mreturn\u001b[39;00m \u001b[43mtask\u001b[49m\u001b[38;5;241;43m.\u001b[39;49m\u001b[43mproc\u001b[49m\u001b[38;5;241;43m.\u001b[39;49m\u001b[43minvoke\u001b[49m\u001b[43m(\u001b[49m\u001b[43mtask\u001b[49m\u001b[38;5;241;43m.\u001b[39;49m\u001b[43minput\u001b[49m\u001b[43m,\u001b[49m\u001b[43m \u001b[49m\u001b[43mconfig\u001b[49m\u001b[43m)\u001b[49m\n\u001b[0;32m     41\u001b[0m \u001b[38;5;28;01mexcept\u001b[39;00m ParentCommand \u001b[38;5;28;01mas\u001b[39;00m exc:\n\u001b[0;32m     42\u001b[0m     ns: \u001b[38;5;28mstr\u001b[39m \u001b[38;5;241m=\u001b[39m config[CONF][CONFIG_KEY_CHECKPOINT_NS]\n",
      "File \u001b[1;32mc:\\Users\\janit\\anaconda3\\envs\\torchenv\\Lib\\site-packages\\langgraph\\utils\\runnable.py:623\u001b[0m, in \u001b[0;36mRunnableSeq.invoke\u001b[1;34m(self, input, config, **kwargs)\u001b[0m\n\u001b[0;32m    621\u001b[0m     \u001b[38;5;66;03m# run in context\u001b[39;00m\n\u001b[0;32m    622\u001b[0m     \u001b[38;5;28;01mwith\u001b[39;00m set_config_context(config, run) \u001b[38;5;28;01mas\u001b[39;00m context:\n\u001b[1;32m--> 623\u001b[0m         \u001b[38;5;28minput\u001b[39m \u001b[38;5;241m=\u001b[39m \u001b[43mcontext\u001b[49m\u001b[38;5;241;43m.\u001b[39;49m\u001b[43mrun\u001b[49m\u001b[43m(\u001b[49m\u001b[43mstep\u001b[49m\u001b[38;5;241;43m.\u001b[39;49m\u001b[43minvoke\u001b[49m\u001b[43m,\u001b[49m\u001b[43m \u001b[49m\u001b[38;5;28;43minput\u001b[39;49m\u001b[43m,\u001b[49m\u001b[43m \u001b[49m\u001b[43mconfig\u001b[49m\u001b[43m,\u001b[49m\u001b[43m \u001b[49m\u001b[38;5;241;43m*\u001b[39;49m\u001b[38;5;241;43m*\u001b[39;49m\u001b[43mkwargs\u001b[49m\u001b[43m)\u001b[49m\n\u001b[0;32m    624\u001b[0m \u001b[38;5;28;01melse\u001b[39;00m:\n\u001b[0;32m    625\u001b[0m     \u001b[38;5;28minput\u001b[39m \u001b[38;5;241m=\u001b[39m step\u001b[38;5;241m.\u001b[39minvoke(\u001b[38;5;28minput\u001b[39m, config)\n",
      "File \u001b[1;32mc:\\Users\\janit\\anaconda3\\envs\\torchenv\\Lib\\site-packages\\langgraph\\utils\\runnable.py:377\u001b[0m, in \u001b[0;36mRunnableCallable.invoke\u001b[1;34m(self, input, config, **kwargs)\u001b[0m\n\u001b[0;32m    375\u001b[0m         run_manager\u001b[38;5;241m.\u001b[39mon_chain_end(ret)\n\u001b[0;32m    376\u001b[0m \u001b[38;5;28;01melse\u001b[39;00m:\n\u001b[1;32m--> 377\u001b[0m     ret \u001b[38;5;241m=\u001b[39m \u001b[38;5;28;43mself\u001b[39;49m\u001b[38;5;241;43m.\u001b[39;49m\u001b[43mfunc\u001b[49m\u001b[43m(\u001b[49m\u001b[38;5;241;43m*\u001b[39;49m\u001b[43margs\u001b[49m\u001b[43m,\u001b[49m\u001b[43m \u001b[49m\u001b[38;5;241;43m*\u001b[39;49m\u001b[38;5;241;43m*\u001b[39;49m\u001b[43mkwargs\u001b[49m\u001b[43m)\u001b[49m\n\u001b[0;32m    378\u001b[0m \u001b[38;5;28;01mif\u001b[39;00m \u001b[38;5;28mself\u001b[39m\u001b[38;5;241m.\u001b[39mrecurse \u001b[38;5;129;01mand\u001b[39;00m \u001b[38;5;28misinstance\u001b[39m(ret, Runnable):\n\u001b[0;32m    379\u001b[0m     \u001b[38;5;28;01mreturn\u001b[39;00m ret\u001b[38;5;241m.\u001b[39minvoke(\u001b[38;5;28minput\u001b[39m, config)\n",
      "Cell \u001b[1;32mIn[14], line 29\u001b[0m, in \u001b[0;36mget_sub_heading\u001b[1;34m(state)\u001b[0m\n\u001b[0;32m     26\u001b[0m     \u001b[38;5;167;01mValueError\u001b[39;00m(\u001b[38;5;124m\"\u001b[39m\u001b[38;5;124mall subheadings are finished.\u001b[39m\u001b[38;5;124m\"\u001b[39m)\n\u001b[0;32m     28\u001b[0m \u001b[38;5;66;03m# popped sub heading should mark as the new focus in the conversation \u001b[39;00m\n\u001b[1;32m---> 29\u001b[0m current_focus \u001b[38;5;241m=\u001b[39m \u001b[43msub_headings\u001b[49m\u001b[38;5;241;43m.\u001b[39;49m\u001b[43msub_headings\u001b[49m\u001b[43m[\u001b[49m\u001b[38;5;241;43m0\u001b[39;49m\u001b[43m]\u001b[49m\u001b[38;5;241m.\u001b[39mgenerated_sub_heading\n\u001b[0;32m     31\u001b[0m \u001b[38;5;66;03m# these subheadings are the remaining subheadings\u001b[39;00m\n\u001b[0;32m     32\u001b[0m sub_headings\u001b[38;5;241m.\u001b[39msub_headings \u001b[38;5;241m=\u001b[39m sub_headings\u001b[38;5;241m.\u001b[39msub_headings[\u001b[38;5;241m1\u001b[39m:]\n",
      "\u001b[1;31mIndexError\u001b[0m: list index out of range",
      "\u001b[0mDuring task with name 'get_sub_heading' and id 'bd60b427-6fc8-c106-f74c-f286e62a3fc6'",
      "\u001b[0mDuring task with name 'continue_conversation' and id 'ce77aba6-3e1f-6406-ead9-48eeed221f6a'"
     ]
    }
   ],
   "source": [
    "# sample graph invoke\n",
    "thread = {\"configurable\": {\"thread_id\": \"1\"},\"recursion_limit\":50}\n",
    "graph.invoke({\"messages\": [HumanMessage(content=\"I want to build a mobile app\")], \"max_generated_sub_headings\": 10}, thread,)"
   ]
  },
  {
   "cell_type": "markdown",
   "id": "cab52511",
   "metadata": {},
   "source": [
    "### Unit Testing for notebook\n",
    "\n",
    "This ensure the written functions are giving correct outputs"
   ]
  },
  {
   "cell_type": "code",
   "execution_count": 15,
   "id": "e73a8a47",
   "metadata": {},
   "outputs": [
    {
     "name": "stderr",
     "output_type": "stream",
     "text": [
      "test_continue_conversation (__main__.TestFunctions.test_continue_conversation) ... "
     ]
    },
    {
     "name": "stderr",
     "output_type": "stream",
     "text": [
      "ok\n",
      "test_generated_sub_heading_type (__main__.TestFunctions.test_generated_sub_heading_type) ... "
     ]
    },
    {
     "name": "stdout",
     "output_type": "stream",
     "text": [
      "content='Okay, I understand. Based on the fact that you want to build a web app on sport news, I need to gather more information to help you plan effectively.\\n\\nTo start, what specific sports are you planning to cover in your web app? (e.g., football, basketball, soccer, a mix of everything, etc.)' additional_kwargs={} response_metadata={'prompt_feedback': {'block_reason': 0, 'safety_ratings': []}, 'finish_reason': 'STOP', 'model_name': 'gemini-2.0-flash-001', 'safety_ratings': []} id='run--aa7c6286-5f7e-4f5c-a3f5-ef1300ab9449-0' usage_metadata={'input_tokens': 61, 'output_tokens': 69, 'total_tokens': 130, 'input_token_details': {'cache_read': 0}}\n"
     ]
    },
    {
     "name": "stderr",
     "output_type": "stream",
     "text": [
      "ok\n",
      "\n",
      "----------------------------------------------------------------------\n",
      "Ran 2 tests in 2.360s\n",
      "\n",
      "OK\n"
     ]
    }
   ],
   "source": [
    "import unittest\n",
    "from IPython.display import Image, display\n",
    "from langgraph.graph import START, END, StateGraph\n",
    "from langgraph.checkpoint.memory import MemorySaver\n",
    "from langchain_core.messages import AIMessage, HumanMessage, SystemMessage\n",
    "\n",
    "class TestFunctions(unittest.TestCase):\n",
    "\n",
    "    def test_generated_sub_heading_type(self):\n",
    "        \n",
    "        # generate sub heading based on input \n",
    "        generate_query_instructions = \"\"\"You are an caller agent user call for specific need.\n",
    "                                 \n",
    "                                 So you need do identify sub parts of the user need and generate sub part headings for get good understand about user need.\n",
    "\n",
    "                                 You need to generate maximum {max_sub_parts} sub parts to get clear understand about user need.\n",
    "                                 \n",
    "                                 \"\"\"\n",
    "        \n",
    "        # Make the system message\n",
    "        system_message = generate_query_instructions.format(max_sub_parts=5)\n",
    "\n",
    "        # Enforce structured output\n",
    "        structured_llm = llm.with_structured_output(Perspectives)\n",
    "\n",
    "        # Generate question \n",
    "        queries = structured_llm.invoke([SystemMessage(content=system_message)]+[HumanMessage(content=\"Generate sub part headings.\")]+ [HumanMessage(content=\"I want to build a website\")])\n",
    "\n",
    "        # check for the type\n",
    "        self.assertIsInstance(queries.sub_headings,list)\n",
    "        for item in queries.sub_headings:\n",
    "            self.assertIsInstance(item, GeneratedSubHeading)\n",
    "\n",
    "    def test_continue_conversation(self):\n",
    "\n",
    "        # this function continue the chat with user with different sub headings\n",
    "        generate_question = \"\"\"You are an caller agent user call for specific need.\n",
    "                                    \n",
    "                                you need consider about the chat messages previous and align with chat history.\n",
    "\n",
    "                                you need to ask a question from user based on {current_focus}.\n",
    "                                    \n",
    "                                \"\"\"\n",
    "        \n",
    "        # history messages\n",
    "        messages = [HumanMessage(content='I want to build a web app on sport news', additional_kwargs={}, response_metadata={}, id='ccde5465-9521-4b3d-ba2a-9bdc585b8c36')]\n",
    "        \n",
    "        # make the system message to \n",
    "        system_message = generate_question.format(current_focus='App Functionality')\n",
    "\n",
    "        # invoke the model with the history \n",
    "        question = llm.invoke(messages+ [system_message])\n",
    "        # print(\"assistant: \",question.content)\n",
    "        print(question)\n",
    "        # check for the type\n",
    "        self.assertIsInstance(question.content, str)\n",
    "\n",
    "\n",
    "# run the unit tests\n",
    "if __name__ == \"__main__\":\n",
    "    unittest.main(argv=[''], verbosity=2, exit=False)\n"
   ]
  }
 ],
 "metadata": {
  "kernelspec": {
   "display_name": "torchenv",
   "language": "python",
   "name": "python3"
  },
  "language_info": {
   "codemirror_mode": {
    "name": "ipython",
    "version": 3
   },
   "file_extension": ".py",
   "mimetype": "text/x-python",
   "name": "python",
   "nbconvert_exporter": "python",
   "pygments_lexer": "ipython3",
   "version": "3.12.3"
  }
 },
 "nbformat": 4,
 "nbformat_minor": 5
}
