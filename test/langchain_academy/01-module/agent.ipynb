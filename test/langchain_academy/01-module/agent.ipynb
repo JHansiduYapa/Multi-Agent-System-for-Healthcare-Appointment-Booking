{
 "cells": [
  {
   "cell_type": "markdown",
   "id": "ee3ccfb4",
   "metadata": {},
   "source": [
    "## 1. State\n",
    "first define the state of the graph"
   ]
  },
  {
   "cell_type": "code",
   "execution_count": 1,
   "id": "e85114a9",
   "metadata": {},
   "outputs": [],
   "source": [
    "from typing_extensions import TypedDict\n",
    "\n",
    "class State(TypedDict):\n",
    "    graph_state: str"
   ]
  },
  {
   "cell_type": "markdown",
   "id": "1addf5cc",
   "metadata": {},
   "source": [
    "## 2.Nodes\n",
    "\n",
    "2.1 nodes are just python functions\n",
    "\n",
    "2.2 The first positional argument is the state, as defined above.\n",
    "\n",
    "2.3 Each node returns a new value of the state key graph_state."
   ]
  },
  {
   "cell_type": "code",
   "execution_count": 2,
   "id": "cab5d302",
   "metadata": {},
   "outputs": [],
   "source": [
    "def node_1(state):\n",
    "    print(\"---Node 1---\")\n",
    "    return {\"graph_state\": state['graph_state'] +\" I am\"}\n",
    "\n",
    "def node_2(state):\n",
    "    print(\"---Node 2---\")\n",
    "    return {\"graph_state\": state['graph_state'] +\" Hansidu\"}\n",
    "\n",
    "def node_3(state):\n",
    "    print(\"---Node 2---\")\n",
    "    return {\"graph_state\": state['graph_state'] +\" Dahami\"}"
   ]
  },
  {
   "cell_type": "markdown",
   "id": "f5b8b341",
   "metadata": {},
   "source": [
    "## 3.Edges\n",
    "\n",
    "Edges connect the nodes.\n",
    "\n",
    "- Conditional edges are implemented as functions that return the next node to visit based upon some logic."
   ]
  },
  {
   "cell_type": "code",
   "execution_count": null,
   "id": "c1c2c12b",
   "metadata": {},
   "outputs": [],
   "source": [
    "import random\n",
    "from typing import Literal\n",
    "\n",
    "def decide_who(state) -> Literal[\"node_2\",\"node_3\"]:\n",
    "    # condition to go to the node 2 or 3\n",
    "    # for simple illustration use random number \n",
    "    # and go to the node based on value grater than 0.5\n",
    "    val = random.random() \n",
    "    if val >= 0.5:\n",
    "        return \"node_2\"\n",
    "    else:\n",
    "        return \"node_3\""
   ]
  },
  {
   "cell_type": "markdown",
   "id": "8d6fd628",
   "metadata": {},
   "source": [
    "## 4. Graph Construction\n",
    "\n",
    "4.1 The StateGraph class is the graph class that we can use.\n",
    "\n",
    "4.2 First, we initialize a StateGraph with the State class we defined above.\n",
    "\n",
    "4.3 We use the START Node, a special node that sends user input to the graph, to indicate where to start our graph.\n",
    "\n",
    "4.4 The END Node is a special node that represents a terminal node.\n",
    "\n",
    "4.5 Then compile the graph"
   ]
  },
  {
   "cell_type": "code",
   "execution_count": 4,
   "id": "2658f5f8",
   "metadata": {},
   "outputs": [
    {
     "data": {
      "image/png": "[encoded data removed]",
      "text/plain": [
       "<IPython.core.display.Image object>"
      ]
     },
     "metadata": {},
     "output_type": "display_data"
    }
   ],
   "source": [
    "from IPython.display import Image, display\n",
    "from langgraph.graph import StateGraph, START, END\n",
    "\n",
    "builder = StateGraph(State)\n",
    "\n",
    "# add the  nodes\n",
    "builder.add_node(\"node_1\", node_1)\n",
    "builder.add_node(\"node_2\", node_2)\n",
    "builder.add_node(\"node_3\", node_3)\n",
    "\n",
    "# add the edges\n",
    "builder.add_edge(START,\"node_1\")\n",
    "builder.add_conditional_edges(\"node_1\",decide_who)\n",
    "builder.add_edge(\"node_2\", END)\n",
    "builder.add_edge(\"node_3\", END)\n",
    "\n",
    "# compile the graph\n",
    "graph = builder.compile()\n",
    "\n",
    "# view the compiled graph\n",
    "display(Image(graph.get_graph().draw_mermaid_png()))"
   ]
  },
  {
   "cell_type": "markdown",
   "id": "4d5695e8",
   "metadata": {},
   "source": [
    "## 5. Graph Invocation\n",
    "\n",
    "The compiled graph implements the runnable protocol.\n",
    "\n",
    "So we have to call the invoke method to run the graph"
   ]
  },
  {
   "cell_type": "code",
   "execution_count": 19,
   "id": "c3daac42",
   "metadata": {},
   "outputs": [
    {
     "name": "stdout",
     "output_type": "stream",
     "text": [
      "---Node 1---\n",
      "---Node 2---\n"
     ]
    },
    {
     "data": {
      "text/plain": [
       "{'graph_state': 'Hi! I am Dahami'}"
      ]
     },
     "execution_count": 19,
     "metadata": {},
     "output_type": "execute_result"
    }
   ],
   "source": [
    "graph.invoke({\"graph_state\" : \"Hi!\"})"
   ]
  },
  {
   "cell_type": "markdown",
   "id": "56fa371c",
   "metadata": {},
   "source": [
    "## 6. Make an react agent\n",
    "\n",
    "We built a router.\n",
    "\n",
    "- Our chat model will decide to make a tool call or not based upon the user input\n",
    "- We use a conditional edge to route to a node that will call our tool or simply end"
   ]
  },
  {
   "cell_type": "code",
   "execution_count": 20,
   "id": "62f89789",
   "metadata": {},
   "outputs": [],
   "source": [
    "import getpass\n",
    "import os\n",
    "\n",
    "if \"GOOGLE_API_KEY\" not in os.environ:\n",
    "    os.environ[\"GOOGLE_API_KEY\"] = getpass.getpass(\"Enter your Google AI API key: \")"
   ]
  },
  {
   "cell_type": "code",
   "execution_count": 21,
   "id": "af9b929c",
   "metadata": {},
   "outputs": [],
   "source": [
    "# make the tools that the agent can call\n",
    "def multiply(a: int, b: int) -> int:\n",
    "    \"\"\"Multiply a and b.\n",
    "\n",
    "    Args:\n",
    "        a: first int\n",
    "        b: second int\n",
    "    \"\"\"\n",
    "    return a * b\n",
    "\n",
    "# This will be a tool\n",
    "def add(a: int, b: int) -> int:\n",
    "    \"\"\"Adds a and b.\n",
    "\n",
    "    Args:\n",
    "        a: first int\n",
    "        b: second int\n",
    "    \"\"\"\n",
    "    return a + b\n",
    "\n",
    "def divide(a: int, b: int) -> float:\n",
    "    \"\"\"Divide a and b.\n",
    "\n",
    "    Args:\n",
    "        a: first int\n",
    "        b: second int\n",
    "    \"\"\"\n",
    "    return a / b\n",
    "\n",
    "tools = [add, multiply, divide]"
   ]
  },
  {
   "cell_type": "code",
   "execution_count": 22,
   "id": "e389c188",
   "metadata": {},
   "outputs": [],
   "source": [
    "from langchain_google_genai import ChatGoogleGenerativeAI\n",
    "\n",
    "llm = ChatGoogleGenerativeAI(\n",
    "    model=\"gemini-2.0-flash-001\",\n",
    "    temperature=0,\n",
    "    max_tokens=None,\n",
    "    timeout=None,\n",
    "    max_retries=2,\n",
    "    # other params...\n",
    ")\n",
    "llm_with_tools = llm.bind_tools(tools)"
   ]
  },
  {
   "cell_type": "markdown",
   "id": "9002cf2f",
   "metadata": {},
   "source": [
    "Create the system prompt that describe the overall behavior of the chat model."
   ]
  },
  {
   "cell_type": "code",
   "execution_count": 23,
   "id": "c1508bcc",
   "metadata": {},
   "outputs": [],
   "source": [
    "from langgraph.graph import MessagesState\n",
    "from langchain_core.messages import HumanMessage, SystemMessage\n",
    "\n",
    "# System message\n",
    "sys_msg = SystemMessage(content=\"You are a helpful assistant tasked with performing arithmetic on a set of inputs.\")"
   ]
  },
  {
   "cell_type": "code",
   "execution_count": 24,
   "id": "9c1e308c",
   "metadata": {},
   "outputs": [],
   "source": [
    "# create a node of chat model\n",
    "def assistant(state: MessagesState):\n",
    "   return {\"messages\": [llm_with_tools.invoke([sys_msg] + state[\"messages\"])]}"
   ]
  },
  {
   "cell_type": "code",
   "execution_count": 25,
   "id": "79e13266",
   "metadata": {},
   "outputs": [
    {
     "data": {
      "image/png": "[encoded data removed]",
      "text/plain": [
       "<IPython.core.display.Image object>"
      ]
     },
     "metadata": {},
     "output_type": "display_data"
    }
   ],
   "source": [
    "# make the graph\n",
    "from langgraph.graph import START, StateGraph\n",
    "from langgraph.prebuilt import tools_condition\n",
    "from langgraph.prebuilt import ToolNode\n",
    "from IPython.display import Image, display\n",
    "\n",
    "# Graph\n",
    "builder = StateGraph(MessagesState)\n",
    "\n",
    "# Define nodes: these do the work\n",
    "builder.add_node(\"assistant\", assistant)\n",
    "builder.add_node(\"tools\", ToolNode(tools))\n",
    "\n",
    "# Define edges: these determine how the control flow moves\n",
    "builder.add_edge(START, \"assistant\")\n",
    "builder.add_conditional_edges(\n",
    "    \"assistant\",\n",
    "    # If the latest message (result) from assistant is a tool call -> tools_condition routes to tools\n",
    "    # If the latest message (result) from assistant is a not a tool call -> tools_condition routes to END\n",
    "    tools_condition,\n",
    ")\n",
    "builder.add_edge(\"tools\", \"assistant\")\n",
    "react_graph = builder.compile()\n",
    "\n",
    "# show the graph\n",
    "display(Image(react_graph.get_graph(xray=True).draw_mermaid_png()))"
   ]
  },
  {
   "cell_type": "code",
   "execution_count": 26,
   "id": "7af6c890",
   "metadata": {},
   "outputs": [
    {
     "name": "stdout",
     "output_type": "stream",
     "text": [
      "================================\u001b[1m Human Message \u001b[0m=================================\n",
      "\n",
      "hi!\n",
      "==================================\u001b[1m Ai Message \u001b[0m==================================\n",
      "\n",
      "Hi there! How can I help you today?\n"
     ]
    }
   ],
   "source": [
    "messages = [HumanMessage(content=\"hi!\")]\n",
    "messages = react_graph.invoke({\"messages\": messages})\n",
    "\n",
    "for message in messages['messages']:\n",
    "    message.pretty_print()"
   ]
  },
  {
   "cell_type": "code",
   "execution_count": 28,
   "id": "eb750641",
   "metadata": {},
   "outputs": [
    {
     "name": "stdout",
     "output_type": "stream",
     "text": [
      "================================\u001b[1m Human Message \u001b[0m=================================\n",
      "\n",
      "calculate 2+2 and multiply by 345\n",
      "==================================\u001b[1m Ai Message \u001b[0m==================================\n",
      "Tool Calls:\n",
      "  add (426f261a-20b5-4300-9863-f3f5e8644971)\n",
      " Call ID: 426f261a-20b5-4300-9863-f3f5e8644971\n",
      "  Args:\n",
      "    a: 2.0\n",
      "    b: 2.0\n",
      "=================================\u001b[1m Tool Message \u001b[0m=================================\n",
      "Name: add\n",
      "\n",
      "4\n",
      "==================================\u001b[1m Ai Message \u001b[0m==================================\n",
      "Tool Calls:\n",
      "  multiply (f5e767be-9b8d-479f-aa71-0165fbd3a7e3)\n",
      " Call ID: f5e767be-9b8d-479f-aa71-0165fbd3a7e3\n",
      "  Args:\n",
      "    a: 4.0\n",
      "    b: 345.0\n",
      "=================================\u001b[1m Tool Message \u001b[0m=================================\n",
      "Name: multiply\n",
      "\n",
      "1380\n",
      "==================================\u001b[1m Ai Message \u001b[0m==================================\n",
      "\n",
      "2+2 is 4, and 4 multiplied by 345 is 1380.\n"
     ]
    }
   ],
   "source": [
    "messages = [HumanMessage(content=\"calculate 2+2 and multiply by 345\")]\n",
    "messages = react_graph.invoke({\"messages\": messages})\n",
    "\n",
    "for message in messages['messages']:\n",
    "    message.pretty_print()"
   ]
  },
  {
   "cell_type": "markdown",
   "id": "5ca7f2de",
   "metadata": {},
   "source": [
    "## 7. Add Memory"
   ]
  },
  {
   "cell_type": "code",
   "execution_count": null,
   "id": "997c1977",
   "metadata": {},
   "outputs": [],
   "source": []
  }
 ],
 "metadata": {
  "kernelspec": {
   "display_name": "torchenv",
   "language": "python",
   "name": "python3"
  },
  "language_info": {
   "codemirror_mode": {
    "name": "ipython",
    "version": 3
   },
   "file_extension": ".py",
   "mimetype": "text/x-python",
   "name": "python",
   "nbconvert_exporter": "python",
   "pygments_lexer": "ipython3",
   "version": "3.12.3"
  }
 },
 "nbformat": 4,
 "nbformat_minor": 5
}
