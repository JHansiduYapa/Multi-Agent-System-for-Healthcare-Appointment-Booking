{
 "cells": [
  {
   "cell_type": "markdown",
   "id": "810582a7",
   "metadata": {},
   "source": [
    "## Multiple Schemas\n",
    "\n",
    "Normally, all graph nodes communicate with a single schema.\n",
    "\n",
    "Also, this single schema contains the graph's input and output keys / channels.\n",
    "\n",
    "- Internal nodes may pass information that is not required in the graph's input / output.\n",
    "\n",
    "- We may also want to use different input / output schemas for the graph. The output might, for example, only contain a single relevant output key."
   ]
  },
  {
   "cell_type": "markdown",
   "id": "a8242a0c",
   "metadata": {},
   "source": [
    "## 1. Private State\n",
    "\n",
    "- This can encapsulate the internal state not going to the input output in the graph that are not relevant to the input and output.\n"
   ]
  },
  {
   "cell_type": "code",
   "execution_count": 2,
   "id": "24608307",
   "metadata": {},
   "outputs": [
    {
     "data": {
      "image/png": "[encoded data removed]",
      "text/plain": [
       "<IPython.core.display.Image object>"
      ]
     },
     "metadata": {},
     "output_type": "display_data"
    }
   ],
   "source": [
    "from typing_extensions import TypedDict\n",
    "from IPython.display import Image, display\n",
    "from langgraph.graph import StateGraph, START, END\n",
    "\n",
    "class OverallState(TypedDict):\n",
    "    foo: int\n",
    "\n",
    "class PrivateState(TypedDict):\n",
    "    baz: int\n",
    "\n",
    "# make node to get the state overall state as input and update the internal state\n",
    "# this return the internal state \n",
    "def node_1(state: OverallState) -> PrivateState:\n",
    "    print(\"---Node 1---\")\n",
    "    print(state)\n",
    "    # node should update the state \n",
    "    return {\"baz\": state['foo'] + 1}\n",
    "\n",
    "# make node to get the state internal state as input and update the overall state\n",
    "# this return the overall state\n",
    "def node_2(state: PrivateState) -> OverallState:\n",
    "    print(\"---Node 2---\")\n",
    "    print(state)\n",
    "    return {\"foo\": state['baz'] + 1}\n",
    "\n",
    "# build the graph\n",
    "# build it using input state \n",
    "builder = StateGraph(OverallState)\n",
    "builder.add_node(\"node_1\", node_1)\n",
    "builder.add_node(\"node_2\", node_2)\n",
    "\n",
    "# add the edges \n",
    "builder.add_edge(START, \"node_1\")\n",
    "builder.add_edge(\"node_1\", \"node_2\")\n",
    "builder.add_edge(\"node_2\", END)\n",
    "\n",
    "# compile the graph\n",
    "graph = builder.compile()\n",
    "\n",
    "# view the graph\n",
    "display(Image(graph.get_graph().draw_mermaid_png()))"
   ]
  },
  {
   "cell_type": "code",
   "execution_count": null,
   "id": "667c580a",
   "metadata": {},
   "outputs": [
    {
     "name": "stdout",
     "output_type": "stream",
     "text": [
      "---Node 1---\n",
      "{'foo': 1}\n",
      "---Node 2---\n",
      "{'baz': 2}\n"
     ]
    },
    {
     "data": {
      "text/plain": [
       "{'foo': 3}"
      ]
     },
     "execution_count": 3,
     "metadata": {},
     "output_type": "execute_result"
    }
   ],
   "source": [
    "# invoke the graph using initial state\n",
    "# in each node it print its incoming state\n",
    "# for invoke the state graph we should pass the initial state\n",
    "graph.invoke({\"foo\" : 1})"
   ]
  },
  {
   "cell_type": "markdown",
   "id": "cb7bfe0b",
   "metadata": {},
   "source": [
    "## 2. Input output schemas\n",
    "\n",
    "- Here, input / output schemas perform filtering on what keys are permitted on the input and output of the graph.\n",
    "\n",
    "- In addition, we can use a type hint state: InputState to specify the input schema of each of our nodes."
   ]
  },
  {
   "cell_type": "code",
   "execution_count": 6,
   "id": "679f6609",
   "metadata": {},
   "outputs": [
    {
     "data": {
      "image/png": "[encoded data removed]",
      "text/plain": [
       "<IPython.core.display.Image object>"
      ]
     },
     "metadata": {},
     "output_type": "display_data"
    }
   ],
   "source": [
    "# define schemas for input and output\n",
    "class InputState(TypedDict):\n",
    "    question: str\n",
    "\n",
    "class OutputState(TypedDict):\n",
    "    answer: str\n",
    "\n",
    "# this is schema for internal state\n",
    "class OverallState(TypedDict):\n",
    "    question: str\n",
    "    answer: str\n",
    "    notes: str\n",
    "\n",
    "def thinking_node(state: InputState) -> OverallState:\n",
    "    # this is first node this input the input schema and update the \n",
    "    # overall state is updated by this node\n",
    "    # node is updating his state\n",
    "    print(state)\n",
    "    return {\"answer\": \"bye\", \"notes\": \"his name is Hansidu.\"}\n",
    "\n",
    "def answer_node(state: OverallState) -> OutputState:\n",
    "    print(state)\n",
    "    return {\"answer\": \"Bye Hansidu\"}\n",
    "\n",
    "# make the graph with input and output schemas\n",
    "# schemas should provide at the when the state graph object creation \n",
    "graph = StateGraph(OverallState, input=InputState, output=OutputState)\n",
    "graph.add_node(\"answer_node\", answer_node)\n",
    "graph.add_node(\"thinking_node\", thinking_node)\n",
    "graph.add_edge(START, \"thinking_node\")\n",
    "graph.add_edge(\"thinking_node\", \"answer_node\")\n",
    "graph.add_edge(\"answer_node\", END)\n",
    "\n",
    "# compile the graph \n",
    "graph = graph.compile()\n",
    "\n",
    "# view the graph\n",
    "display(Image(graph.get_graph().draw_mermaid_png()))"
   ]
  },
  {
   "cell_type": "code",
   "execution_count": 7,
   "id": "78fb9d31",
   "metadata": {},
   "outputs": [
    {
     "name": "stdout",
     "output_type": "stream",
     "text": [
      "{'question': 'hi I am Hansidu'}\n",
      "{'question': 'hi I am Hansidu', 'answer': 'bye', 'notes': 'his name is Hansidu.'}\n"
     ]
    },
    {
     "data": {
      "text/plain": [
       "{'answer': 'Bye Hansidu'}"
      ]
     },
     "execution_count": 7,
     "metadata": {},
     "output_type": "execute_result"
    }
   ],
   "source": [
    "graph.invoke({\"question\":\"hi I am Hansidu\"})"
   ]
  },
  {
   "cell_type": "markdown",
   "id": "2f35f272",
   "metadata": {},
   "source": [
    "## 3. State reducers\n",
    "\n",
    "They specify how to perform updates.\n",
    "\n",
    "We can use the Annotated type to specify a reducer function.\n",
    "\n",
    "We just need a reducer that can perform this: operator.add is a function from Python's built-in operator module.\n",
    "\n",
    "When operator.add is applied to lists, it performs list concatenation.\n",
    "\n",
    "- operator.add function perform the list concatenation "
   ]
  },
  {
   "cell_type": "code",
   "execution_count": 3,
   "id": "c1b80eab",
   "metadata": {},
   "outputs": [
    {
     "data": {
      "image/png": "[encoded data removed]",
      "text/plain": [
       "<IPython.core.display.Image object>"
      ]
     },
     "metadata": {},
     "output_type": "display_data"
    }
   ],
   "source": [
    "from operator import add\n",
    "from typing import Annotated\n",
    "\n",
    "class State(TypedDict):\n",
    "    foo: Annotated[list[int], add]\n",
    "\n",
    "def node_1(state):\n",
    "    print(\"---Node 1---\")\n",
    "    return {\"foo\": [state['foo'][0] + 1]}\n",
    "\n",
    "# Build graph\n",
    "builder = StateGraph(State)\n",
    "builder.add_node(\"node_1\", node_1)\n",
    "\n",
    "# Logic\n",
    "builder.add_edge(START, \"node_1\")\n",
    "builder.add_edge(\"node_1\", END)\n",
    "\n",
    "# Add\n",
    "graph = builder.compile()\n",
    "\n",
    "# View\n",
    "display(Image(graph.get_graph().draw_mermaid_png()))"
   ]
  },
  {
   "cell_type": "code",
   "execution_count": 9,
   "id": "764852f0",
   "metadata": {},
   "outputs": [
    {
     "name": "stdout",
     "output_type": "stream",
     "text": [
      "---Node 1---\n"
     ]
    },
    {
     "data": {
      "text/plain": [
       "{'foo': [1, 2]}"
      ]
     },
     "execution_count": 9,
     "metadata": {},
     "output_type": "execute_result"
    }
   ],
   "source": [
    "graph.invoke({\"foo\" : [1]})"
   ]
  },
  {
   "cell_type": "markdown",
   "id": "9a3f55b3",
   "metadata": {},
   "source": [
    "## 4. Custom Reducers\n",
    "\n",
    "Lets define custom reducer logic to combine lists and handle cases where either or both of the inputs might be None."
   ]
  },
  {
   "cell_type": "code",
   "execution_count": 4,
   "id": "ddca38cb",
   "metadata": {},
   "outputs": [],
   "source": [
    "def reduce_list(left: list | None, right: list | None) -> list:\n",
    "    # safely combine two list whether the left or right list is none\n",
    "    if not left:\n",
    "        left = []\n",
    "    if not right:\n",
    "        right = []\n",
    "    return left + right\n",
    "\n",
    "# state class with add operation\n",
    "class DefaultState(TypedDict):\n",
    "    foo: Annotated[list[int], add]\n",
    "\n",
    "# state class with custom reducer\n",
    "class CustomReducerState(TypedDict):\n",
    "    foo: Annotated[list[int], reduce_list]"
   ]
  },
  {
   "cell_type": "markdown",
   "id": "e347e4ec",
   "metadata": {},
   "source": [
    "#### Below although it use initial state of none it works with custom reducer function"
   ]
  },
  {
   "cell_type": "code",
   "execution_count": 5,
   "id": "bc5031ba",
   "metadata": {},
   "outputs": [
    {
     "data": {
      "image/png": "[encoded data removed]",
      "text/plain": [
       "<IPython.core.display.Image object>"
      ]
     },
     "metadata": {},
     "output_type": "display_data"
    },
    {
     "name": "stdout",
     "output_type": "stream",
     "text": [
      "---Node 1---\n",
      "{'foo': [2]}\n"
     ]
    }
   ],
   "source": [
    "def node_1(state):\n",
    "    print(\"---Node 1---\")\n",
    "    return {\"foo\": [2]}\n",
    "\n",
    "# Build graph\n",
    "builder = StateGraph(CustomReducerState)\n",
    "builder.add_node(\"node_1\", node_1)\n",
    "\n",
    "# Logic\n",
    "builder.add_edge(START, \"node_1\")\n",
    "builder.add_edge(\"node_1\", END)\n",
    "\n",
    "# Add\n",
    "graph = builder.compile()\n",
    "\n",
    "# View\n",
    "display(Image(graph.get_graph().draw_mermaid_png()))\n",
    "\n",
    "try:\n",
    "    print(graph.invoke({\"foo\" : None}))\n",
    "except TypeError as e:\n",
    "    print(f\"TypeError occurred: {e}\")"
   ]
  },
  {
   "cell_type": "markdown",
   "id": "5b1f1fa0",
   "metadata": {},
   "source": [
    "## 5. Filtering and trimming messages"
   ]
  },
  {
   "cell_type": "code",
   "execution_count": null,
   "id": "3c727b60",
   "metadata": {},
   "outputs": [],
   "source": []
  }
 ],
 "metadata": {
  "kernelspec": {
   "display_name": "torchenv",
   "language": "python",
   "name": "python3"
  },
  "language_info": {
   "codemirror_mode": {
    "name": "ipython",
    "version": 3
   },
   "file_extension": ".py",
   "mimetype": "text/x-python",
   "name": "python",
   "nbconvert_exporter": "python",
   "pygments_lexer": "ipython3",
   "version": "3.12.3"
  }
 },
 "nbformat": 4,
 "nbformat_minor": 5
}
