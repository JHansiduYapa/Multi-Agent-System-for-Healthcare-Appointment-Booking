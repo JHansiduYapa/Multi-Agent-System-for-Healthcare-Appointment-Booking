{
 "cells": [
  {
   "cell_type": "markdown",
   "id": "810582a7",
   "metadata": {},
   "source": [
    "## Multiple Schemas\n",
    "\n",
    "Normally, all graph nodes communicate with a single schema.\n",
    "\n",
    "Also, this single schema contains the graph's input and output keys / channels.\n",
    "\n",
    "- Internal nodes may pass information that is not required in the graph's input / output.\n",
    "\n",
    "- We may also want to use different input / output schemas for the graph. The output might, for example, only contain a single relevant output key."
   ]
  },
  {
   "cell_type": "markdown",
   "id": "a8242a0c",
   "metadata": {},
   "source": [
    "## 1. Private State\n",
    "\n",
    "- This can encapsulate the internal state not going to the input output in the graph that are not relevant to the input and output.\n"
   ]
  },
  {
   "cell_type": "code",
   "execution_count": 1,
   "id": "24608307",
   "metadata": {},
   "outputs": [
    {
     "data": {
      "image/png": "[encoded data removed]",
      "text/plain": [
       "<IPython.core.display.Image object>"
      ]
     },
     "metadata": {},
     "output_type": "display_data"
    }
   ],
   "source": [
    "from typing_extensions import TypedDict\n",
    "from IPython.display import Image, display\n",
    "from langgraph.graph import StateGraph, START, END\n",
    "\n",
    "class OverallState(TypedDict):\n",
    "    foo: int\n",
    "\n",
    "class PrivateState(TypedDict):\n",
    "    baz: int\n",
    "\n",
    "# make node to get the state overall state as input and update the internal state\n",
    "# this return the internal state \n",
    "def node_1(state: OverallState) -> PrivateState:\n",
    "    print(\"---Node 1---\")\n",
    "    print(state)\n",
    "    # node should update the state \n",
    "    return {\"baz\": state['foo'] + 1}\n",
    "\n",
    "# make node to get the state internal state as input and update the overall state\n",
    "# this return the overall state\n",
    "def node_2(state: PrivateState) -> OverallState:\n",
    "    print(\"---Node 2---\")\n",
    "    print(state)\n",
    "    return {\"foo\": state['baz'] + 1}\n",
    "\n",
    "# build the graph\n",
    "# build it using input state \n",
    "builder = StateGraph(OverallState)\n",
    "builder.add_node(\"node_1\", node_1)\n",
    "builder.add_node(\"node_2\", node_2)\n",
    "\n",
    "# add the edges \n",
    "builder.add_edge(START, \"node_1\")\n",
    "builder.add_edge(\"node_1\", \"node_2\")\n",
    "builder.add_edge(\"node_2\", END)\n",
    "\n",
    "# compile the graph\n",
    "graph = builder.compile()\n",
    "\n",
    "# view the graph\n",
    "display(Image(graph.get_graph().draw_mermaid_png()))"
   ]
  },
  {
   "cell_type": "code",
   "execution_count": 3,
   "id": "667c580a",
   "metadata": {},
   "outputs": [
    {
     "name": "stdout",
     "output_type": "stream",
     "text": [
      "---Node 1---\n",
      "{'foo': 1}\n",
      "---Node 2---\n",
      "{'baz': 2}\n"
     ]
    },
    {
     "data": {
      "text/plain": [
       "{'foo': 3}"
      ]
     },
     "execution_count": 3,
     "metadata": {},
     "output_type": "execute_result"
    }
   ],
   "source": [
    "# invoke the graph using initial state\n",
    "# in each node it print its incoming state\n",
    "# for invoke the state graph we should pass the initial state\n",
    "graph.invoke({\"foo\" : 1})"
   ]
  },
  {
   "cell_type": "markdown",
   "id": "cb7bfe0b",
   "metadata": {},
   "source": [
    "## 2. Input output schemas\n",
    "\n",
    "- Here, input / output schemas perform filtering on what keys are permitted on the input and output of the graph.\n",
    "\n",
    "- In addition, we can use a type hint state: InputState to specify the input schema of each of our nodes."
   ]
  },
  {
   "cell_type": "code",
   "execution_count": 4,
   "id": "679f6609",
   "metadata": {},
   "outputs": [
    {
     "data": {
      "image/png": "[encoded data removed]",
      "text/plain": [
       "<IPython.core.display.Image object>"
      ]
     },
     "metadata": {},
     "output_type": "display_data"
    }
   ],
   "source": [
    "# define schemas for input and output\n",
    "class InputState(TypedDict):\n",
    "    question: str\n",
    "\n",
    "class OutputState(TypedDict):\n",
    "    answer: str\n",
    "\n",
    "# this is schema for internal state\n",
    "class OverallState(TypedDict):\n",
    "    question: str\n",
    "    answer: str\n",
    "    notes: str\n",
    "\n",
    "def thinking_node(state: InputState) -> OverallState:\n",
    "    # this is first node this input the input schema and update the \n",
    "    # overall state is updated by this node\n",
    "    # node is updating his state\n",
    "    print(state)\n",
    "    return {\"answer\": \"bye\", \"notes\": \"his name is Hansidu.\"}\n",
    "\n",
    "def answer_node(state: OverallState) -> OutputState:\n",
    "    print(state)\n",
    "    return {\"answer\": \"Bye Hansidu\"}\n",
    "\n",
    "# make the graph with input and output schemas\n",
    "# schemas should provide at the when the state graph object creation \n",
    "graph = StateGraph(OverallState, input=InputState, output=OutputState)\n",
    "graph.add_node(\"answer_node\", answer_node)\n",
    "graph.add_node(\"thinking_node\", thinking_node)\n",
    "graph.add_edge(START, \"thinking_node\")\n",
    "graph.add_edge(\"thinking_node\", \"answer_node\")\n",
    "graph.add_edge(\"answer_node\", END)\n",
    "\n",
    "# compile the graph \n",
    "graph = graph.compile()\n",
    "\n",
    "# view the graph\n",
    "display(Image(graph.get_graph().draw_mermaid_png()))"
   ]
  },
  {
   "cell_type": "code",
   "execution_count": 5,
   "id": "78fb9d31",
   "metadata": {},
   "outputs": [
    {
     "name": "stdout",
     "output_type": "stream",
     "text": [
      "{'question': 'hi I am Hansidu'}\n",
      "{'question': 'hi I am Hansidu', 'answer': 'bye', 'notes': 'his name is Hansidu.'}\n"
     ]
    },
    {
     "data": {
      "text/plain": [
       "{'answer': 'Bye Hansidu'}"
      ]
     },
     "execution_count": 5,
     "metadata": {},
     "output_type": "execute_result"
    }
   ],
   "source": [
    "graph.invoke({\"question\":\"hi I am Hansidu\"})"
   ]
  },
  {
   "cell_type": "markdown",
   "id": "2f35f272",
   "metadata": {},
   "source": [
    "## 3. State reducers\n",
    "\n",
    "They specify how to perform updates.\n",
    "\n",
    "We can use the Annotated type to specify a reducer function.\n",
    "\n",
    "We just need a reducer that can perform this: operator.add is a function from Python's built-in operator module.\n",
    "\n",
    "When operator.add is applied to lists, it performs list concatenation.\n",
    "\n",
    "- operator.add function perform the list concatenation "
   ]
  },
  {
   "cell_type": "code",
   "execution_count": 6,
   "id": "c1b80eab",
   "metadata": {},
   "outputs": [
    {
     "data": {
      "image/png": "[encoded data removed]",
      "text/plain": [
       "<IPython.core.display.Image object>"
      ]
     },
     "metadata": {},
     "output_type": "display_data"
    }
   ],
   "source": [
    "from operator import add\n",
    "from typing import Annotated\n",
    "\n",
    "class State(TypedDict):\n",
    "    foo: Annotated[list[int], add]\n",
    "\n",
    "def node_1(state):\n",
    "    print(\"---Node 1---\")\n",
    "    return {\"foo\": [state['foo'][0] + 1]}\n",
    "\n",
    "# Build graph\n",
    "builder = StateGraph(State)\n",
    "builder.add_node(\"node_1\", node_1)\n",
    "\n",
    "# Logic\n",
    "builder.add_edge(START, \"node_1\")\n",
    "builder.add_edge(\"node_1\", END)\n",
    "\n",
    "# Add\n",
    "graph = builder.compile()\n",
    "\n",
    "# View\n",
    "display(Image(graph.get_graph().draw_mermaid_png()))"
   ]
  },
  {
   "cell_type": "code",
   "execution_count": 7,
   "id": "764852f0",
   "metadata": {},
   "outputs": [
    {
     "name": "stdout",
     "output_type": "stream",
     "text": [
      "---Node 1---\n"
     ]
    },
    {
     "data": {
      "text/plain": [
       "{'foo': [1, 2]}"
      ]
     },
     "execution_count": 7,
     "metadata": {},
     "output_type": "execute_result"
    }
   ],
   "source": [
    "graph.invoke({\"foo\" : [1]})"
   ]
  },
  {
   "cell_type": "markdown",
   "id": "9a3f55b3",
   "metadata": {},
   "source": [
    "## 4. Custom Reducers\n",
    "\n",
    "Lets define custom reducer logic to combine lists and handle cases where either or both of the inputs might be None."
   ]
  },
  {
   "cell_type": "code",
   "execution_count": 8,
   "id": "ddca38cb",
   "metadata": {},
   "outputs": [],
   "source": [
    "def reduce_list(left: list | None, right: list | None) -> list:\n",
    "    # safely combine two list whether the left or right list is none\n",
    "    if not left:\n",
    "        left = []\n",
    "    if not right:\n",
    "        right = []\n",
    "    return left + right\n",
    "\n",
    "# state class with add operation\n",
    "class DefaultState(TypedDict):\n",
    "    foo: Annotated[list[int], add]\n",
    "\n",
    "# state class with custom reducer\n",
    "class CustomReducerState(TypedDict):\n",
    "    foo: Annotated[list[int], reduce_list]"
   ]
  },
  {
   "cell_type": "markdown",
   "id": "e347e4ec",
   "metadata": {},
   "source": [
    "#### Below although it use initial state of none it works with custom reducer function"
   ]
  },
  {
   "cell_type": "code",
   "execution_count": 9,
   "id": "bc5031ba",
   "metadata": {},
   "outputs": [
    {
     "data": {
      "image/png": "[encoded data removed]",
      "text/plain": [
       "<IPython.core.display.Image object>"
      ]
     },
     "metadata": {},
     "output_type": "display_data"
    },
    {
     "name": "stdout",
     "output_type": "stream",
     "text": [
      "---Node 1---\n",
      "{'foo': [2]}\n"
     ]
    }
   ],
   "source": [
    "def node_1(state):\n",
    "    print(\"---Node 1---\")\n",
    "    return {\"foo\": [2]}\n",
    "\n",
    "# Build graph\n",
    "builder = StateGraph(CustomReducerState)\n",
    "builder.add_node(\"node_1\", node_1)\n",
    "\n",
    "# Logic\n",
    "builder.add_edge(START, \"node_1\")\n",
    "builder.add_edge(\"node_1\", END)\n",
    "\n",
    "# Add\n",
    "graph = builder.compile()\n",
    "\n",
    "# View\n",
    "display(Image(graph.get_graph().draw_mermaid_png()))\n",
    "\n",
    "try:\n",
    "    print(graph.invoke({\"foo\" : None}))\n",
    "except TypeError as e:\n",
    "    print(f\"TypeError occurred: {e}\")"
   ]
  },
  {
   "cell_type": "markdown",
   "id": "5b1f1fa0",
   "metadata": {},
   "source": [
    "## 5. Filtering and trimming messages"
   ]
  },
  {
   "cell_type": "code",
   "execution_count": 1,
   "id": "3c727b60",
   "metadata": {},
   "outputs": [],
   "source": [
    "import getpass\n",
    "import os\n",
    "\n",
    "if \"GOOGLE_API_KEY\" not in os.environ:\n",
    "    os.environ[\"GOOGLE_API_KEY\"] = getpass.getpass(\"Enter your Google AI API key: \")"
   ]
  },
  {
   "cell_type": "code",
   "execution_count": 2,
   "id": "debf745c",
   "metadata": {},
   "outputs": [],
   "source": [
    "from langchain_google_genai import ChatGoogleGenerativeAI\n",
    "\n",
    "llm = ChatGoogleGenerativeAI(\n",
    "    model=\"gemini-2.0-flash-001\",\n",
    "    temperature=0,\n",
    "    max_tokens=None,\n",
    "    timeout=None,\n",
    "    max_retries=2,\n",
    "    # other params...\n",
    ")"
   ]
  },
  {
   "cell_type": "code",
   "execution_count": 12,
   "id": "d277ec9d",
   "metadata": {},
   "outputs": [
    {
     "data": {
      "image/png": "[encoded data removed]",
      "text/plain": [
       "<IPython.core.display.Image object>"
      ]
     },
     "metadata": {},
     "output_type": "display_data"
    }
   ],
   "source": [
    "from langchain_core.messages import AIMessage, HumanMessage\n",
    "from langgraph.graph import MessagesState\n",
    "from langchain_core.messages import RemoveMessage\n",
    "\n",
    "# make a function that invoke the llm with given messages\n",
    "def chat_model_node(state: MessagesState):    \n",
    "    return {\"messages\": [llm.invoke(state[\"messages\"])]}\n",
    "\n",
    "# make node to trim the messages\n",
    "def filter_messages(state: MessagesState):\n",
    "    # Delete all but the 2 most recent messages\n",
    "    delete_messages = [RemoveMessage(id=m.id) for m in state[\"messages\"][:-2]]\n",
    "    return {\"messages\": delete_messages}\n",
    "\n",
    "# create the graph\n",
    "builder = StateGraph(MessagesState)\n",
    "builder.add_node(\"filter\", filter_messages)\n",
    "builder.add_node(\"chat_model\", chat_model_node)\n",
    "builder.add_edge(START, \"filter\")\n",
    "builder.add_edge(\"filter\", \"chat_model\")\n",
    "builder.add_edge(\"chat_model\", END)\n",
    "graph = builder.compile()\n",
    "\n",
    "# view the graph as image\n",
    "display(Image(graph.get_graph().draw_mermaid_png()))"
   ]
  },
  {
   "cell_type": "code",
   "execution_count": 13,
   "id": "2dcaf641",
   "metadata": {},
   "outputs": [
    {
     "name": "stdout",
     "output_type": "stream",
     "text": [
      "==================================\u001b[1m Ai Message \u001b[0m==================================\n",
      "Name: Bot\n",
      "\n",
      "So you said you were researching ocean mammals?\n",
      "================================\u001b[1m Human Message \u001b[0m=================================\n",
      "Name: Lance\n",
      "\n",
      "Yes, I know about whales. But what others should I learn about?\n",
      "==================================\u001b[1m Ai Message \u001b[0m==================================\n",
      "\n",
      "Okay, great! Whales are a good start. To broaden your knowledge of ocean mammals, here's a breakdown of other important groups and some specific examples you might find interesting:\n",
      "\n",
      "**1. Pinnipeds (Seals, Sea Lions, and Walruses):**\n",
      "\n",
      "*   **General Characteristics:** These are semi-aquatic mammals with flippers for swimming and movement on land. They are generally carnivorous, feeding on fish, squid, and crustaceans.\n",
      "*   **Seals (True Seals or Earless Seals):**\n",
      "    *   **Key Features:** Lack external ear flaps, have shorter flippers, and move on land by wriggling their bodies.\n",
      "    *   **Examples:** Harbor Seal, Grey Seal, Ringed Seal, Elephant Seal (largest pinniped).\n",
      "*   **Sea Lions (Eared Seals):**\n",
      "    *   **Key Features:** Have external ear flaps, longer flippers, and can \"walk\" on land by rotating their hind flippers forward.\n",
      "    *   **Examples:** California Sea Lion, Steller Sea Lion, Australian Sea Lion.\n",
      "*   **Walruses:**\n",
      "    *   **Key Features:** Distinctive for their tusks (elongated canine teeth), whiskers (vibrissae), and thick blubber.\n",
      "    *   **Example:** Only one species, the Walrus.\n",
      "\n",
      "**2. Sirenians (Manatees and Dugongs):**\n",
      "\n",
      "*   **General Characteristics:** Herbivorous, gentle giants that live in warm coastal waters and rivers. They are often called \"sea cows.\"\n",
      "*   **Manatees:**\n",
      "    *   **Key Features:** Paddle-shaped tail, found in the Atlantic Ocean and associated rivers.\n",
      "    *   **Examples:** West Indian Manatee (Florida Manatee), Amazonian Manatee, West African Manatee.\n",
      "*   **Dugongs:**\n",
      "    *   **Key Features:** Fluked tail (like a whale), found in the Indo-Pacific region.\n",
      "    *   **Example:** Only one species, the Dugong.\n",
      "\n",
      "**3. Sea Otters:**\n",
      "\n",
      "*   **General Characteristics:** Smallest marine mammal in North America. Known for their thick fur, use of tools (like rocks to crack open shellfish), and playful behavior.\n",
      "*   **Key Features:** Dense fur, spends almost all of its time in the water.\n",
      "*   **Examples:** Sea Otter, and the smaller Marine Otter.\n",
      "\n",
      "**4. Polar Bears:**\n",
      "\n",
      "*   **General Characteristics:** Highly adapted to Arctic environments, primarily hunt seals on sea ice.\n",
      "*   **Key Features:** Thick fur, large paws for swimming and walking on snow and ice.\n",
      "\n",
      "**Things to Consider When Researching:**\n",
      "\n",
      "*   **Habitat:** Where do they live? (Arctic, temperate, tropical waters, etc.)\n",
      "*   **Diet:** What do they eat? (Fish, crustaceans, plants, etc.)\n",
      "*   **Social Behavior:** Are they solitary or live in groups?\n",
      "*   **Conservation Status:** Are they endangered, threatened, or stable? What are the threats they face? (Climate change, pollution, hunting, etc.)\n",
      "*   **Adaptations:** What unique features do they have that help them survive in their environment?\n",
      "\n",
      "**Where to Start Your Research:**\n",
      "\n",
      "*   **Online Resources:**\n",
      "    *   NOAA Fisheries (National Oceanic and Atmospheric Administration)\n",
      "    *   WWF (World Wildlife Fund)\n",
      "    *   IUCN (International Union for Conservation of Nature) Red List\n",
      "    *   MarineBio.org\n",
      "*   **Books:** Look for books on marine mammals, ocean life, or specific species.\n",
      "*   **Documentaries:** Many nature documentaries feature ocean mammals.\n",
      "\n",
      "Which of these groups sounds most interesting to you?  Knowing that will help me suggest more specific resources or topics to explore. For example, if you're interested in conservation, we could talk about the threats facing manatees or the impact of climate change on polar bears.\n"
     ]
    }
   ],
   "source": [
    "# Message list with a preamble\n",
    "messages = [AIMessage(\"Hi.\", name=\"Bot\", id=\"1\")]\n",
    "messages.append(HumanMessage(\"Hi.\", name=\"Lance\", id=\"2\"))\n",
    "messages.append(AIMessage(\"So you said you were researching ocean mammals?\", name=\"Bot\", id=\"3\"))\n",
    "messages.append(HumanMessage(\"Yes, I know about whales. But what others should I learn about?\", name=\"Lance\", id=\"4\"))\n",
    "\n",
    "# invoke the graph using above messages\n",
    "output = graph.invoke({'messages': messages})\n",
    "for m in output['messages']:\n",
    "    m.pretty_print()"
   ]
  },
  {
   "cell_type": "markdown",
   "id": "aaa80e30",
   "metadata": {},
   "source": [
    "### Filtering the messages\n",
    "\n",
    "- Only pass the last message to the llm not the whole list of messages.\n",
    "\n",
    "- Just pass in a filtered list: llm.invoke(messages[-1:]) to the model."
   ]
  },
  {
   "cell_type": "code",
   "execution_count": 14,
   "id": "8734014b",
   "metadata": {},
   "outputs": [
    {
     "data": {
      "image/png": "[encoded data removed]",
      "text/plain": [
       "<IPython.core.display.Image object>"
      ]
     },
     "metadata": {},
     "output_type": "display_data"
    }
   ],
   "source": [
    "def chat_model_node(state: MessagesState):\n",
    "    return {\"messages\": [llm.invoke(state[\"messages\"][-1:])]}\n",
    "\n",
    "# make the graph using the filtered message node\n",
    "builder = StateGraph(MessagesState)\n",
    "builder.add_node(\"chat_model\", chat_model_node)\n",
    "builder.add_edge(START, \"chat_model\")\n",
    "builder.add_edge(\"chat_model\", END)\n",
    "graph = builder.compile()\n",
    "\n",
    "# view the graph\n",
    "display(Image(graph.get_graph().draw_mermaid_png()))"
   ]
  },
  {
   "cell_type": "code",
   "execution_count": 15,
   "id": "9b7e4430",
   "metadata": {},
   "outputs": [],
   "source": [
    "messages.append(output['messages'][-1])\n",
    "messages.append(HumanMessage(f\"Tell me more about Narwhals!\", name=\"Lance\"))"
   ]
  },
  {
   "cell_type": "code",
   "execution_count": 16,
   "id": "69ae8779",
   "metadata": {},
   "outputs": [
    {
     "name": "stdout",
     "output_type": "stream",
     "text": [
      "==================================\u001b[1m Ai Message \u001b[0m==================================\n",
      "Name: Bot\n",
      "\n",
      "Hi.\n",
      "================================\u001b[1m Human Message \u001b[0m=================================\n",
      "Name: Lance\n",
      "\n",
      "Hi.\n",
      "==================================\u001b[1m Ai Message \u001b[0m==================================\n",
      "Name: Bot\n",
      "\n",
      "So you said you were researching ocean mammals?\n",
      "================================\u001b[1m Human Message \u001b[0m=================================\n",
      "Name: Lance\n",
      "\n",
      "Yes, I know about whales. But what others should I learn about?\n",
      "==================================\u001b[1m Ai Message \u001b[0m==================================\n",
      "\n",
      "Okay, great! Whales are a good start. To broaden your knowledge of ocean mammals, here's a breakdown of other important groups and some specific examples you might find interesting:\n",
      "\n",
      "**1. Pinnipeds (Seals, Sea Lions, and Walruses):**\n",
      "\n",
      "*   **General Characteristics:** These are semi-aquatic mammals with flippers for swimming and movement on land. They are generally carnivorous, feeding on fish, squid, and crustaceans.\n",
      "*   **Seals (True Seals or Earless Seals):**\n",
      "    *   **Key Features:** Lack external ear flaps, have shorter flippers, and move on land by wriggling their bodies.\n",
      "    *   **Examples:** Harbor Seal, Grey Seal, Ringed Seal, Elephant Seal (largest pinniped).\n",
      "*   **Sea Lions (Eared Seals):**\n",
      "    *   **Key Features:** Have external ear flaps, longer flippers, and can \"walk\" on land by rotating their hind flippers forward.\n",
      "    *   **Examples:** California Sea Lion, Steller Sea Lion, Australian Sea Lion.\n",
      "*   **Walruses:**\n",
      "    *   **Key Features:** Distinctive for their tusks (elongated canine teeth), whiskers (vibrissae), and thick blubber.\n",
      "    *   **Example:** Only one species, the Walrus.\n",
      "\n",
      "**2. Sirenians (Manatees and Dugongs):**\n",
      "\n",
      "*   **General Characteristics:** Herbivorous, gentle giants that live in warm coastal waters and rivers. They are often called \"sea cows.\"\n",
      "*   **Manatees:**\n",
      "    *   **Key Features:** Paddle-shaped tail, found in the Atlantic Ocean and associated rivers.\n",
      "    *   **Examples:** West Indian Manatee (Florida Manatee), Amazonian Manatee, West African Manatee.\n",
      "*   **Dugongs:**\n",
      "    *   **Key Features:** Fluked tail (like a whale), found in the Indo-Pacific region.\n",
      "    *   **Example:** Only one species, the Dugong.\n",
      "\n",
      "**3. Sea Otters:**\n",
      "\n",
      "*   **General Characteristics:** Smallest marine mammal in North America. Known for their thick fur, use of tools (like rocks to crack open shellfish), and playful behavior.\n",
      "*   **Key Features:** Dense fur, spends almost all of its time in the water.\n",
      "*   **Examples:** Sea Otter, and the smaller Marine Otter.\n",
      "\n",
      "**4. Polar Bears:**\n",
      "\n",
      "*   **General Characteristics:** Highly adapted to Arctic environments, primarily hunt seals on sea ice.\n",
      "*   **Key Features:** Thick fur, large paws for swimming and walking on snow and ice.\n",
      "\n",
      "**Things to Consider When Researching:**\n",
      "\n",
      "*   **Habitat:** Where do they live? (Arctic, temperate, tropical waters, etc.)\n",
      "*   **Diet:** What do they eat? (Fish, crustaceans, plants, etc.)\n",
      "*   **Social Behavior:** Are they solitary or live in groups?\n",
      "*   **Conservation Status:** Are they endangered, threatened, or stable? What are the threats they face? (Climate change, pollution, hunting, etc.)\n",
      "*   **Adaptations:** What unique features do they have that help them survive in their environment?\n",
      "\n",
      "**Where to Start Your Research:**\n",
      "\n",
      "*   **Online Resources:**\n",
      "    *   NOAA Fisheries (National Oceanic and Atmospheric Administration)\n",
      "    *   WWF (World Wildlife Fund)\n",
      "    *   IUCN (International Union for Conservation of Nature) Red List\n",
      "    *   MarineBio.org\n",
      "*   **Books:** Look for books on marine mammals, ocean life, or specific species.\n",
      "*   **Documentaries:** Many nature documentaries feature ocean mammals.\n",
      "\n",
      "Which of these groups sounds most interesting to you?  Knowing that will help me suggest more specific resources or topics to explore. For example, if you're interested in conservation, we could talk about the threats facing manatees or the impact of climate change on polar bears.\n",
      "================================\u001b[1m Human Message \u001b[0m=================================\n",
      "Name: Lance\n",
      "\n",
      "Tell me more about Narwhals!\n"
     ]
    }
   ],
   "source": [
    "for m in messages:\n",
    "    m.pretty_print()"
   ]
  },
  {
   "cell_type": "markdown",
   "id": "99beab48",
   "metadata": {},
   "source": [
    "### Trimming messages\n",
    "\n",
    "Another approach is to trim messages, based upon a set number of tokens.\n",
    "\n",
    "This restricts the message history to a specified number of tokens.\n",
    "\n",
    "While filtering only returns a post-hoc subset of the messages between agents, trimming restricts the number of tokens that a chat model can use to respond.\n"
   ]
  },
  {
   "cell_type": "code",
   "execution_count": 12,
   "id": "b548f3a1",
   "metadata": {},
   "outputs": [
    {
     "data": {
      "image/png": "[encoded data removed]",
      "text/plain": [
       "<IPython.core.display.Image object>"
      ]
     },
     "metadata": {},
     "output_type": "display_data"
    }
   ],
   "source": [
    "# define a chat node with only input specific amount of tokens passed to the llm\n",
    "from langchain_core.messages import trim_messages\n",
    "\n",
    "def chat_model_node(state: MessagesState):\n",
    "    messages = trim_messages(\n",
    "            state[\"messages\"],\n",
    "            max_tokens=100,\n",
    "            strategy=\"last\",\n",
    "            token_counter=ChatGoogleGenerativeAI(model=\"gemini-2.0-flash-001\"),\n",
    "            allow_partial=False,\n",
    "        )\n",
    "    return {\"messages\": [llm.invoke(messages)]}\n",
    "\n",
    "# Build graph\n",
    "builder = StateGraph(MessagesState)\n",
    "builder.add_node(\"chat_model\", chat_model_node)\n",
    "builder.add_edge(START, \"chat_model\")\n",
    "builder.add_edge(\"chat_model\", END)\n",
    "graph = builder.compile()\n",
    "\n",
    "# View\n",
    "display(Image(graph.get_graph().draw_mermaid_png()))"
   ]
  },
  {
   "cell_type": "markdown",
   "id": "f33f9fbd",
   "metadata": {},
   "source": [
    "## 6.Chatbot with message summarization\n",
    "\n",
    "Rather than just trimming or filtering messages, we'll show how to use LLMs to produce a running summary of the conversation.\n",
    "\n",
    "This allows us to retain a compressed representation of the full conversation, rather than just removing it with trimming or filtering."
   ]
  },
  {
   "cell_type": "code",
   "execution_count": 3,
   "id": "9127ddf6",
   "metadata": {},
   "outputs": [],
   "source": [
    "# make the state to store the summery of the conversation\n",
    "from langgraph.graph import MessagesState\n",
    "\n",
    "class State(MessagesState):\n",
    "    summary: str"
   ]
  },
  {
   "cell_type": "code",
   "execution_count": 4,
   "id": "37148d64",
   "metadata": {},
   "outputs": [],
   "source": [
    "from langchain_core.messages import SystemMessage, HumanMessage, RemoveMessage\n",
    "\n",
    "# function to call the model\n",
    "def call_model(state: State):\n",
    "    # get the message summery if there\n",
    "    summary = state.get(\"summary\",\"\")\n",
    "\n",
    "    # if summery exist\n",
    "    if summary:\n",
    "        # get the new messages and get the summary \n",
    "        # then add the new messages and invoke the llm\n",
    "        # add summary to system message\n",
    "        system_message = f\"Summary of conversation earlier: {summary}\"\n",
    "\n",
    "        # append system message and the current messages\n",
    "        messages = [SystemMessage(content=system_message)] + state[\"messages\"]\n",
    "    else:\n",
    "        messages = state[\"messages\"]\n",
    "    \n",
    "    # then invoke the llm\n",
    "    response = llm.invoke(messages)\n",
    "    \n",
    "    # return the state of the node\n",
    "    return {\"messages\": response}"
   ]
  },
  {
   "cell_type": "code",
   "execution_count": 6,
   "id": "a8857975",
   "metadata": {},
   "outputs": [],
   "source": [
    "# function to summarize the messages\n",
    "def summarize_conversation(state: State):\n",
    "    # first get the summery if there\n",
    "    summary = state.get(\"summary\", \"\")\n",
    "\n",
    "    # if there is an already summery then add to the\n",
    "    # same summery\n",
    "    if summary:\n",
    "        # make system message\n",
    "        summary_message = (\n",
    "            f\"This is summary of the conversation to date: {summary}\\n\\n\"\n",
    "            \"Extend the summary by taking into account the new messages above:\"\n",
    "        )\n",
    "    else:\n",
    "        summary_message = \"Create a summary of the conversation above:\"\n",
    "    \n",
    "    messages = state[\"messages\"] + [HumanMessage(content=summary_message)]\n",
    "    # invoke the model to generate a summary\n",
    "    response = llm.invoke(messages)\n",
    "    \n",
    "    # show the model summary\n",
    "    print(response)\n",
    "\n",
    "    # remove unwanted messages from the \n",
    "    delete_messages = [RemoveMessage(id=m.id) for m in state[\"messages\"][:-2]]\n",
    "\n",
    "    # return the current state\n",
    "    return {\"summary\": response.content, \"messages\": delete_messages}"
   ]
  },
  {
   "cell_type": "markdown",
   "id": "44c7fa27",
   "metadata": {},
   "source": [
    "We'll add a conditional edge to determine whether to produce a summary based on the conversation length."
   ]
  },
  {
   "cell_type": "code",
   "execution_count": 7,
   "id": "6a4cd480",
   "metadata": {},
   "outputs": [],
   "source": [
    "from langgraph.graph import END\n",
    "# decide whether continue or make a summery \n",
    "def should_continue(state: State):\n",
    "    \n",
    "    \"\"\"Return the next node to execute.\"\"\"\n",
    "    \n",
    "    messages = state[\"messages\"]\n",
    "    \n",
    "    # if there are more than six messages\n",
    "    # then we summarize the conversation\n",
    "    if len(messages) > 6:\n",
    "        return \"summarize_conversation\"\n",
    "    \n",
    "    # otherwise we can just end\n",
    "    return END"
   ]
  },
  {
   "cell_type": "code",
   "execution_count": 14,
   "id": "8d00c0c4",
   "metadata": {},
   "outputs": [],
   "source": [
    "from IPython.display import Image, display\n",
    "from langgraph.checkpoint.memory import MemorySaver\n",
    "from langgraph.graph import StateGraph, START\n",
    "\n",
    "# make the graph\n",
    "workflow = StateGraph(State)\n",
    "workflow.add_node(\"conversation\", call_model)\n",
    "workflow.add_node(summarize_conversation)\n",
    "\n",
    "# set the end point of the conversation \n",
    "workflow.add_edge(START, \"conversation\")\n",
    "workflow.add_conditional_edges(\"conversation\", should_continue)\n",
    "workflow.add_edge(\"summarize_conversation\", END)\n",
    "\n",
    "# compile the graph with the memory\n",
    "memory = MemorySaver()\n",
    "graph = workflow.compile(checkpointer=memory)"
   ]
  },
  {
   "cell_type": "markdown",
   "id": "9ee15642",
   "metadata": {},
   "source": [
    "## 7. Threads\n",
    "The checkpointer saves the state at each step as a checkpoint.\n",
    "\n",
    "These saved checkpoints can be grouped into a thread of conversation.\n",
    "\n",
    "with the help of thread id we can get the specific conversation."
   ]
  },
  {
   "cell_type": "code",
   "execution_count": 19,
   "id": "726f7374",
   "metadata": {},
   "outputs": [
    {
     "name": "stdout",
     "output_type": "stream",
     "text": [
      "==================================\u001b[1m Ai Message \u001b[0m==================================\n",
      "\n",
      "Hi Janith Hansidu! It's nice to meet you. How can I help you today?\n",
      "==================================\u001b[1m Ai Message \u001b[0m==================================\n",
      "\n",
      "Your name is Janith Hansidu. You just told me! 😊\n",
      "==================================\u001b[1m Ai Message \u001b[0m==================================\n",
      "\n",
      "Okay, good to know! So, you're Janith Hansidu, and you're 24 years old. Is there anything else you'd like to tell me, or anything I can help you with?\n",
      "content='The conversation started with Janith Hansidu introducing themselves. I acknowledged them and asked how I could help. Janith then asked what their name was, which I reiterated. They then stated they were 24 years old. I acknowledged this and asked if there was anything else they wanted to share or needed help with. Finally, they asked what their age was, which I again reiterated based on their previous statement.' additional_kwargs={} response_metadata={'prompt_feedback': {'block_reason': 0, 'safety_ratings': []}, 'finish_reason': 'STOP', 'model_name': 'gemini-2.0-flash-001', 'safety_ratings': []} id='run-4d5a2b12-d568-4c6c-a360-f53e185227cb-0' usage_metadata={'input_tokens': 131, 'output_tokens': 84, 'total_tokens': 215, 'input_token_details': {'cache_read': 0}}\n",
      "==================================\u001b[1m Ai Message \u001b[0m==================================\n",
      "\n",
      "You are 24 years old. You just told me that!\n"
     ]
    }
   ],
   "source": [
    "# Create a thread\n",
    "config = {\"configurable\": {\"thread_id\": \"1\"}}\n",
    "\n",
    "# start the conversation \n",
    "input_message = HumanMessage(content=\"hi! I'm Janith Hansidu\")\n",
    "output = graph.invoke({\"messages\": [input_message]}, config) \n",
    "for m in output['messages'][-1:]:\n",
    "    m.pretty_print()\n",
    "\n",
    "input_message = HumanMessage(content=\"what's my name?\")\n",
    "output = graph.invoke({\"messages\": [input_message]}, config) \n",
    "for m in output['messages'][-1:]:\n",
    "    m.pretty_print()\n",
    "\n",
    "input_message = HumanMessage(content=\"I am 24 years old.\")\n",
    "output = graph.invoke({\"messages\": [input_message]}, config) \n",
    "for m in output['messages'][-1:]:\n",
    "    m.pretty_print()\n",
    "\n",
    "input_message = HumanMessage(content=\"what is my age?\")\n",
    "output = graph.invoke({\"messages\": [input_message]}, config) \n",
    "for m in output['messages'][-1:]:\n",
    "    m.pretty_print()"
   ]
  },
  {
   "cell_type": "code",
   "execution_count": 20,
   "id": "c7b35ff6",
   "metadata": {},
   "outputs": [
    {
     "name": "stdout",
     "output_type": "stream",
     "text": [
      "==================================\u001b[1m Ai Message \u001b[0m==================================\n",
      "\n",
      "As you mentioned earlier, you are 24 years old.\n"
     ]
    }
   ],
   "source": [
    "input_message = HumanMessage(content=\"what is my age?\")\n",
    "output = graph.invoke({\"messages\": [input_message]}, config) \n",
    "for m in output['messages'][-1:]:\n",
    "    m.pretty_print()"
   ]
  }
 ],
 "metadata": {
  "kernelspec": {
   "display_name": "torchenv",
   "language": "python",
   "name": "python3"
  },
  "language_info": {
   "codemirror_mode": {
    "name": "ipython",
    "version": 3
   },
   "file_extension": ".py",
   "mimetype": "text/x-python",
   "name": "python",
   "nbconvert_exporter": "python",
   "pygments_lexer": "ipython3",
   "version": "3.12.3"
  }
 },
 "nbformat": 4,
 "nbformat_minor": 5
}
