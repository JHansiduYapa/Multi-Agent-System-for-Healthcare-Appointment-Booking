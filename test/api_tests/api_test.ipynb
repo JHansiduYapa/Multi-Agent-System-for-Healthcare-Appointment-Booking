{
 "cells": [
  {
   "cell_type": "code",
   "execution_count": 2,
   "metadata": {},
   "outputs": [
    {
     "name": "stdout",
     "output_type": "stream",
     "text": [
      "Please visit this URL to authorize this application: https://accounts.google.com/o/oauth2/auth?response_type=code&client_id=729987168830-3etr4v756v4vfq5rcfeo9pd39oekdkle.apps.googleusercontent.com&redirect_uri=http%3A%2F%2Flocalhost%3A11451%2F&scope=https%3A%2F%2Fwww.googleapis.com%2Fauth%2Fcalendar.readonly&state=ijwGMq4II8C2UWbk2ivtlQZ1r0a4Ot&access_type=offline\n"
     ]
    },
    {
     "name": "stderr",
     "output_type": "stream",
     "text": [
      "C:\\Users\\janit\\AppData\\Local\\Temp\\ipykernel_18640\\2099947276.py:34: DeprecationWarning: datetime.datetime.utcnow() is deprecated and scheduled for removal in a future version. Use timezone-aware objects to represent datetimes in UTC: datetime.datetime.now(datetime.UTC).\n",
      "  now = datetime.datetime.utcnow().isoformat() + \"Z\"  # 'Z' indicates UTC time\n"
     ]
    },
    {
     "name": "stdout",
     "output_type": "stream",
     "text": [
      "Getting the upcoming 10 events\n",
      "2025-04-13 Dahami's birthday\n",
      "2026-04-13 Dahami's birthday\n",
      "2027-04-13 Dahami's birthday\n",
      "2028-04-13 Dahami's birthday\n",
      "2029-04-13 Dahami's birthday\n",
      "2030-04-13 Dahami's birthday\n",
      "2031-04-13 Dahami's birthday\n",
      "2032-04-13 Dahami's birthday\n",
      "2033-04-13 Dahami's birthday\n",
      "2034-04-13 Dahami's birthday\n"
     ]
    }
   ],
   "source": [
    "import datetime\n",
    "import os.path\n",
    "\n",
    "from google.auth.transport.requests import Request\n",
    "from google.oauth2.credentials import Credentials\n",
    "from google_auth_oauthlib.flow import InstalledAppFlow\n",
    "from googleapiclient.discovery import build\n",
    "from googleapiclient.errors import HttpError\n",
    "\n",
    "# If modifying these scopes, delete the file token.json.\n",
    "SCOPES = [\"https://www.googleapis.com/auth/calendar.readonly\"]\n",
    "\n",
    "def main():\n",
    "    creds = None\n",
    "    # Check if token.json exists (stored credentials)\n",
    "    if os.path.exists(\"token.json\"):\n",
    "        creds = Credentials.from_authorized_user_file(\"token.json\", SCOPES)\n",
    "    # If there are no (valid) credentials available, let the user log in.\n",
    "    if not creds or not creds.valid:\n",
    "        if creds and creds.expired and creds.refresh_token:\n",
    "            creds.refresh(Request())\n",
    "        else:\n",
    "            flow = InstalledAppFlow.from_client_secrets_file(\"client_secret_729987168830-3etr4v756v4vfq5rcfeo9pd39oekdkle.apps.googleusercontent.com.json\", SCOPES)\n",
    "            creds = flow.run_local_server(port=0)\n",
    "        # Save the credentials for the next run\n",
    "        with open(\"token.json\", \"w\") as token:\n",
    "            token.write(creds.to_json())\n",
    "\n",
    "    try:\n",
    "        # Build the service object for the Calendar API\n",
    "        service = build(\"calendar\", \"v3\", credentials=creds)\n",
    "\n",
    "        # Call the Calendar API to fetch upcoming 10 events\n",
    "        now = datetime.datetime.utcnow().isoformat() + \"Z\"  # 'Z' indicates UTC time\n",
    "        print(\"Getting the upcoming 10 events\")\n",
    "        events_result = (\n",
    "            service.events()\n",
    "            .list(calendarId=\"primary\", timeMin=now, maxResults=10, singleEvents=True, orderBy=\"startTime\")\n",
    "            .execute()\n",
    "        )\n",
    "        events = events_result.get(\"items\", [])\n",
    "\n",
    "        if not events:\n",
    "            print(\"No upcoming events found.\")\n",
    "            return\n",
    "\n",
    "        # Print the start and summary of each event\n",
    "        for event in events:\n",
    "            start = event[\"start\"].get(\"dateTime\", event[\"start\"].get(\"date\"))\n",
    "            print(start, event[\"summary\"])\n",
    "    except HttpError as error:\n",
    "        print(\"An error occurred:\", error)\n",
    "\n",
    "if __name__ == '__main__':\n",
    "    main()"
   ]
  },
  {
   "cell_type": "code",
   "execution_count": 5,
   "metadata": {},
   "outputs": [
    {
     "name": "stdout",
     "output_type": "stream",
     "text": [
      "Task created: My New Task\n"
     ]
    }
   ],
   "source": [
    "import os\n",
    "import pickle\n",
    "from google_auth_oauthlib.flow import InstalledAppFlow\n",
    "from google.auth.transport.requests import Request\n",
    "from googleapiclient.discovery import build\n",
    "\n",
    "# Scope for Google Tasks API\n",
    "SCOPES = ['https://www.googleapis.com/auth/tasks']\n",
    "\n",
    "def get_tasks_service():\n",
    "    creds = None\n",
    "    if os.path.exists('token_tasks.pickle'):\n",
    "        with open('token_tasks.pickle', 'rb') as token:\n",
    "            creds = pickle.load(token)\n",
    "    if not creds or not creds.valid:\n",
    "        if creds and creds.expired and creds.refresh_token:\n",
    "            creds.refresh(Request())\n",
    "        else:\n",
    "            flow = InstalledAppFlow.from_client_secrets_file('client_secret_729987168830-3etr4v756v4vfq5rcfeo9pd39oekdkle.apps.googleusercontent.com.json', SCOPES)\n",
    "            creds = flow.run_local_server(port=0)\n",
    "        with open('token_tasks.pickle', 'wb') as token:\n",
    "            pickle.dump(creds, token)\n",
    "    return build('tasks', 'v1', credentials=creds)\n",
    "\n",
    "def add_task():\n",
    "    service = get_tasks_service()\n",
    "    # Use the default task list; change if needed\n",
    "    tasklist_id = '@default'\n",
    "    task = {\n",
    "        'title': 'My New Task',\n",
    "        'notes': 'Details about the task',\n",
    "        'due': '2025-03-30T17:00:00.000Z'  # ISO 8601 UTC format\n",
    "    }\n",
    "    result = service.tasks().insert(tasklist=tasklist_id, body=task).execute()\n",
    "    print('Task created:', result.get('title'))\n",
    "\n",
    "if __name__ == '__main__':\n",
    "    add_task()"
   ]
  }
 ],
 "metadata": {
  "kernelspec": {
   "display_name": "torchenv",
   "language": "python",
   "name": "python3"
  },
  "language_info": {
   "codemirror_mode": {
    "name": "ipython",
    "version": 3
   },
   "file_extension": ".py",
   "mimetype": "text/x-python",
   "name": "python",
   "nbconvert_exporter": "python",
   "pygments_lexer": "ipython3",
   "version": "3.12.3"
  }
 },
 "nbformat": 4,
 "nbformat_minor": 2
}
